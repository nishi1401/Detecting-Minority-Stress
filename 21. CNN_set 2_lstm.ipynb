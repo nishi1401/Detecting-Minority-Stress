{
 "cells": [
  {
   "cell_type": "code",
   "execution_count": 1,
   "metadata": {
    "id": "pkQUmx-r94q8"
   },
   "outputs": [],
   "source": [
    "import scipy\n",
    "import nltk\n",
    "import re"
   ]
  },
  {
   "cell_type": "code",
   "execution_count": 2,
   "metadata": {
    "id": "SZf4RZXP94q9"
   },
   "outputs": [],
   "source": [
    "import sklearn"
   ]
  },
  {
   "cell_type": "code",
   "execution_count": 3,
   "metadata": {
    "id": "6i0nscuN94q9"
   },
   "outputs": [],
   "source": [
    "import numpy as np\n",
    "import pandas as pd\n",
    "\n",
    "from sklearn.datasets import load_boston \n",
    "from sklearn.linear_model import LogisticRegression\n",
    "from sklearn.metrics import accuracy_score, f1_score, confusion_matrix, roc_auc_score\n",
    "from sklearn.model_selection import train_test_split\n",
    "\n",
    "from collections import Counter\n",
    "\n",
    "import matplotlib.pyplot as plt\n",
    "import seaborn as sns"
   ]
  },
  {
   "cell_type": "code",
   "execution_count": 4,
   "metadata": {
    "colab": {
     "base_uri": "https://localhost:8080/",
     "height": 206
    },
    "id": "QnNlx4Hc94q-",
    "outputId": "1037b68f-048f-4ea5-90d1-cc161fb8e877"
   },
   "outputs": [
    {
     "data": {
      "text/html": [
       "<div>\n",
       "<style scoped>\n",
       "    .dataframe tbody tr th:only-of-type {\n",
       "        vertical-align: middle;\n",
       "    }\n",
       "\n",
       "    .dataframe tbody tr th {\n",
       "        vertical-align: top;\n",
       "    }\n",
       "\n",
       "    .dataframe thead th {\n",
       "        text-align: right;\n",
       "    }\n",
       "</style>\n",
       "<table border=\"1\" class=\"dataframe\">\n",
       "  <thead>\n",
       "    <tr style=\"text-align: right;\">\n",
       "      <th></th>\n",
       "      <th>Unnamed: 0</th>\n",
       "      <th>subreddit</th>\n",
       "      <th>body</th>\n",
       "      <th>target</th>\n",
       "    </tr>\n",
       "  </thead>\n",
       "  <tbody>\n",
       "    <tr>\n",
       "      <th>0</th>\n",
       "      <td>0</td>\n",
       "      <td>lgbt</td>\n",
       "      <td>Finally my first binder came in today and I'm ...</td>\n",
       "      <td>1</td>\n",
       "    </tr>\n",
       "    <tr>\n",
       "      <th>1</th>\n",
       "      <td>1</td>\n",
       "      <td>lgbt</td>\n",
       "      <td>Ok so growing up I've always loved girls no ma...</td>\n",
       "      <td>0</td>\n",
       "    </tr>\n",
       "    <tr>\n",
       "      <th>2</th>\n",
       "      <td>2</td>\n",
       "      <td>lgbt</td>\n",
       "      <td>Hey, all! I wanted to make a help video on how...</td>\n",
       "      <td>0</td>\n",
       "    </tr>\n",
       "    <tr>\n",
       "      <th>3</th>\n",
       "      <td>3</td>\n",
       "      <td>lgbt</td>\n",
       "      <td>I personally never have done it before,And I w...</td>\n",
       "      <td>0</td>\n",
       "    </tr>\n",
       "    <tr>\n",
       "      <th>4</th>\n",
       "      <td>4</td>\n",
       "      <td>lgbt</td>\n",
       "      <td>Hello, I'm a Public Safety Officer at a relati...</td>\n",
       "      <td>1</td>\n",
       "    </tr>\n",
       "  </tbody>\n",
       "</table>\n",
       "</div>"
      ],
      "text/plain": [
       "   Unnamed: 0 subreddit                                               body  \\\n",
       "0           0      lgbt  Finally my first binder came in today and I'm ...   \n",
       "1           1      lgbt  Ok so growing up I've always loved girls no ma...   \n",
       "2           2      lgbt  Hey, all! I wanted to make a help video on how...   \n",
       "3           3      lgbt  I personally never have done it before,And I w...   \n",
       "4           4      lgbt  Hello, I'm a Public Safety Officer at a relati...   \n",
       "\n",
       "   target  \n",
       "0       1  \n",
       "1       0  \n",
       "2       0  \n",
       "3       0  \n",
       "4       1  "
      ]
     },
     "execution_count": 4,
     "metadata": {},
     "output_type": "execute_result"
    }
   ],
   "source": [
    "data=pd.read_csv(\"dataset_svm.csv\")\n",
    "data.head(5)"
   ]
  },
  {
   "cell_type": "code",
   "execution_count": 5,
   "metadata": {
    "colab": {
     "base_uri": "https://localhost:8080/"
    },
    "id": "96q47b3s94q_",
    "outputId": "8c572601-612d-48a8-accc-5a62f30e9036"
   },
   "outputs": [
    {
     "data": {
      "text/plain": [
       "0    7837\n",
       "1    4237\n",
       "Name: target, dtype: int64"
      ]
     },
     "execution_count": 5,
     "metadata": {},
     "output_type": "execute_result"
    }
   ],
   "source": [
    "data.shape\n",
    "data.target.value_counts()"
   ]
  },
  {
   "cell_type": "code",
   "execution_count": 6,
   "metadata": {
    "colab": {
     "base_uri": "https://localhost:8080/"
    },
    "id": "F7rDK7Tl94q_",
    "outputId": "c9ca8369-1b2c-4ba0-b456-e05245838210"
   },
   "outputs": [],
   "source": [
    "from nltk.corpus import stopwords\n",
    "#nltk.download('stopwords')\n",
    "\n",
    "stopwords = stopwords.words('english')"
   ]
  },
  {
   "cell_type": "code",
   "execution_count": 7,
   "metadata": {
    "id": "WXudSGsR94rA"
   },
   "outputs": [],
   "source": [
    "stemmer = nltk.PorterStemmer()"
   ]
  },
  {
   "cell_type": "code",
   "execution_count": 8,
   "metadata": {
    "colab": {
     "base_uri": "https://localhost:8080/"
    },
    "id": "9j11-N4n94rA",
    "outputId": "dd2f747e-7d9c-480a-c41f-eece9307eb86"
   },
   "outputs": [],
   "source": [
    "from nltk.stem import WordNetLemmatizer\n",
    "#nltk.download('wordnet')\n",
    "#nltk.download('omw-1.4')\n",
    "\n",
    "lemmatizer = WordNetLemmatizer()"
   ]
  },
  {
   "cell_type": "code",
   "execution_count": 9,
   "metadata": {
    "id": "sqQwB2Ie94rB"
   },
   "outputs": [],
   "source": [
    "def preprocess(text):\n",
    "    text = str(text).lower()\n",
    "    text = re.sub('https?://\\S+|www\\.\\S+', '', text)\n",
    "    text = re.sub('\\n|\\t', '', text)\n",
    "    text = re.sub('\\d', '', text) ##\n",
    "    text = re.sub(r'[^\\w\\s]', ' ', text) ##\n",
    "    text = [word for word in text.split() if word not in stopwords] \n",
    "    text = [stemmer.stem(word) for word in text]\n",
    "    \n",
    "    text = \" \".join(text)\n",
    "    \n",
    "    return text"
   ]
  },
  {
   "cell_type": "code",
   "execution_count": 10,
   "metadata": {
    "id": "Wdrzgy2Y94rC"
   },
   "outputs": [],
   "source": [
    "data['body']=data['body'].apply(preprocess)"
   ]
  },
  {
   "cell_type": "code",
   "execution_count": 11,
   "metadata": {
    "id": "vvwUHQcc94rC"
   },
   "outputs": [],
   "source": [
    "#x = data.iloc[:, :-1]\n",
    "#y = data.iloc[:, -1]\n",
    "review = data['body'].values\n",
    "label = data['target'].values\n",
    "# check length of 1's and 0's\n",
    "#one = np.where(y==1)\n",
    "#zero = np.where(y==0)\n",
    "#len(one[0]), len(zero[0])"
   ]
  },
  {
   "cell_type": "code",
   "execution_count": 12,
   "metadata": {
    "id": "bC5ecpT094rD"
   },
   "outputs": [],
   "source": [
    "x_train, x_test, y_train, y_test = train_test_split(review, label, test_size=0.2, random_state=42, stratify = data['target'])"
   ]
  },
  {
   "cell_type": "markdown",
   "metadata": {
    "id": "2W104K1a94rD"
   },
   "source": [
    "# CNN"
   ]
  },
  {
   "cell_type": "code",
   "execution_count": 13,
   "metadata": {
    "id": "sRDSxt0L94rG"
   },
   "outputs": [],
   "source": [
    "from sklearn.model_selection import train_test_split\n",
    "review_train = x_train\n",
    "label_train = y_train\n",
    "review_test = x_test\n",
    "label_test = y_test\n",
    "#review_train\n",
    "#review_train, review_test, label_train, label_test = train_test_split(review, label, test_size=0.25, random_state=1000) "
   ]
  },
  {
   "cell_type": "code",
   "execution_count": 14,
   "metadata": {
    "colab": {
     "base_uri": "https://localhost:8080/"
    },
    "id": "Fie2rraq94rG",
    "outputId": "df532180-ffea-4702-b506-6ddeb0fc469d"
   },
   "outputs": [
    {
     "name": "stdout",
     "output_type": "stream",
     "text": [
      "[0 0 0 ... 1 0 0]\n"
     ]
    }
   ],
   "source": [
    "from sklearn.feature_extraction.text import CountVectorizer\n",
    "review_vectorizer = CountVectorizer()\n",
    "review_vectorizer.fit(review_train)\n",
    "Xlr_train = review_vectorizer.transform(review_train)\n",
    "Xlr_test  = review_vectorizer.transform(review_test)\n",
    "print(label_train) "
   ]
  },
  {
   "cell_type": "code",
   "execution_count": 16,
   "metadata": {
    "colab": {
     "base_uri": "https://localhost:8080/"
    },
    "id": "Fn5xJgRE94rJ",
    "outputId": "dae4dd7e-5483-4fc1-e455-06d0da21f9c3"
   },
   "outputs": [
    {
     "name": "stdout",
     "output_type": "stream",
     "text": [
      "host movi screen decemb queer folk look someth queer holiday theme nostalgia valu peopl recommend movi think nostalg older crowd aunti mame stop motion rudolph special home holiday meet st loui pee wee christma episod etc someth recent queer millenni version aunti mame\n",
      "[1417, 572, 2063, 2118, 203, 764, 35, 44, 203, 1304, 1556, 999, 5, 872, 572, 11, 529, 1924, 3948, 175, 4310, 802, 184, 1304, 209, 1418, 4514, 2328, 4793, 995, 1340, 186, 44, 120, 203, 1305, 3948]\n",
      "0\n"
     ]
    }
   ],
   "source": [
    "from keras.preprocessing.text import Tokenizer\n",
    "tokenizer = Tokenizer(num_words=5000)\n",
    "tokenizer.fit_on_texts(review_train)\n",
    "Xcnn_train = tokenizer.texts_to_sequences(review_train)\n",
    "Xcnn_test = tokenizer.texts_to_sequences(review_test)\n",
    "vocab_size = len(tokenizer.word_index) + 1  \n",
    "print(review_train[1])\n",
    "print(Xcnn_train[1])\n",
    "print(label_train[1])"
   ]
  },
  {
   "cell_type": "code",
   "execution_count": 17,
   "metadata": {
    "colab": {
     "base_uri": "https://localhost:8080/"
    },
    "id": "kohwu9cX94rM",
    "outputId": "9f3c4d8b-a6f7-4062-f6d7-44fd003cc475"
   },
   "outputs": [
    {
     "name": "stdout",
     "output_type": "stream",
     "text": [
      "[  56   25 2529 1251 1015 4309  350  174  786 1382 1695   78   49   35\n",
      "  174  572 1505   78  109  826  203   33  826  764  130  353    0    0\n",
      "    0    0    0    0    0    0    0    0    0    0    0    0    0    0\n",
      "    0    0    0    0    0    0    0    0    0    0    0    0    0    0\n",
      "    0    0    0    0    0    0    0    0    0    0    0    0    0    0\n",
      "    0    0    0    0    0    0    0    0    0    0    0    0    0    0\n",
      "    0    0    0    0    0    0    0    0    0    0    0    0    0    0\n",
      "    0    0]\n"
     ]
    }
   ],
   "source": [
    "from keras_preprocessing.sequence import pad_sequences\n",
    "maxlen = 100\n",
    "Xcnn_train = pad_sequences(Xcnn_train, padding='post', maxlen=maxlen)\n",
    "Xcnn_test = pad_sequences(Xcnn_test, padding='post', maxlen=maxlen)\n",
    "print(Xcnn_train[0, :]) "
   ]
  },
  {
   "cell_type": "code",
   "execution_count": 18,
   "metadata": {
    "id": "T-3N1KlM94rN"
   },
   "outputs": [],
   "source": [
    "from keras.models import Sequential\n",
    "from keras import layers "
   ]
  },
  {
   "cell_type": "code",
   "execution_count": 19,
   "metadata": {},
   "outputs": [],
   "source": [
    "from keras.models import Sequential\n",
    "from keras.layers import Dense,MaxPooling1D\n",
    "from keras.layers import LSTM, Flatten, Dropout, Conv1D\n",
    "#from keras.layers.embeddings import Embedding\n",
    "from keras.preprocessing import sequence\n",
    "import matplotlib.pyplot as plt"
   ]
  },
  {
   "cell_type": "code",
   "execution_count": 20,
   "metadata": {
    "colab": {
     "base_uri": "https://localhost:8080/"
    },
    "id": "Ywxvj0Rd94rN",
    "outputId": "4f0073fa-51f5-4246-aeec-ca225099aa20"
   },
   "outputs": [
    {
     "name": "stdout",
     "output_type": "stream",
     "text": [
      "Model: \"sequential\"\n",
      "_________________________________________________________________\n",
      " Layer (type)                Output Shape              Param #   \n",
      "=================================================================\n",
      " embedding (Embedding)       (None, 100, 32)           639968    \n",
      "                                                                 \n",
      " conv1d (Conv1D)             (None, 100, 32)           3104      \n",
      "                                                                 \n",
      " lstm (LSTM)                 (None, 50)                16600     \n",
      "                                                                 \n",
      " dense (Dense)               (None, 1)                 51        \n",
      "                                                                 \n",
      "=================================================================\n",
      "Total params: 659,723\n",
      "Trainable params: 659,723\n",
      "Non-trainable params: 0\n",
      "_________________________________________________________________\n",
      "None\n"
     ]
    }
   ],
   "source": [
    "embedding_vector_length = 32\n",
    "top_words = 10000\n",
    "max_review_length = 100\n",
    "cnn_model = Sequential()\n",
    "cnn_model.add(layers.Embedding(vocab_size, output_dim=embedding_vector_length, input_length=max_review_length))\n",
    "cnn_model.add(layers.Conv1D(filters=32, kernel_size=3, padding='same', activation='relu'))\n",
    "#cnn_model.add(layers.MaxPooling1D(pool_size=2))\n",
    "cnn_model.add(layers.LSTM(50, input_dim=32))\n",
    "#cnn_model.add(layers.Reshape((50, 32), input_shape = (50, )))\n",
    "cnn_model.add(Dense(units=1, activation='sigmoid'))\n",
    "\n",
    "cnn_model.compile(loss='binary_crossentropy', optimizer='adam', metrics=['accuracy'])\n",
    "print(cnn_model.summary())"
   ]
  },
  {
   "cell_type": "code",
   "execution_count": 21,
   "metadata": {
    "colab": {
     "base_uri": "https://localhost:8080/"
    },
    "id": "u54FoWNH94rO",
    "outputId": "e620e48e-2980-4f40-ba2e-866bf77ed8a0"
   },
   "outputs": [
    {
     "data": {
      "text/plain": [
       "<keras.callbacks.History at 0x1e0abd77af0>"
      ]
     },
     "execution_count": 21,
     "metadata": {},
     "output_type": "execute_result"
    }
   ],
   "source": [
    "\n",
    "cnn_model.fit(Xcnn_train, label_train,\n",
    "                     epochs=3,\n",
    "                     verbose=False,\n",
    "                     validation_data=(Xcnn_test, label_test),\n",
    "                       batch_size=20)"
   ]
  },
  {
   "cell_type": "code",
   "execution_count": 22,
   "metadata": {
    "colab": {
     "base_uri": "https://localhost:8080/"
    },
    "id": "Z9txXl5V94rO",
    "outputId": "0c672db8-ca0e-4bff-c50a-09f1e490dc23"
   },
   "outputs": [
    {
     "name": "stdout",
     "output_type": "stream",
     "text": [
      "Training Accuracy: 0.7684\n",
      "Testing Accuracy:  0.7391\n"
     ]
    }
   ],
   "source": [
    "loss, accuracy = cnn_model.evaluate(Xcnn_train, label_train, verbose=False)\n",
    "print(\"Training Accuracy: {:.4f}\".format(accuracy))\n",
    "loss, accuracy = cnn_model.evaluate(Xcnn_test, label_test, verbose=False)\n",
    "print(\"Testing Accuracy:  {:.4f}\".format(accuracy))"
   ]
  },
  {
   "cell_type": "code",
   "execution_count": 23,
   "metadata": {
    "colab": {
     "base_uri": "https://localhost:8080/",
     "height": 434
    },
    "id": "HJb0Z87294rP",
    "outputId": "68a56a70-9059-40db-d52d-727df7cef488"
   },
   "outputs": [
    {
     "name": "stdout",
     "output_type": "stream",
     "text": [
      "76/76 [==============================] - 2s 19ms/step\n",
      "[[1]\n",
      " [0]\n",
      " [1]\n",
      " ...\n",
      " [0]\n",
      " [0]\n",
      " [0]]\n"
     ]
    },
    {
     "data": {
      "image/png": "[encoded data removed]",
      "text/plain": [
       "<Figure size 360x288 with 2 Axes>"
      ]
     },
     "metadata": {
      "needs_background": "light"
     },
     "output_type": "display_data"
    }
   ],
   "source": [
    "#model1.fit(X1_train, y1_train)  \n",
    "\n",
    "#y_pred = textcnnmodel.predict(Xcnn_test)\n",
    "y_pred=(cnn_model.predict(Xcnn_test) > 0.5).astype(\"int32\")\n",
    "print(y_pred)\n",
    "cm = confusion_matrix(label_test, y_pred)\n",
    "cm_df = pd.DataFrame(cm,\n",
    "                     index = [0,1], \n",
    "                     columns = [0,1])\n",
    "plt.figure(figsize=(5,4))\n",
    "sns.heatmap(cm_df, annot=True)\n",
    "plt.title('Confusion Matrix')\n",
    "plt.ylabel('Actal Values')\n",
    "plt.xlabel('Predicted Values')\n",
    "plt.show()\n",
    "#print(cm)"
   ]
  },
  {
   "cell_type": "code",
   "execution_count": 24,
   "metadata": {
    "colab": {
     "base_uri": "https://localhost:8080/"
    },
    "id": "0LUn3Vx994rP",
    "outputId": "77e3d274-f0ec-480c-dec9-3e47204fc274"
   },
   "outputs": [
    {
     "name": "stdout",
     "output_type": "stream",
     "text": [
      "              precision    recall  f1-score   support\n",
      "\n",
      "           0       0.78      0.83      0.81      1568\n",
      "           1       0.64      0.57      0.61       847\n",
      "\n",
      "    accuracy                           0.74      2415\n",
      "   macro avg       0.71      0.70      0.71      2415\n",
      "weighted avg       0.73      0.74      0.74      2415\n",
      "\n"
     ]
    }
   ],
   "source": [
    "from sklearn.metrics import classification_report\n",
    "print(classification_report(label_test, y_pred))"
   ]
  },
  {
   "cell_type": "code",
   "execution_count": 25,
   "metadata": {
    "id": "tRUx526Q94rQ"
   },
   "outputs": [],
   "source": [
    "import numpy as np\n",
    "import matplotlib.pyplot as plt\n",
    "from itertools import cycle\n",
    "\n",
    "from sklearn import svm, datasets\n",
    "from sklearn.metrics import roc_curve, auc\n",
    "from sklearn.model_selection import train_test_split\n",
    "from sklearn.preprocessing import label_binarize\n",
    "from sklearn.multiclass import OneVsRestClassifier\n",
    "from sklearn.metrics import roc_auc_score"
   ]
  },
  {
   "cell_type": "code",
   "execution_count": 26,
   "metadata": {
    "colab": {
     "base_uri": "https://localhost:8080/"
    },
    "id": "9PC5yRJv94rQ",
    "outputId": "eb8cff9e-42fe-4540-9491-9e1def106b2d"
   },
   "outputs": [],
   "source": [
    "#!pip install scikit-plot\n",
    "from scikitplot.estimators import plot_feature_importances\n",
    "from scikitplot.metrics import plot_confusion_matrix, plot_roc\n",
    "import scikitplot as skplt\n",
    "import matplotlib.pyplot as plt"
   ]
  },
  {
   "cell_type": "code",
   "execution_count": 27,
   "metadata": {
    "colab": {
     "base_uri": "https://localhost:8080/",
     "height": 312
    },
    "id": "iTIYGBDJ94rQ",
    "outputId": "517fc41d-6c48-440b-ff5f-3f2a403c87f3"
   },
   "outputs": [
    {
     "name": "stdout",
     "output_type": "stream",
     "text": [
      "76/76 [==============================] - 2s 20ms/step\n"
     ]
    },
    {
     "data": {
      "image/png": "[encoded data removed]",
      "text/plain": [
       "<Figure size 432x288 with 1 Axes>"
      ]
     },
     "metadata": {
      "needs_background": "light"
     },
     "output_type": "display_data"
    }
   ],
   "source": [
    "import sklearn.metrics as metrics\n",
    "# calculate the fpr and tpr for all thresholds of the classification\n",
    "probs = cnn_model.predict(Xcnn_test)\n",
    "preds = probs\n",
    "fpr, tpr, threshold = metrics.roc_curve(y_test, preds)\n",
    "roc_auc = metrics.auc(fpr, tpr)\n",
    "\n",
    "# method I: plt\n",
    "import matplotlib.pyplot as plt\n",
    "plt.title('Receiver Operating Characteristic')\n",
    "plt.plot(fpr, tpr, 'b', label = 'AUC = %0.2f' % roc_auc)\n",
    "plt.legend(loc = 'lower right')\n",
    "plt.plot([0, 1], [0, 1],'r--')\n",
    "plt.xlim([0, 1])\n",
    "plt.ylim([0, 1])\n",
    "plt.ylabel('True Positive Rate')\n",
    "plt.xlabel('False Positive Rate')\n",
    "plt.show()\n",
    "\n",
    "# method II: ggplot\n",
    "#from ggplot import *\n",
    "#df = pd.DataFrame(dict(fpr = fpr, tpr = tpr))\n",
    "#ggplot(df, aes(x = 'fpr', y = 'tpr')) + geom_line() + geom_abline(linetype = 'dashed')"
   ]
  },
  {
   "cell_type": "code",
   "execution_count": 28,
   "metadata": {
    "colab": {
     "base_uri": "https://localhost:8080/"
    },
    "id": "GhIl13P194rR",
    "outputId": "e5920cf0-659f-4e7d-aada-c23f95663f72"
   },
   "outputs": [
    {
     "name": "stdout",
     "output_type": "stream",
     "text": [
      "balanced_accuracy 0.7003025383707202\n"
     ]
    }
   ],
   "source": [
    "from sklearn.metrics import balanced_accuracy_score\n",
    "\n",
    "print(\"balanced_accuracy\", balanced_accuracy_score(y_test, y_pred))"
   ]
  },
  {
   "cell_type": "code",
   "execution_count": 29,
   "metadata": {
    "colab": {
     "base_uri": "https://localhost:8080/",
     "height": 331
    },
    "id": "arX2YFOE94rR",
    "outputId": "ddb055bb-f3a0-4e8e-812a-3ff5da5785e9"
   },
   "outputs": [
    {
     "name": "stdout",
     "output_type": "stream",
     "text": [
      "76/76 [==============================] - 2s 20ms/step\n",
      "76/76 [==============================] - 2s 20ms/step\n",
      "Model1: f1=0.605 auc=0.619\n"
     ]
    },
    {
     "data": {
      "image/png": "[encoded data removed]",
      "text/plain": [
       "<Figure size 432x288 with 1 Axes>"
      ]
     },
     "metadata": {
      "needs_background": "light"
     },
     "output_type": "display_data"
    }
   ],
   "source": [
    "# precision-recall curve and f1\n",
    "from sklearn.datasets import make_classification\n",
    "from sklearn.linear_model import LogisticRegression\n",
    "from sklearn.model_selection import train_test_split\n",
    "from sklearn.metrics import precision_recall_curve\n",
    "from sklearn.metrics import f1_score\n",
    "from sklearn.metrics import auc\n",
    "from matplotlib import pyplot\n",
    "lr_probs = cnn_model.predict(Xcnn_test)\n",
    "# keep probabilities for the positive outcome only\n",
    "#lr_probs = lr_probs[:, 1]\n",
    "# predict class values\n",
    "#yhat = grid1.predict(x_test)\n",
    "yhat=(cnn_model.predict(Xcnn_test) > 0.5).astype(\"int32\")\n",
    "lr_precision, lr_recall, _ = precision_recall_curve(y_test, lr_probs)\n",
    "lr_f1, lr_auc = f1_score(y_test, yhat), auc(lr_recall, lr_precision)\n",
    "# summarize scores\n",
    "print('Model1: f1=%.3f auc=%.3f' % (lr_f1, lr_auc))\n",
    "# plot the precision-recall curves\n",
    "no_skill = len(y_test[y_test==1]) / len(y_test)\n",
    "pyplot.plot([0, 1], [no_skill, no_skill], linestyle='--', label='No Skill')\n",
    "pyplot.plot(lr_recall, lr_precision, marker='.', label='CNN')\n",
    "# axis labels\n",
    "pyplot.xlabel('Recall')\n",
    "pyplot.ylabel('Precision')\n",
    "# show the legend\n",
    "pyplot.legend()\n",
    "# show the plot\n",
    "pyplot.show()"
   ]
  },
  {
   "cell_type": "code",
   "execution_count": null,
   "metadata": {
    "id": "jFLYrWspOtqY"
   },
   "outputs": [],
   "source": []
  },
  {
   "cell_type": "code",
   "execution_count": null,
   "metadata": {},
   "outputs": [],
   "source": []
  }
 ],
 "metadata": {
  "accelerator": "GPU",
  "colab": {
   "provenance": []
  },
  "gpuClass": "standard",
  "kernelspec": {
   "display_name": "Python 3 (ipykernel)",
   "language": "python",
   "name": "python3"
  },
  "language_info": {
   "codemirror_mode": {
    "name": "ipython",
    "version": 3
   },
   "file_extension": ".py",
   "mimetype": "text/x-python",
   "name": "python",
   "nbconvert_exporter": "python",
   "pygments_lexer": "ipython3",
   "version": "3.9.7"
  }
 },
 "nbformat": 4,
 "nbformat_minor": 1
}
