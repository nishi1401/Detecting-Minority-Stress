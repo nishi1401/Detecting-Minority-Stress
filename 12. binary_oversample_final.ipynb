{
 "cells": [
  {
   "cell_type": "markdown",
   "id": "7jyzUc2n7u4p",
   "metadata": {
    "id": "7jyzUc2n7u4p"
   },
   "source": [
    "# Loading the dataset"
   ]
  },
  {
   "cell_type": "code",
   "execution_count": 1,
   "id": "985ceac8",
   "metadata": {
    "id": "985ceac8"
   },
   "outputs": [],
   "source": [
    "import numpy as np\n",
    "import pandas as pd\n",
    "import matplotlib.pyplot as plt\n",
    "import seaborn as sns\n",
    "\n",
    "import re\n",
    "import nltk\n"
   ]
  },
  {
   "cell_type": "code",
   "execution_count": 2,
   "id": "82f58c75",
   "metadata": {
    "id": "82f58c75"
   },
   "outputs": [],
   "source": [
    "df = pd.read_csv(r\"oversample-binarydata-train.csv\")"
   ]
  },
  {
   "cell_type": "code",
   "execution_count": 3,
   "id": "5b00d4df",
   "metadata": {},
   "outputs": [],
   "source": [
    "df1=pd.read_csv(r\"oversample-binarydata-test.csv\")"
   ]
  },
  {
   "cell_type": "code",
   "execution_count": 4,
   "id": "594f8bc3",
   "metadata": {},
   "outputs": [
    {
     "data": {
      "text/plain": [
       "0    101\n",
       "1    101\n",
       "Name: target, dtype: int64"
      ]
     },
     "execution_count": 4,
     "metadata": {},
     "output_type": "execute_result"
    }
   ],
   "source": [
    "count=df['target'].value_counts()\n",
    "count"
   ]
  },
  {
   "cell_type": "code",
   "execution_count": 5,
   "id": "92ea4ab7",
   "metadata": {},
   "outputs": [
    {
     "data": {
      "text/html": [
       "<div>\n",
       "<style scoped>\n",
       "    .dataframe tbody tr th:only-of-type {\n",
       "        vertical-align: middle;\n",
       "    }\n",
       "\n",
       "    .dataframe tbody tr th {\n",
       "        vertical-align: top;\n",
       "    }\n",
       "\n",
       "    .dataframe thead th {\n",
       "        text-align: right;\n",
       "    }\n",
       "</style>\n",
       "<table border=\"1\" class=\"dataframe\">\n",
       "  <thead>\n",
       "    <tr style=\"text-align: right;\">\n",
       "      <th></th>\n",
       "      <th>Unnamed: 0</th>\n",
       "      <th>body</th>\n",
       "      <th>target</th>\n",
       "    </tr>\n",
       "  </thead>\n",
       "  <tbody>\n",
       "    <tr>\n",
       "      <th>0</th>\n",
       "      <td>0</td>\n",
       "      <td>It's insane to know I did it, I just came out ...</td>\n",
       "      <td>0</td>\n",
       "    </tr>\n",
       "    <tr>\n",
       "      <th>1</th>\n",
       "      <td>1</td>\n",
       "      <td>For the last two and a half years, I've devote...</td>\n",
       "      <td>0</td>\n",
       "    </tr>\n",
       "    <tr>\n",
       "      <th>2</th>\n",
       "      <td>2</td>\n",
       "      <td>I found this to be a moving experience. In my ...</td>\n",
       "      <td>0</td>\n",
       "    </tr>\n",
       "    <tr>\n",
       "      <th>3</th>\n",
       "      <td>3</td>\n",
       "      <td>First off, I want to apologize if this is the ...</td>\n",
       "      <td>0</td>\n",
       "    </tr>\n",
       "    <tr>\n",
       "      <th>4</th>\n",
       "      <td>4</td>\n",
       "      <td>*topic*</td>\n",
       "      <td>0</td>\n",
       "    </tr>\n",
       "  </tbody>\n",
       "</table>\n",
       "</div>"
      ],
      "text/plain": [
       "   Unnamed: 0                                               body  target\n",
       "0           0  It's insane to know I did it, I just came out ...       0\n",
       "1           1  For the last two and a half years, I've devote...       0\n",
       "2           2  I found this to be a moving experience. In my ...       0\n",
       "3           3  First off, I want to apologize if this is the ...       0\n",
       "4           4                                            *topic*       0"
      ]
     },
     "execution_count": 5,
     "metadata": {},
     "output_type": "execute_result"
    }
   ],
   "source": [
    "df.head()"
   ]
  },
  {
   "cell_type": "code",
   "execution_count": 7,
   "id": "b335edb4",
   "metadata": {},
   "outputs": [
    {
     "data": {
      "text/html": [
       "<div>\n",
       "<style scoped>\n",
       "    .dataframe tbody tr th:only-of-type {\n",
       "        vertical-align: middle;\n",
       "    }\n",
       "\n",
       "    .dataframe tbody tr th {\n",
       "        vertical-align: top;\n",
       "    }\n",
       "\n",
       "    .dataframe thead th {\n",
       "        text-align: right;\n",
       "    }\n",
       "</style>\n",
       "<table border=\"1\" class=\"dataframe\">\n",
       "  <thead>\n",
       "    <tr style=\"text-align: right;\">\n",
       "      <th></th>\n",
       "      <th>body</th>\n",
       "      <th>target</th>\n",
       "    </tr>\n",
       "  </thead>\n",
       "  <tbody>\n",
       "    <tr>\n",
       "      <th>0</th>\n",
       "      <td>It's insane to know I did it, I just came out ...</td>\n",
       "      <td>0</td>\n",
       "    </tr>\n",
       "    <tr>\n",
       "      <th>1</th>\n",
       "      <td>For the last two and a half years, I've devote...</td>\n",
       "      <td>0</td>\n",
       "    </tr>\n",
       "    <tr>\n",
       "      <th>2</th>\n",
       "      <td>I found this to be a moving experience. In my ...</td>\n",
       "      <td>0</td>\n",
       "    </tr>\n",
       "    <tr>\n",
       "      <th>3</th>\n",
       "      <td>First off, I want to apologize if this is the ...</td>\n",
       "      <td>0</td>\n",
       "    </tr>\n",
       "    <tr>\n",
       "      <th>4</th>\n",
       "      <td>*topic*</td>\n",
       "      <td>0</td>\n",
       "    </tr>\n",
       "  </tbody>\n",
       "</table>\n",
       "</div>"
      ],
      "text/plain": [
       "                                                body  target\n",
       "0  It's insane to know I did it, I just came out ...       0\n",
       "1  For the last two and a half years, I've devote...       0\n",
       "2  I found this to be a moving experience. In my ...       0\n",
       "3  First off, I want to apologize if this is the ...       0\n",
       "4                                            *topic*       0"
      ]
     },
     "execution_count": 7,
     "metadata": {},
     "output_type": "execute_result"
    }
   ],
   "source": [
    "df = df[['body', 'target']]\n",
    "\n",
    "df.head()"
   ]
  },
  {
   "cell_type": "code",
   "execution_count": 8,
   "id": "66872179",
   "metadata": {
    "colab": {
     "base_uri": "https://localhost:8080/"
    },
    "id": "66872179",
    "outputId": "638705b5-6953-4217-f408-3dd8b459509a"
   },
   "outputs": [
    {
     "data": {
      "text/plain": [
       "(202, 2)"
      ]
     },
     "execution_count": 8,
     "metadata": {},
     "output_type": "execute_result"
    }
   ],
   "source": [
    "df.shape"
   ]
  },
  {
   "cell_type": "markdown",
   "id": "Pl0HBHll5yRE",
   "metadata": {
    "id": "Pl0HBHll5yRE"
   },
   "source": [
    "# Data Analysis"
   ]
  },
  {
   "cell_type": "code",
   "execution_count": 9,
   "id": "b51276ed",
   "metadata": {
    "colab": {
     "base_uri": "https://localhost:8080/"
    },
    "id": "b51276ed",
    "outputId": "c9e21612-753e-40cc-991b-c21d35db842d",
    "scrolled": true
   },
   "outputs": [
    {
     "data": {
      "text/plain": [
       "body      0\n",
       "target    0\n",
       "dtype: int64"
      ]
     },
     "execution_count": 9,
     "metadata": {},
     "output_type": "execute_result"
    }
   ],
   "source": [
    "df.isnull().sum()"
   ]
  },
  {
   "cell_type": "code",
   "execution_count": null,
   "id": "71801f6a",
   "metadata": {},
   "outputs": [],
   "source": []
  },
  {
   "cell_type": "markdown",
   "id": "l_pUSStB6n4Y",
   "metadata": {
    "id": "l_pUSStB6n4Y"
   },
   "source": [
    "# Data Preprocessing"
   ]
  },
  {
   "cell_type": "code",
   "execution_count": 10,
   "id": "94d70868",
   "metadata": {
    "colab": {
     "base_uri": "https://localhost:8080/"
    },
    "id": "94d70868",
    "outputId": "3f1b548c-608a-4d61-dedf-ffcbc3cf86b7",
    "scrolled": true
   },
   "outputs": [],
   "source": [
    "from nltk.corpus import stopwords\n",
    "#nltk.download('stopwords')\n",
    "\n",
    "stopwords = stopwords.words('english')"
   ]
  },
  {
   "cell_type": "code",
   "execution_count": 11,
   "id": "b81aa9ea",
   "metadata": {
    "id": "b81aa9ea"
   },
   "outputs": [],
   "source": [
    "stemmer = nltk.PorterStemmer()"
   ]
  },
  {
   "cell_type": "code",
   "execution_count": 12,
   "id": "f3d8cea3",
   "metadata": {
    "colab": {
     "base_uri": "https://localhost:8080/"
    },
    "id": "f3d8cea3",
    "outputId": "26413a0c-1071-4e0c-8369-60a6a7a49455",
    "scrolled": true
   },
   "outputs": [],
   "source": [
    "from nltk.stem import WordNetLemmatizer\n",
    "#nltk.download('wordnet')\n",
    "#nltk.download('omw-1.4')\n",
    "\n",
    "lemmatizer = WordNetLemmatizer()"
   ]
  },
  {
   "cell_type": "code",
   "execution_count": 13,
   "id": "b4d57aa5",
   "metadata": {
    "id": "b4d57aa5"
   },
   "outputs": [],
   "source": [
    "def preprocess(text):\n",
    "    text = str(text).lower()\n",
    "    text = re.sub('https?://\\S+|www\\.\\S+', '', text)\n",
    "    text = re.sub('\\n|\\t', '', text)\n",
    "    text = re.sub('\\d', '', text) ##\n",
    "    text = re.sub(r'[^\\w\\s]', ' ', text) ##\n",
    "    text = [word for word in text.split() if word not in stopwords] \n",
    "    text = [stemmer.stem(word) for word in text]\n",
    "    \n",
    "    text = \" \".join(text)\n",
    "    \n",
    "    return text\n",
    "    "
   ]
  },
  {
   "cell_type": "code",
   "execution_count": 14,
   "id": "821bcadd",
   "metadata": {
    "id": "821bcadd",
    "scrolled": true
   },
   "outputs": [],
   "source": [
    "df['clean'] = df['body'].apply(preprocess)\n",
    "df1['clean'] = df1['body'].apply(preprocess)"
   ]
  },
  {
   "cell_type": "code",
   "execution_count": 15,
   "id": "0e8584c4",
   "metadata": {
    "colab": {
     "base_uri": "https://localhost:8080/"
    },
    "id": "0e8584c4",
    "outputId": "5f20d461-96ae-429a-d4bb-e70c17880b40",
    "scrolled": true
   },
   "outputs": [
    {
     "name": "stdout",
     "output_type": "stream",
     "text": [
      "Original Tweets: \n",
      "1115\n",
      "202\n",
      "Preprocessed comments: \n",
      "554\n",
      "92\n"
     ]
    }
   ],
   "source": [
    "avg_len = df['body'].str.len().mean()\n",
    "avg_word_count = df['body'].str.split().str.len().mean()\n",
    "avg_len1 = df1['body'].str.len().mean()\n",
    "avg_word_count1 = df1['body'].str.split().str.len().mean()\n",
    "\n",
    "print('Original Tweets: ')\n",
    "print(int(avg_len))\n",
    "print(int(avg_word_count))\n",
    "\n",
    "\n",
    "avg_clean_len = df['clean'].str.len().mean()\n",
    "avg_clean_word_count = df['clean'].str.split().str.len().mean()\n",
    "avg_clean_len1 = df1['clean'].str.len().mean()\n",
    "avg_clean_word_count1 = df1['clean'].str.split().str.len().mean()\n",
    "print('Preprocessed comments: ')\n",
    "print(int(avg_clean_len))\n",
    "print(int(avg_clean_word_count))\n"
   ]
  },
  {
   "cell_type": "code",
   "execution_count": 16,
   "id": "85bd1eb8",
   "metadata": {},
   "outputs": [
    {
     "data": {
      "text/plain": [
       "Text(0.5, 1.0, 'Avg length of comments')"
      ]
     },
     "execution_count": 16,
     "metadata": {},
     "output_type": "execute_result"
    },
    {
     "data": {
      "image/png": "[encoded data removed]",
      "text/plain": [
       "<Figure size 432x288 with 1 Axes>"
      ]
     },
     "metadata": {
      "needs_background": "light"
     },
     "output_type": "display_data"
    }
   ],
   "source": [
    "y = [129, 64]\n",
    "x  = ['before preprocessing', 'after preprocessing']\n",
    "\n",
    "plt.bar(x, y, color = ['pink', 'gray'])\n",
    "plt.title('Avg length of comments')"
   ]
  },
  {
   "cell_type": "code",
   "execution_count": 17,
   "id": "32fb2b68",
   "metadata": {},
   "outputs": [
    {
     "data": {
      "text/plain": [
       "Text(0.5, 1.0, 'Avg word count of comments')"
      ]
     },
     "execution_count": 17,
     "metadata": {},
     "output_type": "execute_result"
    },
    {
     "data": {
      "image/png": "[encoded data removed]",
      "text/plain": [
       "<Figure size 432x288 with 1 Axes>"
      ]
     },
     "metadata": {
      "needs_background": "light"
     },
     "output_type": "display_data"
    }
   ],
   "source": [
    "\n",
    "y = [23, 11]\n",
    "x  = ['before preprocessing', 'after preprocessing']\n",
    "\n",
    "plt.bar(x, y, color = ['pink', 'gray'])\n",
    "plt.title('Avg word count of comments')"
   ]
  },
  {
   "cell_type": "markdown",
   "id": "HP4V6ys94onb",
   "metadata": {
    "id": "HP4V6ys94onb"
   },
   "source": [
    "# Vectorization"
   ]
  },
  {
   "cell_type": "code",
   "execution_count": 18,
   "id": "02450e86",
   "metadata": {
    "id": "02450e86"
   },
   "outputs": [],
   "source": [
    "from sklearn.feature_extraction.text import TfidfVectorizer, CountVectorizer\n",
    "import gensim"
   ]
  },
  {
   "cell_type": "code",
   "execution_count": 19,
   "id": "a83e58bb",
   "metadata": {
    "colab": {
     "base_uri": "https://localhost:8080/"
    },
    "id": "a83e58bb",
    "outputId": "ccbad5aa-21b7-4c52-dcfa-b0481a6b362c"
   },
   "outputs": [],
   "source": [
    "bow_vectorizer = CountVectorizer(max_df = 0.90, min_df=2, max_features = 157, stop_words='english')\n",
    "\n",
    "bow = bow_vectorizer.fit_transform(df['clean'])\n"
   ]
  },
  {
   "cell_type": "code",
   "execution_count": 20,
   "id": "1d3205ad",
   "metadata": {
    "id": "1d3205ad"
   },
   "outputs": [],
   "source": [
    "tfidf_vectorizer = TfidfVectorizer(max_df = 0.90, min_df=2, max_features = 157, stop_words='english')\n",
    "\n",
    "tfidf = tfidf_vectorizer.fit_transform(df['clean'])\n"
   ]
  },
  {
   "cell_type": "markdown",
   "id": "aHJFajoL8Xw6",
   "metadata": {
    "id": "aHJFajoL8Xw6"
   },
   "source": [
    "# Dataset splitting"
   ]
  },
  {
   "cell_type": "code",
   "execution_count": 21,
   "id": "28d6abc3",
   "metadata": {
    "colab": {
     "base_uri": "https://localhost:8080/"
    },
    "id": "28d6abc3",
    "outputId": "d28044fd-5818-4be6-e0b3-d07269a5dd72"
   },
   "outputs": [
    {
     "name": "stdout",
     "output_type": "stream",
     "text": [
      "(202, 157)\n",
      "(202,)\n",
      "(40, 157)\n",
      "(40,)\n"
     ]
    }
   ],
   "source": [
    "from sklearn.model_selection import train_test_split\n",
    "\n",
    "#X1_train, X1_test, y1_train, y1_test = train_test_split(bow, df[\"target\"], test_size = 0.25, random_state = 0)\n",
    "#X1_train=bow.head(400)\n",
    "X1_train=bow\n",
    "\n",
    "X1_test=df1['clean']\n",
    "X1_test = bow_vectorizer.transform(X1_test)\n",
    "\n",
    "y1_train=df[\"target\"]\n",
    "y1_test=df1[\"target\"]\n",
    "\n",
    "print(X1_train.shape)\n",
    "print(y1_train.shape)\n",
    "print(X1_test.shape)\n",
    "print(y1_test.shape)\n"
   ]
  },
  {
   "cell_type": "code",
   "execution_count": 22,
   "id": "166a6b01",
   "metadata": {
    "colab": {
     "base_uri": "https://localhost:8080/"
    },
    "id": "166a6b01",
    "outputId": "bd3e3e33-e8aa-4b4c-ee92-d09711a6decc"
   },
   "outputs": [
    {
     "name": "stdout",
     "output_type": "stream",
     "text": [
      "(202, 157)\n",
      "(202,)\n",
      "(40, 157)\n",
      "(40,)\n"
     ]
    }
   ],
   "source": [
    "from sklearn.model_selection import train_test_split\n",
    "\n",
    "#X2_train, X2_test, y2_train, y2_test = train_test_split(tfidf, df[\"target\"], test_size = 0.25, random_state = 0)\n",
    "\n",
    "X2_train=tfidf\n",
    "\n",
    "X2_test= df1['clean']\n",
    "X2_test = tfidf_vectorizer.transform(X2_test)\n",
    "\n",
    "y2_train=df[\"target\"]\n",
    "y2_test=df1[\"target\"]\n",
    "\n",
    "print(X2_train.shape)\n",
    "print(y2_train.shape)\n",
    "print(X2_test.shape)\n",
    "print(y2_test.shape)\n"
   ]
  },
  {
   "cell_type": "markdown",
   "id": "P_ydA0J16FQa",
   "metadata": {
    "id": "P_ydA0J16FQa"
   },
   "source": [
    "# Model Training"
   ]
  },
  {
   "cell_type": "code",
   "execution_count": 23,
   "id": "6fa92031",
   "metadata": {},
   "outputs": [],
   "source": [
    "#Metrics\n",
    "from sklearn.metrics import make_scorer, accuracy_score, precision_score\n",
    "from sklearn.metrics import classification_report\n",
    "from sklearn.metrics import confusion_matrix\n",
    "from sklearn.metrics import accuracy_score ,precision_score,recall_score,f1_score\n",
    "\n",
    "#Model Select\n",
    "# from sklearn import cross_validation\n",
    "from sklearn.model_selection import cross_val_score\n",
    "from sklearn.model_selection import train_test_split\n",
    "from sklearn.neural_network import MLPClassifier\n",
    "from sklearn.ensemble import RandomForestClassifier\n",
    "from sklearn.naive_bayes import GaussianNB\n",
    "from sklearn.tree import DecisionTreeClassifier\n",
    "from sklearn.neighbors import KNeighborsClassifier\n",
    "from sklearn.svm import SVC, LinearSVC"
   ]
  },
  {
   "cell_type": "code",
   "execution_count": null,
   "id": "feeea5ba",
   "metadata": {},
   "outputs": [],
   "source": []
  },
  {
   "cell_type": "markdown",
   "id": "97b6f41e",
   "metadata": {},
   "source": [
    "# MLP"
   ]
  },
  {
   "cell_type": "code",
   "execution_count": 24,
   "id": "a2a520e9",
   "metadata": {},
   "outputs": [
    {
     "name": "stdout",
     "output_type": "stream",
     "text": [
      "The best parameters are {'activation': 'relu', 'alpha': 0.0001, 'hidden_layer_sizes': (20,), 'learning_rate': 'adaptive', 'solver': 'adam'} with a score of 0.838\n"
     ]
    },
    {
     "name": "stderr",
     "output_type": "stream",
     "text": [
      "C:\\Users\\siagu\\AppData\\Roaming\\Python\\Python39\\site-packages\\sklearn\\neural_network\\_multilayer_perceptron.py:692: ConvergenceWarning: Stochastic Optimizer: Maximum iterations (200) reached and the optimization hasn't converged yet.\n",
      "  warnings.warn(\n"
     ]
    }
   ],
   "source": [
    "from sklearn.model_selection import GridSearchCV\n",
    "import numpy as np\n",
    "\n",
    "rf = MLPClassifier()\n",
    "batch_size = np.arange(10,100,10)\n",
    "learn_rate = np.arange(0.001,0.3)\n",
    "#epochs = [10, 50, 100]\n",
    "#param_grid = dict(batch_size=batch_size, learning_rate_init=learn_rate)\n",
    "parameter_space = {\n",
    "    'hidden_layer_sizes': [(10,30,10),(20,)],\n",
    "    'activation': ['tanh', 'relu'],\n",
    "    'solver': ['sgd', 'adam'],\n",
    "    'alpha': [0.0001, 0.05],\n",
    "    'learning_rate': ['constant','adaptive'],\n",
    "}\n",
    "grid1 = GridSearchCV(rf, parameter_space, n_jobs=-1, cv=5)\n",
    "grid_result = grid1.fit(X1_train, y1_train)\n",
    "print(\"The best parameters are %s with a score of %0.3f\"\n",
    "      % (grid1.best_params_, grid1.best_score_))"
   ]
  },
  {
   "cell_type": "code",
   "execution_count": 25,
   "id": "495f4c8e",
   "metadata": {},
   "outputs": [],
   "source": [
    "#model1 = MLPClassifier(max_iter=500, activation='relu' ,batch_size=60, learning_rate_init=0.001)"
   ]
  },
  {
   "cell_type": "code",
   "execution_count": 26,
   "id": "e60c938a",
   "metadata": {},
   "outputs": [
    {
     "data": {
      "image/png": "[encoded data removed]",
      "text/plain": [
       "<Figure size 360x288 with 2 Axes>"
      ]
     },
     "metadata": {
      "needs_background": "light"
     },
     "output_type": "display_data"
    }
   ],
   "source": [
    "#model1.fit(X1_train, y1_train)  \n",
    "\n",
    "y1_pred = grid1.predict(X1_test)\n",
    "\n",
    "cm = confusion_matrix(y1_test, y1_pred)\n",
    "cm_df = pd.DataFrame(cm,\n",
    "                     index = [0,1], \n",
    "                     columns = [0,1])\n",
    "plt.figure(figsize=(5,4))\n",
    "sns.heatmap(cm_df, annot=True)\n",
    "plt.title('Confusion Matrix')\n",
    "plt.ylabel('Actal Values')\n",
    "plt.xlabel('Predicted Values')\n",
    "plt.show()\n",
    "#print(cm)"
   ]
  },
  {
   "cell_type": "code",
   "execution_count": 27,
   "id": "f47340ca",
   "metadata": {},
   "outputs": [
    {
     "name": "stdout",
     "output_type": "stream",
     "text": [
      "              precision    recall  f1-score   support\n",
      "\n",
      "           0       0.55      0.67      0.60        18\n",
      "           1       0.67      0.55      0.60        22\n",
      "\n",
      "    accuracy                           0.60        40\n",
      "   macro avg       0.61      0.61      0.60        40\n",
      "weighted avg       0.61      0.60      0.60        40\n",
      "\n"
     ]
    }
   ],
   "source": [
    "print(classification_report(y1_test, y1_pred))"
   ]
  },
  {
   "cell_type": "code",
   "execution_count": 28,
   "id": "b593b48e",
   "metadata": {},
   "outputs": [],
   "source": [
    "import numpy as np\n",
    "import matplotlib.pyplot as plt\n",
    "from itertools import cycle\n",
    "\n",
    "from sklearn import svm, datasets\n",
    "from sklearn.metrics import roc_curve, auc\n",
    "from sklearn.model_selection import train_test_split\n",
    "from sklearn.preprocessing import label_binarize\n",
    "from sklearn.multiclass import OneVsRestClassifier\n",
    "from sklearn.metrics import roc_auc_score\n",
    "\n",
    "#from utils.plot_ROC_Curve import plot_roc_pr\n",
    "\n",
    "#plot_roc_pr(y_pred = y1_pred, y_test = y1_test)\n"
   ]
  },
  {
   "cell_type": "code",
   "execution_count": 29,
   "id": "e54f2209",
   "metadata": {},
   "outputs": [],
   "source": [
    "#!pip install scikit-plot\n",
    "from scikitplot.estimators import plot_feature_importances\n",
    "from scikitplot.metrics import plot_confusion_matrix, plot_roc\n",
    "import scikitplot as skplt\n",
    "import matplotlib.pyplot as plt"
   ]
  },
  {
   "cell_type": "code",
   "execution_count": 30,
   "id": "abbc3cde",
   "metadata": {},
   "outputs": [
    {
     "data": {
      "image/png": "[encoded data removed]",
      "text/plain": [
       "<Figure size 432x288 with 1 Axes>"
      ]
     },
     "metadata": {
      "needs_background": "light"
     },
     "output_type": "display_data"
    },
    {
     "data": {
      "image/png": "[encoded data removed]",
      "text/plain": [
       "<Figure size 792x576 with 1 Axes>"
      ]
     },
     "metadata": {},
     "output_type": "display_data"
    },
    {
     "data": {
      "text/plain": [
       "<ggplot: (120169261572)>"
      ]
     },
     "execution_count": 30,
     "metadata": {},
     "output_type": "execute_result"
    }
   ],
   "source": [
    "import sklearn.metrics as metrics\n",
    "# calculate the fpr and tpr for all thresholds of the classification\n",
    "probs = grid1.predict_proba(X1_test)\n",
    "preds = probs[:,1]\n",
    "fpr, tpr, threshold = metrics.roc_curve(y1_test, preds)\n",
    "roc_auc = metrics.auc(fpr, tpr)\n",
    "\n",
    "# method I: plt\n",
    "import matplotlib.pyplot as plt\n",
    "plt.title('Receiver Operating Characteristic')\n",
    "plt.plot(fpr, tpr, 'b', label = 'AUC = %0.3f' % roc_auc)\n",
    "plt.legend(loc = 'lower right')\n",
    "plt.plot([0, 1], [0, 1],'r--')\n",
    "plt.xlim([0, 1])\n",
    "plt.ylim([0, 1])\n",
    "plt.ylabel('True Positive Rate')\n",
    "plt.xlabel('False Positive Rate')\n",
    "plt.show()\n",
    "\n",
    "# method II: ggplot\n",
    "from ggplot import *\n",
    "df = pd.DataFrame(dict(fpr = fpr, tpr = tpr))\n",
    "ggplot(df, aes(x = 'fpr', y = 'tpr')) + geom_line() + geom_abline(linetype = 'dashed')"
   ]
  },
  {
   "cell_type": "code",
   "execution_count": 31,
   "id": "1f450b06",
   "metadata": {},
   "outputs": [
    {
     "name": "stdout",
     "output_type": "stream",
     "text": [
      "Model1: f1=0.600 auc=0.712\n"
     ]
    },
    {
     "data": {
      "image/png": "[encoded data removed]",
      "text/plain": [
       "<Figure size 432x288 with 1 Axes>"
      ]
     },
     "metadata": {
      "needs_background": "light"
     },
     "output_type": "display_data"
    }
   ],
   "source": [
    "# precision-recall curve and f1\n",
    "from sklearn.datasets import make_classification\n",
    "from sklearn.linear_model import LogisticRegression\n",
    "from sklearn.model_selection import train_test_split\n",
    "from sklearn.metrics import precision_recall_curve\n",
    "from sklearn.metrics import f1_score\n",
    "from sklearn.metrics import auc\n",
    "from matplotlib import pyplot\n",
    "lr_probs = grid1.predict_proba(X1_test)\n",
    "# keep probabilities for the positive outcome only\n",
    "lr_probs = lr_probs[:, 1]\n",
    "# predict class values\n",
    "yhat = grid1.predict(X1_test)\n",
    "lr_precision, lr_recall, _ = precision_recall_curve(y1_test, lr_probs)\n",
    "lr_f1, lr_auc = f1_score(y1_test, yhat), auc(lr_recall, lr_precision)\n",
    "# summarize scores\n",
    "print('Model1: f1=%.3f auc=%.3f' % (lr_f1, lr_auc))\n",
    "# plot the precision-recall curves\n",
    "no_skill = len(y1_test[y1_test==1]) / len(y1_test)\n",
    "pyplot.plot([0, 1], [no_skill, no_skill], linestyle='--', label='No Skill')\n",
    "pyplot.plot(lr_recall, lr_precision, marker='.', label='Logistic')\n",
    "# axis labels\n",
    "pyplot.xlabel('Recall')\n",
    "pyplot.ylabel('Precision')\n",
    "# show the legend\n",
    "pyplot.legend()\n",
    "# show the plot\n",
    "pyplot.show()"
   ]
  },
  {
   "cell_type": "code",
   "execution_count": 32,
   "id": "88e5231c",
   "metadata": {},
   "outputs": [
    {
     "name": "stdout",
     "output_type": "stream",
     "text": [
      "balanced_accuracy 0.606060606060606\n"
     ]
    }
   ],
   "source": [
    "from sklearn.metrics import balanced_accuracy_score\n",
    "\n",
    "print(\"balanced_accuracy\", balanced_accuracy_score(y1_test, y1_pred))"
   ]
  },
  {
   "cell_type": "code",
   "execution_count": 33,
   "id": "cd215637",
   "metadata": {},
   "outputs": [
    {
     "name": "stderr",
     "output_type": "stream",
     "text": [
      "C:\\Users\\siagu\\AppData\\Roaming\\Python\\Python39\\site-packages\\sklearn\\neural_network\\_multilayer_perceptron.py:692: ConvergenceWarning: Stochastic Optimizer: Maximum iterations (200) reached and the optimization hasn't converged yet.\n",
      "  warnings.warn(\n"
     ]
    },
    {
     "data": {
      "image/png": "[encoded data removed]",
      "text/plain": [
       "<Figure size 360x288 with 2 Axes>"
      ]
     },
     "metadata": {
      "needs_background": "light"
     },
     "output_type": "display_data"
    }
   ],
   "source": [
    "grid1.fit(X2_train, y2_train)\n",
    "y2_pred = grid1.predict(X2_test)\n",
    "#grid1.fit(X2_train, y2_train)\n",
    "\n",
    "y2_pred = grid1.predict(X2_test)\n",
    "\n",
    "cm = confusion_matrix(y2_test, y2_pred)\n",
    "\n",
    "#print(cm)\n",
    "cm_df = pd.DataFrame(cm,\n",
    "                     index = [0,1], \n",
    "                     columns = [0,1])\n",
    "plt.figure(figsize=(5,4))\n",
    "sns.heatmap(cm_df, annot=True)\n",
    "plt.title('Confusion Matrix')\n",
    "plt.ylabel('Actal Values')\n",
    "plt.xlabel('Predicted Values')\n",
    "plt.show()"
   ]
  },
  {
   "cell_type": "code",
   "execution_count": 34,
   "id": "367bb6e9",
   "metadata": {},
   "outputs": [
    {
     "name": "stdout",
     "output_type": "stream",
     "text": [
      "              precision    recall  f1-score   support\n",
      "\n",
      "           0       0.46      0.61      0.52        18\n",
      "           1       0.56      0.41      0.47        22\n",
      "\n",
      "    accuracy                           0.50        40\n",
      "   macro avg       0.51      0.51      0.50        40\n",
      "weighted avg       0.52      0.50      0.50        40\n",
      "\n"
     ]
    }
   ],
   "source": [
    "print(classification_report(y2_test, y2_pred))"
   ]
  },
  {
   "cell_type": "code",
   "execution_count": 35,
   "id": "149fba50",
   "metadata": {},
   "outputs": [
    {
     "data": {
      "image/png": "[encoded data removed]",
      "text/plain": [
       "<Figure size 432x288 with 1 Axes>"
      ]
     },
     "metadata": {
      "needs_background": "light"
     },
     "output_type": "display_data"
    },
    {
     "data": {
      "image/png": "[encoded data removed]",
      "text/plain": [
       "<Figure size 792x576 with 1 Axes>"
      ]
     },
     "metadata": {},
     "output_type": "display_data"
    },
    {
     "data": {
      "text/plain": [
       "<ggplot: (120194752669)>"
      ]
     },
     "execution_count": 35,
     "metadata": {},
     "output_type": "execute_result"
    }
   ],
   "source": [
    "import sklearn.metrics as metrics\n",
    "# calculate the fpr and tpr for all thresholds of the classification\n",
    "probs = grid1.predict_proba(X2_test)\n",
    "preds = probs[:,1]\n",
    "fpr, tpr, threshold = metrics.roc_curve(y2_test, preds)\n",
    "roc_auc = metrics.auc(fpr, tpr)\n",
    "\n",
    "# method I: plt\n",
    "import matplotlib.pyplot as plt\n",
    "plt.title('Receiver Operating Characteristic')\n",
    "plt.plot(fpr, tpr, 'b', label = 'AUC = %0.3f' % roc_auc)\n",
    "plt.legend(loc = 'lower right')\n",
    "plt.plot([0, 1], [0, 1],'r--')\n",
    "plt.xlim([0, 1])\n",
    "plt.ylim([0, 1])\n",
    "plt.ylabel('True Positive Rate')\n",
    "plt.xlabel('False Positive Rate')\n",
    "plt.show()\n",
    "\n",
    "# method II: ggplot\n",
    "from ggplot import *\n",
    "df = pd.DataFrame(dict(fpr = fpr, tpr = tpr))\n",
    "ggplot(df, aes(x = 'fpr', y = 'tpr')) + geom_line() + geom_abline(linetype = 'dashed')"
   ]
  },
  {
   "cell_type": "code",
   "execution_count": 36,
   "id": "98847672",
   "metadata": {},
   "outputs": [
    {
     "name": "stdout",
     "output_type": "stream",
     "text": [
      "Model1: f1=0.474 auc=0.610\n"
     ]
    },
    {
     "data": {
      "image/png": "[encoded data removed]",
      "text/plain": [
       "<Figure size 432x288 with 1 Axes>"
      ]
     },
     "metadata": {
      "needs_background": "light"
     },
     "output_type": "display_data"
    }
   ],
   "source": [
    "# precision-recall curve and f1\n",
    "from sklearn.datasets import make_classification\n",
    "from sklearn.linear_model import LogisticRegression\n",
    "from sklearn.model_selection import train_test_split\n",
    "from sklearn.metrics import precision_recall_curve\n",
    "from sklearn.metrics import f1_score\n",
    "from sklearn.metrics import auc\n",
    "from matplotlib import pyplot\n",
    "lr_probs = grid1.predict_proba(X2_test)\n",
    "# keep probabilities for the positive outcome only\n",
    "lr_probs = lr_probs[:, 1]\n",
    "# predict class values\n",
    "yhat = grid1.predict(X2_test)\n",
    "lr_precision, lr_recall, _ = precision_recall_curve(y2_test, lr_probs)\n",
    "lr_f1, lr_auc = f1_score(y2_test, yhat), auc(lr_recall, lr_precision)\n",
    "# summarize scores\n",
    "print('Model1: f1=%.3f auc=%.3f' % (lr_f1, lr_auc))\n",
    "# plot the precision-recall curves\n",
    "no_skill = len(y2_test[y2_test==1]) / len(y2_test)\n",
    "pyplot.plot([0, 1], [no_skill, no_skill], linestyle='--', label='No Skill')\n",
    "pyplot.plot(lr_recall, lr_precision, marker='.', label='Logistic')\n",
    "# axis labels\n",
    "pyplot.xlabel('Recall')\n",
    "pyplot.ylabel('Precision')\n",
    "# show the legend\n",
    "pyplot.legend()\n",
    "# show the plot\n",
    "pyplot.show()"
   ]
  },
  {
   "cell_type": "code",
   "execution_count": 37,
   "id": "c6e0f034",
   "metadata": {},
   "outputs": [
    {
     "name": "stdout",
     "output_type": "stream",
     "text": [
      "balanced_accuracy 0.5101010101010102\n"
     ]
    }
   ],
   "source": [
    "print(\"balanced_accuracy\", balanced_accuracy_score(y2_test, y2_pred))"
   ]
  },
  {
   "cell_type": "markdown",
   "id": "d120f69d",
   "metadata": {},
   "source": [
    "# Random forest"
   ]
  },
  {
   "cell_type": "code",
   "execution_count": 38,
   "id": "620e70b5",
   "metadata": {},
   "outputs": [
    {
     "name": "stdout",
     "output_type": "stream",
     "text": [
      "The best parameters are {'criterion': 'entropy', 'max_features': 2, 'min_samples_split': 0.1, 'n_estimators': 80} with a score of 0.82\n"
     ]
    },
    {
     "name": "stderr",
     "output_type": "stream",
     "text": [
      "C:\\Users\\siagu\\AppData\\Roaming\\Python\\Python39\\site-packages\\sklearn\\model_selection\\_validation.py:372: FitFailedWarning: \n",
      "500 fits failed out of a total of 1500.\n",
      "The score on these train-test partitions for these parameters will be set to nan.\n",
      "If these failures are not expected, you can try to debug them by setting error_score='raise'.\n",
      "\n",
      "Below are more details about the failures:\n",
      "--------------------------------------------------------------------------------\n",
      "500 fits failed with the following error:\n",
      "Traceback (most recent call last):\n",
      "  File \"C:\\Users\\siagu\\AppData\\Roaming\\Python\\Python39\\site-packages\\sklearn\\model_selection\\_validation.py\", line 680, in _fit_and_score\n",
      "    estimator.fit(X_train, y_train, **fit_params)\n",
      "  File \"C:\\Users\\siagu\\AppData\\Roaming\\Python\\Python39\\site-packages\\sklearn\\ensemble\\_forest.py\", line 450, in fit\n",
      "    trees = Parallel(\n",
      "  File \"C:\\Users\\siagu\\anaconda3\\lib\\site-packages\\joblib\\parallel.py\", line 1043, in __call__\n",
      "    if self.dispatch_one_batch(iterator):\n",
      "  File \"C:\\Users\\siagu\\anaconda3\\lib\\site-packages\\joblib\\parallel.py\", line 861, in dispatch_one_batch\n",
      "    self._dispatch(tasks)\n",
      "  File \"C:\\Users\\siagu\\anaconda3\\lib\\site-packages\\joblib\\parallel.py\", line 779, in _dispatch\n",
      "    job = self._backend.apply_async(batch, callback=cb)\n",
      "  File \"C:\\Users\\siagu\\anaconda3\\lib\\site-packages\\joblib\\_parallel_backends.py\", line 208, in apply_async\n",
      "    result = ImmediateResult(func)\n",
      "  File \"C:\\Users\\siagu\\anaconda3\\lib\\site-packages\\joblib\\_parallel_backends.py\", line 572, in __init__\n",
      "    self.results = batch()\n",
      "  File \"C:\\Users\\siagu\\anaconda3\\lib\\site-packages\\joblib\\parallel.py\", line 262, in __call__\n",
      "    return [func(*args, **kwargs)\n",
      "  File \"C:\\Users\\siagu\\anaconda3\\lib\\site-packages\\joblib\\parallel.py\", line 262, in <listcomp>\n",
      "    return [func(*args, **kwargs)\n",
      "  File \"C:\\Users\\siagu\\AppData\\Roaming\\Python\\Python39\\site-packages\\sklearn\\utils\\fixes.py\", line 216, in __call__\n",
      "    return self.function(*args, **kwargs)\n",
      "  File \"C:\\Users\\siagu\\AppData\\Roaming\\Python\\Python39\\site-packages\\sklearn\\ensemble\\_forest.py\", line 185, in _parallel_build_trees\n",
      "    tree.fit(X, y, sample_weight=curr_sample_weight, check_input=False)\n",
      "  File \"C:\\Users\\siagu\\AppData\\Roaming\\Python\\Python39\\site-packages\\sklearn\\tree\\_classes.py\", line 937, in fit\n",
      "    super().fit(\n",
      "  File \"C:\\Users\\siagu\\AppData\\Roaming\\Python\\Python39\\site-packages\\sklearn\\tree\\_classes.py\", line 352, in fit\n",
      "    criterion = CRITERIA_CLF[self.criterion](\n",
      "KeyError: 'log_loss'\n",
      "\n",
      "  warnings.warn(some_fits_failed_message, FitFailedWarning)\n",
      "C:\\Users\\siagu\\AppData\\Roaming\\Python\\Python39\\site-packages\\sklearn\\model_selection\\_search.py:969: UserWarning: One or more of the test scores are non-finite: [0.77207317 0.80743902 0.77768293 0.76804878 0.77719512 0.80707317\n",
      " 0.78219512 0.80719512 0.77780488 0.77731707 0.78743902 0.79268293\n",
      " 0.81768293 0.82219512 0.78280488 0.80719512 0.79743902 0.78268293\n",
      " 0.78243902 0.79256098 0.73317073 0.74243902 0.76768293 0.78256098\n",
      " 0.79231707 0.78731707 0.77768293 0.79243902 0.79731707 0.79231707\n",
      " 0.77731707 0.78731707 0.76768293 0.78756098 0.80219512 0.80731707\n",
      " 0.80719512 0.79743902 0.80243902 0.81731707 0.78195122 0.76268293\n",
      " 0.79719512 0.75780488 0.80707317 0.79256098 0.79231707 0.77207317\n",
      " 0.79231707 0.77743902 0.80207317 0.82195122 0.80243902 0.79695122\n",
      " 0.80719512 0.78743902 0.79719512 0.79243902 0.80256098 0.79743902\n",
      " 0.74829268 0.75792683 0.79731707 0.74780488 0.79219512 0.77243902\n",
      " 0.80195122 0.78231707 0.77731707 0.80219512 0.79731707 0.78719512\n",
      " 0.77231707 0.81682927 0.78219512 0.79219512 0.79219512 0.78756098\n",
      " 0.79731707 0.79707317 0.75256098 0.75268293 0.75768293 0.78743902\n",
      " 0.80707317 0.77731707 0.76256098 0.79219512 0.76243902 0.77243902\n",
      " 0.79731707 0.78231707 0.77731707 0.79243902 0.79707317 0.77231707\n",
      " 0.78219512 0.79231707 0.78719512 0.77243902 0.73268293 0.75304878\n",
      " 0.78719512 0.73756098 0.79719512 0.77756098 0.79243902 0.81243902\n",
      " 0.76731707 0.81207317 0.76317073 0.80243902 0.80243902 0.81219512\n",
      " 0.76743902 0.80719512 0.78719512 0.79731707 0.80731707 0.80231707\n",
      " 0.78280488 0.75292683 0.78256098 0.77292683 0.73268293 0.77231707\n",
      " 0.80243902 0.82231707 0.80707317 0.81256098 0.78280488 0.79731707\n",
      " 0.81256098 0.77256098 0.78731707 0.79756098 0.80231707 0.78268293\n",
      " 0.79743902 0.77743902 0.78182927 0.79731707 0.78731707 0.80695122\n",
      " 0.78231707 0.76243902 0.79695122 0.80719512 0.79268293 0.78256098\n",
      " 0.78756098 0.79743902 0.77743902 0.78231707 0.79719512 0.80243902\n",
      " 0.79719512 0.80243902 0.80719512 0.81219512 0.74792683 0.76280488\n",
      " 0.76743902 0.78219512 0.77719512 0.79243902 0.77256098 0.79243902\n",
      " 0.79243902 0.80219512 0.82219512 0.80243902 0.78243902 0.78756098\n",
      " 0.81219512 0.78243902 0.78731707 0.81207317 0.79231707 0.79719512\n",
      " 0.74268293 0.77768293 0.76719512 0.78731707 0.78243902 0.80743902\n",
      " 0.76243902 0.79256098 0.80195122 0.77719512 0.79719512 0.78719512\n",
      " 0.80207317 0.79231707 0.78731707 0.80231707 0.78243902 0.81695122\n",
      " 0.80219512 0.78231707        nan        nan        nan        nan\n",
      "        nan        nan        nan        nan        nan        nan\n",
      "        nan        nan        nan        nan        nan        nan\n",
      "        nan        nan        nan        nan        nan        nan\n",
      "        nan        nan        nan        nan        nan        nan\n",
      "        nan        nan        nan        nan        nan        nan\n",
      "        nan        nan        nan        nan        nan        nan\n",
      "        nan        nan        nan        nan        nan        nan\n",
      "        nan        nan        nan        nan        nan        nan\n",
      "        nan        nan        nan        nan        nan        nan\n",
      "        nan        nan        nan        nan        nan        nan\n",
      "        nan        nan        nan        nan        nan        nan\n",
      "        nan        nan        nan        nan        nan        nan\n",
      "        nan        nan        nan        nan        nan        nan\n",
      "        nan        nan        nan        nan        nan        nan\n",
      "        nan        nan        nan        nan        nan        nan\n",
      "        nan        nan        nan        nan        nan        nan]\n",
      "  warnings.warn(\n"
     ]
    }
   ],
   "source": [
    "from sklearn.model_selection import GridSearchCV\n",
    "import numpy as np\n",
    "\n",
    "max_features_range = np.arange(1,6,1)\n",
    "n_estimators_range = np.arange(10,210,10)\n",
    "#n_depth_range = np.arange(1,32)\n",
    "min_samples_split=np.arange(0.1,1.0)\n",
    "criterion=['gini', 'entropy', 'log_loss']\n",
    "param_grid = dict(max_features=max_features_range, n_estimators=n_estimators_range,min_samples_split=min_samples_split,criterion=criterion)\n",
    "\n",
    "rf = RandomForestClassifier()\n",
    "\n",
    "grid2 = GridSearchCV(estimator=rf, param_grid=param_grid, cv=5)\n",
    "grid2.fit(X1_train, y1_train)\n",
    "print(\"The best parameters are %s with a score of %0.2f\"\n",
    "      % (grid2.best_params_, grid2.best_score_))"
   ]
  },
  {
   "cell_type": "code",
   "execution_count": 39,
   "id": "0a21dbd0",
   "metadata": {},
   "outputs": [],
   "source": [
    "#model2 = RandomForestClassifier(n_estimators=50, max_features=5)"
   ]
  },
  {
   "cell_type": "code",
   "execution_count": 40,
   "id": "83e775db",
   "metadata": {},
   "outputs": [
    {
     "name": "stderr",
     "output_type": "stream",
     "text": [
      "C:\\Users\\siagu\\AppData\\Roaming\\Python\\Python39\\site-packages\\sklearn\\model_selection\\_validation.py:372: FitFailedWarning: \n",
      "500 fits failed out of a total of 1500.\n",
      "The score on these train-test partitions for these parameters will be set to nan.\n",
      "If these failures are not expected, you can try to debug them by setting error_score='raise'.\n",
      "\n",
      "Below are more details about the failures:\n",
      "--------------------------------------------------------------------------------\n",
      "500 fits failed with the following error:\n",
      "Traceback (most recent call last):\n",
      "  File \"C:\\Users\\siagu\\AppData\\Roaming\\Python\\Python39\\site-packages\\sklearn\\model_selection\\_validation.py\", line 680, in _fit_and_score\n",
      "    estimator.fit(X_train, y_train, **fit_params)\n",
      "  File \"C:\\Users\\siagu\\AppData\\Roaming\\Python\\Python39\\site-packages\\sklearn\\ensemble\\_forest.py\", line 450, in fit\n",
      "    trees = Parallel(\n",
      "  File \"C:\\Users\\siagu\\anaconda3\\lib\\site-packages\\joblib\\parallel.py\", line 1043, in __call__\n",
      "    if self.dispatch_one_batch(iterator):\n",
      "  File \"C:\\Users\\siagu\\anaconda3\\lib\\site-packages\\joblib\\parallel.py\", line 861, in dispatch_one_batch\n",
      "    self._dispatch(tasks)\n",
      "  File \"C:\\Users\\siagu\\anaconda3\\lib\\site-packages\\joblib\\parallel.py\", line 779, in _dispatch\n",
      "    job = self._backend.apply_async(batch, callback=cb)\n",
      "  File \"C:\\Users\\siagu\\anaconda3\\lib\\site-packages\\joblib\\_parallel_backends.py\", line 208, in apply_async\n",
      "    result = ImmediateResult(func)\n",
      "  File \"C:\\Users\\siagu\\anaconda3\\lib\\site-packages\\joblib\\_parallel_backends.py\", line 572, in __init__\n",
      "    self.results = batch()\n",
      "  File \"C:\\Users\\siagu\\anaconda3\\lib\\site-packages\\joblib\\parallel.py\", line 262, in __call__\n",
      "    return [func(*args, **kwargs)\n",
      "  File \"C:\\Users\\siagu\\anaconda3\\lib\\site-packages\\joblib\\parallel.py\", line 262, in <listcomp>\n",
      "    return [func(*args, **kwargs)\n",
      "  File \"C:\\Users\\siagu\\AppData\\Roaming\\Python\\Python39\\site-packages\\sklearn\\utils\\fixes.py\", line 216, in __call__\n",
      "    return self.function(*args, **kwargs)\n",
      "  File \"C:\\Users\\siagu\\AppData\\Roaming\\Python\\Python39\\site-packages\\sklearn\\ensemble\\_forest.py\", line 185, in _parallel_build_trees\n",
      "    tree.fit(X, y, sample_weight=curr_sample_weight, check_input=False)\n",
      "  File \"C:\\Users\\siagu\\AppData\\Roaming\\Python\\Python39\\site-packages\\sklearn\\tree\\_classes.py\", line 937, in fit\n",
      "    super().fit(\n",
      "  File \"C:\\Users\\siagu\\AppData\\Roaming\\Python\\Python39\\site-packages\\sklearn\\tree\\_classes.py\", line 352, in fit\n",
      "    criterion = CRITERIA_CLF[self.criterion](\n",
      "KeyError: 'log_loss'\n",
      "\n",
      "  warnings.warn(some_fits_failed_message, FitFailedWarning)\n",
      "C:\\Users\\siagu\\AppData\\Roaming\\Python\\Python39\\site-packages\\sklearn\\model_selection\\_search.py:969: UserWarning: One or more of the test scores are non-finite: [0.76829268 0.80743902 0.78268293 0.74829268 0.76792683 0.76280488\n",
      " 0.76768293 0.77231707 0.79256098 0.77756098 0.80231707 0.79756098\n",
      " 0.78768293 0.80231707 0.79768293 0.76743902 0.78768293 0.79743902\n",
      " 0.80231707 0.79719512 0.73804878 0.79743902 0.77256098 0.78219512\n",
      " 0.79195122 0.77743902 0.78743902 0.77743902 0.75756098 0.77780488\n",
      " 0.80207317 0.78243902 0.81207317 0.78731707 0.81243902 0.80195122\n",
      " 0.79256098 0.78719512 0.80231707 0.82682927 0.75292683 0.78719512\n",
      " 0.77756098 0.75280488 0.79743902 0.80756098 0.78231707 0.78231707\n",
      " 0.79743902 0.76756098 0.77243902 0.76743902 0.78768293 0.79243902\n",
      " 0.77256098 0.79256098 0.77256098 0.78231707 0.80707317 0.80243902\n",
      " 0.73341463 0.76792683 0.81219512 0.74743902 0.78731707 0.80219512\n",
      " 0.81219512 0.77243902 0.79243902 0.79695122 0.78743902 0.79243902\n",
      " 0.79231707 0.76743902 0.76756098 0.79207317 0.77231707 0.79695122\n",
      " 0.78731707 0.79731707 0.79243902 0.78719512 0.78280488 0.79195122\n",
      " 0.77731707 0.77243902 0.77756098 0.78743902 0.78219512 0.81682927\n",
      " 0.77243902 0.79243902 0.77743902 0.78231707 0.78731707 0.77219512\n",
      " 0.76756098 0.79231707 0.79695122 0.79243902 0.74829268 0.80280488\n",
      " 0.77719512 0.78231707 0.77743902 0.78268293 0.78243902 0.80231707\n",
      " 0.80719512 0.79768293 0.78731707 0.78243902 0.78731707 0.79231707\n",
      " 0.79256098 0.80719512 0.77280488 0.78256098 0.80256098 0.79756098\n",
      " 0.75731707 0.76780488 0.78280488 0.79243902 0.80731707 0.79731707\n",
      " 0.81731707 0.76756098 0.78280488 0.78719512 0.80243902 0.77268293\n",
      " 0.79243902 0.82182927 0.80243902 0.80695122 0.79743902 0.80719512\n",
      " 0.75792683 0.81243902 0.74329268 0.77756098 0.76780488 0.82219512\n",
      " 0.76768293 0.80207317 0.78719512 0.80243902 0.80231707 0.80731707\n",
      " 0.79731707 0.78243902 0.78743902 0.79756098 0.78731707 0.83219512\n",
      " 0.81707317 0.80719512 0.79231707 0.81219512 0.73792683 0.79207317\n",
      " 0.78207317 0.78682927 0.74756098 0.83695122 0.78743902 0.79231707\n",
      " 0.79219512 0.79743902 0.82182927 0.78707317 0.79719512 0.80207317\n",
      " 0.80719512 0.79731707 0.79219512 0.78743902 0.78756098 0.81731707\n",
      " 0.73756098 0.79743902 0.76243902 0.77731707 0.79231707 0.77768293\n",
      " 0.81231707 0.81707317 0.79256098 0.77731707 0.80231707 0.78243902\n",
      " 0.79719512 0.80219512 0.78231707 0.77743902 0.81207317 0.80231707\n",
      " 0.79731707 0.78707317        nan        nan        nan        nan\n",
      "        nan        nan        nan        nan        nan        nan\n",
      "        nan        nan        nan        nan        nan        nan\n",
      "        nan        nan        nan        nan        nan        nan\n",
      "        nan        nan        nan        nan        nan        nan\n",
      "        nan        nan        nan        nan        nan        nan\n",
      "        nan        nan        nan        nan        nan        nan\n",
      "        nan        nan        nan        nan        nan        nan\n",
      "        nan        nan        nan        nan        nan        nan\n",
      "        nan        nan        nan        nan        nan        nan\n",
      "        nan        nan        nan        nan        nan        nan\n",
      "        nan        nan        nan        nan        nan        nan\n",
      "        nan        nan        nan        nan        nan        nan\n",
      "        nan        nan        nan        nan        nan        nan\n",
      "        nan        nan        nan        nan        nan        nan\n",
      "        nan        nan        nan        nan        nan        nan\n",
      "        nan        nan        nan        nan        nan        nan]\n",
      "  warnings.warn(\n"
     ]
    },
    {
     "data": {
      "image/png": "[encoded data removed]",
      "text/plain": [
       "<Figure size 360x288 with 2 Axes>"
      ]
     },
     "metadata": {
      "needs_background": "light"
     },
     "output_type": "display_data"
    }
   ],
   "source": [
    "grid2.fit(X1_train, y1_train)  \n",
    "\n",
    "y1_pred = grid2.predict(X1_test)\n",
    "\n",
    "cm = confusion_matrix(y1_test, y1_pred)\n",
    "cm_df = pd.DataFrame(cm,\n",
    "                     index = [0,1], \n",
    "                     columns = [0,1])\n",
    "plt.figure(figsize=(5,4))\n",
    "sns.heatmap(cm_df, annot=True)\n",
    "plt.title('Confusion Matrix')\n",
    "plt.ylabel('Actal Values')\n",
    "plt.xlabel('Predicted Values')\n",
    "plt.show()\n",
    "#print(cm)\n"
   ]
  },
  {
   "cell_type": "code",
   "execution_count": 41,
   "id": "3a52c75f",
   "metadata": {},
   "outputs": [
    {
     "name": "stdout",
     "output_type": "stream",
     "text": [
      "              precision    recall  f1-score   support\n",
      "\n",
      "           0       0.67      0.78      0.72        18\n",
      "           1       0.79      0.68      0.73        22\n",
      "\n",
      "    accuracy                           0.73        40\n",
      "   macro avg       0.73      0.73      0.72        40\n",
      "weighted avg       0.73      0.72      0.73        40\n",
      "\n"
     ]
    }
   ],
   "source": [
    "print(classification_report(y1_test, y1_pred))"
   ]
  },
  {
   "cell_type": "code",
   "execution_count": 42,
   "id": "d0db3449",
   "metadata": {},
   "outputs": [
    {
     "data": {
      "image/png": "[encoded data removed]",
      "text/plain": [
       "<Figure size 432x288 with 1 Axes>"
      ]
     },
     "metadata": {
      "needs_background": "light"
     },
     "output_type": "display_data"
    },
    {
     "data": {
      "image/png": "[encoded data removed]",
      "text/plain": [
       "<Figure size 792x576 with 1 Axes>"
      ]
     },
     "metadata": {},
     "output_type": "display_data"
    },
    {
     "data": {
      "text/plain": [
       "<ggplot: (120196051098)>"
      ]
     },
     "execution_count": 42,
     "metadata": {},
     "output_type": "execute_result"
    }
   ],
   "source": [
    "import sklearn.metrics as metrics\n",
    "# calculate the fpr and tpr for all thresholds of the classification\n",
    "probs = grid2.predict_proba(X1_test)\n",
    "preds = probs[:,1]\n",
    "fpr, tpr, threshold = metrics.roc_curve(y1_test, preds)\n",
    "roc_auc = metrics.auc(fpr, tpr)\n",
    "\n",
    "# method I: plt\n",
    "import matplotlib.pyplot as plt\n",
    "plt.title('Receiver Operating Characteristic')\n",
    "plt.plot(fpr, tpr, 'b', label = 'AUC = %0.3f' % roc_auc)\n",
    "plt.legend(loc = 'lower right')\n",
    "plt.plot([0, 1], [0, 1],'r--')\n",
    "plt.xlim([0, 1])\n",
    "plt.ylim([0, 1])\n",
    "plt.ylabel('True Positive Rate')\n",
    "plt.xlabel('False Positive Rate')\n",
    "plt.show()\n",
    "\n",
    "# method II: ggplot\n",
    "from ggplot import *\n",
    "df = pd.DataFrame(dict(fpr = fpr, tpr = tpr))\n",
    "ggplot(df, aes(x = 'fpr', y = 'tpr')) + geom_line() + geom_abline(linetype = 'dashed')"
   ]
  },
  {
   "cell_type": "code",
   "execution_count": 43,
   "id": "1bd258c2",
   "metadata": {},
   "outputs": [
    {
     "name": "stdout",
     "output_type": "stream",
     "text": [
      "Model1: f1=0.732 auc=0.778\n"
     ]
    },
    {
     "data": {
      "image/png": "[encoded data removed]",
      "text/plain": [
       "<Figure size 432x288 with 1 Axes>"
      ]
     },
     "metadata": {
      "needs_background": "light"
     },
     "output_type": "display_data"
    }
   ],
   "source": [
    "# precision-recall curve and f1\n",
    "from sklearn.datasets import make_classification\n",
    "from sklearn.linear_model import LogisticRegression\n",
    "from sklearn.model_selection import train_test_split\n",
    "from sklearn.metrics import precision_recall_curve\n",
    "from sklearn.metrics import f1_score\n",
    "from sklearn.metrics import auc\n",
    "from matplotlib import pyplot\n",
    "lr_probs = grid2.predict_proba(X1_test)\n",
    "# keep probabilities for the positive outcome only\n",
    "lr_probs = lr_probs[:, 1]\n",
    "# predict class values\n",
    "yhat = grid2.predict(X1_test)\n",
    "lr_precision, lr_recall, _ = precision_recall_curve(y1_test, lr_probs)\n",
    "lr_f1, lr_auc = f1_score(y1_test, yhat), auc(lr_recall, lr_precision)\n",
    "# summarize scores\n",
    "print('Model1: f1=%.3f auc=%.3f' % (lr_f1, lr_auc))\n",
    "# plot the precision-recall curves\n",
    "no_skill = len(y1_test[y1_test==1]) / len(y1_test)\n",
    "pyplot.plot([0, 1], [no_skill, no_skill], linestyle='--', label='No Skill')\n",
    "pyplot.plot(lr_recall, lr_precision, marker='.', label='Logistic')\n",
    "# axis labels\n",
    "pyplot.xlabel('Recall')\n",
    "pyplot.ylabel('Precision')\n",
    "# show the legend\n",
    "pyplot.legend()\n",
    "# show the plot\n",
    "pyplot.show()"
   ]
  },
  {
   "cell_type": "code",
   "execution_count": 44,
   "id": "7a3e1065",
   "metadata": {},
   "outputs": [
    {
     "name": "stdout",
     "output_type": "stream",
     "text": [
      "balanced_accuracy 0.7297979797979798\n"
     ]
    }
   ],
   "source": [
    "print(\"balanced_accuracy\", balanced_accuracy_score(y1_test, y1_pred))"
   ]
  },
  {
   "cell_type": "code",
   "execution_count": 45,
   "id": "46e3e57f",
   "metadata": {},
   "outputs": [
    {
     "name": "stderr",
     "output_type": "stream",
     "text": [
      "C:\\Users\\siagu\\AppData\\Roaming\\Python\\Python39\\site-packages\\sklearn\\model_selection\\_validation.py:372: FitFailedWarning: \n",
      "500 fits failed out of a total of 1500.\n",
      "The score on these train-test partitions for these parameters will be set to nan.\n",
      "If these failures are not expected, you can try to debug them by setting error_score='raise'.\n",
      "\n",
      "Below are more details about the failures:\n",
      "--------------------------------------------------------------------------------\n",
      "500 fits failed with the following error:\n",
      "Traceback (most recent call last):\n",
      "  File \"C:\\Users\\siagu\\AppData\\Roaming\\Python\\Python39\\site-packages\\sklearn\\model_selection\\_validation.py\", line 680, in _fit_and_score\n",
      "    estimator.fit(X_train, y_train, **fit_params)\n",
      "  File \"C:\\Users\\siagu\\AppData\\Roaming\\Python\\Python39\\site-packages\\sklearn\\ensemble\\_forest.py\", line 450, in fit\n",
      "    trees = Parallel(\n",
      "  File \"C:\\Users\\siagu\\anaconda3\\lib\\site-packages\\joblib\\parallel.py\", line 1043, in __call__\n",
      "    if self.dispatch_one_batch(iterator):\n",
      "  File \"C:\\Users\\siagu\\anaconda3\\lib\\site-packages\\joblib\\parallel.py\", line 861, in dispatch_one_batch\n",
      "    self._dispatch(tasks)\n",
      "  File \"C:\\Users\\siagu\\anaconda3\\lib\\site-packages\\joblib\\parallel.py\", line 779, in _dispatch\n",
      "    job = self._backend.apply_async(batch, callback=cb)\n",
      "  File \"C:\\Users\\siagu\\anaconda3\\lib\\site-packages\\joblib\\_parallel_backends.py\", line 208, in apply_async\n",
      "    result = ImmediateResult(func)\n",
      "  File \"C:\\Users\\siagu\\anaconda3\\lib\\site-packages\\joblib\\_parallel_backends.py\", line 572, in __init__\n",
      "    self.results = batch()\n",
      "  File \"C:\\Users\\siagu\\anaconda3\\lib\\site-packages\\joblib\\parallel.py\", line 262, in __call__\n",
      "    return [func(*args, **kwargs)\n",
      "  File \"C:\\Users\\siagu\\anaconda3\\lib\\site-packages\\joblib\\parallel.py\", line 262, in <listcomp>\n",
      "    return [func(*args, **kwargs)\n",
      "  File \"C:\\Users\\siagu\\AppData\\Roaming\\Python\\Python39\\site-packages\\sklearn\\utils\\fixes.py\", line 216, in __call__\n",
      "    return self.function(*args, **kwargs)\n",
      "  File \"C:\\Users\\siagu\\AppData\\Roaming\\Python\\Python39\\site-packages\\sklearn\\ensemble\\_forest.py\", line 185, in _parallel_build_trees\n",
      "    tree.fit(X, y, sample_weight=curr_sample_weight, check_input=False)\n",
      "  File \"C:\\Users\\siagu\\AppData\\Roaming\\Python\\Python39\\site-packages\\sklearn\\tree\\_classes.py\", line 937, in fit\n",
      "    super().fit(\n",
      "  File \"C:\\Users\\siagu\\AppData\\Roaming\\Python\\Python39\\site-packages\\sklearn\\tree\\_classes.py\", line 352, in fit\n",
      "    criterion = CRITERIA_CLF[self.criterion](\n",
      "KeyError: 'log_loss'\n",
      "\n",
      "  warnings.warn(some_fits_failed_message, FitFailedWarning)\n",
      "C:\\Users\\siagu\\AppData\\Roaming\\Python\\Python39\\site-packages\\sklearn\\model_selection\\_search.py:969: UserWarning: One or more of the test scores are non-finite: [0.76304878 0.76231707 0.78280488 0.80268293 0.80256098 0.84731707\n",
      " 0.82280488 0.82756098 0.82731707 0.83243902 0.81756098 0.83243902\n",
      " 0.82695122 0.86195122 0.85182927 0.82756098 0.83256098 0.84707317\n",
      " 0.83219512 0.80743902 0.75780488 0.79768293 0.79707317 0.85682927\n",
      " 0.82731707 0.80280488 0.84682927 0.81231707 0.81780488 0.81243902\n",
      " 0.84231707 0.83219512 0.83719512 0.83219512 0.82707317 0.83719512\n",
      " 0.85195122 0.83231707 0.84207317 0.84707317 0.74768293 0.80768293\n",
      " 0.81280488 0.82743902 0.83243902 0.84219512 0.81707317 0.85207317\n",
      " 0.81219512 0.83243902 0.85219512 0.83707317 0.85719512 0.84231707\n",
      " 0.83719512 0.81243902 0.87182927 0.83743902 0.82731707 0.84707317\n",
      " 0.75707317 0.81756098 0.82207317 0.84182927 0.77768293 0.83695122\n",
      " 0.84219512 0.82231707 0.82719512 0.83719512 0.80268293 0.84707317\n",
      " 0.83243902 0.83731707 0.82731707 0.85707317 0.82731707 0.85707317\n",
      " 0.83231707 0.84231707 0.72304878 0.79743902 0.80292683 0.81756098\n",
      " 0.83743902 0.80256098 0.84731707 0.83243902 0.83182927 0.84219512\n",
      " 0.84682927 0.83243902 0.83695122 0.85231707 0.85682927 0.82743902\n",
      " 0.84219512 0.85219512 0.85682927 0.84219512 0.75280488 0.79317073\n",
      " 0.80743902 0.76804878 0.83707317 0.82268293 0.80743902 0.81243902\n",
      " 0.82768293 0.83207317 0.81256098 0.80292683 0.80756098 0.82731707\n",
      " 0.83707317 0.84243902 0.85207317 0.83743902 0.86219512 0.83743902\n",
      " 0.80256098 0.79768293 0.78268293 0.81743902 0.85719512 0.79268293\n",
      " 0.83256098 0.82719512 0.82256098 0.82195122 0.83731707 0.84231707\n",
      " 0.84731707 0.84743902 0.85219512 0.83219512 0.84743902 0.82719512\n",
      " 0.83731707 0.84231707 0.77256098 0.81219512 0.82731707 0.84707317\n",
      " 0.83219512 0.81707317 0.82756098 0.85231707 0.85682927 0.81231707\n",
      " 0.84719512 0.86707317 0.85219512 0.81756098 0.86695122 0.84243902\n",
      " 0.84719512 0.80768293 0.83719512 0.84719512 0.78707317 0.80743902\n",
      " 0.76292683 0.81231707 0.81743902 0.82719512 0.83219512 0.82768293\n",
      " 0.85719512 0.82731707 0.84195122 0.82707317 0.83707317 0.86719512\n",
      " 0.84707317 0.86219512 0.85707317 0.81743902 0.83731707 0.84707317\n",
      " 0.79719512 0.80231707 0.83731707 0.80719512 0.82695122 0.84682927\n",
      " 0.83707317 0.83231707 0.83695122 0.82731707 0.84719512 0.82756098\n",
      " 0.84231707 0.85195122 0.86158537 0.86182927 0.85719512 0.86219512\n",
      " 0.85231707 0.84707317        nan        nan        nan        nan\n",
      "        nan        nan        nan        nan        nan        nan\n",
      "        nan        nan        nan        nan        nan        nan\n",
      "        nan        nan        nan        nan        nan        nan\n",
      "        nan        nan        nan        nan        nan        nan\n",
      "        nan        nan        nan        nan        nan        nan\n",
      "        nan        nan        nan        nan        nan        nan\n",
      "        nan        nan        nan        nan        nan        nan\n",
      "        nan        nan        nan        nan        nan        nan\n",
      "        nan        nan        nan        nan        nan        nan\n",
      "        nan        nan        nan        nan        nan        nan\n",
      "        nan        nan        nan        nan        nan        nan\n",
      "        nan        nan        nan        nan        nan        nan\n",
      "        nan        nan        nan        nan        nan        nan\n",
      "        nan        nan        nan        nan        nan        nan\n",
      "        nan        nan        nan        nan        nan        nan\n",
      "        nan        nan        nan        nan        nan        nan]\n",
      "  warnings.warn(\n"
     ]
    },
    {
     "data": {
      "image/png": "[encoded data removed]",
      "text/plain": [
       "<Figure size 360x288 with 2 Axes>"
      ]
     },
     "metadata": {
      "needs_background": "light"
     },
     "output_type": "display_data"
    }
   ],
   "source": [
    "grid2.fit(X2_train, y2_train)\n",
    "\n",
    "y2_pred = grid2.predict(X2_test)\n",
    "\n",
    "cm = confusion_matrix(y2_test, y2_pred)\n",
    "#print(cm)\n",
    "cm_df = pd.DataFrame(cm,\n",
    "                     index = [0,1], \n",
    "                     columns = [0,1])\n",
    "plt.figure(figsize=(5,4))\n",
    "sns.heatmap(cm_df, annot=True)\n",
    "plt.title('Confusion Matrix')\n",
    "plt.ylabel('Actal Values')\n",
    "plt.xlabel('Predicted Values')\n",
    "plt.show()"
   ]
  },
  {
   "cell_type": "code",
   "execution_count": 46,
   "id": "9e90bd77",
   "metadata": {
    "scrolled": true
   },
   "outputs": [
    {
     "name": "stdout",
     "output_type": "stream",
     "text": [
      "              precision    recall  f1-score   support\n",
      "\n",
      "           0       0.54      0.83      0.65        18\n",
      "           1       0.75      0.41      0.53        22\n",
      "\n",
      "    accuracy                           0.60        40\n",
      "   macro avg       0.64      0.62      0.59        40\n",
      "weighted avg       0.65      0.60      0.58        40\n",
      "\n"
     ]
    }
   ],
   "source": [
    "print(classification_report(y2_test, y2_pred))"
   ]
  },
  {
   "cell_type": "code",
   "execution_count": 47,
   "id": "ddf3cdb4",
   "metadata": {},
   "outputs": [
    {
     "data": {
      "image/png": "[encoded data removed]",
      "text/plain": [
       "<Figure size 432x288 with 1 Axes>"
      ]
     },
     "metadata": {
      "needs_background": "light"
     },
     "output_type": "display_data"
    },
    {
     "data": {
      "image/png": "[encoded data removed]",
      "text/plain": [
       "<Figure size 792x576 with 1 Axes>"
      ]
     },
     "metadata": {},
     "output_type": "display_data"
    },
    {
     "data": {
      "text/plain": [
       "<ggplot: (120194736415)>"
      ]
     },
     "execution_count": 47,
     "metadata": {},
     "output_type": "execute_result"
    }
   ],
   "source": [
    "import sklearn.metrics as metrics\n",
    "# calculate the fpr and tpr for all thresholds of the classification\n",
    "probs = grid2.predict_proba(X2_test)\n",
    "preds = probs[:,1]\n",
    "fpr, tpr, threshold = metrics.roc_curve(y2_test, preds)\n",
    "roc_auc = metrics.auc(fpr, tpr)\n",
    "\n",
    "# method I: plt\n",
    "import matplotlib.pyplot as plt\n",
    "plt.title('Receiver Operating Characteristic')\n",
    "plt.plot(fpr, tpr, 'b', label = 'AUC = %0.3f' % roc_auc)\n",
    "plt.legend(loc = 'lower right')\n",
    "plt.plot([0, 1], [0, 1],'r--')\n",
    "plt.xlim([0, 1])\n",
    "plt.ylim([0, 1])\n",
    "plt.ylabel('True Positive Rate')\n",
    "plt.xlabel('False Positive Rate')\n",
    "plt.show()\n",
    "\n",
    "# method II: ggplot\n",
    "from ggplot import *\n",
    "df = pd.DataFrame(dict(fpr = fpr, tpr = tpr))\n",
    "ggplot(df, aes(x = 'fpr', y = 'tpr')) + geom_line() + geom_abline(linetype = 'dashed')"
   ]
  },
  {
   "cell_type": "code",
   "execution_count": 48,
   "id": "a9caf5d0",
   "metadata": {},
   "outputs": [
    {
     "name": "stdout",
     "output_type": "stream",
     "text": [
      "Model1: f1=0.529 auc=0.693\n"
     ]
    },
    {
     "data": {
      "image/png": "[encoded data removed]",
      "text/plain": [
       "<Figure size 432x288 with 1 Axes>"
      ]
     },
     "metadata": {
      "needs_background": "light"
     },
     "output_type": "display_data"
    }
   ],
   "source": [
    "# precision-recall curve and f1\n",
    "from sklearn.datasets import make_classification\n",
    "from sklearn.linear_model import LogisticRegression\n",
    "from sklearn.model_selection import train_test_split\n",
    "from sklearn.metrics import precision_recall_curve\n",
    "from sklearn.metrics import f1_score\n",
    "from sklearn.metrics import auc\n",
    "from matplotlib import pyplot\n",
    "lr_probs = grid2.predict_proba(X2_test)\n",
    "# keep probabilities for the positive outcome only\n",
    "lr_probs = lr_probs[:, 1]\n",
    "# predict class values\n",
    "yhat = grid2.predict(X2_test)\n",
    "lr_precision, lr_recall, _ = precision_recall_curve(y2_test, lr_probs)\n",
    "lr_f1, lr_auc = f1_score(y2_test, yhat), auc(lr_recall, lr_precision)\n",
    "# summarize scores\n",
    "print('Model1: f1=%.3f auc=%.3f' % (lr_f1, lr_auc))\n",
    "# plot the precision-recall curves\n",
    "no_skill = len(y2_test[y2_test==1]) / len(y2_test)\n",
    "pyplot.plot([0, 1], [no_skill, no_skill], linestyle='--', label='No Skill')\n",
    "pyplot.plot(lr_recall, lr_precision, marker='.', label='Logistic')\n",
    "# axis labels\n",
    "pyplot.xlabel('Recall')\n",
    "pyplot.ylabel('Precision')\n",
    "# show the legend\n",
    "pyplot.legend()\n",
    "# show the plot\n",
    "pyplot.show()"
   ]
  },
  {
   "cell_type": "code",
   "execution_count": 49,
   "id": "6420da07",
   "metadata": {},
   "outputs": [
    {
     "name": "stdout",
     "output_type": "stream",
     "text": [
      "balanced_accuracy 0.6212121212121212\n"
     ]
    }
   ],
   "source": [
    "print(\"balanced_accuracy\", balanced_accuracy_score(y2_test, y2_pred))"
   ]
  },
  {
   "cell_type": "markdown",
   "id": "f06fcda2",
   "metadata": {},
   "source": [
    "# Decision Tree"
   ]
  },
  {
   "cell_type": "code",
   "execution_count": 50,
   "id": "907ac2a9",
   "metadata": {},
   "outputs": [
    {
     "name": "stdout",
     "output_type": "stream",
     "text": [
      "The best parameters are {'criterion': 'entropy', 'max_depth': 13, 'max_features': 3, 'min_samples_split': 0.1} with a score of 0.74\n"
     ]
    },
    {
     "name": "stderr",
     "output_type": "stream",
     "text": [
      "C:\\Users\\siagu\\AppData\\Roaming\\Python\\Python39\\site-packages\\sklearn\\model_selection\\_validation.py:372: FitFailedWarning: \n",
      "775 fits failed out of a total of 2325.\n",
      "The score on these train-test partitions for these parameters will be set to nan.\n",
      "If these failures are not expected, you can try to debug them by setting error_score='raise'.\n",
      "\n",
      "Below are more details about the failures:\n",
      "--------------------------------------------------------------------------------\n",
      "775 fits failed with the following error:\n",
      "Traceback (most recent call last):\n",
      "  File \"C:\\Users\\siagu\\AppData\\Roaming\\Python\\Python39\\site-packages\\sklearn\\model_selection\\_validation.py\", line 680, in _fit_and_score\n",
      "    estimator.fit(X_train, y_train, **fit_params)\n",
      "  File \"C:\\Users\\siagu\\AppData\\Roaming\\Python\\Python39\\site-packages\\sklearn\\tree\\_classes.py\", line 937, in fit\n",
      "    super().fit(\n",
      "  File \"C:\\Users\\siagu\\AppData\\Roaming\\Python\\Python39\\site-packages\\sklearn\\tree\\_classes.py\", line 352, in fit\n",
      "    criterion = CRITERIA_CLF[self.criterion](\n",
      "KeyError: 'log_loss'\n",
      "\n",
      "  warnings.warn(some_fits_failed_message, FitFailedWarning)\n",
      "C:\\Users\\siagu\\AppData\\Roaming\\Python\\Python39\\site-packages\\sklearn\\model_selection\\_search.py:969: UserWarning: One or more of the test scores are non-finite: [0.48512195 0.52987805 0.56963415 0.54487805 0.53       0.51512195\n",
      " 0.54878049 0.57414634 0.56463415 0.5547561  0.51963415 0.5447561\n",
      " 0.61390244 0.64390244 0.58390244 0.56865854 0.66865854 0.5795122\n",
      " 0.62853659 0.53439024 0.57390244 0.5697561  0.6097561  0.57963415\n",
      " 0.59378049 0.60426829 0.57890244 0.62926829 0.65865854 0.59914634\n",
      " 0.61865854 0.61341463 0.64939024 0.65914634 0.66378049 0.67768293\n",
      " 0.57914634 0.60414634 0.68329268 0.66353659 0.61365854 0.65890244\n",
      " 0.62865854 0.64829268 0.64365854 0.62426829 0.62902439 0.65329268\n",
      " 0.65878049 0.65865854 0.60402439 0.67878049 0.58914634 0.67365854\n",
      " 0.65402439 0.64353659 0.69365854 0.68292683 0.71268293 0.67804878\n",
      " 0.64365854 0.64817073 0.61853659 0.66280488 0.64341463 0.64365854\n",
      " 0.62426829 0.64402439 0.63414634 0.72768293 0.61902439 0.63353659\n",
      " 0.65353659 0.70829268 0.70914634 0.67329268 0.65890244 0.62390244\n",
      " 0.65829268 0.67817073 0.60926829 0.59939024 0.6045122  0.69804878\n",
      " 0.69341463 0.59939024 0.66829268 0.67914634 0.63402439 0.64012195\n",
      " 0.63853659 0.67292683 0.68829268 0.70329268 0.64853659 0.65353659\n",
      " 0.63378049 0.68841463 0.63378049 0.66768293 0.62402439 0.64365854\n",
      " 0.72780488 0.71780488 0.66841463 0.66365854 0.63365854 0.64865854\n",
      " 0.68304878 0.71304878 0.62902439 0.62402439 0.69841463 0.67365854\n",
      " 0.70353659 0.61939024 0.5847561  0.66865854 0.66865854 0.64902439\n",
      " 0.62890244 0.66365854 0.68829268 0.70804878 0.68390244 0.64365854\n",
      " 0.67780488 0.67378049 0.67378049 0.68743902 0.65378049 0.65890244\n",
      " 0.66353659 0.66878049 0.67341463 0.66390244 0.61402439 0.65353659\n",
      " 0.67853659 0.69841463 0.6195122  0.68853659 0.67304878 0.65353659\n",
      " 0.71341463 0.69317073 0.71353659 0.70341463 0.66341463 0.71317073\n",
      " 0.63426829 0.72792683 0.69829268 0.64829268 0.69341463 0.49512195\n",
      " 0.5097561  0.5245122  0.4854878  0.55963415 0.54012195 0.58402439\n",
      " 0.53487805 0.53463415 0.57414634 0.53       0.53487805 0.55487805\n",
      " 0.57914634 0.60353659 0.56963415 0.63890244 0.56926829 0.5895122\n",
      " 0.64841463 0.57878049 0.5445122  0.59890244 0.59439024 0.58865854\n",
      " 0.58939024 0.56439024 0.62402439 0.62390244 0.60878049 0.63853659\n",
      " 0.63926829 0.63926829 0.67304878 0.68792683 0.56426829 0.64878049\n",
      " 0.54487805 0.64829268 0.60439024 0.62390244 0.59426829 0.66329268\n",
      " 0.68378049 0.70268293 0.62890244 0.66792683 0.68768293 0.65853659\n",
      " 0.69841463 0.60402439 0.64341463 0.62365854 0.65817073 0.66890244\n",
      " 0.62378049 0.64414634 0.67878049 0.61378049 0.64841463 0.56865854\n",
      " 0.70768293 0.74243902 0.60353659 0.70865854 0.64878049 0.66841463\n",
      " 0.61926829 0.62902439 0.65341463 0.62378049 0.60878049 0.67841463\n",
      " 0.63890244 0.64304878 0.61378049 0.64841463 0.70804878 0.67817073\n",
      " 0.65341463 0.5945122  0.66402439 0.69378049 0.63865854 0.66792683\n",
      " 0.63841463 0.69329268 0.66390244 0.68353659 0.70304878 0.66353659\n",
      " 0.65865854 0.72231707 0.71292683 0.65878049 0.64829268 0.70841463\n",
      " 0.69341463 0.69341463 0.67865854 0.61902439 0.69304878 0.70329268\n",
      " 0.66878049 0.74243902 0.63353659 0.62341463 0.73780488 0.68341463\n",
      " 0.63865854 0.61902439 0.68365854 0.72317073 0.68853659 0.72390244\n",
      " 0.63841463 0.71365854 0.67353659 0.70317073 0.71865854 0.61804878\n",
      " 0.65914634 0.69878049 0.68829268 0.68292683 0.67365854 0.68353659\n",
      " 0.69341463 0.66829268 0.68378049 0.65853659 0.69378049 0.71841463\n",
      " 0.73829268 0.68792683 0.68890244 0.6095122  0.69317073 0.71756098\n",
      " 0.70304878 0.62463415 0.67292683 0.66304878 0.67939024 0.69829268\n",
      " 0.62865854 0.64841463 0.64829268 0.61878049 0.70804878 0.65878049\n",
      " 0.70353659 0.71268293 0.64402439 0.69817073        nan        nan\n",
      "        nan        nan        nan        nan        nan        nan\n",
      "        nan        nan        nan        nan        nan        nan\n",
      "        nan        nan        nan        nan        nan        nan\n",
      "        nan        nan        nan        nan        nan        nan\n",
      "        nan        nan        nan        nan        nan        nan\n",
      "        nan        nan        nan        nan        nan        nan\n",
      "        nan        nan        nan        nan        nan        nan\n",
      "        nan        nan        nan        nan        nan        nan\n",
      "        nan        nan        nan        nan        nan        nan\n",
      "        nan        nan        nan        nan        nan        nan\n",
      "        nan        nan        nan        nan        nan        nan\n",
      "        nan        nan        nan        nan        nan        nan\n",
      "        nan        nan        nan        nan        nan        nan\n",
      "        nan        nan        nan        nan        nan        nan\n",
      "        nan        nan        nan        nan        nan        nan\n",
      "        nan        nan        nan        nan        nan        nan\n",
      "        nan        nan        nan        nan        nan        nan\n",
      "        nan        nan        nan        nan        nan        nan\n",
      "        nan        nan        nan        nan        nan        nan\n",
      "        nan        nan        nan        nan        nan        nan\n",
      "        nan        nan        nan        nan        nan        nan\n",
      "        nan        nan        nan        nan        nan        nan\n",
      "        nan        nan        nan        nan        nan        nan\n",
      "        nan        nan        nan        nan        nan        nan\n",
      "        nan        nan        nan        nan        nan        nan\n",
      "        nan        nan        nan]\n",
      "  warnings.warn(\n"
     ]
    }
   ],
   "source": [
    "from sklearn.model_selection import GridSearchCV\n",
    "import numpy as np\n",
    "\n",
    "max_features_range = np.arange(1,6,1)\n",
    "max_depth_range = np.arange(1,32)\n",
    "criterion=['gini', 'entropy', 'log_loss']\n",
    "min_samples_split=np.arange(0.1,1.0)\n",
    "param_grid = dict(max_features=max_features_range, max_depth=max_depth_range,criterion=criterion,min_samples_split=min_samples_split)\n",
    "\n",
    "rf = DecisionTreeClassifier()\n",
    "\n",
    "grid3 = GridSearchCV(estimator=rf, param_grid=param_grid, cv=5)\n",
    "grid3.fit(X1_train, y1_train)\n",
    "print(\"The best parameters are %s with a score of %0.2f\"\n",
    "      % (grid3.best_params_, grid3.best_score_))"
   ]
  },
  {
   "cell_type": "code",
   "execution_count": 51,
   "id": "1ccbfc44",
   "metadata": {},
   "outputs": [],
   "source": [
    "#model3 = DecisionTreeClassifier(max_depth=4, max_features=3) "
   ]
  },
  {
   "cell_type": "code",
   "execution_count": 52,
   "id": "67cc77d1",
   "metadata": {},
   "outputs": [
    {
     "name": "stderr",
     "output_type": "stream",
     "text": [
      "C:\\Users\\siagu\\AppData\\Roaming\\Python\\Python39\\site-packages\\sklearn\\model_selection\\_validation.py:372: FitFailedWarning: \n",
      "775 fits failed out of a total of 2325.\n",
      "The score on these train-test partitions for these parameters will be set to nan.\n",
      "If these failures are not expected, you can try to debug them by setting error_score='raise'.\n",
      "\n",
      "Below are more details about the failures:\n",
      "--------------------------------------------------------------------------------\n",
      "775 fits failed with the following error:\n",
      "Traceback (most recent call last):\n",
      "  File \"C:\\Users\\siagu\\AppData\\Roaming\\Python\\Python39\\site-packages\\sklearn\\model_selection\\_validation.py\", line 680, in _fit_and_score\n",
      "    estimator.fit(X_train, y_train, **fit_params)\n",
      "  File \"C:\\Users\\siagu\\AppData\\Roaming\\Python\\Python39\\site-packages\\sklearn\\tree\\_classes.py\", line 937, in fit\n",
      "    super().fit(\n",
      "  File \"C:\\Users\\siagu\\AppData\\Roaming\\Python\\Python39\\site-packages\\sklearn\\tree\\_classes.py\", line 352, in fit\n",
      "    criterion = CRITERIA_CLF[self.criterion](\n",
      "KeyError: 'log_loss'\n",
      "\n",
      "  warnings.warn(some_fits_failed_message, FitFailedWarning)\n",
      "C:\\Users\\siagu\\AppData\\Roaming\\Python\\Python39\\site-packages\\sklearn\\model_selection\\_search.py:969: UserWarning: One or more of the test scores are non-finite: [0.52463415 0.5147561  0.55926829 0.52926829 0.53939024 0.5147561\n",
      " 0.5702439  0.54963415 0.55963415 0.57414634 0.5347561  0.57865854\n",
      " 0.61402439 0.65317073 0.63878049 0.5447561  0.64829268 0.6145122\n",
      " 0.58512195 0.56939024 0.5245122  0.61939024 0.58890244 0.64402439\n",
      " 0.61402439 0.57439024 0.6447561  0.59926829 0.58439024 0.66329268\n",
      " 0.5945122  0.5745122  0.61878049 0.61902439 0.60439024 0.61402439\n",
      " 0.57439024 0.62390244 0.64865854 0.63378049 0.61390244 0.67829268\n",
      " 0.60853659 0.67853659 0.68341463 0.62365854 0.61914634 0.6345122\n",
      " 0.66878049 0.69317073 0.62439024 0.70317073 0.66829268 0.66341463\n",
      " 0.65853659 0.60939024 0.66853659 0.67817073 0.66829268 0.61402439\n",
      " 0.61865854 0.64939024 0.62402439 0.68256098 0.70768293 0.59865854\n",
      " 0.65853659 0.62914634 0.67353659 0.72304878 0.62890244 0.62378049\n",
      " 0.65341463 0.67829268 0.67817073 0.65853659 0.61378049 0.64853659\n",
      " 0.69365854 0.68853659 0.63902439 0.64792683 0.65841463 0.72292683\n",
      " 0.68317073 0.66865854 0.63841463 0.64378049 0.68804878 0.70304878\n",
      " 0.60914634 0.69756098 0.66829268 0.67341463 0.62390244 0.63865854\n",
      " 0.67341463 0.65341463 0.70329268 0.67341463 0.70878049 0.68829268\n",
      " 0.69390244 0.63390244 0.63426829 0.62914634 0.71317073 0.62426829\n",
      " 0.69841463 0.69853659 0.69304878 0.63841463 0.64292683 0.64365854\n",
      " 0.65817073 0.60426829 0.65853659 0.67390244 0.64390244 0.69829268\n",
      " 0.67292683 0.67317073 0.69731707 0.67365854 0.67341463 0.64353659\n",
      " 0.64439024 0.6145122  0.75743902 0.64817073 0.72304878 0.68378049\n",
      " 0.64378049 0.72804878 0.64365854 0.68341463 0.65353659 0.70756098\n",
      " 0.69317073 0.66317073 0.60390244 0.69304878 0.66817073 0.71329268\n",
      " 0.69353659 0.69902439 0.65365854 0.72341463 0.72341463 0.72304878\n",
      " 0.65378049 0.64817073 0.70829268 0.71304878 0.5897561  0.5247561\n",
      " 0.52439024 0.51536585 0.5647561  0.54414634 0.52987805 0.53487805\n",
      " 0.5197561  0.56426829 0.57012195 0.5147561  0.55926829 0.5447561\n",
      " 0.57463415 0.58439024 0.57902439 0.56463415 0.56939024 0.61353659\n",
      " 0.55878049 0.495      0.58378049 0.62378049 0.63329268 0.62878049\n",
      " 0.5797561  0.65353659 0.60902439 0.60902439 0.59402439 0.63890244\n",
      " 0.60817073 0.63878049 0.59902439 0.60914634 0.57426829 0.58390244\n",
      " 0.63439024 0.61865854 0.67853659 0.58878049 0.62365854 0.60865854\n",
      " 0.68353659 0.67304878 0.62390244 0.58341463 0.65853659 0.67341463\n",
      " 0.67878049 0.59914634 0.69365854 0.63378049 0.64402439 0.66365854\n",
      " 0.64865854 0.70329268 0.65780488 0.69817073 0.72768293 0.58902439\n",
      " 0.64817073 0.63365854 0.59439024 0.67341463 0.5702439  0.62439024\n",
      " 0.68353659 0.69780488 0.67329268 0.59439024 0.67853659 0.63378049\n",
      " 0.67353659 0.62865854 0.61865854 0.65365854 0.65914634 0.71292683\n",
      " 0.70804878 0.64341463 0.62829268 0.70792683 0.69304878 0.69353659\n",
      " 0.61426829 0.64853659 0.68304878 0.67280488 0.69829268 0.67329268\n",
      " 0.74219512 0.72317073 0.69304878 0.73317073 0.59878049 0.71390244\n",
      " 0.68829268 0.67865854 0.66280488 0.66378049 0.70256098 0.68280488\n",
      " 0.69329268 0.66902439 0.63365854 0.66329268 0.69292683 0.67853659\n",
      " 0.70841463 0.64829268 0.64414634 0.66865854 0.69280488 0.71329268\n",
      " 0.61414634 0.71841463 0.71890244 0.75280488 0.75743902 0.63865854\n",
      " 0.66853659 0.70304878 0.66341463 0.63865854 0.64792683 0.72329268\n",
      " 0.65841463 0.72390244 0.71780488 0.62817073 0.71792683 0.71317073\n",
      " 0.68304878 0.68926829 0.66890244 0.65341463 0.74292683 0.65353659\n",
      " 0.65853659 0.67341463 0.62       0.67841463 0.74792683 0.71841463\n",
      " 0.64426829 0.70304878 0.70329268 0.72280488 0.70341463 0.61463415\n",
      " 0.67878049 0.68292683 0.69365854 0.70304878        nan        nan\n",
      "        nan        nan        nan        nan        nan        nan\n",
      "        nan        nan        nan        nan        nan        nan\n",
      "        nan        nan        nan        nan        nan        nan\n",
      "        nan        nan        nan        nan        nan        nan\n",
      "        nan        nan        nan        nan        nan        nan\n",
      "        nan        nan        nan        nan        nan        nan\n",
      "        nan        nan        nan        nan        nan        nan\n",
      "        nan        nan        nan        nan        nan        nan\n",
      "        nan        nan        nan        nan        nan        nan\n",
      "        nan        nan        nan        nan        nan        nan\n",
      "        nan        nan        nan        nan        nan        nan\n",
      "        nan        nan        nan        nan        nan        nan\n",
      "        nan        nan        nan        nan        nan        nan\n",
      "        nan        nan        nan        nan        nan        nan\n",
      "        nan        nan        nan        nan        nan        nan\n",
      "        nan        nan        nan        nan        nan        nan\n",
      "        nan        nan        nan        nan        nan        nan\n",
      "        nan        nan        nan        nan        nan        nan\n",
      "        nan        nan        nan        nan        nan        nan\n",
      "        nan        nan        nan        nan        nan        nan\n",
      "        nan        nan        nan        nan        nan        nan\n",
      "        nan        nan        nan        nan        nan        nan\n",
      "        nan        nan        nan        nan        nan        nan\n",
      "        nan        nan        nan        nan        nan        nan\n",
      "        nan        nan        nan        nan        nan        nan\n",
      "        nan        nan        nan]\n",
      "  warnings.warn(\n"
     ]
    },
    {
     "data": {
      "image/png": "[encoded data removed]",
      "text/plain": [
       "<Figure size 360x288 with 2 Axes>"
      ]
     },
     "metadata": {
      "needs_background": "light"
     },
     "output_type": "display_data"
    }
   ],
   "source": [
    "grid3.fit(X1_train, y1_train)  \n",
    "\n",
    "y1_pred = grid3.predict(X1_test)\n",
    "\n",
    "cm = confusion_matrix(y1_test, y1_pred)\n",
    "\n",
    "#print(cm)\n",
    "cm_df = pd.DataFrame(cm,\n",
    "                     index = [0,1], \n",
    "                     columns = [0,1])\n",
    "plt.figure(figsize=(5,4))\n",
    "sns.heatmap(cm_df, annot=True)\n",
    "plt.title('Confusion Matrix')\n",
    "plt.ylabel('Actal Values')\n",
    "plt.xlabel('Predicted Values')\n",
    "plt.show()"
   ]
  },
  {
   "cell_type": "code",
   "execution_count": 53,
   "id": "d58a6258",
   "metadata": {},
   "outputs": [
    {
     "name": "stdout",
     "output_type": "stream",
     "text": [
      "              precision    recall  f1-score   support\n",
      "\n",
      "           0       0.65      0.61      0.63        18\n",
      "           1       0.70      0.73      0.71        22\n",
      "\n",
      "    accuracy                           0.68        40\n",
      "   macro avg       0.67      0.67      0.67        40\n",
      "weighted avg       0.67      0.68      0.67        40\n",
      "\n"
     ]
    }
   ],
   "source": [
    "print(classification_report(y1_test, y1_pred))"
   ]
  },
  {
   "cell_type": "code",
   "execution_count": 55,
   "id": "e19b902f",
   "metadata": {},
   "outputs": [
    {
     "data": {
      "image/png": "[encoded data removed]",
      "text/plain": [
       "<Figure size 432x288 with 1 Axes>"
      ]
     },
     "metadata": {
      "needs_background": "light"
     },
     "output_type": "display_data"
    },
    {
     "data": {
      "image/png": "[encoded data removed]",
      "text/plain": [
       "<Figure size 792x576 with 1 Axes>"
      ]
     },
     "metadata": {},
     "output_type": "display_data"
    },
    {
     "data": {
      "text/plain": [
       "<ggplot: (120196353645)>"
      ]
     },
     "execution_count": 55,
     "metadata": {},
     "output_type": "execute_result"
    }
   ],
   "source": [
    "import sklearn.metrics as metrics\n",
    "# calculate the fpr and tpr for all thresholds of the classification\n",
    "probs = grid3.predict_proba(X1_test)\n",
    "preds = probs[:,1]\n",
    "fpr, tpr, threshold = metrics.roc_curve(y1_test, preds)\n",
    "roc_auc = metrics.auc(fpr, tpr)\n",
    "\n",
    "# method I: plt\n",
    "import matplotlib.pyplot as plt\n",
    "plt.title('Receiver Operating Characteristic')\n",
    "plt.plot(fpr, tpr, 'b', label = 'AUC = %0.3f' % roc_auc)\n",
    "plt.legend(loc = 'lower right')\n",
    "plt.plot([0, 1], [0, 1],'r--')\n",
    "plt.xlim([0, 1])\n",
    "plt.ylim([0, 1])\n",
    "plt.ylabel('True Positive Rate')\n",
    "plt.xlabel('False Positive Rate')\n",
    "plt.show()\n",
    "\n",
    "# method II: ggplot\n",
    "from ggplot import *\n",
    "df = pd.DataFrame(dict(fpr = fpr, tpr = tpr))\n",
    "ggplot(df, aes(x = 'fpr', y = 'tpr')) + geom_line() + geom_abline(linetype = 'dashed')"
   ]
  },
  {
   "cell_type": "code",
   "execution_count": 56,
   "id": "2926f856",
   "metadata": {},
   "outputs": [
    {
     "name": "stdout",
     "output_type": "stream",
     "text": [
      "Model1: f1=0.711 auc=0.780\n"
     ]
    },
    {
     "data": {
      "image/png": "[encoded data removed]",
      "text/plain": [
       "<Figure size 432x288 with 1 Axes>"
      ]
     },
     "metadata": {
      "needs_background": "light"
     },
     "output_type": "display_data"
    }
   ],
   "source": [
    "# precision-recall curve and f1\n",
    "from sklearn.datasets import make_classification\n",
    "from sklearn.linear_model import LogisticRegression\n",
    "from sklearn.model_selection import train_test_split\n",
    "from sklearn.metrics import precision_recall_curve\n",
    "from sklearn.metrics import f1_score\n",
    "from sklearn.metrics import auc\n",
    "from matplotlib import pyplot\n",
    "lr_probs = grid3.predict_proba(X1_test)\n",
    "# keep probabilities for the positive outcome only\n",
    "lr_probs = lr_probs[:, 1]\n",
    "# predict class values\n",
    "yhat = grid3.predict(X1_test)\n",
    "lr_precision, lr_recall, _ = precision_recall_curve(y1_test, lr_probs)\n",
    "lr_f1, lr_auc = f1_score(y1_test, yhat), auc(lr_recall, lr_precision)\n",
    "# summarize scores\n",
    "print('Model1: f1=%.3f auc=%.3f' % (lr_f1, lr_auc))\n",
    "# plot the precision-recall curves\n",
    "no_skill = len(y1_test[y1_test==1]) / len(y1_test)\n",
    "pyplot.plot([0, 1], [no_skill, no_skill], linestyle='--', label='No Skill')\n",
    "pyplot.plot(lr_recall, lr_precision, marker='.', label='Logistic')\n",
    "# axis labels\n",
    "pyplot.xlabel('Recall')\n",
    "pyplot.ylabel('Precision')\n",
    "# show the legend\n",
    "pyplot.legend()\n",
    "# show the plot\n",
    "pyplot.show()"
   ]
  },
  {
   "cell_type": "code",
   "execution_count": 57,
   "id": "d01417b0",
   "metadata": {},
   "outputs": [
    {
     "name": "stdout",
     "output_type": "stream",
     "text": [
      "balanced_accuracy 0.6691919191919192\n"
     ]
    }
   ],
   "source": [
    "print(\"balanced_accuracy\", balanced_accuracy_score(y1_test, y1_pred))"
   ]
  },
  {
   "cell_type": "code",
   "execution_count": 58,
   "id": "ea8e646f",
   "metadata": {},
   "outputs": [
    {
     "name": "stderr",
     "output_type": "stream",
     "text": [
      "C:\\Users\\siagu\\AppData\\Roaming\\Python\\Python39\\site-packages\\sklearn\\model_selection\\_validation.py:372: FitFailedWarning: \n",
      "775 fits failed out of a total of 2325.\n",
      "The score on these train-test partitions for these parameters will be set to nan.\n",
      "If these failures are not expected, you can try to debug them by setting error_score='raise'.\n",
      "\n",
      "Below are more details about the failures:\n",
      "--------------------------------------------------------------------------------\n",
      "775 fits failed with the following error:\n",
      "Traceback (most recent call last):\n",
      "  File \"C:\\Users\\siagu\\AppData\\Roaming\\Python\\Python39\\site-packages\\sklearn\\model_selection\\_validation.py\", line 680, in _fit_and_score\n",
      "    estimator.fit(X_train, y_train, **fit_params)\n",
      "  File \"C:\\Users\\siagu\\AppData\\Roaming\\Python\\Python39\\site-packages\\sklearn\\tree\\_classes.py\", line 937, in fit\n",
      "    super().fit(\n",
      "  File \"C:\\Users\\siagu\\AppData\\Roaming\\Python\\Python39\\site-packages\\sklearn\\tree\\_classes.py\", line 352, in fit\n",
      "    criterion = CRITERIA_CLF[self.criterion](\n",
      "KeyError: 'log_loss'\n",
      "\n",
      "  warnings.warn(some_fits_failed_message, FitFailedWarning)\n",
      "C:\\Users\\siagu\\AppData\\Roaming\\Python\\Python39\\site-packages\\sklearn\\model_selection\\_search.py:969: UserWarning: One or more of the test scores are non-finite: [0.51487805 0.5445122  0.5447561  0.55012195 0.5352439  0.55439024\n",
      " 0.5247561  0.5295122  0.57426829 0.63878049 0.52512195 0.60426829\n",
      " 0.63902439 0.54987805 0.60878049 0.59378049 0.56926829 0.64292683\n",
      " 0.61390244 0.66780488 0.62414634 0.57914634 0.62939024 0.63890244\n",
      " 0.58426829 0.61341463 0.64926829 0.5795122  0.5995122  0.68890244\n",
      " 0.59939024 0.5552439  0.62890244 0.70317073 0.63304878 0.5697561\n",
      " 0.64902439 0.66817073 0.67817073 0.64963415 0.53036585 0.61890244\n",
      " 0.63841463 0.65829268 0.67353659 0.61341463 0.63841463 0.72878049\n",
      " 0.66914634 0.69853659 0.61865854 0.61353659 0.65402439 0.69853659\n",
      " 0.64341463 0.62402439 0.63329268 0.67353659 0.67878049 0.71268293\n",
      " 0.62378049 0.63463415 0.69353659 0.66902439 0.73268293 0.66865854\n",
      " 0.66353659 0.71304878 0.68804878 0.71268293 0.61939024 0.69390244\n",
      " 0.61426829 0.64878049 0.66865854 0.66890244 0.71341463 0.65878049\n",
      " 0.71365854 0.70804878 0.64829268 0.63865854 0.66865854 0.69329268\n",
      " 0.69829268 0.73817073 0.65841463 0.69378049 0.70829268 0.70329268\n",
      " 0.71280488 0.66865854 0.60890244 0.74317073 0.77243902 0.69804878\n",
      " 0.69829268 0.65841463 0.73817073 0.72304878 0.56853659 0.72353659\n",
      " 0.72329268 0.72317073 0.69365854 0.66878049 0.65829268 0.71268293\n",
      " 0.70304878 0.72390244 0.68280488 0.76231707 0.69829268 0.71243902\n",
      " 0.73292683 0.68890244 0.67304878 0.73378049 0.63390244 0.74768293\n",
      " 0.71719512 0.67853659 0.71329268 0.72317073 0.65365854 0.74780488\n",
      " 0.77756098 0.71292683 0.72817073 0.70926829 0.63878049 0.69341463\n",
      " 0.68378049 0.72304878 0.71804878 0.70292683 0.73841463 0.69853659\n",
      " 0.65902439 0.67914634 0.68353659 0.71256098 0.74780488 0.70865854\n",
      " 0.68378049 0.68792683 0.71768293 0.69378049 0.70341463 0.67390244\n",
      " 0.67292683 0.73378049 0.74341463 0.71865854 0.68268293 0.49512195\n",
      " 0.50963415 0.49012195 0.5347561  0.51963415 0.54       0.58378049\n",
      " 0.61926829 0.58890244 0.54487805 0.57439024 0.55439024 0.54512195\n",
      " 0.53439024 0.60390244 0.56926829 0.57926829 0.5247561  0.55463415\n",
      " 0.5447561  0.6047561  0.62878049 0.61414634 0.5645122  0.67304878\n",
      " 0.55902439 0.5595122  0.53987805 0.61939024 0.59512195 0.55536585\n",
      " 0.63402439 0.59963415 0.66792683 0.59914634 0.57414634 0.58426829\n",
      " 0.66353659 0.66426829 0.63341463 0.63878049 0.64378049 0.70329268\n",
      " 0.69878049 0.68792683 0.61329268 0.67780488 0.66378049 0.63353659\n",
      " 0.66926829 0.62878049 0.62926829 0.63939024 0.58426829 0.69365854\n",
      " 0.60426829 0.69768293 0.62365854 0.67317073 0.73341463 0.68878049\n",
      " 0.60890244 0.68365854 0.66402439 0.66280488 0.64902439 0.63914634\n",
      " 0.68353659 0.67792683 0.72768293 0.65792683 0.65926829 0.74268293\n",
      " 0.64890244 0.66902439 0.67390244 0.67390244 0.72804878 0.68829268\n",
      " 0.75292683 0.58878049 0.74768293 0.69865854 0.71329268 0.68365854\n",
      " 0.59878049 0.64878049 0.65804878 0.70829268 0.70292683 0.68817073\n",
      " 0.67414634 0.66317073 0.69829268 0.71817073 0.65390244 0.71792683\n",
      " 0.76256098 0.67426829 0.75353659 0.67341463 0.68341463 0.68792683\n",
      " 0.71353659 0.73853659 0.66378049 0.72341463 0.72829268 0.72292683\n",
      " 0.71829268 0.67329268 0.65841463 0.73792683 0.70841463 0.74756098\n",
      " 0.63341463 0.70365854 0.67365854 0.71378049 0.73268293 0.71365854\n",
      " 0.72256098 0.70804878 0.72756098 0.67926829 0.66304878 0.70341463\n",
      " 0.69865854 0.73841463 0.74280488 0.67890244 0.71292683 0.71780488\n",
      " 0.74317073 0.70780488 0.70365854 0.70341463 0.67817073 0.73792683\n",
      " 0.70304878 0.67329268 0.69341463 0.73304878 0.69378049 0.66365854\n",
      " 0.65890244 0.69853659 0.72841463 0.74329268 0.72329268 0.66304878\n",
      " 0.72792683 0.74756098 0.70841463 0.70317073        nan        nan\n",
      "        nan        nan        nan        nan        nan        nan\n",
      "        nan        nan        nan        nan        nan        nan\n",
      "        nan        nan        nan        nan        nan        nan\n",
      "        nan        nan        nan        nan        nan        nan\n",
      "        nan        nan        nan        nan        nan        nan\n",
      "        nan        nan        nan        nan        nan        nan\n",
      "        nan        nan        nan        nan        nan        nan\n",
      "        nan        nan        nan        nan        nan        nan\n",
      "        nan        nan        nan        nan        nan        nan\n",
      "        nan        nan        nan        nan        nan        nan\n",
      "        nan        nan        nan        nan        nan        nan\n",
      "        nan        nan        nan        nan        nan        nan\n",
      "        nan        nan        nan        nan        nan        nan\n",
      "        nan        nan        nan        nan        nan        nan\n",
      "        nan        nan        nan        nan        nan        nan\n",
      "        nan        nan        nan        nan        nan        nan\n",
      "        nan        nan        nan        nan        nan        nan\n",
      "        nan        nan        nan        nan        nan        nan\n",
      "        nan        nan        nan        nan        nan        nan\n",
      "        nan        nan        nan        nan        nan        nan\n",
      "        nan        nan        nan        nan        nan        nan\n",
      "        nan        nan        nan        nan        nan        nan\n",
      "        nan        nan        nan        nan        nan        nan\n",
      "        nan        nan        nan        nan        nan        nan\n",
      "        nan        nan        nan        nan        nan        nan\n",
      "        nan        nan        nan]\n",
      "  warnings.warn(\n"
     ]
    },
    {
     "data": {
      "image/png": "[encoded data removed]",
      "text/plain": [
       "<Figure size 360x288 with 2 Axes>"
      ]
     },
     "metadata": {
      "needs_background": "light"
     },
     "output_type": "display_data"
    }
   ],
   "source": [
    "grid3.fit(X2_train, y2_train)\n",
    "\n",
    "y2_pred = grid3.predict(X2_test)\n",
    "\n",
    "cm = confusion_matrix(y2_test, y2_pred)\n",
    "#print(cm)\n",
    "cm_df = pd.DataFrame(cm,\n",
    "                     index = [0,1], \n",
    "                     columns = [0,1])\n",
    "plt.figure(figsize=(5,4))\n",
    "sns.heatmap(cm_df, annot=True)\n",
    "plt.title('Confusion Matrix')\n",
    "plt.ylabel('Actal Values')\n",
    "plt.xlabel('Predicted Values')\n",
    "plt.show()"
   ]
  },
  {
   "cell_type": "code",
   "execution_count": 59,
   "id": "4e8613fd",
   "metadata": {},
   "outputs": [
    {
     "name": "stdout",
     "output_type": "stream",
     "text": [
      "              precision    recall  f1-score   support\n",
      "\n",
      "           0       0.57      0.72      0.63        18\n",
      "           1       0.71      0.55      0.62        22\n",
      "\n",
      "    accuracy                           0.62        40\n",
      "   macro avg       0.64      0.63      0.62        40\n",
      "weighted avg       0.64      0.62      0.62        40\n",
      "\n"
     ]
    }
   ],
   "source": [
    "print(classification_report(y2_test, y2_pred))"
   ]
  },
  {
   "cell_type": "code",
   "execution_count": 60,
   "id": "af6e0194",
   "metadata": {},
   "outputs": [
    {
     "data": {
      "image/png": "[encoded data removed]",
      "text/plain": [
       "<Figure size 432x288 with 1 Axes>"
      ]
     },
     "metadata": {
      "needs_background": "light"
     },
     "output_type": "display_data"
    },
    {
     "data": {
      "image/png": "[encoded data removed]",
      "text/plain": [
       "<Figure size 792x576 with 1 Axes>"
      ]
     },
     "metadata": {},
     "output_type": "display_data"
    },
    {
     "data": {
      "text/plain": [
       "<ggplot: (120196143177)>"
      ]
     },
     "execution_count": 60,
     "metadata": {},
     "output_type": "execute_result"
    }
   ],
   "source": [
    "import sklearn.metrics as metrics\n",
    "# calculate the fpr and tpr for all thresholds of the classification\n",
    "probs = grid3.predict_proba(X2_test)\n",
    "preds = probs[:,1]\n",
    "fpr, tpr, threshold = metrics.roc_curve(y2_test, preds)\n",
    "roc_auc = metrics.auc(fpr, tpr)\n",
    "\n",
    "# method I: plt\n",
    "import matplotlib.pyplot as plt\n",
    "plt.title('Receiver Operating Characteristic')\n",
    "plt.plot(fpr, tpr, 'b', label = 'AUC = %0.3f' % roc_auc)\n",
    "plt.legend(loc = 'lower right')\n",
    "plt.plot([0, 1], [0, 1],'r--')\n",
    "plt.xlim([0, 1])\n",
    "plt.ylim([0, 1])\n",
    "plt.ylabel('True Positive Rate')\n",
    "plt.xlabel('False Positive Rate')\n",
    "plt.show()\n",
    "\n",
    "# method II: ggplot\n",
    "from ggplot import *\n",
    "df = pd.DataFrame(dict(fpr = fpr, tpr = tpr))\n",
    "ggplot(df, aes(x = 'fpr', y = 'tpr')) + geom_line() + geom_abline(linetype = 'dashed')"
   ]
  },
  {
   "cell_type": "code",
   "execution_count": 61,
   "id": "7aa5444e",
   "metadata": {},
   "outputs": [
    {
     "name": "stdout",
     "output_type": "stream",
     "text": [
      "Model1: f1=0.615 auc=0.677\n"
     ]
    },
    {
     "data": {
      "image/png": "[encoded data removed]",
      "text/plain": [
       "<Figure size 432x288 with 1 Axes>"
      ]
     },
     "metadata": {
      "needs_background": "light"
     },
     "output_type": "display_data"
    }
   ],
   "source": [
    "# precision-recall curve and f1\n",
    "from sklearn.datasets import make_classification\n",
    "from sklearn.linear_model import LogisticRegression\n",
    "from sklearn.model_selection import train_test_split\n",
    "from sklearn.metrics import precision_recall_curve\n",
    "from sklearn.metrics import f1_score\n",
    "from sklearn.metrics import auc\n",
    "from matplotlib import pyplot\n",
    "lr_probs = grid3.predict_proba(X2_test)\n",
    "# keep probabilities for the positive outcome only\n",
    "lr_probs = lr_probs[:, 1]\n",
    "# predict class values\n",
    "yhat = grid3.predict(X2_test)\n",
    "lr_precision, lr_recall, _ = precision_recall_curve(y2_test, lr_probs)\n",
    "lr_f1, lr_auc = f1_score(y2_test, yhat), auc(lr_recall, lr_precision)\n",
    "# summarize scores\n",
    "print('Model1: f1=%.3f auc=%.3f' % (lr_f1, lr_auc))\n",
    "# plot the precision-recall curves\n",
    "no_skill = len(y2_test[y2_test==1]) / len(y2_test)\n",
    "pyplot.plot([0, 1], [no_skill, no_skill], linestyle='--', label='No Skill')\n",
    "pyplot.plot(lr_recall, lr_precision, marker='.', label='Logistic')\n",
    "# axis labels\n",
    "pyplot.xlabel('Recall')\n",
    "pyplot.ylabel('Precision')\n",
    "# show the legend\n",
    "pyplot.legend()\n",
    "# show the plot\n",
    "pyplot.show()"
   ]
  },
  {
   "cell_type": "code",
   "execution_count": 62,
   "id": "15cb0d59",
   "metadata": {},
   "outputs": [
    {
     "name": "stdout",
     "output_type": "stream",
     "text": [
      "balanced_accuracy 0.6338383838383839\n"
     ]
    }
   ],
   "source": [
    "print(\"balanced_accuracy\", balanced_accuracy_score(y2_test, y2_pred))"
   ]
  },
  {
   "cell_type": "markdown",
   "id": "71c79845",
   "metadata": {},
   "source": [
    "# SVM"
   ]
  },
  {
   "cell_type": "code",
   "execution_count": 63,
   "id": "f4f447be",
   "metadata": {},
   "outputs": [
    {
     "name": "stdout",
     "output_type": "stream",
     "text": [
      "Fitting 5 folds for each of 100 candidates, totalling 500 fits\n",
      "[CV 1/5] END C=0.1, class_weight=balanced, gamma=1, kernel=linear;, score=0.707 total time=   0.0s\n",
      "[CV 2/5] END C=0.1, class_weight=balanced, gamma=1, kernel=linear;, score=0.780 total time=   0.0s\n",
      "[CV 3/5] END C=0.1, class_weight=balanced, gamma=1, kernel=linear;, score=0.800 total time=   0.0s\n",
      "[CV 4/5] END C=0.1, class_weight=balanced, gamma=1, kernel=linear;, score=0.725 total time=   0.0s\n",
      "[CV 5/5] END C=0.1, class_weight=balanced, gamma=1, kernel=linear;, score=0.775 total time=   0.0s\n",
      "[CV 1/5] END C=0.1, class_weight=balanced, gamma=1, kernel=rbf;, score=0.512 total time=   0.0s\n",
      "[CV 2/5] END C=0.1, class_weight=balanced, gamma=1, kernel=rbf;, score=0.512 total time=   0.0s\n",
      "[CV 3/5] END C=0.1, class_weight=balanced, gamma=1, kernel=rbf;, score=0.800 total time=   0.0s\n",
      "[CV 4/5] END C=0.1, class_weight=balanced, gamma=1, kernel=rbf;, score=1.000 total time=   0.0s\n",
      "[CV 5/5] END C=0.1, class_weight=balanced, gamma=1, kernel=rbf;, score=1.000 total time=   0.0s\n",
      "[CV 1/5] END C=0.1, class_weight=balanced, gamma=0.1, kernel=linear;, score=0.707 total time=   0.0s\n",
      "[CV 2/5] END C=0.1, class_weight=balanced, gamma=0.1, kernel=linear;, score=0.780 total time=   0.0s\n",
      "[CV 3/5] END C=0.1, class_weight=balanced, gamma=0.1, kernel=linear;, score=0.800 total time=   0.0s\n",
      "[CV 4/5] END C=0.1, class_weight=balanced, gamma=0.1, kernel=linear;, score=0.725 total time=   0.0s\n",
      "[CV 5/5] END C=0.1, class_weight=balanced, gamma=0.1, kernel=linear;, score=0.775 total time=   0.0s\n",
      "[CV 1/5] END C=0.1, class_weight=balanced, gamma=0.1, kernel=rbf;, score=0.659 total time=   0.0s\n",
      "[CV 2/5] END C=0.1, class_weight=balanced, gamma=0.1, kernel=rbf;, score=0.561 total time=   0.0s\n",
      "[CV 3/5] END C=0.1, class_weight=balanced, gamma=0.1, kernel=rbf;, score=0.550 total time=   0.0s\n",
      "[CV 4/5] END C=0.1, class_weight=balanced, gamma=0.1, kernel=rbf;, score=0.575 total time=   0.0s\n",
      "[CV 5/5] END C=0.1, class_weight=balanced, gamma=0.1, kernel=rbf;, score=0.600 total time=   0.0s\n",
      "[CV 1/5] END C=0.1, class_weight=balanced, gamma=0.01, kernel=linear;, score=0.707 total time=   0.0s\n",
      "[CV 2/5] END C=0.1, class_weight=balanced, gamma=0.01, kernel=linear;, score=0.780 total time=   0.0s\n",
      "[CV 3/5] END C=0.1, class_weight=balanced, gamma=0.01, kernel=linear;, score=0.800 total time=   0.0s\n",
      "[CV 4/5] END C=0.1, class_weight=balanced, gamma=0.01, kernel=linear;, score=0.725 total time=   0.0s\n",
      "[CV 5/5] END C=0.1, class_weight=balanced, gamma=0.01, kernel=linear;, score=0.775 total time=   0.0s\n",
      "[CV 1/5] END C=0.1, class_weight=balanced, gamma=0.01, kernel=rbf;, score=0.585 total time=   0.0s\n",
      "[CV 2/5] END C=0.1, class_weight=balanced, gamma=0.01, kernel=rbf;, score=0.683 total time=   0.0s\n",
      "[CV 3/5] END C=0.1, class_weight=balanced, gamma=0.01, kernel=rbf;, score=0.600 total time=   0.0s\n",
      "[CV 4/5] END C=0.1, class_weight=balanced, gamma=0.01, kernel=rbf;, score=0.575 total time=   0.0s\n",
      "[CV 5/5] END C=0.1, class_weight=balanced, gamma=0.01, kernel=rbf;, score=0.575 total time=   0.0s\n",
      "[CV 1/5] END C=0.1, class_weight=balanced, gamma=0.001, kernel=linear;, score=0.707 total time=   0.0s\n",
      "[CV 2/5] END C=0.1, class_weight=balanced, gamma=0.001, kernel=linear;, score=0.780 total time=   0.0s\n",
      "[CV 3/5] END C=0.1, class_weight=balanced, gamma=0.001, kernel=linear;, score=0.800 total time=   0.0s\n",
      "[CV 4/5] END C=0.1, class_weight=balanced, gamma=0.001, kernel=linear;, score=0.725 total time=   0.0s\n",
      "[CV 5/5] END C=0.1, class_weight=balanced, gamma=0.001, kernel=linear;, score=0.775 total time=   0.0s\n",
      "[CV 1/5] END C=0.1, class_weight=balanced, gamma=0.001, kernel=rbf;, score=0.512 total time=   0.0s\n",
      "[CV 2/5] END C=0.1, class_weight=balanced, gamma=0.001, kernel=rbf;, score=0.512 total time=   0.0s\n",
      "[CV 3/5] END C=0.1, class_weight=balanced, gamma=0.001, kernel=rbf;, score=0.500 total time=   0.0s\n",
      "[CV 4/5] END C=0.1, class_weight=balanced, gamma=0.001, kernel=rbf;, score=0.600 total time=   0.0s\n",
      "[CV 5/5] END C=0.1, class_weight=balanced, gamma=0.001, kernel=rbf;, score=0.500 total time=   0.0s\n",
      "[CV 1/5] END C=0.1, class_weight=balanced, gamma=0.0001, kernel=linear;, score=0.707 total time=   0.0s\n",
      "[CV 2/5] END C=0.1, class_weight=balanced, gamma=0.0001, kernel=linear;, score=0.780 total time=   0.0s\n",
      "[CV 3/5] END C=0.1, class_weight=balanced, gamma=0.0001, kernel=linear;, score=0.800 total time=   0.0s\n",
      "[CV 4/5] END C=0.1, class_weight=balanced, gamma=0.0001, kernel=linear;, score=0.725 total time=   0.0s\n",
      "[CV 5/5] END C=0.1, class_weight=balanced, gamma=0.0001, kernel=linear;, score=0.775 total time=   0.0s\n",
      "[CV 1/5] END C=0.1, class_weight=balanced, gamma=0.0001, kernel=rbf;, score=0.512 total time=   0.0s\n",
      "[CV 2/5] END C=0.1, class_weight=balanced, gamma=0.0001, kernel=rbf;, score=0.512 total time=   0.0s\n",
      "[CV 3/5] END C=0.1, class_weight=balanced, gamma=0.0001, kernel=rbf;, score=0.500 total time=   0.0s\n",
      "[CV 4/5] END C=0.1, class_weight=balanced, gamma=0.0001, kernel=rbf;, score=0.600 total time=   0.0s\n",
      "[CV 5/5] END C=0.1, class_weight=balanced, gamma=0.0001, kernel=rbf;, score=0.500 total time=   0.0s\n",
      "[CV 1/5] END C=0.1, class_weight=None, gamma=1, kernel=linear;, score=0.707 total time=   0.0s\n",
      "[CV 2/5] END C=0.1, class_weight=None, gamma=1, kernel=linear;, score=0.780 total time=   0.0s\n",
      "[CV 3/5] END C=0.1, class_weight=None, gamma=1, kernel=linear;, score=0.800 total time=   0.0s\n",
      "[CV 4/5] END C=0.1, class_weight=None, gamma=1, kernel=linear;, score=0.725 total time=   0.0s\n",
      "[CV 5/5] END C=0.1, class_weight=None, gamma=1, kernel=linear;, score=0.775 total time=   0.0s\n",
      "[CV 1/5] END C=0.1, class_weight=None, gamma=1, kernel=rbf;, score=0.488 total time=   0.0s\n",
      "[CV 2/5] END C=0.1, class_weight=None, gamma=1, kernel=rbf;, score=0.488 total time=   0.0s\n",
      "[CV 3/5] END C=0.1, class_weight=None, gamma=1, kernel=rbf;, score=0.800 total time=   0.0s\n",
      "[CV 4/5] END C=0.1, class_weight=None, gamma=1, kernel=rbf;, score=1.000 total time=   0.0s\n",
      "[CV 5/5] END C=0.1, class_weight=None, gamma=1, kernel=rbf;, score=1.000 total time=   0.0s\n",
      "[CV 1/5] END C=0.1, class_weight=None, gamma=0.1, kernel=linear;, score=0.707 total time=   0.0s\n",
      "[CV 2/5] END C=0.1, class_weight=None, gamma=0.1, kernel=linear;, score=0.780 total time=   0.0s\n",
      "[CV 3/5] END C=0.1, class_weight=None, gamma=0.1, kernel=linear;, score=0.800 total time=   0.0s\n",
      "[CV 4/5] END C=0.1, class_weight=None, gamma=0.1, kernel=linear;, score=0.725 total time=   0.0s\n",
      "[CV 5/5] END C=0.1, class_weight=None, gamma=0.1, kernel=linear;, score=0.775 total time=   0.0s\n",
      "[CV 1/5] END C=0.1, class_weight=None, gamma=0.1, kernel=rbf;, score=0.537 total time=   0.0s\n",
      "[CV 2/5] END C=0.1, class_weight=None, gamma=0.1, kernel=rbf;, score=0.512 total time=   0.0s\n",
      "[CV 3/5] END C=0.1, class_weight=None, gamma=0.1, kernel=rbf;, score=0.550 total time=   0.0s\n",
      "[CV 4/5] END C=0.1, class_weight=None, gamma=0.1, kernel=rbf;, score=0.575 total time=   0.0s\n",
      "[CV 5/5] END C=0.1, class_weight=None, gamma=0.1, kernel=rbf;, score=0.600 total time=   0.0s\n",
      "[CV 1/5] END C=0.1, class_weight=None, gamma=0.01, kernel=linear;, score=0.707 total time=   0.0s\n",
      "[CV 2/5] END C=0.1, class_weight=None, gamma=0.01, kernel=linear;, score=0.780 total time=   0.0s\n",
      "[CV 3/5] END C=0.1, class_weight=None, gamma=0.01, kernel=linear;, score=0.800 total time=   0.0s\n",
      "[CV 4/5] END C=0.1, class_weight=None, gamma=0.01, kernel=linear;, score=0.725 total time=   0.0s\n",
      "[CV 5/5] END C=0.1, class_weight=None, gamma=0.01, kernel=linear;, score=0.775 total time=   0.0s\n",
      "[CV 1/5] END C=0.1, class_weight=None, gamma=0.01, kernel=rbf;, score=0.585 total time=   0.0s\n",
      "[CV 2/5] END C=0.1, class_weight=None, gamma=0.01, kernel=rbf;, score=0.683 total time=   0.0s\n",
      "[CV 3/5] END C=0.1, class_weight=None, gamma=0.01, kernel=rbf;, score=0.600 total time=   0.0s\n",
      "[CV 4/5] END C=0.1, class_weight=None, gamma=0.01, kernel=rbf;, score=0.575 total time=   0.0s\n",
      "[CV 5/5] END C=0.1, class_weight=None, gamma=0.01, kernel=rbf;, score=0.575 total time=   0.0s\n",
      "[CV 1/5] END C=0.1, class_weight=None, gamma=0.001, kernel=linear;, score=0.707 total time=   0.0s\n",
      "[CV 2/5] END C=0.1, class_weight=None, gamma=0.001, kernel=linear;, score=0.780 total time=   0.0s\n",
      "[CV 3/5] END C=0.1, class_weight=None, gamma=0.001, kernel=linear;, score=0.800 total time=   0.0s\n",
      "[CV 4/5] END C=0.1, class_weight=None, gamma=0.001, kernel=linear;, score=0.725 total time=   0.0s\n",
      "[CV 5/5] END C=0.1, class_weight=None, gamma=0.001, kernel=linear;, score=0.775 total time=   0.0s\n",
      "[CV 1/5] END C=0.1, class_weight=None, gamma=0.001, kernel=rbf;, score=0.488 total time=   0.0s\n",
      "[CV 2/5] END C=0.1, class_weight=None, gamma=0.001, kernel=rbf;, score=0.488 total time=   0.0s\n"
     ]
    },
    {
     "name": "stdout",
     "output_type": "stream",
     "text": [
      "[CV 3/5] END C=0.1, class_weight=None, gamma=0.001, kernel=rbf;, score=0.500 total time=   0.0s\n",
      "[CV 4/5] END C=0.1, class_weight=None, gamma=0.001, kernel=rbf;, score=0.600 total time=   0.0s\n",
      "[CV 5/5] END C=0.1, class_weight=None, gamma=0.001, kernel=rbf;, score=0.500 total time=   0.0s\n",
      "[CV 1/5] END C=0.1, class_weight=None, gamma=0.0001, kernel=linear;, score=0.707 total time=   0.0s\n",
      "[CV 2/5] END C=0.1, class_weight=None, gamma=0.0001, kernel=linear;, score=0.780 total time=   0.0s\n",
      "[CV 3/5] END C=0.1, class_weight=None, gamma=0.0001, kernel=linear;, score=0.800 total time=   0.0s\n",
      "[CV 4/5] END C=0.1, class_weight=None, gamma=0.0001, kernel=linear;, score=0.725 total time=   0.0s\n",
      "[CV 5/5] END C=0.1, class_weight=None, gamma=0.0001, kernel=linear;, score=0.775 total time=   0.0s\n",
      "[CV 1/5] END C=0.1, class_weight=None, gamma=0.0001, kernel=rbf;, score=0.488 total time=   0.0s\n",
      "[CV 2/5] END C=0.1, class_weight=None, gamma=0.0001, kernel=rbf;, score=0.488 total time=   0.0s\n",
      "[CV 3/5] END C=0.1, class_weight=None, gamma=0.0001, kernel=rbf;, score=0.500 total time=   0.0s\n",
      "[CV 4/5] END C=0.1, class_weight=None, gamma=0.0001, kernel=rbf;, score=0.600 total time=   0.0s\n",
      "[CV 5/5] END C=0.1, class_weight=None, gamma=0.0001, kernel=rbf;, score=0.500 total time=   0.0s\n",
      "[CV 1/5] END C=1, class_weight=balanced, gamma=1, kernel=linear;, score=0.756 total time=   0.0s\n",
      "[CV 2/5] END C=1, class_weight=balanced, gamma=1, kernel=linear;, score=0.732 total time=   0.0s\n",
      "[CV 3/5] END C=1, class_weight=balanced, gamma=1, kernel=linear;, score=0.875 total time=   0.0s\n",
      "[CV 4/5] END C=1, class_weight=balanced, gamma=1, kernel=linear;, score=0.875 total time=   0.0s\n",
      "[CV 5/5] END C=1, class_weight=balanced, gamma=1, kernel=linear;, score=0.825 total time=   0.0s\n",
      "[CV 1/5] END C=1, class_weight=balanced, gamma=1, kernel=rbf;, score=0.707 total time=   0.0s\n",
      "[CV 2/5] END C=1, class_weight=balanced, gamma=1, kernel=rbf;, score=0.854 total time=   0.0s\n",
      "[CV 3/5] END C=1, class_weight=balanced, gamma=1, kernel=rbf;, score=0.800 total time=   0.0s\n",
      "[CV 4/5] END C=1, class_weight=balanced, gamma=1, kernel=rbf;, score=1.000 total time=   0.0s\n",
      "[CV 5/5] END C=1, class_weight=balanced, gamma=1, kernel=rbf;, score=1.000 total time=   0.0s\n",
      "[CV 1/5] END C=1, class_weight=balanced, gamma=0.1, kernel=linear;, score=0.756 total time=   0.0s\n",
      "[CV 2/5] END C=1, class_weight=balanced, gamma=0.1, kernel=linear;, score=0.732 total time=   0.0s\n",
      "[CV 3/5] END C=1, class_weight=balanced, gamma=0.1, kernel=linear;, score=0.875 total time=   0.0s\n",
      "[CV 4/5] END C=1, class_weight=balanced, gamma=0.1, kernel=linear;, score=0.875 total time=   0.0s\n",
      "[CV 5/5] END C=1, class_weight=balanced, gamma=0.1, kernel=linear;, score=0.825 total time=   0.0s\n",
      "[CV 1/5] END C=1, class_weight=balanced, gamma=0.1, kernel=rbf;, score=0.707 total time=   0.0s\n",
      "[CV 2/5] END C=1, class_weight=balanced, gamma=0.1, kernel=rbf;, score=0.829 total time=   0.0s\n",
      "[CV 3/5] END C=1, class_weight=balanced, gamma=0.1, kernel=rbf;, score=0.775 total time=   0.0s\n",
      "[CV 4/5] END C=1, class_weight=balanced, gamma=0.1, kernel=rbf;, score=0.975 total time=   0.0s\n",
      "[CV 5/5] END C=1, class_weight=balanced, gamma=0.1, kernel=rbf;, score=0.975 total time=   0.0s\n",
      "[CV 1/5] END C=1, class_weight=balanced, gamma=0.01, kernel=linear;, score=0.756 total time=   0.0s\n",
      "[CV 2/5] END C=1, class_weight=balanced, gamma=0.01, kernel=linear;, score=0.732 total time=   0.0s\n",
      "[CV 3/5] END C=1, class_weight=balanced, gamma=0.01, kernel=linear;, score=0.875 total time=   0.0s\n",
      "[CV 4/5] END C=1, class_weight=balanced, gamma=0.01, kernel=linear;, score=0.875 total time=   0.0s\n",
      "[CV 5/5] END C=1, class_weight=balanced, gamma=0.01, kernel=linear;, score=0.825 total time=   0.0s\n",
      "[CV 1/5] END C=1, class_weight=balanced, gamma=0.01, kernel=rbf;, score=0.610 total time=   0.0s\n",
      "[CV 2/5] END C=1, class_weight=balanced, gamma=0.01, kernel=rbf;, score=0.683 total time=   0.0s\n",
      "[CV 3/5] END C=1, class_weight=balanced, gamma=0.01, kernel=rbf;, score=0.800 total time=   0.0s\n",
      "[CV 4/5] END C=1, class_weight=balanced, gamma=0.01, kernel=rbf;, score=0.775 total time=   0.0s\n",
      "[CV 5/5] END C=1, class_weight=balanced, gamma=0.01, kernel=rbf;, score=0.775 total time=   0.0s\n",
      "[CV 1/5] END C=1, class_weight=balanced, gamma=0.001, kernel=linear;, score=0.756 total time=   0.0s\n",
      "[CV 2/5] END C=1, class_weight=balanced, gamma=0.001, kernel=linear;, score=0.732 total time=   0.0s\n",
      "[CV 3/5] END C=1, class_weight=balanced, gamma=0.001, kernel=linear;, score=0.875 total time=   0.0s\n",
      "[CV 4/5] END C=1, class_weight=balanced, gamma=0.001, kernel=linear;, score=0.875 total time=   0.0s\n",
      "[CV 5/5] END C=1, class_weight=balanced, gamma=0.001, kernel=linear;, score=0.825 total time=   0.0s\n",
      "[CV 1/5] END C=1, class_weight=balanced, gamma=0.001, kernel=rbf;, score=0.610 total time=   0.0s\n",
      "[CV 2/5] END C=1, class_weight=balanced, gamma=0.001, kernel=rbf;, score=0.634 total time=   0.0s\n",
      "[CV 3/5] END C=1, class_weight=balanced, gamma=0.001, kernel=rbf;, score=0.575 total time=   0.0s\n",
      "[CV 4/5] END C=1, class_weight=balanced, gamma=0.001, kernel=rbf;, score=0.675 total time=   0.0s\n",
      "[CV 5/5] END C=1, class_weight=balanced, gamma=0.001, kernel=rbf;, score=0.650 total time=   0.0s\n",
      "[CV 1/5] END C=1, class_weight=balanced, gamma=0.0001, kernel=linear;, score=0.756 total time=   0.0s\n",
      "[CV 2/5] END C=1, class_weight=balanced, gamma=0.0001, kernel=linear;, score=0.732 total time=   0.0s\n",
      "[CV 3/5] END C=1, class_weight=balanced, gamma=0.0001, kernel=linear;, score=0.875 total time=   0.0s\n",
      "[CV 4/5] END C=1, class_weight=balanced, gamma=0.0001, kernel=linear;, score=0.875 total time=   0.0s\n",
      "[CV 5/5] END C=1, class_weight=balanced, gamma=0.0001, kernel=linear;, score=0.825 total time=   0.0s\n",
      "[CV 1/5] END C=1, class_weight=balanced, gamma=0.0001, kernel=rbf;, score=0.512 total time=   0.0s\n",
      "[CV 2/5] END C=1, class_weight=balanced, gamma=0.0001, kernel=rbf;, score=0.634 total time=   0.0s\n",
      "[CV 3/5] END C=1, class_weight=balanced, gamma=0.0001, kernel=rbf;, score=0.500 total time=   0.0s\n",
      "[CV 4/5] END C=1, class_weight=balanced, gamma=0.0001, kernel=rbf;, score=0.600 total time=   0.0s\n",
      "[CV 5/5] END C=1, class_weight=balanced, gamma=0.0001, kernel=rbf;, score=0.500 total time=   0.0s\n",
      "[CV 1/5] END C=1, class_weight=None, gamma=1, kernel=linear;, score=0.756 total time=   0.0s\n",
      "[CV 2/5] END C=1, class_weight=None, gamma=1, kernel=linear;, score=0.732 total time=   0.0s\n",
      "[CV 3/5] END C=1, class_weight=None, gamma=1, kernel=linear;, score=0.875 total time=   0.0s\n",
      "[CV 4/5] END C=1, class_weight=None, gamma=1, kernel=linear;, score=0.875 total time=   0.0s\n",
      "[CV 5/5] END C=1, class_weight=None, gamma=1, kernel=linear;, score=0.825 total time=   0.0s\n",
      "[CV 1/5] END C=1, class_weight=None, gamma=1, kernel=rbf;, score=0.707 total time=   0.0s\n",
      "[CV 2/5] END C=1, class_weight=None, gamma=1, kernel=rbf;, score=0.854 total time=   0.0s\n",
      "[CV 3/5] END C=1, class_weight=None, gamma=1, kernel=rbf;, score=0.800 total time=   0.0s\n",
      "[CV 4/5] END C=1, class_weight=None, gamma=1, kernel=rbf;, score=1.000 total time=   0.0s\n",
      "[CV 5/5] END C=1, class_weight=None, gamma=1, kernel=rbf;, score=1.000 total time=   0.0s\n",
      "[CV 1/5] END C=1, class_weight=None, gamma=0.1, kernel=linear;, score=0.756 total time=   0.0s\n",
      "[CV 2/5] END C=1, class_weight=None, gamma=0.1, kernel=linear;, score=0.732 total time=   0.0s\n",
      "[CV 3/5] END C=1, class_weight=None, gamma=0.1, kernel=linear;, score=0.875 total time=   0.0s\n",
      "[CV 4/5] END C=1, class_weight=None, gamma=0.1, kernel=linear;, score=0.875 total time=   0.0s\n",
      "[CV 5/5] END C=1, class_weight=None, gamma=0.1, kernel=linear;, score=0.825 total time=   0.0s\n",
      "[CV 1/5] END C=1, class_weight=None, gamma=0.1, kernel=rbf;, score=0.707 total time=   0.0s\n",
      "[CV 2/5] END C=1, class_weight=None, gamma=0.1, kernel=rbf;, score=0.829 total time=   0.0s\n",
      "[CV 3/5] END C=1, class_weight=None, gamma=0.1, kernel=rbf;, score=0.775 total time=   0.0s\n",
      "[CV 4/5] END C=1, class_weight=None, gamma=0.1, kernel=rbf;, score=0.975 total time=   0.0s\n",
      "[CV 5/5] END C=1, class_weight=None, gamma=0.1, kernel=rbf;, score=0.975 total time=   0.0s\n",
      "[CV 1/5] END C=1, class_weight=None, gamma=0.01, kernel=linear;, score=0.756 total time=   0.0s\n",
      "[CV 2/5] END C=1, class_weight=None, gamma=0.01, kernel=linear;, score=0.732 total time=   0.0s\n",
      "[CV 3/5] END C=1, class_weight=None, gamma=0.01, kernel=linear;, score=0.875 total time=   0.0s\n"
     ]
    },
    {
     "name": "stdout",
     "output_type": "stream",
     "text": [
      "[CV 4/5] END C=1, class_weight=None, gamma=0.01, kernel=linear;, score=0.875 total time=   0.0s\n",
      "[CV 5/5] END C=1, class_weight=None, gamma=0.01, kernel=linear;, score=0.825 total time=   0.0s\n",
      "[CV 1/5] END C=1, class_weight=None, gamma=0.01, kernel=rbf;, score=0.610 total time=   0.0s\n",
      "[CV 2/5] END C=1, class_weight=None, gamma=0.01, kernel=rbf;, score=0.683 total time=   0.0s\n",
      "[CV 3/5] END C=1, class_weight=None, gamma=0.01, kernel=rbf;, score=0.800 total time=   0.0s\n",
      "[CV 4/5] END C=1, class_weight=None, gamma=0.01, kernel=rbf;, score=0.775 total time=   0.0s\n",
      "[CV 5/5] END C=1, class_weight=None, gamma=0.01, kernel=rbf;, score=0.775 total time=   0.0s\n",
      "[CV 1/5] END C=1, class_weight=None, gamma=0.001, kernel=linear;, score=0.756 total time=   0.0s\n",
      "[CV 2/5] END C=1, class_weight=None, gamma=0.001, kernel=linear;, score=0.732 total time=   0.0s\n",
      "[CV 3/5] END C=1, class_weight=None, gamma=0.001, kernel=linear;, score=0.875 total time=   0.0s\n",
      "[CV 4/5] END C=1, class_weight=None, gamma=0.001, kernel=linear;, score=0.875 total time=   0.0s\n",
      "[CV 5/5] END C=1, class_weight=None, gamma=0.001, kernel=linear;, score=0.825 total time=   0.0s\n",
      "[CV 1/5] END C=1, class_weight=None, gamma=0.001, kernel=rbf;, score=0.610 total time=   0.0s\n",
      "[CV 2/5] END C=1, class_weight=None, gamma=0.001, kernel=rbf;, score=0.634 total time=   0.0s\n",
      "[CV 3/5] END C=1, class_weight=None, gamma=0.001, kernel=rbf;, score=0.575 total time=   0.0s\n",
      "[CV 4/5] END C=1, class_weight=None, gamma=0.001, kernel=rbf;, score=0.675 total time=   0.0s\n",
      "[CV 5/5] END C=1, class_weight=None, gamma=0.001, kernel=rbf;, score=0.650 total time=   0.0s\n",
      "[CV 1/5] END C=1, class_weight=None, gamma=0.0001, kernel=linear;, score=0.756 total time=   0.0s\n",
      "[CV 2/5] END C=1, class_weight=None, gamma=0.0001, kernel=linear;, score=0.732 total time=   0.0s\n",
      "[CV 3/5] END C=1, class_weight=None, gamma=0.0001, kernel=linear;, score=0.875 total time=   0.0s\n",
      "[CV 4/5] END C=1, class_weight=None, gamma=0.0001, kernel=linear;, score=0.875 total time=   0.0s\n",
      "[CV 5/5] END C=1, class_weight=None, gamma=0.0001, kernel=linear;, score=0.825 total time=   0.0s\n",
      "[CV 1/5] END C=1, class_weight=None, gamma=0.0001, kernel=rbf;, score=0.537 total time=   0.0s\n",
      "[CV 2/5] END C=1, class_weight=None, gamma=0.0001, kernel=rbf;, score=0.512 total time=   0.0s\n",
      "[CV 3/5] END C=1, class_weight=None, gamma=0.0001, kernel=rbf;, score=0.500 total time=   0.0s\n",
      "[CV 4/5] END C=1, class_weight=None, gamma=0.0001, kernel=rbf;, score=0.600 total time=   0.0s\n",
      "[CV 5/5] END C=1, class_weight=None, gamma=0.0001, kernel=rbf;, score=0.500 total time=   0.0s\n",
      "[CV 1/5] END C=10, class_weight=balanced, gamma=1, kernel=linear;, score=0.756 total time=   0.0s\n",
      "[CV 2/5] END C=10, class_weight=balanced, gamma=1, kernel=linear;, score=0.732 total time=   0.0s\n",
      "[CV 3/5] END C=10, class_weight=balanced, gamma=1, kernel=linear;, score=0.850 total time=   0.0s\n",
      "[CV 4/5] END C=10, class_weight=balanced, gamma=1, kernel=linear;, score=0.875 total time=   0.0s\n",
      "[CV 5/5] END C=10, class_weight=balanced, gamma=1, kernel=linear;, score=0.900 total time=   0.0s\n",
      "[CV 1/5] END C=10, class_weight=balanced, gamma=1, kernel=rbf;, score=0.707 total time=   0.0s\n",
      "[CV 2/5] END C=10, class_weight=balanced, gamma=1, kernel=rbf;, score=0.854 total time=   0.0s\n",
      "[CV 3/5] END C=10, class_weight=balanced, gamma=1, kernel=rbf;, score=0.800 total time=   0.0s\n",
      "[CV 4/5] END C=10, class_weight=balanced, gamma=1, kernel=rbf;, score=1.000 total time=   0.0s\n",
      "[CV 5/5] END C=10, class_weight=balanced, gamma=1, kernel=rbf;, score=1.000 total time=   0.0s\n",
      "[CV 1/5] END C=10, class_weight=balanced, gamma=0.1, kernel=linear;, score=0.756 total time=   0.0s\n",
      "[CV 2/5] END C=10, class_weight=balanced, gamma=0.1, kernel=linear;, score=0.732 total time=   0.0s\n",
      "[CV 3/5] END C=10, class_weight=balanced, gamma=0.1, kernel=linear;, score=0.850 total time=   0.0s\n",
      "[CV 4/5] END C=10, class_weight=balanced, gamma=0.1, kernel=linear;, score=0.875 total time=   0.0s\n",
      "[CV 5/5] END C=10, class_weight=balanced, gamma=0.1, kernel=linear;, score=0.900 total time=   0.0s\n",
      "[CV 1/5] END C=10, class_weight=balanced, gamma=0.1, kernel=rbf;, score=0.707 total time=   0.0s\n",
      "[CV 2/5] END C=10, class_weight=balanced, gamma=0.1, kernel=rbf;, score=0.829 total time=   0.0s\n",
      "[CV 3/5] END C=10, class_weight=balanced, gamma=0.1, kernel=rbf;, score=0.825 total time=   0.0s\n",
      "[CV 4/5] END C=10, class_weight=balanced, gamma=0.1, kernel=rbf;, score=0.950 total time=   0.0s\n",
      "[CV 5/5] END C=10, class_weight=balanced, gamma=0.1, kernel=rbf;, score=0.950 total time=   0.0s\n",
      "[CV 1/5] END C=10, class_weight=balanced, gamma=0.01, kernel=linear;, score=0.756 total time=   0.0s\n",
      "[CV 2/5] END C=10, class_weight=balanced, gamma=0.01, kernel=linear;, score=0.732 total time=   0.0s\n",
      "[CV 3/5] END C=10, class_weight=balanced, gamma=0.01, kernel=linear;, score=0.850 total time=   0.0s\n",
      "[CV 4/5] END C=10, class_weight=balanced, gamma=0.01, kernel=linear;, score=0.875 total time=   0.0s\n",
      "[CV 5/5] END C=10, class_weight=balanced, gamma=0.01, kernel=linear;, score=0.900 total time=   0.0s\n",
      "[CV 1/5] END C=10, class_weight=balanced, gamma=0.01, kernel=rbf;, score=0.732 total time=   0.0s\n",
      "[CV 2/5] END C=10, class_weight=balanced, gamma=0.01, kernel=rbf;, score=0.732 total time=   0.0s\n",
      "[CV 3/5] END C=10, class_weight=balanced, gamma=0.01, kernel=rbf;, score=0.850 total time=   0.0s\n",
      "[CV 4/5] END C=10, class_weight=balanced, gamma=0.01, kernel=rbf;, score=0.825 total time=   0.0s\n",
      "[CV 5/5] END C=10, class_weight=balanced, gamma=0.01, kernel=rbf;, score=0.800 total time=   0.0s\n",
      "[CV 1/5] END C=10, class_weight=balanced, gamma=0.001, kernel=linear;, score=0.756 total time=   0.0s\n",
      "[CV 2/5] END C=10, class_weight=balanced, gamma=0.001, kernel=linear;, score=0.732 total time=   0.0s\n",
      "[CV 3/5] END C=10, class_weight=balanced, gamma=0.001, kernel=linear;, score=0.850 total time=   0.0s\n",
      "[CV 4/5] END C=10, class_weight=balanced, gamma=0.001, kernel=linear;, score=0.875 total time=   0.0s\n",
      "[CV 5/5] END C=10, class_weight=balanced, gamma=0.001, kernel=linear;, score=0.900 total time=   0.0s\n",
      "[CV 1/5] END C=10, class_weight=balanced, gamma=0.001, kernel=rbf;, score=0.610 total time=   0.0s\n",
      "[CV 2/5] END C=10, class_weight=balanced, gamma=0.001, kernel=rbf;, score=0.732 total time=   0.0s\n",
      "[CV 3/5] END C=10, class_weight=balanced, gamma=0.001, kernel=rbf;, score=0.800 total time=   0.0s\n",
      "[CV 4/5] END C=10, class_weight=balanced, gamma=0.001, kernel=rbf;, score=0.800 total time=   0.0s\n",
      "[CV 5/5] END C=10, class_weight=balanced, gamma=0.001, kernel=rbf;, score=0.825 total time=   0.0s\n",
      "[CV 1/5] END C=10, class_weight=balanced, gamma=0.0001, kernel=linear;, score=0.756 total time=   0.0s\n",
      "[CV 2/5] END C=10, class_weight=balanced, gamma=0.0001, kernel=linear;, score=0.732 total time=   0.0s\n",
      "[CV 3/5] END C=10, class_weight=balanced, gamma=0.0001, kernel=linear;, score=0.850 total time=   0.0s\n",
      "[CV 4/5] END C=10, class_weight=balanced, gamma=0.0001, kernel=linear;, score=0.875 total time=   0.0s\n",
      "[CV 5/5] END C=10, class_weight=balanced, gamma=0.0001, kernel=linear;, score=0.900 total time=   0.0s\n",
      "[CV 1/5] END C=10, class_weight=balanced, gamma=0.0001, kernel=rbf;, score=0.585 total time=   0.0s\n",
      "[CV 2/5] END C=10, class_weight=balanced, gamma=0.0001, kernel=rbf;, score=0.634 total time=   0.0s\n",
      "[CV 3/5] END C=10, class_weight=balanced, gamma=0.0001, kernel=rbf;, score=0.575 total time=   0.0s\n",
      "[CV 4/5] END C=10, class_weight=balanced, gamma=0.0001, kernel=rbf;, score=0.675 total time=   0.0s\n",
      "[CV 5/5] END C=10, class_weight=balanced, gamma=0.0001, kernel=rbf;, score=0.675 total time=   0.0s\n",
      "[CV 1/5] END C=10, class_weight=None, gamma=1, kernel=linear;, score=0.756 total time=   0.0s\n",
      "[CV 2/5] END C=10, class_weight=None, gamma=1, kernel=linear;, score=0.732 total time=   0.0s\n",
      "[CV 3/5] END C=10, class_weight=None, gamma=1, kernel=linear;, score=0.850 total time=   0.0s\n",
      "[CV 4/5] END C=10, class_weight=None, gamma=1, kernel=linear;, score=0.875 total time=   0.0s\n",
      "[CV 5/5] END C=10, class_weight=None, gamma=1, kernel=linear;, score=0.900 total time=   0.0s\n",
      "[CV 1/5] END C=10, class_weight=None, gamma=1, kernel=rbf;, score=0.707 total time=   0.0s\n",
      "[CV 2/5] END C=10, class_weight=None, gamma=1, kernel=rbf;, score=0.854 total time=   0.0s\n",
      "[CV 3/5] END C=10, class_weight=None, gamma=1, kernel=rbf;, score=0.800 total time=   0.0s\n",
      "[CV 4/5] END C=10, class_weight=None, gamma=1, kernel=rbf;, score=1.000 total time=   0.0s\n"
     ]
    },
    {
     "name": "stdout",
     "output_type": "stream",
     "text": [
      "[CV 5/5] END C=10, class_weight=None, gamma=1, kernel=rbf;, score=1.000 total time=   0.0s\n",
      "[CV 1/5] END C=10, class_weight=None, gamma=0.1, kernel=linear;, score=0.756 total time=   0.0s\n",
      "[CV 2/5] END C=10, class_weight=None, gamma=0.1, kernel=linear;, score=0.732 total time=   0.0s\n",
      "[CV 3/5] END C=10, class_weight=None, gamma=0.1, kernel=linear;, score=0.850 total time=   0.0s\n",
      "[CV 4/5] END C=10, class_weight=None, gamma=0.1, kernel=linear;, score=0.875 total time=   0.0s\n",
      "[CV 5/5] END C=10, class_weight=None, gamma=0.1, kernel=linear;, score=0.900 total time=   0.0s\n",
      "[CV 1/5] END C=10, class_weight=None, gamma=0.1, kernel=rbf;, score=0.707 total time=   0.0s\n",
      "[CV 2/5] END C=10, class_weight=None, gamma=0.1, kernel=rbf;, score=0.829 total time=   0.0s\n",
      "[CV 3/5] END C=10, class_weight=None, gamma=0.1, kernel=rbf;, score=0.825 total time=   0.0s\n",
      "[CV 4/5] END C=10, class_weight=None, gamma=0.1, kernel=rbf;, score=0.950 total time=   0.0s\n",
      "[CV 5/5] END C=10, class_weight=None, gamma=0.1, kernel=rbf;, score=0.950 total time=   0.0s\n",
      "[CV 1/5] END C=10, class_weight=None, gamma=0.01, kernel=linear;, score=0.756 total time=   0.0s\n",
      "[CV 2/5] END C=10, class_weight=None, gamma=0.01, kernel=linear;, score=0.732 total time=   0.0s\n",
      "[CV 3/5] END C=10, class_weight=None, gamma=0.01, kernel=linear;, score=0.850 total time=   0.0s\n",
      "[CV 4/5] END C=10, class_weight=None, gamma=0.01, kernel=linear;, score=0.875 total time=   0.0s\n",
      "[CV 5/5] END C=10, class_weight=None, gamma=0.01, kernel=linear;, score=0.900 total time=   0.0s\n",
      "[CV 1/5] END C=10, class_weight=None, gamma=0.01, kernel=rbf;, score=0.732 total time=   0.0s\n",
      "[CV 2/5] END C=10, class_weight=None, gamma=0.01, kernel=rbf;, score=0.756 total time=   0.0s\n",
      "[CV 3/5] END C=10, class_weight=None, gamma=0.01, kernel=rbf;, score=0.850 total time=   0.0s\n",
      "[CV 4/5] END C=10, class_weight=None, gamma=0.01, kernel=rbf;, score=0.825 total time=   0.0s\n",
      "[CV 5/5] END C=10, class_weight=None, gamma=0.01, kernel=rbf;, score=0.800 total time=   0.0s\n",
      "[CV 1/5] END C=10, class_weight=None, gamma=0.001, kernel=linear;, score=0.756 total time=   0.0s\n",
      "[CV 2/5] END C=10, class_weight=None, gamma=0.001, kernel=linear;, score=0.732 total time=   0.0s\n",
      "[CV 3/5] END C=10, class_weight=None, gamma=0.001, kernel=linear;, score=0.850 total time=   0.0s\n",
      "[CV 4/5] END C=10, class_weight=None, gamma=0.001, kernel=linear;, score=0.875 total time=   0.0s\n",
      "[CV 5/5] END C=10, class_weight=None, gamma=0.001, kernel=linear;, score=0.900 total time=   0.0s\n",
      "[CV 1/5] END C=10, class_weight=None, gamma=0.001, kernel=rbf;, score=0.610 total time=   0.0s\n",
      "[CV 2/5] END C=10, class_weight=None, gamma=0.001, kernel=rbf;, score=0.732 total time=   0.0s\n",
      "[CV 3/5] END C=10, class_weight=None, gamma=0.001, kernel=rbf;, score=0.800 total time=   0.0s\n",
      "[CV 4/5] END C=10, class_weight=None, gamma=0.001, kernel=rbf;, score=0.800 total time=   0.0s\n",
      "[CV 5/5] END C=10, class_weight=None, gamma=0.001, kernel=rbf;, score=0.825 total time=   0.0s\n",
      "[CV 1/5] END C=10, class_weight=None, gamma=0.0001, kernel=linear;, score=0.756 total time=   0.0s\n",
      "[CV 2/5] END C=10, class_weight=None, gamma=0.0001, kernel=linear;, score=0.732 total time=   0.0s\n",
      "[CV 3/5] END C=10, class_weight=None, gamma=0.0001, kernel=linear;, score=0.850 total time=   0.0s\n",
      "[CV 4/5] END C=10, class_weight=None, gamma=0.0001, kernel=linear;, score=0.875 total time=   0.0s\n",
      "[CV 5/5] END C=10, class_weight=None, gamma=0.0001, kernel=linear;, score=0.900 total time=   0.0s\n",
      "[CV 1/5] END C=10, class_weight=None, gamma=0.0001, kernel=rbf;, score=0.585 total time=   0.0s\n",
      "[CV 2/5] END C=10, class_weight=None, gamma=0.0001, kernel=rbf;, score=0.634 total time=   0.0s\n",
      "[CV 3/5] END C=10, class_weight=None, gamma=0.0001, kernel=rbf;, score=0.575 total time=   0.0s\n",
      "[CV 4/5] END C=10, class_weight=None, gamma=0.0001, kernel=rbf;, score=0.675 total time=   0.0s\n",
      "[CV 5/5] END C=10, class_weight=None, gamma=0.0001, kernel=rbf;, score=0.675 total time=   0.0s\n",
      "[CV 1/5] END C=100, class_weight=balanced, gamma=1, kernel=linear;, score=0.756 total time=   0.0s\n",
      "[CV 2/5] END C=100, class_weight=balanced, gamma=1, kernel=linear;, score=0.732 total time=   0.0s\n",
      "[CV 3/5] END C=100, class_weight=balanced, gamma=1, kernel=linear;, score=0.850 total time=   0.0s\n",
      "[CV 4/5] END C=100, class_weight=balanced, gamma=1, kernel=linear;, score=0.875 total time=   0.0s\n",
      "[CV 5/5] END C=100, class_weight=balanced, gamma=1, kernel=linear;, score=0.900 total time=   0.0s\n",
      "[CV 1/5] END C=100, class_weight=balanced, gamma=1, kernel=rbf;, score=0.707 total time=   0.0s\n",
      "[CV 2/5] END C=100, class_weight=balanced, gamma=1, kernel=rbf;, score=0.854 total time=   0.0s\n",
      "[CV 3/5] END C=100, class_weight=balanced, gamma=1, kernel=rbf;, score=0.800 total time=   0.0s\n",
      "[CV 4/5] END C=100, class_weight=balanced, gamma=1, kernel=rbf;, score=1.000 total time=   0.0s\n",
      "[CV 5/5] END C=100, class_weight=balanced, gamma=1, kernel=rbf;, score=1.000 total time=   0.0s\n",
      "[CV 1/5] END C=100, class_weight=balanced, gamma=0.1, kernel=linear;, score=0.756 total time=   0.0s\n",
      "[CV 2/5] END C=100, class_weight=balanced, gamma=0.1, kernel=linear;, score=0.732 total time=   0.0s\n",
      "[CV 3/5] END C=100, class_weight=balanced, gamma=0.1, kernel=linear;, score=0.850 total time=   0.0s\n",
      "[CV 4/5] END C=100, class_weight=balanced, gamma=0.1, kernel=linear;, score=0.875 total time=   0.0s\n",
      "[CV 5/5] END C=100, class_weight=balanced, gamma=0.1, kernel=linear;, score=0.900 total time=   0.0s\n",
      "[CV 1/5] END C=100, class_weight=balanced, gamma=0.1, kernel=rbf;, score=0.707 total time=   0.0s\n",
      "[CV 2/5] END C=100, class_weight=balanced, gamma=0.1, kernel=rbf;, score=0.829 total time=   0.0s\n",
      "[CV 3/5] END C=100, class_weight=balanced, gamma=0.1, kernel=rbf;, score=0.825 total time=   0.0s\n",
      "[CV 4/5] END C=100, class_weight=balanced, gamma=0.1, kernel=rbf;, score=0.950 total time=   0.0s\n",
      "[CV 5/5] END C=100, class_weight=balanced, gamma=0.1, kernel=rbf;, score=0.950 total time=   0.0s\n",
      "[CV 1/5] END C=100, class_weight=balanced, gamma=0.01, kernel=linear;, score=0.756 total time=   0.0s\n",
      "[CV 2/5] END C=100, class_weight=balanced, gamma=0.01, kernel=linear;, score=0.732 total time=   0.0s\n",
      "[CV 3/5] END C=100, class_weight=balanced, gamma=0.01, kernel=linear;, score=0.850 total time=   0.0s\n",
      "[CV 4/5] END C=100, class_weight=balanced, gamma=0.01, kernel=linear;, score=0.875 total time=   0.0s\n",
      "[CV 5/5] END C=100, class_weight=balanced, gamma=0.01, kernel=linear;, score=0.900 total time=   0.0s\n",
      "[CV 1/5] END C=100, class_weight=balanced, gamma=0.01, kernel=rbf;, score=0.707 total time=   0.0s\n",
      "[CV 2/5] END C=100, class_weight=balanced, gamma=0.01, kernel=rbf;, score=0.756 total time=   0.0s\n",
      "[CV 3/5] END C=100, class_weight=balanced, gamma=0.01, kernel=rbf;, score=0.875 total time=   0.0s\n",
      "[CV 4/5] END C=100, class_weight=balanced, gamma=0.01, kernel=rbf;, score=0.850 total time=   0.0s\n",
      "[CV 5/5] END C=100, class_weight=balanced, gamma=0.01, kernel=rbf;, score=0.775 total time=   0.0s\n",
      "[CV 1/5] END C=100, class_weight=balanced, gamma=0.001, kernel=linear;, score=0.756 total time=   0.0s\n",
      "[CV 2/5] END C=100, class_weight=balanced, gamma=0.001, kernel=linear;, score=0.732 total time=   0.0s\n",
      "[CV 3/5] END C=100, class_weight=balanced, gamma=0.001, kernel=linear;, score=0.850 total time=   0.0s\n",
      "[CV 4/5] END C=100, class_weight=balanced, gamma=0.001, kernel=linear;, score=0.875 total time=   0.0s\n",
      "[CV 5/5] END C=100, class_weight=balanced, gamma=0.001, kernel=linear;, score=0.900 total time=   0.0s\n",
      "[CV 1/5] END C=100, class_weight=balanced, gamma=0.001, kernel=rbf;, score=0.756 total time=   0.0s\n",
      "[CV 2/5] END C=100, class_weight=balanced, gamma=0.001, kernel=rbf;, score=0.780 total time=   0.0s\n",
      "[CV 3/5] END C=100, class_weight=balanced, gamma=0.001, kernel=rbf;, score=0.850 total time=   0.0s\n",
      "[CV 4/5] END C=100, class_weight=balanced, gamma=0.001, kernel=rbf;, score=0.825 total time=   0.0s\n",
      "[CV 5/5] END C=100, class_weight=balanced, gamma=0.001, kernel=rbf;, score=0.825 total time=   0.0s\n",
      "[CV 1/5] END C=100, class_weight=balanced, gamma=0.0001, kernel=linear;, score=0.756 total time=   0.0s\n",
      "[CV 2/5] END C=100, class_weight=balanced, gamma=0.0001, kernel=linear;, score=0.732 total time=   0.0s\n",
      "[CV 3/5] END C=100, class_weight=balanced, gamma=0.0001, kernel=linear;, score=0.850 total time=   0.0s\n",
      "[CV 4/5] END C=100, class_weight=balanced, gamma=0.0001, kernel=linear;, score=0.875 total time=   0.0s\n",
      "[CV 5/5] END C=100, class_weight=balanced, gamma=0.0001, kernel=linear;, score=0.900 total time=   0.0s\n",
      "[CV 1/5] END C=100, class_weight=balanced, gamma=0.0001, kernel=rbf;, score=0.610 total time=   0.0s\n",
      "[CV 2/5] END C=100, class_weight=balanced, gamma=0.0001, kernel=rbf;, score=0.732 total time=   0.0s\n",
      "[CV 3/5] END C=100, class_weight=balanced, gamma=0.0001, kernel=rbf;, score=0.800 total time=   0.0s\n",
      "[CV 4/5] END C=100, class_weight=balanced, gamma=0.0001, kernel=rbf;, score=0.825 total time=   0.0s\n"
     ]
    },
    {
     "name": "stdout",
     "output_type": "stream",
     "text": [
      "[CV 5/5] END C=100, class_weight=balanced, gamma=0.0001, kernel=rbf;, score=0.725 total time=   0.0s\n",
      "[CV 1/5] END C=100, class_weight=None, gamma=1, kernel=linear;, score=0.756 total time=   0.0s\n",
      "[CV 2/5] END C=100, class_weight=None, gamma=1, kernel=linear;, score=0.732 total time=   0.0s\n",
      "[CV 3/5] END C=100, class_weight=None, gamma=1, kernel=linear;, score=0.850 total time=   0.0s\n",
      "[CV 4/5] END C=100, class_weight=None, gamma=1, kernel=linear;, score=0.875 total time=   0.0s\n",
      "[CV 5/5] END C=100, class_weight=None, gamma=1, kernel=linear;, score=0.900 total time=   0.0s\n",
      "[CV 1/5] END C=100, class_weight=None, gamma=1, kernel=rbf;, score=0.707 total time=   0.0s\n",
      "[CV 2/5] END C=100, class_weight=None, gamma=1, kernel=rbf;, score=0.854 total time=   0.0s\n",
      "[CV 3/5] END C=100, class_weight=None, gamma=1, kernel=rbf;, score=0.800 total time=   0.0s\n",
      "[CV 4/5] END C=100, class_weight=None, gamma=1, kernel=rbf;, score=1.000 total time=   0.0s\n",
      "[CV 5/5] END C=100, class_weight=None, gamma=1, kernel=rbf;, score=1.000 total time=   0.0s\n",
      "[CV 1/5] END C=100, class_weight=None, gamma=0.1, kernel=linear;, score=0.756 total time=   0.0s\n",
      "[CV 2/5] END C=100, class_weight=None, gamma=0.1, kernel=linear;, score=0.732 total time=   0.0s\n",
      "[CV 3/5] END C=100, class_weight=None, gamma=0.1, kernel=linear;, score=0.850 total time=   0.0s\n",
      "[CV 4/5] END C=100, class_weight=None, gamma=0.1, kernel=linear;, score=0.875 total time=   0.0s\n",
      "[CV 5/5] END C=100, class_weight=None, gamma=0.1, kernel=linear;, score=0.900 total time=   0.0s\n",
      "[CV 1/5] END C=100, class_weight=None, gamma=0.1, kernel=rbf;, score=0.707 total time=   0.0s\n",
      "[CV 2/5] END C=100, class_weight=None, gamma=0.1, kernel=rbf;, score=0.829 total time=   0.0s\n",
      "[CV 3/5] END C=100, class_weight=None, gamma=0.1, kernel=rbf;, score=0.825 total time=   0.0s\n",
      "[CV 4/5] END C=100, class_weight=None, gamma=0.1, kernel=rbf;, score=0.950 total time=   0.0s\n",
      "[CV 5/5] END C=100, class_weight=None, gamma=0.1, kernel=rbf;, score=0.950 total time=   0.0s\n",
      "[CV 1/5] END C=100, class_weight=None, gamma=0.01, kernel=linear;, score=0.756 total time=   0.0s\n",
      "[CV 2/5] END C=100, class_weight=None, gamma=0.01, kernel=linear;, score=0.732 total time=   0.0s\n",
      "[CV 3/5] END C=100, class_weight=None, gamma=0.01, kernel=linear;, score=0.850 total time=   0.0s\n",
      "[CV 4/5] END C=100, class_weight=None, gamma=0.01, kernel=linear;, score=0.875 total time=   0.0s\n",
      "[CV 5/5] END C=100, class_weight=None, gamma=0.01, kernel=linear;, score=0.900 total time=   0.0s\n",
      "[CV 1/5] END C=100, class_weight=None, gamma=0.01, kernel=rbf;, score=0.707 total time=   0.0s\n",
      "[CV 2/5] END C=100, class_weight=None, gamma=0.01, kernel=rbf;, score=0.756 total time=   0.0s\n",
      "[CV 3/5] END C=100, class_weight=None, gamma=0.01, kernel=rbf;, score=0.875 total time=   0.0s\n",
      "[CV 4/5] END C=100, class_weight=None, gamma=0.01, kernel=rbf;, score=0.850 total time=   0.0s\n",
      "[CV 5/5] END C=100, class_weight=None, gamma=0.01, kernel=rbf;, score=0.775 total time=   0.0s\n",
      "[CV 1/5] END C=100, class_weight=None, gamma=0.001, kernel=linear;, score=0.756 total time=   0.0s\n",
      "[CV 2/5] END C=100, class_weight=None, gamma=0.001, kernel=linear;, score=0.732 total time=   0.0s\n",
      "[CV 3/5] END C=100, class_weight=None, gamma=0.001, kernel=linear;, score=0.850 total time=   0.0s\n",
      "[CV 4/5] END C=100, class_weight=None, gamma=0.001, kernel=linear;, score=0.875 total time=   0.0s\n",
      "[CV 5/5] END C=100, class_weight=None, gamma=0.001, kernel=linear;, score=0.900 total time=   0.0s\n",
      "[CV 1/5] END C=100, class_weight=None, gamma=0.001, kernel=rbf;, score=0.756 total time=   0.0s\n",
      "[CV 2/5] END C=100, class_weight=None, gamma=0.001, kernel=rbf;, score=0.780 total time=   0.0s\n",
      "[CV 3/5] END C=100, class_weight=None, gamma=0.001, kernel=rbf;, score=0.850 total time=   0.0s\n",
      "[CV 4/5] END C=100, class_weight=None, gamma=0.001, kernel=rbf;, score=0.825 total time=   0.0s\n",
      "[CV 5/5] END C=100, class_weight=None, gamma=0.001, kernel=rbf;, score=0.825 total time=   0.0s\n",
      "[CV 1/5] END C=100, class_weight=None, gamma=0.0001, kernel=linear;, score=0.756 total time=   0.0s\n",
      "[CV 2/5] END C=100, class_weight=None, gamma=0.0001, kernel=linear;, score=0.732 total time=   0.0s\n",
      "[CV 3/5] END C=100, class_weight=None, gamma=0.0001, kernel=linear;, score=0.850 total time=   0.0s\n",
      "[CV 4/5] END C=100, class_weight=None, gamma=0.0001, kernel=linear;, score=0.875 total time=   0.0s\n",
      "[CV 5/5] END C=100, class_weight=None, gamma=0.0001, kernel=linear;, score=0.900 total time=   0.0s\n",
      "[CV 1/5] END C=100, class_weight=None, gamma=0.0001, kernel=rbf;, score=0.610 total time=   0.0s\n",
      "[CV 2/5] END C=100, class_weight=None, gamma=0.0001, kernel=rbf;, score=0.732 total time=   0.0s\n",
      "[CV 3/5] END C=100, class_weight=None, gamma=0.0001, kernel=rbf;, score=0.800 total time=   0.0s\n",
      "[CV 4/5] END C=100, class_weight=None, gamma=0.0001, kernel=rbf;, score=0.825 total time=   0.0s\n",
      "[CV 5/5] END C=100, class_weight=None, gamma=0.0001, kernel=rbf;, score=0.725 total time=   0.0s\n",
      "[CV 1/5] END C=1000, class_weight=balanced, gamma=1, kernel=linear;, score=0.756 total time=   0.0s\n",
      "[CV 2/5] END C=1000, class_weight=balanced, gamma=1, kernel=linear;, score=0.732 total time=   0.0s\n",
      "[CV 3/5] END C=1000, class_weight=balanced, gamma=1, kernel=linear;, score=0.850 total time=   0.0s\n",
      "[CV 4/5] END C=1000, class_weight=balanced, gamma=1, kernel=linear;, score=0.875 total time=   0.0s\n",
      "[CV 5/5] END C=1000, class_weight=balanced, gamma=1, kernel=linear;, score=0.900 total time=   0.0s\n",
      "[CV 1/5] END C=1000, class_weight=balanced, gamma=1, kernel=rbf;, score=0.707 total time=   0.0s\n",
      "[CV 2/5] END C=1000, class_weight=balanced, gamma=1, kernel=rbf;, score=0.854 total time=   0.0s\n",
      "[CV 3/5] END C=1000, class_weight=balanced, gamma=1, kernel=rbf;, score=0.800 total time=   0.0s\n",
      "[CV 4/5] END C=1000, class_weight=balanced, gamma=1, kernel=rbf;, score=1.000 total time=   0.0s\n",
      "[CV 5/5] END C=1000, class_weight=balanced, gamma=1, kernel=rbf;, score=1.000 total time=   0.0s\n",
      "[CV 1/5] END C=1000, class_weight=balanced, gamma=0.1, kernel=linear;, score=0.756 total time=   0.0s\n",
      "[CV 2/5] END C=1000, class_weight=balanced, gamma=0.1, kernel=linear;, score=0.732 total time=   0.0s\n",
      "[CV 3/5] END C=1000, class_weight=balanced, gamma=0.1, kernel=linear;, score=0.850 total time=   0.0s\n",
      "[CV 4/5] END C=1000, class_weight=balanced, gamma=0.1, kernel=linear;, score=0.875 total time=   0.0s\n",
      "[CV 5/5] END C=1000, class_weight=balanced, gamma=0.1, kernel=linear;, score=0.900 total time=   0.0s\n",
      "[CV 1/5] END C=1000, class_weight=balanced, gamma=0.1, kernel=rbf;, score=0.707 total time=   0.0s\n",
      "[CV 2/5] END C=1000, class_weight=balanced, gamma=0.1, kernel=rbf;, score=0.829 total time=   0.0s\n",
      "[CV 3/5] END C=1000, class_weight=balanced, gamma=0.1, kernel=rbf;, score=0.825 total time=   0.0s\n",
      "[CV 4/5] END C=1000, class_weight=balanced, gamma=0.1, kernel=rbf;, score=0.950 total time=   0.0s\n",
      "[CV 5/5] END C=1000, class_weight=balanced, gamma=0.1, kernel=rbf;, score=0.950 total time=   0.0s\n",
      "[CV 1/5] END C=1000, class_weight=balanced, gamma=0.01, kernel=linear;, score=0.756 total time=   0.0s\n",
      "[CV 2/5] END C=1000, class_weight=balanced, gamma=0.01, kernel=linear;, score=0.732 total time=   0.0s\n",
      "[CV 3/5] END C=1000, class_weight=balanced, gamma=0.01, kernel=linear;, score=0.850 total time=   0.0s\n",
      "[CV 4/5] END C=1000, class_weight=balanced, gamma=0.01, kernel=linear;, score=0.875 total time=   0.0s\n",
      "[CV 5/5] END C=1000, class_weight=balanced, gamma=0.01, kernel=linear;, score=0.900 total time=   0.0s\n",
      "[CV 1/5] END C=1000, class_weight=balanced, gamma=0.01, kernel=rbf;, score=0.707 total time=   0.0s\n",
      "[CV 2/5] END C=1000, class_weight=balanced, gamma=0.01, kernel=rbf;, score=0.756 total time=   0.0s\n",
      "[CV 3/5] END C=1000, class_weight=balanced, gamma=0.01, kernel=rbf;, score=0.875 total time=   0.0s\n",
      "[CV 4/5] END C=1000, class_weight=balanced, gamma=0.01, kernel=rbf;, score=0.850 total time=   0.0s\n",
      "[CV 5/5] END C=1000, class_weight=balanced, gamma=0.01, kernel=rbf;, score=0.775 total time=   0.0s\n",
      "[CV 1/5] END C=1000, class_weight=balanced, gamma=0.001, kernel=linear;, score=0.756 total time=   0.0s\n",
      "[CV 2/5] END C=1000, class_weight=balanced, gamma=0.001, kernel=linear;, score=0.732 total time=   0.0s\n",
      "[CV 3/5] END C=1000, class_weight=balanced, gamma=0.001, kernel=linear;, score=0.850 total time=   0.0s\n",
      "[CV 4/5] END C=1000, class_weight=balanced, gamma=0.001, kernel=linear;, score=0.875 total time=   0.0s\n",
      "[CV 5/5] END C=1000, class_weight=balanced, gamma=0.001, kernel=linear;, score=0.900 total time=   0.0s\n",
      "[CV 1/5] END C=1000, class_weight=balanced, gamma=0.001, kernel=rbf;, score=0.756 total time=   0.0s\n",
      "[CV 2/5] END C=1000, class_weight=balanced, gamma=0.001, kernel=rbf;, score=0.756 total time=   0.0s\n",
      "[CV 3/5] END C=1000, class_weight=balanced, gamma=0.001, kernel=rbf;, score=0.850 total time=   0.0s\n",
      "[CV 4/5] END C=1000, class_weight=balanced, gamma=0.001, kernel=rbf;, score=0.825 total time=   0.0s\n",
      "[CV 5/5] END C=1000, class_weight=balanced, gamma=0.001, kernel=rbf;, score=0.775 total time=   0.0s\n"
     ]
    },
    {
     "name": "stdout",
     "output_type": "stream",
     "text": [
      "[CV 1/5] END C=1000, class_weight=balanced, gamma=0.0001, kernel=linear;, score=0.756 total time=   0.0s\n",
      "[CV 2/5] END C=1000, class_weight=balanced, gamma=0.0001, kernel=linear;, score=0.732 total time=   0.0s\n",
      "[CV 3/5] END C=1000, class_weight=balanced, gamma=0.0001, kernel=linear;, score=0.850 total time=   0.0s\n",
      "[CV 4/5] END C=1000, class_weight=balanced, gamma=0.0001, kernel=linear;, score=0.875 total time=   0.0s\n",
      "[CV 5/5] END C=1000, class_weight=balanced, gamma=0.0001, kernel=linear;, score=0.900 total time=   0.0s\n",
      "[CV 1/5] END C=1000, class_weight=balanced, gamma=0.0001, kernel=rbf;, score=0.756 total time=   0.0s\n",
      "[CV 2/5] END C=1000, class_weight=balanced, gamma=0.0001, kernel=rbf;, score=0.780 total time=   0.0s\n",
      "[CV 3/5] END C=1000, class_weight=balanced, gamma=0.0001, kernel=rbf;, score=0.850 total time=   0.0s\n",
      "[CV 4/5] END C=1000, class_weight=balanced, gamma=0.0001, kernel=rbf;, score=0.800 total time=   0.0s\n",
      "[CV 5/5] END C=1000, class_weight=balanced, gamma=0.0001, kernel=rbf;, score=0.800 total time=   0.0s\n",
      "[CV 1/5] END C=1000, class_weight=None, gamma=1, kernel=linear;, score=0.756 total time=   0.0s\n",
      "[CV 2/5] END C=1000, class_weight=None, gamma=1, kernel=linear;, score=0.732 total time=   0.0s\n",
      "[CV 3/5] END C=1000, class_weight=None, gamma=1, kernel=linear;, score=0.850 total time=   0.0s\n",
      "[CV 4/5] END C=1000, class_weight=None, gamma=1, kernel=linear;, score=0.875 total time=   0.0s\n",
      "[CV 5/5] END C=1000, class_weight=None, gamma=1, kernel=linear;, score=0.900 total time=   0.0s\n",
      "[CV 1/5] END C=1000, class_weight=None, gamma=1, kernel=rbf;, score=0.707 total time=   0.0s\n",
      "[CV 2/5] END C=1000, class_weight=None, gamma=1, kernel=rbf;, score=0.854 total time=   0.0s\n",
      "[CV 3/5] END C=1000, class_weight=None, gamma=1, kernel=rbf;, score=0.800 total time=   0.0s\n",
      "[CV 4/5] END C=1000, class_weight=None, gamma=1, kernel=rbf;, score=1.000 total time=   0.0s\n",
      "[CV 5/5] END C=1000, class_weight=None, gamma=1, kernel=rbf;, score=1.000 total time=   0.0s\n",
      "[CV 1/5] END C=1000, class_weight=None, gamma=0.1, kernel=linear;, score=0.756 total time=   0.0s\n",
      "[CV 2/5] END C=1000, class_weight=None, gamma=0.1, kernel=linear;, score=0.732 total time=   0.0s\n",
      "[CV 3/5] END C=1000, class_weight=None, gamma=0.1, kernel=linear;, score=0.850 total time=   0.0s\n",
      "[CV 4/5] END C=1000, class_weight=None, gamma=0.1, kernel=linear;, score=0.875 total time=   0.0s\n",
      "[CV 5/5] END C=1000, class_weight=None, gamma=0.1, kernel=linear;, score=0.900 total time=   0.0s\n",
      "[CV 1/5] END C=1000, class_weight=None, gamma=0.1, kernel=rbf;, score=0.707 total time=   0.0s\n",
      "[CV 2/5] END C=1000, class_weight=None, gamma=0.1, kernel=rbf;, score=0.829 total time=   0.0s\n",
      "[CV 3/5] END C=1000, class_weight=None, gamma=0.1, kernel=rbf;, score=0.825 total time=   0.0s\n",
      "[CV 4/5] END C=1000, class_weight=None, gamma=0.1, kernel=rbf;, score=0.950 total time=   0.0s\n",
      "[CV 5/5] END C=1000, class_weight=None, gamma=0.1, kernel=rbf;, score=0.950 total time=   0.0s\n",
      "[CV 1/5] END C=1000, class_weight=None, gamma=0.01, kernel=linear;, score=0.756 total time=   0.0s\n",
      "[CV 2/5] END C=1000, class_weight=None, gamma=0.01, kernel=linear;, score=0.732 total time=   0.0s\n",
      "[CV 3/5] END C=1000, class_weight=None, gamma=0.01, kernel=linear;, score=0.850 total time=   0.0s\n",
      "[CV 4/5] END C=1000, class_weight=None, gamma=0.01, kernel=linear;, score=0.875 total time=   0.0s\n",
      "[CV 5/5] END C=1000, class_weight=None, gamma=0.01, kernel=linear;, score=0.900 total time=   0.0s\n",
      "[CV 1/5] END C=1000, class_weight=None, gamma=0.01, kernel=rbf;, score=0.707 total time=   0.0s\n",
      "[CV 2/5] END C=1000, class_weight=None, gamma=0.01, kernel=rbf;, score=0.756 total time=   0.0s\n",
      "[CV 3/5] END C=1000, class_weight=None, gamma=0.01, kernel=rbf;, score=0.875 total time=   0.0s\n",
      "[CV 4/5] END C=1000, class_weight=None, gamma=0.01, kernel=rbf;, score=0.850 total time=   0.0s\n",
      "[CV 5/5] END C=1000, class_weight=None, gamma=0.01, kernel=rbf;, score=0.775 total time=   0.0s\n",
      "[CV 1/5] END C=1000, class_weight=None, gamma=0.001, kernel=linear;, score=0.756 total time=   0.0s\n",
      "[CV 2/5] END C=1000, class_weight=None, gamma=0.001, kernel=linear;, score=0.732 total time=   0.0s\n",
      "[CV 3/5] END C=1000, class_weight=None, gamma=0.001, kernel=linear;, score=0.850 total time=   0.0s\n",
      "[CV 4/5] END C=1000, class_weight=None, gamma=0.001, kernel=linear;, score=0.875 total time=   0.0s\n",
      "[CV 5/5] END C=1000, class_weight=None, gamma=0.001, kernel=linear;, score=0.900 total time=   0.0s\n",
      "[CV 1/5] END C=1000, class_weight=None, gamma=0.001, kernel=rbf;, score=0.756 total time=   0.0s\n",
      "[CV 2/5] END C=1000, class_weight=None, gamma=0.001, kernel=rbf;, score=0.756 total time=   0.0s\n",
      "[CV 3/5] END C=1000, class_weight=None, gamma=0.001, kernel=rbf;, score=0.850 total time=   0.0s\n",
      "[CV 4/5] END C=1000, class_weight=None, gamma=0.001, kernel=rbf;, score=0.825 total time=   0.0s\n",
      "[CV 5/5] END C=1000, class_weight=None, gamma=0.001, kernel=rbf;, score=0.775 total time=   0.0s\n",
      "[CV 1/5] END C=1000, class_weight=None, gamma=0.0001, kernel=linear;, score=0.756 total time=   0.0s\n",
      "[CV 2/5] END C=1000, class_weight=None, gamma=0.0001, kernel=linear;, score=0.732 total time=   0.0s\n",
      "[CV 3/5] END C=1000, class_weight=None, gamma=0.0001, kernel=linear;, score=0.850 total time=   0.0s\n",
      "[CV 4/5] END C=1000, class_weight=None, gamma=0.0001, kernel=linear;, score=0.875 total time=   0.0s\n",
      "[CV 5/5] END C=1000, class_weight=None, gamma=0.0001, kernel=linear;, score=0.900 total time=   0.0s\n",
      "[CV 1/5] END C=1000, class_weight=None, gamma=0.0001, kernel=rbf;, score=0.756 total time=   0.0s\n",
      "[CV 2/5] END C=1000, class_weight=None, gamma=0.0001, kernel=rbf;, score=0.780 total time=   0.0s\n",
      "[CV 3/5] END C=1000, class_weight=None, gamma=0.0001, kernel=rbf;, score=0.850 total time=   0.0s\n",
      "[CV 4/5] END C=1000, class_weight=None, gamma=0.0001, kernel=rbf;, score=0.800 total time=   0.0s\n",
      "[CV 5/5] END C=1000, class_weight=None, gamma=0.0001, kernel=rbf;, score=0.800 total time=   0.0s\n",
      "The best parameters are {'C': 1, 'class_weight': 'balanced', 'gamma': 1, 'kernel': 'rbf'} with a score of 0.87\n"
     ]
    }
   ],
   "source": [
    "\n",
    "from sklearn.model_selection import GridSearchCV\n",
    "  \n",
    "# defining parameter range\n",
    "param_grid = {'C': [0.1, 1, 10, 100, 1000], \n",
    "              'gamma': [1, 0.1, 0.01, 0.001, 0.0001],\n",
    "               'kernel': ['linear','rbf'],\n",
    "                'class_weight':['balanced', None]} \n",
    "rf=SVC(probability=True)\n",
    "grid4 = GridSearchCV(estimator=rf, param_grid=param_grid, refit = True, verbose = 3, cv=5)\n",
    "  \n",
    "# fitting the model for grid search\n",
    "grid4.fit(X1_train, y1_train)\n",
    "print(\"The best parameters are %s with a score of %0.2f\"\n",
    "      % (grid4.best_params_, grid4.best_score_))"
   ]
  },
  {
   "cell_type": "code",
   "execution_count": 64,
   "id": "cf2e75c0",
   "metadata": {},
   "outputs": [],
   "source": [
    "#model4 = SVC(C=10,gamma=0.1, max_iter=4000)"
   ]
  },
  {
   "cell_type": "code",
   "execution_count": 65,
   "id": "499a1947",
   "metadata": {},
   "outputs": [
    {
     "name": "stdout",
     "output_type": "stream",
     "text": [
      "Fitting 5 folds for each of 100 candidates, totalling 500 fits\n",
      "[CV 1/5] END C=0.1, class_weight=balanced, gamma=1, kernel=linear;, score=0.707 total time=   0.0s\n",
      "[CV 2/5] END C=0.1, class_weight=balanced, gamma=1, kernel=linear;, score=0.780 total time=   0.0s\n",
      "[CV 3/5] END C=0.1, class_weight=balanced, gamma=1, kernel=linear;, score=0.800 total time=   0.0s\n",
      "[CV 4/5] END C=0.1, class_weight=balanced, gamma=1, kernel=linear;, score=0.725 total time=   0.0s\n",
      "[CV 5/5] END C=0.1, class_weight=balanced, gamma=1, kernel=linear;, score=0.775 total time=   0.0s\n",
      "[CV 1/5] END C=0.1, class_weight=balanced, gamma=1, kernel=rbf;, score=0.512 total time=   0.0s\n",
      "[CV 2/5] END C=0.1, class_weight=balanced, gamma=1, kernel=rbf;, score=0.512 total time=   0.0s\n",
      "[CV 3/5] END C=0.1, class_weight=balanced, gamma=1, kernel=rbf;, score=0.800 total time=   0.0s\n",
      "[CV 4/5] END C=0.1, class_weight=balanced, gamma=1, kernel=rbf;, score=1.000 total time=   0.0s\n",
      "[CV 5/5] END C=0.1, class_weight=balanced, gamma=1, kernel=rbf;, score=1.000 total time=   0.0s\n",
      "[CV 1/5] END C=0.1, class_weight=balanced, gamma=0.1, kernel=linear;, score=0.707 total time=   0.0s\n",
      "[CV 2/5] END C=0.1, class_weight=balanced, gamma=0.1, kernel=linear;, score=0.780 total time=   0.0s\n",
      "[CV 3/5] END C=0.1, class_weight=balanced, gamma=0.1, kernel=linear;, score=0.800 total time=   0.0s\n",
      "[CV 4/5] END C=0.1, class_weight=balanced, gamma=0.1, kernel=linear;, score=0.725 total time=   0.0s\n",
      "[CV 5/5] END C=0.1, class_weight=balanced, gamma=0.1, kernel=linear;, score=0.775 total time=   0.0s\n",
      "[CV 1/5] END C=0.1, class_weight=balanced, gamma=0.1, kernel=rbf;, score=0.659 total time=   0.0s\n",
      "[CV 2/5] END C=0.1, class_weight=balanced, gamma=0.1, kernel=rbf;, score=0.561 total time=   0.0s\n",
      "[CV 3/5] END C=0.1, class_weight=balanced, gamma=0.1, kernel=rbf;, score=0.550 total time=   0.0s\n",
      "[CV 4/5] END C=0.1, class_weight=balanced, gamma=0.1, kernel=rbf;, score=0.575 total time=   0.0s\n",
      "[CV 5/5] END C=0.1, class_weight=balanced, gamma=0.1, kernel=rbf;, score=0.600 total time=   0.0s\n",
      "[CV 1/5] END C=0.1, class_weight=balanced, gamma=0.01, kernel=linear;, score=0.707 total time=   0.0s\n",
      "[CV 2/5] END C=0.1, class_weight=balanced, gamma=0.01, kernel=linear;, score=0.780 total time=   0.0s\n",
      "[CV 3/5] END C=0.1, class_weight=balanced, gamma=0.01, kernel=linear;, score=0.800 total time=   0.0s\n",
      "[CV 4/5] END C=0.1, class_weight=balanced, gamma=0.01, kernel=linear;, score=0.725 total time=   0.0s\n",
      "[CV 5/5] END C=0.1, class_weight=balanced, gamma=0.01, kernel=linear;, score=0.775 total time=   0.0s\n",
      "[CV 1/5] END C=0.1, class_weight=balanced, gamma=0.01, kernel=rbf;, score=0.585 total time=   0.0s\n",
      "[CV 2/5] END C=0.1, class_weight=balanced, gamma=0.01, kernel=rbf;, score=0.683 total time=   0.0s\n",
      "[CV 3/5] END C=0.1, class_weight=balanced, gamma=0.01, kernel=rbf;, score=0.600 total time=   0.0s\n",
      "[CV 4/5] END C=0.1, class_weight=balanced, gamma=0.01, kernel=rbf;, score=0.575 total time=   0.0s\n",
      "[CV 5/5] END C=0.1, class_weight=balanced, gamma=0.01, kernel=rbf;, score=0.575 total time=   0.0s\n",
      "[CV 1/5] END C=0.1, class_weight=balanced, gamma=0.001, kernel=linear;, score=0.707 total time=   0.0s\n",
      "[CV 2/5] END C=0.1, class_weight=balanced, gamma=0.001, kernel=linear;, score=0.780 total time=   0.0s\n",
      "[CV 3/5] END C=0.1, class_weight=balanced, gamma=0.001, kernel=linear;, score=0.800 total time=   0.0s\n",
      "[CV 4/5] END C=0.1, class_weight=balanced, gamma=0.001, kernel=linear;, score=0.725 total time=   0.0s\n",
      "[CV 5/5] END C=0.1, class_weight=balanced, gamma=0.001, kernel=linear;, score=0.775 total time=   0.0s\n",
      "[CV 1/5] END C=0.1, class_weight=balanced, gamma=0.001, kernel=rbf;, score=0.512 total time=   0.0s\n",
      "[CV 2/5] END C=0.1, class_weight=balanced, gamma=0.001, kernel=rbf;, score=0.512 total time=   0.0s\n",
      "[CV 3/5] END C=0.1, class_weight=balanced, gamma=0.001, kernel=rbf;, score=0.500 total time=   0.0s\n",
      "[CV 4/5] END C=0.1, class_weight=balanced, gamma=0.001, kernel=rbf;, score=0.600 total time=   0.0s\n",
      "[CV 5/5] END C=0.1, class_weight=balanced, gamma=0.001, kernel=rbf;, score=0.500 total time=   0.0s\n",
      "[CV 1/5] END C=0.1, class_weight=balanced, gamma=0.0001, kernel=linear;, score=0.707 total time=   0.0s\n",
      "[CV 2/5] END C=0.1, class_weight=balanced, gamma=0.0001, kernel=linear;, score=0.780 total time=   0.0s\n",
      "[CV 3/5] END C=0.1, class_weight=balanced, gamma=0.0001, kernel=linear;, score=0.800 total time=   0.0s\n",
      "[CV 4/5] END C=0.1, class_weight=balanced, gamma=0.0001, kernel=linear;, score=0.725 total time=   0.0s\n",
      "[CV 5/5] END C=0.1, class_weight=balanced, gamma=0.0001, kernel=linear;, score=0.775 total time=   0.0s\n",
      "[CV 1/5] END C=0.1, class_weight=balanced, gamma=0.0001, kernel=rbf;, score=0.512 total time=   0.0s\n",
      "[CV 2/5] END C=0.1, class_weight=balanced, gamma=0.0001, kernel=rbf;, score=0.512 total time=   0.0s\n",
      "[CV 3/5] END C=0.1, class_weight=balanced, gamma=0.0001, kernel=rbf;, score=0.500 total time=   0.0s\n",
      "[CV 4/5] END C=0.1, class_weight=balanced, gamma=0.0001, kernel=rbf;, score=0.600 total time=   0.0s\n",
      "[CV 5/5] END C=0.1, class_weight=balanced, gamma=0.0001, kernel=rbf;, score=0.500 total time=   0.0s\n",
      "[CV 1/5] END C=0.1, class_weight=None, gamma=1, kernel=linear;, score=0.707 total time=   0.0s\n",
      "[CV 2/5] END C=0.1, class_weight=None, gamma=1, kernel=linear;, score=0.780 total time=   0.0s\n",
      "[CV 3/5] END C=0.1, class_weight=None, gamma=1, kernel=linear;, score=0.800 total time=   0.0s\n",
      "[CV 4/5] END C=0.1, class_weight=None, gamma=1, kernel=linear;, score=0.725 total time=   0.0s\n",
      "[CV 5/5] END C=0.1, class_weight=None, gamma=1, kernel=linear;, score=0.775 total time=   0.0s\n",
      "[CV 1/5] END C=0.1, class_weight=None, gamma=1, kernel=rbf;, score=0.488 total time=   0.0s\n",
      "[CV 2/5] END C=0.1, class_weight=None, gamma=1, kernel=rbf;, score=0.488 total time=   0.0s\n",
      "[CV 3/5] END C=0.1, class_weight=None, gamma=1, kernel=rbf;, score=0.800 total time=   0.0s\n",
      "[CV 4/5] END C=0.1, class_weight=None, gamma=1, kernel=rbf;, score=1.000 total time=   0.0s\n",
      "[CV 5/5] END C=0.1, class_weight=None, gamma=1, kernel=rbf;, score=1.000 total time=   0.0s\n",
      "[CV 1/5] END C=0.1, class_weight=None, gamma=0.1, kernel=linear;, score=0.707 total time=   0.0s\n",
      "[CV 2/5] END C=0.1, class_weight=None, gamma=0.1, kernel=linear;, score=0.780 total time=   0.0s\n",
      "[CV 3/5] END C=0.1, class_weight=None, gamma=0.1, kernel=linear;, score=0.800 total time=   0.0s\n",
      "[CV 4/5] END C=0.1, class_weight=None, gamma=0.1, kernel=linear;, score=0.725 total time=   0.0s\n",
      "[CV 5/5] END C=0.1, class_weight=None, gamma=0.1, kernel=linear;, score=0.775 total time=   0.0s\n",
      "[CV 1/5] END C=0.1, class_weight=None, gamma=0.1, kernel=rbf;, score=0.537 total time=   0.0s\n",
      "[CV 2/5] END C=0.1, class_weight=None, gamma=0.1, kernel=rbf;, score=0.512 total time=   0.0s\n",
      "[CV 3/5] END C=0.1, class_weight=None, gamma=0.1, kernel=rbf;, score=0.550 total time=   0.0s\n",
      "[CV 4/5] END C=0.1, class_weight=None, gamma=0.1, kernel=rbf;, score=0.575 total time=   0.0s\n",
      "[CV 5/5] END C=0.1, class_weight=None, gamma=0.1, kernel=rbf;, score=0.600 total time=   0.0s\n",
      "[CV 1/5] END C=0.1, class_weight=None, gamma=0.01, kernel=linear;, score=0.707 total time=   0.0s\n",
      "[CV 2/5] END C=0.1, class_weight=None, gamma=0.01, kernel=linear;, score=0.780 total time=   0.0s\n",
      "[CV 3/5] END C=0.1, class_weight=None, gamma=0.01, kernel=linear;, score=0.800 total time=   0.0s\n",
      "[CV 4/5] END C=0.1, class_weight=None, gamma=0.01, kernel=linear;, score=0.725 total time=   0.0s\n",
      "[CV 5/5] END C=0.1, class_weight=None, gamma=0.01, kernel=linear;, score=0.775 total time=   0.0s\n",
      "[CV 1/5] END C=0.1, class_weight=None, gamma=0.01, kernel=rbf;, score=0.585 total time=   0.0s\n",
      "[CV 2/5] END C=0.1, class_weight=None, gamma=0.01, kernel=rbf;, score=0.683 total time=   0.0s\n",
      "[CV 3/5] END C=0.1, class_weight=None, gamma=0.01, kernel=rbf;, score=0.600 total time=   0.0s\n",
      "[CV 4/5] END C=0.1, class_weight=None, gamma=0.01, kernel=rbf;, score=0.575 total time=   0.0s\n",
      "[CV 5/5] END C=0.1, class_weight=None, gamma=0.01, kernel=rbf;, score=0.575 total time=   0.0s\n",
      "[CV 1/5] END C=0.1, class_weight=None, gamma=0.001, kernel=linear;, score=0.707 total time=   0.0s\n",
      "[CV 2/5] END C=0.1, class_weight=None, gamma=0.001, kernel=linear;, score=0.780 total time=   0.0s\n",
      "[CV 3/5] END C=0.1, class_weight=None, gamma=0.001, kernel=linear;, score=0.800 total time=   0.0s\n",
      "[CV 4/5] END C=0.1, class_weight=None, gamma=0.001, kernel=linear;, score=0.725 total time=   0.0s\n",
      "[CV 5/5] END C=0.1, class_weight=None, gamma=0.001, kernel=linear;, score=0.775 total time=   0.0s\n",
      "[CV 1/5] END C=0.1, class_weight=None, gamma=0.001, kernel=rbf;, score=0.488 total time=   0.0s\n"
     ]
    },
    {
     "name": "stdout",
     "output_type": "stream",
     "text": [
      "[CV 2/5] END C=0.1, class_weight=None, gamma=0.001, kernel=rbf;, score=0.488 total time=   0.0s\n",
      "[CV 3/5] END C=0.1, class_weight=None, gamma=0.001, kernel=rbf;, score=0.500 total time=   0.0s\n",
      "[CV 4/5] END C=0.1, class_weight=None, gamma=0.001, kernel=rbf;, score=0.600 total time=   0.0s\n",
      "[CV 5/5] END C=0.1, class_weight=None, gamma=0.001, kernel=rbf;, score=0.500 total time=   0.0s\n",
      "[CV 1/5] END C=0.1, class_weight=None, gamma=0.0001, kernel=linear;, score=0.707 total time=   0.0s\n",
      "[CV 2/5] END C=0.1, class_weight=None, gamma=0.0001, kernel=linear;, score=0.780 total time=   0.0s\n",
      "[CV 3/5] END C=0.1, class_weight=None, gamma=0.0001, kernel=linear;, score=0.800 total time=   0.0s\n",
      "[CV 4/5] END C=0.1, class_weight=None, gamma=0.0001, kernel=linear;, score=0.725 total time=   0.0s\n",
      "[CV 5/5] END C=0.1, class_weight=None, gamma=0.0001, kernel=linear;, score=0.775 total time=   0.0s\n",
      "[CV 1/5] END C=0.1, class_weight=None, gamma=0.0001, kernel=rbf;, score=0.488 total time=   0.0s\n",
      "[CV 2/5] END C=0.1, class_weight=None, gamma=0.0001, kernel=rbf;, score=0.488 total time=   0.0s\n",
      "[CV 3/5] END C=0.1, class_weight=None, gamma=0.0001, kernel=rbf;, score=0.500 total time=   0.0s\n",
      "[CV 4/5] END C=0.1, class_weight=None, gamma=0.0001, kernel=rbf;, score=0.600 total time=   0.0s\n",
      "[CV 5/5] END C=0.1, class_weight=None, gamma=0.0001, kernel=rbf;, score=0.500 total time=   0.0s\n",
      "[CV 1/5] END C=1, class_weight=balanced, gamma=1, kernel=linear;, score=0.756 total time=   0.0s\n",
      "[CV 2/5] END C=1, class_weight=balanced, gamma=1, kernel=linear;, score=0.732 total time=   0.0s\n",
      "[CV 3/5] END C=1, class_weight=balanced, gamma=1, kernel=linear;, score=0.875 total time=   0.0s\n",
      "[CV 4/5] END C=1, class_weight=balanced, gamma=1, kernel=linear;, score=0.875 total time=   0.0s\n",
      "[CV 5/5] END C=1, class_weight=balanced, gamma=1, kernel=linear;, score=0.825 total time=   0.0s\n",
      "[CV 1/5] END C=1, class_weight=balanced, gamma=1, kernel=rbf;, score=0.707 total time=   0.0s\n",
      "[CV 2/5] END C=1, class_weight=balanced, gamma=1, kernel=rbf;, score=0.854 total time=   0.0s\n",
      "[CV 3/5] END C=1, class_weight=balanced, gamma=1, kernel=rbf;, score=0.800 total time=   0.0s\n",
      "[CV 4/5] END C=1, class_weight=balanced, gamma=1, kernel=rbf;, score=1.000 total time=   0.0s\n",
      "[CV 5/5] END C=1, class_weight=balanced, gamma=1, kernel=rbf;, score=1.000 total time=   0.0s\n",
      "[CV 1/5] END C=1, class_weight=balanced, gamma=0.1, kernel=linear;, score=0.756 total time=   0.0s\n",
      "[CV 2/5] END C=1, class_weight=balanced, gamma=0.1, kernel=linear;, score=0.732 total time=   0.0s\n",
      "[CV 3/5] END C=1, class_weight=balanced, gamma=0.1, kernel=linear;, score=0.875 total time=   0.0s\n",
      "[CV 4/5] END C=1, class_weight=balanced, gamma=0.1, kernel=linear;, score=0.875 total time=   0.0s\n",
      "[CV 5/5] END C=1, class_weight=balanced, gamma=0.1, kernel=linear;, score=0.825 total time=   0.0s\n",
      "[CV 1/5] END C=1, class_weight=balanced, gamma=0.1, kernel=rbf;, score=0.707 total time=   0.0s\n",
      "[CV 2/5] END C=1, class_weight=balanced, gamma=0.1, kernel=rbf;, score=0.829 total time=   0.0s\n",
      "[CV 3/5] END C=1, class_weight=balanced, gamma=0.1, kernel=rbf;, score=0.775 total time=   0.0s\n",
      "[CV 4/5] END C=1, class_weight=balanced, gamma=0.1, kernel=rbf;, score=0.975 total time=   0.0s\n",
      "[CV 5/5] END C=1, class_weight=balanced, gamma=0.1, kernel=rbf;, score=0.975 total time=   0.0s\n",
      "[CV 1/5] END C=1, class_weight=balanced, gamma=0.01, kernel=linear;, score=0.756 total time=   0.0s\n",
      "[CV 2/5] END C=1, class_weight=balanced, gamma=0.01, kernel=linear;, score=0.732 total time=   0.0s\n",
      "[CV 3/5] END C=1, class_weight=balanced, gamma=0.01, kernel=linear;, score=0.875 total time=   0.0s\n",
      "[CV 4/5] END C=1, class_weight=balanced, gamma=0.01, kernel=linear;, score=0.875 total time=   0.0s\n",
      "[CV 5/5] END C=1, class_weight=balanced, gamma=0.01, kernel=linear;, score=0.825 total time=   0.0s\n",
      "[CV 1/5] END C=1, class_weight=balanced, gamma=0.01, kernel=rbf;, score=0.610 total time=   0.0s\n",
      "[CV 2/5] END C=1, class_weight=balanced, gamma=0.01, kernel=rbf;, score=0.683 total time=   0.0s\n",
      "[CV 3/5] END C=1, class_weight=balanced, gamma=0.01, kernel=rbf;, score=0.800 total time=   0.0s\n",
      "[CV 4/5] END C=1, class_weight=balanced, gamma=0.01, kernel=rbf;, score=0.775 total time=   0.0s\n",
      "[CV 5/5] END C=1, class_weight=balanced, gamma=0.01, kernel=rbf;, score=0.775 total time=   0.0s\n",
      "[CV 1/5] END C=1, class_weight=balanced, gamma=0.001, kernel=linear;, score=0.756 total time=   0.0s\n",
      "[CV 2/5] END C=1, class_weight=balanced, gamma=0.001, kernel=linear;, score=0.732 total time=   0.0s\n",
      "[CV 3/5] END C=1, class_weight=balanced, gamma=0.001, kernel=linear;, score=0.875 total time=   0.0s\n",
      "[CV 4/5] END C=1, class_weight=balanced, gamma=0.001, kernel=linear;, score=0.875 total time=   0.0s\n",
      "[CV 5/5] END C=1, class_weight=balanced, gamma=0.001, kernel=linear;, score=0.825 total time=   0.0s\n",
      "[CV 1/5] END C=1, class_weight=balanced, gamma=0.001, kernel=rbf;, score=0.610 total time=   0.0s\n",
      "[CV 2/5] END C=1, class_weight=balanced, gamma=0.001, kernel=rbf;, score=0.634 total time=   0.0s\n",
      "[CV 3/5] END C=1, class_weight=balanced, gamma=0.001, kernel=rbf;, score=0.575 total time=   0.0s\n",
      "[CV 4/5] END C=1, class_weight=balanced, gamma=0.001, kernel=rbf;, score=0.675 total time=   0.0s\n",
      "[CV 5/5] END C=1, class_weight=balanced, gamma=0.001, kernel=rbf;, score=0.650 total time=   0.0s\n",
      "[CV 1/5] END C=1, class_weight=balanced, gamma=0.0001, kernel=linear;, score=0.756 total time=   0.0s\n",
      "[CV 2/5] END C=1, class_weight=balanced, gamma=0.0001, kernel=linear;, score=0.732 total time=   0.0s\n",
      "[CV 3/5] END C=1, class_weight=balanced, gamma=0.0001, kernel=linear;, score=0.875 total time=   0.0s\n",
      "[CV 4/5] END C=1, class_weight=balanced, gamma=0.0001, kernel=linear;, score=0.875 total time=   0.0s\n",
      "[CV 5/5] END C=1, class_weight=balanced, gamma=0.0001, kernel=linear;, score=0.825 total time=   0.0s\n",
      "[CV 1/5] END C=1, class_weight=balanced, gamma=0.0001, kernel=rbf;, score=0.512 total time=   0.0s\n",
      "[CV 2/5] END C=1, class_weight=balanced, gamma=0.0001, kernel=rbf;, score=0.634 total time=   0.0s\n",
      "[CV 3/5] END C=1, class_weight=balanced, gamma=0.0001, kernel=rbf;, score=0.500 total time=   0.0s\n",
      "[CV 4/5] END C=1, class_weight=balanced, gamma=0.0001, kernel=rbf;, score=0.600 total time=   0.0s\n",
      "[CV 5/5] END C=1, class_weight=balanced, gamma=0.0001, kernel=rbf;, score=0.500 total time=   0.0s\n",
      "[CV 1/5] END C=1, class_weight=None, gamma=1, kernel=linear;, score=0.756 total time=   0.0s\n",
      "[CV 2/5] END C=1, class_weight=None, gamma=1, kernel=linear;, score=0.732 total time=   0.0s\n",
      "[CV 3/5] END C=1, class_weight=None, gamma=1, kernel=linear;, score=0.875 total time=   0.0s\n",
      "[CV 4/5] END C=1, class_weight=None, gamma=1, kernel=linear;, score=0.875 total time=   0.0s\n",
      "[CV 5/5] END C=1, class_weight=None, gamma=1, kernel=linear;, score=0.825 total time=   0.0s\n",
      "[CV 1/5] END C=1, class_weight=None, gamma=1, kernel=rbf;, score=0.707 total time=   0.0s\n",
      "[CV 2/5] END C=1, class_weight=None, gamma=1, kernel=rbf;, score=0.854 total time=   0.0s\n",
      "[CV 3/5] END C=1, class_weight=None, gamma=1, kernel=rbf;, score=0.800 total time=   0.0s\n",
      "[CV 4/5] END C=1, class_weight=None, gamma=1, kernel=rbf;, score=1.000 total time=   0.0s\n",
      "[CV 5/5] END C=1, class_weight=None, gamma=1, kernel=rbf;, score=1.000 total time=   0.0s\n",
      "[CV 1/5] END C=1, class_weight=None, gamma=0.1, kernel=linear;, score=0.756 total time=   0.0s\n",
      "[CV 2/5] END C=1, class_weight=None, gamma=0.1, kernel=linear;, score=0.732 total time=   0.0s\n",
      "[CV 3/5] END C=1, class_weight=None, gamma=0.1, kernel=linear;, score=0.875 total time=   0.0s\n",
      "[CV 4/5] END C=1, class_weight=None, gamma=0.1, kernel=linear;, score=0.875 total time=   0.0s\n",
      "[CV 5/5] END C=1, class_weight=None, gamma=0.1, kernel=linear;, score=0.825 total time=   0.0s\n",
      "[CV 1/5] END C=1, class_weight=None, gamma=0.1, kernel=rbf;, score=0.707 total time=   0.0s\n",
      "[CV 2/5] END C=1, class_weight=None, gamma=0.1, kernel=rbf;, score=0.829 total time=   0.0s\n",
      "[CV 3/5] END C=1, class_weight=None, gamma=0.1, kernel=rbf;, score=0.775 total time=   0.0s\n",
      "[CV 4/5] END C=1, class_weight=None, gamma=0.1, kernel=rbf;, score=0.975 total time=   0.0s\n",
      "[CV 5/5] END C=1, class_weight=None, gamma=0.1, kernel=rbf;, score=0.975 total time=   0.0s\n",
      "[CV 1/5] END C=1, class_weight=None, gamma=0.01, kernel=linear;, score=0.756 total time=   0.0s\n",
      "[CV 2/5] END C=1, class_weight=None, gamma=0.01, kernel=linear;, score=0.732 total time=   0.0s\n",
      "[CV 3/5] END C=1, class_weight=None, gamma=0.01, kernel=linear;, score=0.875 total time=   0.0s\n"
     ]
    },
    {
     "name": "stdout",
     "output_type": "stream",
     "text": [
      "[CV 4/5] END C=1, class_weight=None, gamma=0.01, kernel=linear;, score=0.875 total time=   0.0s\n",
      "[CV 5/5] END C=1, class_weight=None, gamma=0.01, kernel=linear;, score=0.825 total time=   0.0s\n",
      "[CV 1/5] END C=1, class_weight=None, gamma=0.01, kernel=rbf;, score=0.610 total time=   0.0s\n",
      "[CV 2/5] END C=1, class_weight=None, gamma=0.01, kernel=rbf;, score=0.683 total time=   0.0s\n",
      "[CV 3/5] END C=1, class_weight=None, gamma=0.01, kernel=rbf;, score=0.800 total time=   0.0s\n",
      "[CV 4/5] END C=1, class_weight=None, gamma=0.01, kernel=rbf;, score=0.775 total time=   0.0s\n",
      "[CV 5/5] END C=1, class_weight=None, gamma=0.01, kernel=rbf;, score=0.775 total time=   0.0s\n",
      "[CV 1/5] END C=1, class_weight=None, gamma=0.001, kernel=linear;, score=0.756 total time=   0.0s\n",
      "[CV 2/5] END C=1, class_weight=None, gamma=0.001, kernel=linear;, score=0.732 total time=   0.0s\n",
      "[CV 3/5] END C=1, class_weight=None, gamma=0.001, kernel=linear;, score=0.875 total time=   0.0s\n",
      "[CV 4/5] END C=1, class_weight=None, gamma=0.001, kernel=linear;, score=0.875 total time=   0.0s\n",
      "[CV 5/5] END C=1, class_weight=None, gamma=0.001, kernel=linear;, score=0.825 total time=   0.0s\n",
      "[CV 1/5] END C=1, class_weight=None, gamma=0.001, kernel=rbf;, score=0.610 total time=   0.0s\n",
      "[CV 2/5] END C=1, class_weight=None, gamma=0.001, kernel=rbf;, score=0.634 total time=   0.0s\n",
      "[CV 3/5] END C=1, class_weight=None, gamma=0.001, kernel=rbf;, score=0.575 total time=   0.0s\n",
      "[CV 4/5] END C=1, class_weight=None, gamma=0.001, kernel=rbf;, score=0.675 total time=   0.0s\n",
      "[CV 5/5] END C=1, class_weight=None, gamma=0.001, kernel=rbf;, score=0.650 total time=   0.0s\n",
      "[CV 1/5] END C=1, class_weight=None, gamma=0.0001, kernel=linear;, score=0.756 total time=   0.0s\n",
      "[CV 2/5] END C=1, class_weight=None, gamma=0.0001, kernel=linear;, score=0.732 total time=   0.0s\n",
      "[CV 3/5] END C=1, class_weight=None, gamma=0.0001, kernel=linear;, score=0.875 total time=   0.0s\n",
      "[CV 4/5] END C=1, class_weight=None, gamma=0.0001, kernel=linear;, score=0.875 total time=   0.0s\n",
      "[CV 5/5] END C=1, class_weight=None, gamma=0.0001, kernel=linear;, score=0.825 total time=   0.0s\n",
      "[CV 1/5] END C=1, class_weight=None, gamma=0.0001, kernel=rbf;, score=0.537 total time=   0.0s\n",
      "[CV 2/5] END C=1, class_weight=None, gamma=0.0001, kernel=rbf;, score=0.512 total time=   0.0s\n",
      "[CV 3/5] END C=1, class_weight=None, gamma=0.0001, kernel=rbf;, score=0.500 total time=   0.0s\n",
      "[CV 4/5] END C=1, class_weight=None, gamma=0.0001, kernel=rbf;, score=0.600 total time=   0.0s\n",
      "[CV 5/5] END C=1, class_weight=None, gamma=0.0001, kernel=rbf;, score=0.500 total time=   0.0s\n",
      "[CV 1/5] END C=10, class_weight=balanced, gamma=1, kernel=linear;, score=0.756 total time=   0.0s\n",
      "[CV 2/5] END C=10, class_weight=balanced, gamma=1, kernel=linear;, score=0.732 total time=   0.0s\n",
      "[CV 3/5] END C=10, class_weight=balanced, gamma=1, kernel=linear;, score=0.850 total time=   0.0s\n",
      "[CV 4/5] END C=10, class_weight=balanced, gamma=1, kernel=linear;, score=0.875 total time=   0.0s\n",
      "[CV 5/5] END C=10, class_weight=balanced, gamma=1, kernel=linear;, score=0.900 total time=   0.0s\n",
      "[CV 1/5] END C=10, class_weight=balanced, gamma=1, kernel=rbf;, score=0.707 total time=   0.0s\n",
      "[CV 2/5] END C=10, class_weight=balanced, gamma=1, kernel=rbf;, score=0.854 total time=   0.0s\n",
      "[CV 3/5] END C=10, class_weight=balanced, gamma=1, kernel=rbf;, score=0.800 total time=   0.0s\n",
      "[CV 4/5] END C=10, class_weight=balanced, gamma=1, kernel=rbf;, score=1.000 total time=   0.0s\n",
      "[CV 5/5] END C=10, class_weight=balanced, gamma=1, kernel=rbf;, score=1.000 total time=   0.0s\n",
      "[CV 1/5] END C=10, class_weight=balanced, gamma=0.1, kernel=linear;, score=0.756 total time=   0.0s\n",
      "[CV 2/5] END C=10, class_weight=balanced, gamma=0.1, kernel=linear;, score=0.732 total time=   0.0s\n",
      "[CV 3/5] END C=10, class_weight=balanced, gamma=0.1, kernel=linear;, score=0.850 total time=   0.0s\n",
      "[CV 4/5] END C=10, class_weight=balanced, gamma=0.1, kernel=linear;, score=0.875 total time=   0.0s\n",
      "[CV 5/5] END C=10, class_weight=balanced, gamma=0.1, kernel=linear;, score=0.900 total time=   0.0s\n",
      "[CV 1/5] END C=10, class_weight=balanced, gamma=0.1, kernel=rbf;, score=0.707 total time=   0.0s\n",
      "[CV 2/5] END C=10, class_weight=balanced, gamma=0.1, kernel=rbf;, score=0.829 total time=   0.0s\n",
      "[CV 3/5] END C=10, class_weight=balanced, gamma=0.1, kernel=rbf;, score=0.825 total time=   0.0s\n",
      "[CV 4/5] END C=10, class_weight=balanced, gamma=0.1, kernel=rbf;, score=0.950 total time=   0.0s\n",
      "[CV 5/5] END C=10, class_weight=balanced, gamma=0.1, kernel=rbf;, score=0.950 total time=   0.0s\n",
      "[CV 1/5] END C=10, class_weight=balanced, gamma=0.01, kernel=linear;, score=0.756 total time=   0.0s\n",
      "[CV 2/5] END C=10, class_weight=balanced, gamma=0.01, kernel=linear;, score=0.732 total time=   0.0s\n",
      "[CV 3/5] END C=10, class_weight=balanced, gamma=0.01, kernel=linear;, score=0.850 total time=   0.0s\n",
      "[CV 4/5] END C=10, class_weight=balanced, gamma=0.01, kernel=linear;, score=0.875 total time=   0.0s\n",
      "[CV 5/5] END C=10, class_weight=balanced, gamma=0.01, kernel=linear;, score=0.900 total time=   0.0s\n",
      "[CV 1/5] END C=10, class_weight=balanced, gamma=0.01, kernel=rbf;, score=0.732 total time=   0.0s\n",
      "[CV 2/5] END C=10, class_weight=balanced, gamma=0.01, kernel=rbf;, score=0.732 total time=   0.0s\n",
      "[CV 3/5] END C=10, class_weight=balanced, gamma=0.01, kernel=rbf;, score=0.850 total time=   0.0s\n",
      "[CV 4/5] END C=10, class_weight=balanced, gamma=0.01, kernel=rbf;, score=0.825 total time=   0.0s\n",
      "[CV 5/5] END C=10, class_weight=balanced, gamma=0.01, kernel=rbf;, score=0.800 total time=   0.0s\n",
      "[CV 1/5] END C=10, class_weight=balanced, gamma=0.001, kernel=linear;, score=0.756 total time=   0.0s\n",
      "[CV 2/5] END C=10, class_weight=balanced, gamma=0.001, kernel=linear;, score=0.732 total time=   0.0s\n",
      "[CV 3/5] END C=10, class_weight=balanced, gamma=0.001, kernel=linear;, score=0.850 total time=   0.0s\n",
      "[CV 4/5] END C=10, class_weight=balanced, gamma=0.001, kernel=linear;, score=0.875 total time=   0.0s\n",
      "[CV 5/5] END C=10, class_weight=balanced, gamma=0.001, kernel=linear;, score=0.900 total time=   0.0s\n",
      "[CV 1/5] END C=10, class_weight=balanced, gamma=0.001, kernel=rbf;, score=0.610 total time=   0.0s\n",
      "[CV 2/5] END C=10, class_weight=balanced, gamma=0.001, kernel=rbf;, score=0.732 total time=   0.0s\n",
      "[CV 3/5] END C=10, class_weight=balanced, gamma=0.001, kernel=rbf;, score=0.800 total time=   0.0s\n",
      "[CV 4/5] END C=10, class_weight=balanced, gamma=0.001, kernel=rbf;, score=0.800 total time=   0.0s\n",
      "[CV 5/5] END C=10, class_weight=balanced, gamma=0.001, kernel=rbf;, score=0.825 total time=   0.0s\n",
      "[CV 1/5] END C=10, class_weight=balanced, gamma=0.0001, kernel=linear;, score=0.756 total time=   0.0s\n",
      "[CV 2/5] END C=10, class_weight=balanced, gamma=0.0001, kernel=linear;, score=0.732 total time=   0.0s\n",
      "[CV 3/5] END C=10, class_weight=balanced, gamma=0.0001, kernel=linear;, score=0.850 total time=   0.0s\n",
      "[CV 4/5] END C=10, class_weight=balanced, gamma=0.0001, kernel=linear;, score=0.875 total time=   0.0s\n",
      "[CV 5/5] END C=10, class_weight=balanced, gamma=0.0001, kernel=linear;, score=0.900 total time=   0.0s\n",
      "[CV 1/5] END C=10, class_weight=balanced, gamma=0.0001, kernel=rbf;, score=0.585 total time=   0.0s\n",
      "[CV 2/5] END C=10, class_weight=balanced, gamma=0.0001, kernel=rbf;, score=0.634 total time=   0.0s\n",
      "[CV 3/5] END C=10, class_weight=balanced, gamma=0.0001, kernel=rbf;, score=0.575 total time=   0.0s\n",
      "[CV 4/5] END C=10, class_weight=balanced, gamma=0.0001, kernel=rbf;, score=0.675 total time=   0.0s\n",
      "[CV 5/5] END C=10, class_weight=balanced, gamma=0.0001, kernel=rbf;, score=0.675 total time=   0.0s\n",
      "[CV 1/5] END C=10, class_weight=None, gamma=1, kernel=linear;, score=0.756 total time=   0.0s\n",
      "[CV 2/5] END C=10, class_weight=None, gamma=1, kernel=linear;, score=0.732 total time=   0.0s\n",
      "[CV 3/5] END C=10, class_weight=None, gamma=1, kernel=linear;, score=0.850 total time=   0.0s\n",
      "[CV 4/5] END C=10, class_weight=None, gamma=1, kernel=linear;, score=0.875 total time=   0.0s\n",
      "[CV 5/5] END C=10, class_weight=None, gamma=1, kernel=linear;, score=0.900 total time=   0.0s\n",
      "[CV 1/5] END C=10, class_weight=None, gamma=1, kernel=rbf;, score=0.707 total time=   0.0s\n",
      "[CV 2/5] END C=10, class_weight=None, gamma=1, kernel=rbf;, score=0.854 total time=   0.0s\n",
      "[CV 3/5] END C=10, class_weight=None, gamma=1, kernel=rbf;, score=0.800 total time=   0.0s\n",
      "[CV 4/5] END C=10, class_weight=None, gamma=1, kernel=rbf;, score=1.000 total time=   0.0s\n"
     ]
    },
    {
     "name": "stdout",
     "output_type": "stream",
     "text": [
      "[CV 5/5] END C=10, class_weight=None, gamma=1, kernel=rbf;, score=1.000 total time=   0.0s\n",
      "[CV 1/5] END C=10, class_weight=None, gamma=0.1, kernel=linear;, score=0.756 total time=   0.0s\n",
      "[CV 2/5] END C=10, class_weight=None, gamma=0.1, kernel=linear;, score=0.732 total time=   0.0s\n",
      "[CV 3/5] END C=10, class_weight=None, gamma=0.1, kernel=linear;, score=0.850 total time=   0.0s\n",
      "[CV 4/5] END C=10, class_weight=None, gamma=0.1, kernel=linear;, score=0.875 total time=   0.0s\n",
      "[CV 5/5] END C=10, class_weight=None, gamma=0.1, kernel=linear;, score=0.900 total time=   0.0s\n",
      "[CV 1/5] END C=10, class_weight=None, gamma=0.1, kernel=rbf;, score=0.707 total time=   0.0s\n",
      "[CV 2/5] END C=10, class_weight=None, gamma=0.1, kernel=rbf;, score=0.829 total time=   0.0s\n",
      "[CV 3/5] END C=10, class_weight=None, gamma=0.1, kernel=rbf;, score=0.825 total time=   0.0s\n",
      "[CV 4/5] END C=10, class_weight=None, gamma=0.1, kernel=rbf;, score=0.950 total time=   0.0s\n",
      "[CV 5/5] END C=10, class_weight=None, gamma=0.1, kernel=rbf;, score=0.950 total time=   0.0s\n",
      "[CV 1/5] END C=10, class_weight=None, gamma=0.01, kernel=linear;, score=0.756 total time=   0.0s\n",
      "[CV 2/5] END C=10, class_weight=None, gamma=0.01, kernel=linear;, score=0.732 total time=   0.0s\n",
      "[CV 3/5] END C=10, class_weight=None, gamma=0.01, kernel=linear;, score=0.850 total time=   0.0s\n",
      "[CV 4/5] END C=10, class_weight=None, gamma=0.01, kernel=linear;, score=0.875 total time=   0.0s\n",
      "[CV 5/5] END C=10, class_weight=None, gamma=0.01, kernel=linear;, score=0.900 total time=   0.0s\n",
      "[CV 1/5] END C=10, class_weight=None, gamma=0.01, kernel=rbf;, score=0.732 total time=   0.0s\n",
      "[CV 2/5] END C=10, class_weight=None, gamma=0.01, kernel=rbf;, score=0.756 total time=   0.0s\n",
      "[CV 3/5] END C=10, class_weight=None, gamma=0.01, kernel=rbf;, score=0.850 total time=   0.0s\n",
      "[CV 4/5] END C=10, class_weight=None, gamma=0.01, kernel=rbf;, score=0.825 total time=   0.0s\n",
      "[CV 5/5] END C=10, class_weight=None, gamma=0.01, kernel=rbf;, score=0.800 total time=   0.0s\n",
      "[CV 1/5] END C=10, class_weight=None, gamma=0.001, kernel=linear;, score=0.756 total time=   0.0s\n",
      "[CV 2/5] END C=10, class_weight=None, gamma=0.001, kernel=linear;, score=0.732 total time=   0.0s\n",
      "[CV 3/5] END C=10, class_weight=None, gamma=0.001, kernel=linear;, score=0.850 total time=   0.0s\n",
      "[CV 4/5] END C=10, class_weight=None, gamma=0.001, kernel=linear;, score=0.875 total time=   0.0s\n",
      "[CV 5/5] END C=10, class_weight=None, gamma=0.001, kernel=linear;, score=0.900 total time=   0.0s\n",
      "[CV 1/5] END C=10, class_weight=None, gamma=0.001, kernel=rbf;, score=0.610 total time=   0.0s\n",
      "[CV 2/5] END C=10, class_weight=None, gamma=0.001, kernel=rbf;, score=0.732 total time=   0.0s\n",
      "[CV 3/5] END C=10, class_weight=None, gamma=0.001, kernel=rbf;, score=0.800 total time=   0.0s\n",
      "[CV 4/5] END C=10, class_weight=None, gamma=0.001, kernel=rbf;, score=0.800 total time=   0.0s\n",
      "[CV 5/5] END C=10, class_weight=None, gamma=0.001, kernel=rbf;, score=0.825 total time=   0.0s\n",
      "[CV 1/5] END C=10, class_weight=None, gamma=0.0001, kernel=linear;, score=0.756 total time=   0.0s\n",
      "[CV 2/5] END C=10, class_weight=None, gamma=0.0001, kernel=linear;, score=0.732 total time=   0.0s\n",
      "[CV 3/5] END C=10, class_weight=None, gamma=0.0001, kernel=linear;, score=0.850 total time=   0.0s\n",
      "[CV 4/5] END C=10, class_weight=None, gamma=0.0001, kernel=linear;, score=0.875 total time=   0.0s\n",
      "[CV 5/5] END C=10, class_weight=None, gamma=0.0001, kernel=linear;, score=0.900 total time=   0.0s\n",
      "[CV 1/5] END C=10, class_weight=None, gamma=0.0001, kernel=rbf;, score=0.585 total time=   0.0s\n",
      "[CV 2/5] END C=10, class_weight=None, gamma=0.0001, kernel=rbf;, score=0.634 total time=   0.0s\n",
      "[CV 3/5] END C=10, class_weight=None, gamma=0.0001, kernel=rbf;, score=0.575 total time=   0.0s\n",
      "[CV 4/5] END C=10, class_weight=None, gamma=0.0001, kernel=rbf;, score=0.675 total time=   0.0s\n",
      "[CV 5/5] END C=10, class_weight=None, gamma=0.0001, kernel=rbf;, score=0.675 total time=   0.0s\n",
      "[CV 1/5] END C=100, class_weight=balanced, gamma=1, kernel=linear;, score=0.756 total time=   0.0s\n",
      "[CV 2/5] END C=100, class_weight=balanced, gamma=1, kernel=linear;, score=0.732 total time=   0.0s\n",
      "[CV 3/5] END C=100, class_weight=balanced, gamma=1, kernel=linear;, score=0.850 total time=   0.0s\n",
      "[CV 4/5] END C=100, class_weight=balanced, gamma=1, kernel=linear;, score=0.875 total time=   0.0s\n",
      "[CV 5/5] END C=100, class_weight=balanced, gamma=1, kernel=linear;, score=0.900 total time=   0.0s\n",
      "[CV 1/5] END C=100, class_weight=balanced, gamma=1, kernel=rbf;, score=0.707 total time=   0.0s\n",
      "[CV 2/5] END C=100, class_weight=balanced, gamma=1, kernel=rbf;, score=0.854 total time=   0.0s\n",
      "[CV 3/5] END C=100, class_weight=balanced, gamma=1, kernel=rbf;, score=0.800 total time=   0.0s\n",
      "[CV 4/5] END C=100, class_weight=balanced, gamma=1, kernel=rbf;, score=1.000 total time=   0.0s\n",
      "[CV 5/5] END C=100, class_weight=balanced, gamma=1, kernel=rbf;, score=1.000 total time=   0.0s\n",
      "[CV 1/5] END C=100, class_weight=balanced, gamma=0.1, kernel=linear;, score=0.756 total time=   0.0s\n",
      "[CV 2/5] END C=100, class_weight=balanced, gamma=0.1, kernel=linear;, score=0.732 total time=   0.0s\n",
      "[CV 3/5] END C=100, class_weight=balanced, gamma=0.1, kernel=linear;, score=0.850 total time=   0.0s\n",
      "[CV 4/5] END C=100, class_weight=balanced, gamma=0.1, kernel=linear;, score=0.875 total time=   0.0s\n",
      "[CV 5/5] END C=100, class_weight=balanced, gamma=0.1, kernel=linear;, score=0.900 total time=   0.0s\n",
      "[CV 1/5] END C=100, class_weight=balanced, gamma=0.1, kernel=rbf;, score=0.707 total time=   0.0s\n",
      "[CV 2/5] END C=100, class_weight=balanced, gamma=0.1, kernel=rbf;, score=0.829 total time=   0.0s\n",
      "[CV 3/5] END C=100, class_weight=balanced, gamma=0.1, kernel=rbf;, score=0.825 total time=   0.0s\n",
      "[CV 4/5] END C=100, class_weight=balanced, gamma=0.1, kernel=rbf;, score=0.950 total time=   0.0s\n",
      "[CV 5/5] END C=100, class_weight=balanced, gamma=0.1, kernel=rbf;, score=0.950 total time=   0.0s\n",
      "[CV 1/5] END C=100, class_weight=balanced, gamma=0.01, kernel=linear;, score=0.756 total time=   0.0s\n",
      "[CV 2/5] END C=100, class_weight=balanced, gamma=0.01, kernel=linear;, score=0.732 total time=   0.0s\n",
      "[CV 3/5] END C=100, class_weight=balanced, gamma=0.01, kernel=linear;, score=0.850 total time=   0.0s\n",
      "[CV 4/5] END C=100, class_weight=balanced, gamma=0.01, kernel=linear;, score=0.875 total time=   0.0s\n",
      "[CV 5/5] END C=100, class_weight=balanced, gamma=0.01, kernel=linear;, score=0.900 total time=   0.0s\n",
      "[CV 1/5] END C=100, class_weight=balanced, gamma=0.01, kernel=rbf;, score=0.707 total time=   0.0s\n",
      "[CV 2/5] END C=100, class_weight=balanced, gamma=0.01, kernel=rbf;, score=0.756 total time=   0.0s\n",
      "[CV 3/5] END C=100, class_weight=balanced, gamma=0.01, kernel=rbf;, score=0.875 total time=   0.0s\n",
      "[CV 4/5] END C=100, class_weight=balanced, gamma=0.01, kernel=rbf;, score=0.850 total time=   0.0s\n",
      "[CV 5/5] END C=100, class_weight=balanced, gamma=0.01, kernel=rbf;, score=0.775 total time=   0.0s\n",
      "[CV 1/5] END C=100, class_weight=balanced, gamma=0.001, kernel=linear;, score=0.756 total time=   0.0s\n",
      "[CV 2/5] END C=100, class_weight=balanced, gamma=0.001, kernel=linear;, score=0.732 total time=   0.0s\n",
      "[CV 3/5] END C=100, class_weight=balanced, gamma=0.001, kernel=linear;, score=0.850 total time=   0.0s\n",
      "[CV 4/5] END C=100, class_weight=balanced, gamma=0.001, kernel=linear;, score=0.875 total time=   0.0s\n",
      "[CV 5/5] END C=100, class_weight=balanced, gamma=0.001, kernel=linear;, score=0.900 total time=   0.0s\n",
      "[CV 1/5] END C=100, class_weight=balanced, gamma=0.001, kernel=rbf;, score=0.756 total time=   0.0s\n",
      "[CV 2/5] END C=100, class_weight=balanced, gamma=0.001, kernel=rbf;, score=0.780 total time=   0.0s\n",
      "[CV 3/5] END C=100, class_weight=balanced, gamma=0.001, kernel=rbf;, score=0.850 total time=   0.0s\n",
      "[CV 4/5] END C=100, class_weight=balanced, gamma=0.001, kernel=rbf;, score=0.825 total time=   0.0s\n",
      "[CV 5/5] END C=100, class_weight=balanced, gamma=0.001, kernel=rbf;, score=0.825 total time=   0.0s\n",
      "[CV 1/5] END C=100, class_weight=balanced, gamma=0.0001, kernel=linear;, score=0.756 total time=   0.0s\n",
      "[CV 2/5] END C=100, class_weight=balanced, gamma=0.0001, kernel=linear;, score=0.732 total time=   0.0s\n",
      "[CV 3/5] END C=100, class_weight=balanced, gamma=0.0001, kernel=linear;, score=0.850 total time=   0.0s\n",
      "[CV 4/5] END C=100, class_weight=balanced, gamma=0.0001, kernel=linear;, score=0.875 total time=   0.0s\n",
      "[CV 5/5] END C=100, class_weight=balanced, gamma=0.0001, kernel=linear;, score=0.900 total time=   0.0s\n",
      "[CV 1/5] END C=100, class_weight=balanced, gamma=0.0001, kernel=rbf;, score=0.610 total time=   0.0s\n",
      "[CV 2/5] END C=100, class_weight=balanced, gamma=0.0001, kernel=rbf;, score=0.732 total time=   0.0s\n",
      "[CV 3/5] END C=100, class_weight=balanced, gamma=0.0001, kernel=rbf;, score=0.800 total time=   0.0s\n",
      "[CV 4/5] END C=100, class_weight=balanced, gamma=0.0001, kernel=rbf;, score=0.825 total time=   0.0s\n",
      "[CV 5/5] END C=100, class_weight=balanced, gamma=0.0001, kernel=rbf;, score=0.725 total time=   0.0s\n"
     ]
    },
    {
     "name": "stdout",
     "output_type": "stream",
     "text": [
      "[CV 1/5] END C=100, class_weight=None, gamma=1, kernel=linear;, score=0.756 total time=   0.0s\n",
      "[CV 2/5] END C=100, class_weight=None, gamma=1, kernel=linear;, score=0.732 total time=   0.0s\n",
      "[CV 3/5] END C=100, class_weight=None, gamma=1, kernel=linear;, score=0.850 total time=   0.0s\n",
      "[CV 4/5] END C=100, class_weight=None, gamma=1, kernel=linear;, score=0.875 total time=   0.0s\n",
      "[CV 5/5] END C=100, class_weight=None, gamma=1, kernel=linear;, score=0.900 total time=   0.0s\n",
      "[CV 1/5] END C=100, class_weight=None, gamma=1, kernel=rbf;, score=0.707 total time=   0.0s\n",
      "[CV 2/5] END C=100, class_weight=None, gamma=1, kernel=rbf;, score=0.854 total time=   0.0s\n",
      "[CV 3/5] END C=100, class_weight=None, gamma=1, kernel=rbf;, score=0.800 total time=   0.0s\n",
      "[CV 4/5] END C=100, class_weight=None, gamma=1, kernel=rbf;, score=1.000 total time=   0.0s\n",
      "[CV 5/5] END C=100, class_weight=None, gamma=1, kernel=rbf;, score=1.000 total time=   0.0s\n",
      "[CV 1/5] END C=100, class_weight=None, gamma=0.1, kernel=linear;, score=0.756 total time=   0.0s\n",
      "[CV 2/5] END C=100, class_weight=None, gamma=0.1, kernel=linear;, score=0.732 total time=   0.0s\n",
      "[CV 3/5] END C=100, class_weight=None, gamma=0.1, kernel=linear;, score=0.850 total time=   0.0s\n",
      "[CV 4/5] END C=100, class_weight=None, gamma=0.1, kernel=linear;, score=0.875 total time=   0.0s\n",
      "[CV 5/5] END C=100, class_weight=None, gamma=0.1, kernel=linear;, score=0.900 total time=   0.0s\n",
      "[CV 1/5] END C=100, class_weight=None, gamma=0.1, kernel=rbf;, score=0.707 total time=   0.0s\n",
      "[CV 2/5] END C=100, class_weight=None, gamma=0.1, kernel=rbf;, score=0.829 total time=   0.0s\n",
      "[CV 3/5] END C=100, class_weight=None, gamma=0.1, kernel=rbf;, score=0.825 total time=   0.0s\n",
      "[CV 4/5] END C=100, class_weight=None, gamma=0.1, kernel=rbf;, score=0.950 total time=   0.0s\n",
      "[CV 5/5] END C=100, class_weight=None, gamma=0.1, kernel=rbf;, score=0.950 total time=   0.0s\n",
      "[CV 1/5] END C=100, class_weight=None, gamma=0.01, kernel=linear;, score=0.756 total time=   0.0s\n",
      "[CV 2/5] END C=100, class_weight=None, gamma=0.01, kernel=linear;, score=0.732 total time=   0.0s\n",
      "[CV 3/5] END C=100, class_weight=None, gamma=0.01, kernel=linear;, score=0.850 total time=   0.0s\n",
      "[CV 4/5] END C=100, class_weight=None, gamma=0.01, kernel=linear;, score=0.875 total time=   0.0s\n",
      "[CV 5/5] END C=100, class_weight=None, gamma=0.01, kernel=linear;, score=0.900 total time=   0.0s\n",
      "[CV 1/5] END C=100, class_weight=None, gamma=0.01, kernel=rbf;, score=0.707 total time=   0.0s\n",
      "[CV 2/5] END C=100, class_weight=None, gamma=0.01, kernel=rbf;, score=0.756 total time=   0.0s\n",
      "[CV 3/5] END C=100, class_weight=None, gamma=0.01, kernel=rbf;, score=0.875 total time=   0.0s\n",
      "[CV 4/5] END C=100, class_weight=None, gamma=0.01, kernel=rbf;, score=0.850 total time=   0.0s\n",
      "[CV 5/5] END C=100, class_weight=None, gamma=0.01, kernel=rbf;, score=0.775 total time=   0.0s\n",
      "[CV 1/5] END C=100, class_weight=None, gamma=0.001, kernel=linear;, score=0.756 total time=   0.0s\n",
      "[CV 2/5] END C=100, class_weight=None, gamma=0.001, kernel=linear;, score=0.732 total time=   0.0s\n",
      "[CV 3/5] END C=100, class_weight=None, gamma=0.001, kernel=linear;, score=0.850 total time=   0.0s\n",
      "[CV 4/5] END C=100, class_weight=None, gamma=0.001, kernel=linear;, score=0.875 total time=   0.0s\n",
      "[CV 5/5] END C=100, class_weight=None, gamma=0.001, kernel=linear;, score=0.900 total time=   0.0s\n",
      "[CV 1/5] END C=100, class_weight=None, gamma=0.001, kernel=rbf;, score=0.756 total time=   0.0s\n",
      "[CV 2/5] END C=100, class_weight=None, gamma=0.001, kernel=rbf;, score=0.780 total time=   0.0s\n",
      "[CV 3/5] END C=100, class_weight=None, gamma=0.001, kernel=rbf;, score=0.850 total time=   0.0s\n",
      "[CV 4/5] END C=100, class_weight=None, gamma=0.001, kernel=rbf;, score=0.825 total time=   0.0s\n",
      "[CV 5/5] END C=100, class_weight=None, gamma=0.001, kernel=rbf;, score=0.825 total time=   0.0s\n",
      "[CV 1/5] END C=100, class_weight=None, gamma=0.0001, kernel=linear;, score=0.756 total time=   0.0s\n",
      "[CV 2/5] END C=100, class_weight=None, gamma=0.0001, kernel=linear;, score=0.732 total time=   0.0s\n",
      "[CV 3/5] END C=100, class_weight=None, gamma=0.0001, kernel=linear;, score=0.850 total time=   0.0s\n",
      "[CV 4/5] END C=100, class_weight=None, gamma=0.0001, kernel=linear;, score=0.875 total time=   0.0s\n",
      "[CV 5/5] END C=100, class_weight=None, gamma=0.0001, kernel=linear;, score=0.900 total time=   0.0s\n",
      "[CV 1/5] END C=100, class_weight=None, gamma=0.0001, kernel=rbf;, score=0.610 total time=   0.0s\n",
      "[CV 2/5] END C=100, class_weight=None, gamma=0.0001, kernel=rbf;, score=0.732 total time=   0.0s\n",
      "[CV 3/5] END C=100, class_weight=None, gamma=0.0001, kernel=rbf;, score=0.800 total time=   0.0s\n",
      "[CV 4/5] END C=100, class_weight=None, gamma=0.0001, kernel=rbf;, score=0.825 total time=   0.0s\n",
      "[CV 5/5] END C=100, class_weight=None, gamma=0.0001, kernel=rbf;, score=0.725 total time=   0.0s\n",
      "[CV 1/5] END C=1000, class_weight=balanced, gamma=1, kernel=linear;, score=0.756 total time=   0.0s\n",
      "[CV 2/5] END C=1000, class_weight=balanced, gamma=1, kernel=linear;, score=0.732 total time=   0.0s\n",
      "[CV 3/5] END C=1000, class_weight=balanced, gamma=1, kernel=linear;, score=0.850 total time=   0.0s\n",
      "[CV 4/5] END C=1000, class_weight=balanced, gamma=1, kernel=linear;, score=0.875 total time=   0.0s\n",
      "[CV 5/5] END C=1000, class_weight=balanced, gamma=1, kernel=linear;, score=0.900 total time=   0.0s\n",
      "[CV 1/5] END C=1000, class_weight=balanced, gamma=1, kernel=rbf;, score=0.707 total time=   0.0s\n",
      "[CV 2/5] END C=1000, class_weight=balanced, gamma=1, kernel=rbf;, score=0.854 total time=   0.0s\n",
      "[CV 3/5] END C=1000, class_weight=balanced, gamma=1, kernel=rbf;, score=0.800 total time=   0.0s\n",
      "[CV 4/5] END C=1000, class_weight=balanced, gamma=1, kernel=rbf;, score=1.000 total time=   0.0s\n",
      "[CV 5/5] END C=1000, class_weight=balanced, gamma=1, kernel=rbf;, score=1.000 total time=   0.0s\n",
      "[CV 1/5] END C=1000, class_weight=balanced, gamma=0.1, kernel=linear;, score=0.756 total time=   0.0s\n",
      "[CV 2/5] END C=1000, class_weight=balanced, gamma=0.1, kernel=linear;, score=0.732 total time=   0.0s\n",
      "[CV 3/5] END C=1000, class_weight=balanced, gamma=0.1, kernel=linear;, score=0.850 total time=   0.0s\n",
      "[CV 4/5] END C=1000, class_weight=balanced, gamma=0.1, kernel=linear;, score=0.875 total time=   0.0s\n",
      "[CV 5/5] END C=1000, class_weight=balanced, gamma=0.1, kernel=linear;, score=0.900 total time=   0.0s\n",
      "[CV 1/5] END C=1000, class_weight=balanced, gamma=0.1, kernel=rbf;, score=0.707 total time=   0.0s\n",
      "[CV 2/5] END C=1000, class_weight=balanced, gamma=0.1, kernel=rbf;, score=0.829 total time=   0.0s\n",
      "[CV 3/5] END C=1000, class_weight=balanced, gamma=0.1, kernel=rbf;, score=0.825 total time=   0.0s\n",
      "[CV 4/5] END C=1000, class_weight=balanced, gamma=0.1, kernel=rbf;, score=0.950 total time=   0.0s\n",
      "[CV 5/5] END C=1000, class_weight=balanced, gamma=0.1, kernel=rbf;, score=0.950 total time=   0.0s\n",
      "[CV 1/5] END C=1000, class_weight=balanced, gamma=0.01, kernel=linear;, score=0.756 total time=   0.0s\n",
      "[CV 2/5] END C=1000, class_weight=balanced, gamma=0.01, kernel=linear;, score=0.732 total time=   0.0s\n",
      "[CV 3/5] END C=1000, class_weight=balanced, gamma=0.01, kernel=linear;, score=0.850 total time=   0.0s\n",
      "[CV 4/5] END C=1000, class_weight=balanced, gamma=0.01, kernel=linear;, score=0.875 total time=   0.0s\n",
      "[CV 5/5] END C=1000, class_weight=balanced, gamma=0.01, kernel=linear;, score=0.900 total time=   0.0s\n",
      "[CV 1/5] END C=1000, class_weight=balanced, gamma=0.01, kernel=rbf;, score=0.707 total time=   0.0s\n",
      "[CV 2/5] END C=1000, class_weight=balanced, gamma=0.01, kernel=rbf;, score=0.756 total time=   0.0s\n",
      "[CV 3/5] END C=1000, class_weight=balanced, gamma=0.01, kernel=rbf;, score=0.875 total time=   0.0s\n",
      "[CV 4/5] END C=1000, class_weight=balanced, gamma=0.01, kernel=rbf;, score=0.850 total time=   0.0s\n",
      "[CV 5/5] END C=1000, class_weight=balanced, gamma=0.01, kernel=rbf;, score=0.775 total time=   0.0s\n",
      "[CV 1/5] END C=1000, class_weight=balanced, gamma=0.001, kernel=linear;, score=0.756 total time=   0.0s\n",
      "[CV 2/5] END C=1000, class_weight=balanced, gamma=0.001, kernel=linear;, score=0.732 total time=   0.0s\n",
      "[CV 3/5] END C=1000, class_weight=balanced, gamma=0.001, kernel=linear;, score=0.850 total time=   0.0s\n",
      "[CV 4/5] END C=1000, class_weight=balanced, gamma=0.001, kernel=linear;, score=0.875 total time=   0.0s\n",
      "[CV 5/5] END C=1000, class_weight=balanced, gamma=0.001, kernel=linear;, score=0.900 total time=   0.0s\n",
      "[CV 1/5] END C=1000, class_weight=balanced, gamma=0.001, kernel=rbf;, score=0.756 total time=   0.0s\n"
     ]
    },
    {
     "name": "stdout",
     "output_type": "stream",
     "text": [
      "[CV 2/5] END C=1000, class_weight=balanced, gamma=0.001, kernel=rbf;, score=0.756 total time=   0.0s\n",
      "[CV 3/5] END C=1000, class_weight=balanced, gamma=0.001, kernel=rbf;, score=0.850 total time=   0.0s\n",
      "[CV 4/5] END C=1000, class_weight=balanced, gamma=0.001, kernel=rbf;, score=0.825 total time=   0.0s\n",
      "[CV 5/5] END C=1000, class_weight=balanced, gamma=0.001, kernel=rbf;, score=0.775 total time=   0.0s\n",
      "[CV 1/5] END C=1000, class_weight=balanced, gamma=0.0001, kernel=linear;, score=0.756 total time=   0.0s\n",
      "[CV 2/5] END C=1000, class_weight=balanced, gamma=0.0001, kernel=linear;, score=0.732 total time=   0.0s\n",
      "[CV 3/5] END C=1000, class_weight=balanced, gamma=0.0001, kernel=linear;, score=0.850 total time=   0.0s\n",
      "[CV 4/5] END C=1000, class_weight=balanced, gamma=0.0001, kernel=linear;, score=0.875 total time=   0.0s\n",
      "[CV 5/5] END C=1000, class_weight=balanced, gamma=0.0001, kernel=linear;, score=0.900 total time=   0.0s\n",
      "[CV 1/5] END C=1000, class_weight=balanced, gamma=0.0001, kernel=rbf;, score=0.756 total time=   0.0s\n",
      "[CV 2/5] END C=1000, class_weight=balanced, gamma=0.0001, kernel=rbf;, score=0.780 total time=   0.0s\n",
      "[CV 3/5] END C=1000, class_weight=balanced, gamma=0.0001, kernel=rbf;, score=0.850 total time=   0.0s\n",
      "[CV 4/5] END C=1000, class_weight=balanced, gamma=0.0001, kernel=rbf;, score=0.800 total time=   0.0s\n",
      "[CV 5/5] END C=1000, class_weight=balanced, gamma=0.0001, kernel=rbf;, score=0.800 total time=   0.0s\n",
      "[CV 1/5] END C=1000, class_weight=None, gamma=1, kernel=linear;, score=0.756 total time=   0.0s\n",
      "[CV 2/5] END C=1000, class_weight=None, gamma=1, kernel=linear;, score=0.732 total time=   0.0s\n",
      "[CV 3/5] END C=1000, class_weight=None, gamma=1, kernel=linear;, score=0.850 total time=   0.0s\n",
      "[CV 4/5] END C=1000, class_weight=None, gamma=1, kernel=linear;, score=0.875 total time=   0.0s\n",
      "[CV 5/5] END C=1000, class_weight=None, gamma=1, kernel=linear;, score=0.900 total time=   0.0s\n",
      "[CV 1/5] END C=1000, class_weight=None, gamma=1, kernel=rbf;, score=0.707 total time=   0.0s\n",
      "[CV 2/5] END C=1000, class_weight=None, gamma=1, kernel=rbf;, score=0.854 total time=   0.0s\n",
      "[CV 3/5] END C=1000, class_weight=None, gamma=1, kernel=rbf;, score=0.800 total time=   0.0s\n",
      "[CV 4/5] END C=1000, class_weight=None, gamma=1, kernel=rbf;, score=1.000 total time=   0.0s\n",
      "[CV 5/5] END C=1000, class_weight=None, gamma=1, kernel=rbf;, score=1.000 total time=   0.0s\n",
      "[CV 1/5] END C=1000, class_weight=None, gamma=0.1, kernel=linear;, score=0.756 total time=   0.0s\n",
      "[CV 2/5] END C=1000, class_weight=None, gamma=0.1, kernel=linear;, score=0.732 total time=   0.0s\n",
      "[CV 3/5] END C=1000, class_weight=None, gamma=0.1, kernel=linear;, score=0.850 total time=   0.0s\n",
      "[CV 4/5] END C=1000, class_weight=None, gamma=0.1, kernel=linear;, score=0.875 total time=   0.0s\n",
      "[CV 5/5] END C=1000, class_weight=None, gamma=0.1, kernel=linear;, score=0.900 total time=   0.0s\n",
      "[CV 1/5] END C=1000, class_weight=None, gamma=0.1, kernel=rbf;, score=0.707 total time=   0.0s\n",
      "[CV 2/5] END C=1000, class_weight=None, gamma=0.1, kernel=rbf;, score=0.829 total time=   0.0s\n",
      "[CV 3/5] END C=1000, class_weight=None, gamma=0.1, kernel=rbf;, score=0.825 total time=   0.0s\n",
      "[CV 4/5] END C=1000, class_weight=None, gamma=0.1, kernel=rbf;, score=0.950 total time=   0.0s\n",
      "[CV 5/5] END C=1000, class_weight=None, gamma=0.1, kernel=rbf;, score=0.950 total time=   0.0s\n",
      "[CV 1/5] END C=1000, class_weight=None, gamma=0.01, kernel=linear;, score=0.756 total time=   0.0s\n",
      "[CV 2/5] END C=1000, class_weight=None, gamma=0.01, kernel=linear;, score=0.732 total time=   0.0s\n",
      "[CV 3/5] END C=1000, class_weight=None, gamma=0.01, kernel=linear;, score=0.850 total time=   0.0s\n",
      "[CV 4/5] END C=1000, class_weight=None, gamma=0.01, kernel=linear;, score=0.875 total time=   0.0s\n",
      "[CV 5/5] END C=1000, class_weight=None, gamma=0.01, kernel=linear;, score=0.900 total time=   0.0s\n",
      "[CV 1/5] END C=1000, class_weight=None, gamma=0.01, kernel=rbf;, score=0.707 total time=   0.0s\n",
      "[CV 2/5] END C=1000, class_weight=None, gamma=0.01, kernel=rbf;, score=0.756 total time=   0.0s\n",
      "[CV 3/5] END C=1000, class_weight=None, gamma=0.01, kernel=rbf;, score=0.875 total time=   0.0s\n",
      "[CV 4/5] END C=1000, class_weight=None, gamma=0.01, kernel=rbf;, score=0.850 total time=   0.0s\n",
      "[CV 5/5] END C=1000, class_weight=None, gamma=0.01, kernel=rbf;, score=0.775 total time=   0.0s\n",
      "[CV 1/5] END C=1000, class_weight=None, gamma=0.001, kernel=linear;, score=0.756 total time=   0.0s\n",
      "[CV 2/5] END C=1000, class_weight=None, gamma=0.001, kernel=linear;, score=0.732 total time=   0.0s\n",
      "[CV 3/5] END C=1000, class_weight=None, gamma=0.001, kernel=linear;, score=0.850 total time=   0.0s\n",
      "[CV 4/5] END C=1000, class_weight=None, gamma=0.001, kernel=linear;, score=0.875 total time=   0.0s\n",
      "[CV 5/5] END C=1000, class_weight=None, gamma=0.001, kernel=linear;, score=0.900 total time=   0.0s\n",
      "[CV 1/5] END C=1000, class_weight=None, gamma=0.001, kernel=rbf;, score=0.756 total time=   0.0s\n",
      "[CV 2/5] END C=1000, class_weight=None, gamma=0.001, kernel=rbf;, score=0.756 total time=   0.0s\n",
      "[CV 3/5] END C=1000, class_weight=None, gamma=0.001, kernel=rbf;, score=0.850 total time=   0.0s\n",
      "[CV 4/5] END C=1000, class_weight=None, gamma=0.001, kernel=rbf;, score=0.825 total time=   0.0s\n",
      "[CV 5/5] END C=1000, class_weight=None, gamma=0.001, kernel=rbf;, score=0.775 total time=   0.0s\n",
      "[CV 1/5] END C=1000, class_weight=None, gamma=0.0001, kernel=linear;, score=0.756 total time=   0.0s\n",
      "[CV 2/5] END C=1000, class_weight=None, gamma=0.0001, kernel=linear;, score=0.732 total time=   0.0s\n",
      "[CV 3/5] END C=1000, class_weight=None, gamma=0.0001, kernel=linear;, score=0.850 total time=   0.0s\n",
      "[CV 4/5] END C=1000, class_weight=None, gamma=0.0001, kernel=linear;, score=0.875 total time=   0.0s\n",
      "[CV 5/5] END C=1000, class_weight=None, gamma=0.0001, kernel=linear;, score=0.900 total time=   0.0s\n",
      "[CV 1/5] END C=1000, class_weight=None, gamma=0.0001, kernel=rbf;, score=0.756 total time=   0.0s\n",
      "[CV 2/5] END C=1000, class_weight=None, gamma=0.0001, kernel=rbf;, score=0.780 total time=   0.0s\n",
      "[CV 3/5] END C=1000, class_weight=None, gamma=0.0001, kernel=rbf;, score=0.850 total time=   0.0s\n",
      "[CV 4/5] END C=1000, class_weight=None, gamma=0.0001, kernel=rbf;, score=0.800 total time=   0.0s\n",
      "[CV 5/5] END C=1000, class_weight=None, gamma=0.0001, kernel=rbf;, score=0.800 total time=   0.0s\n"
     ]
    },
    {
     "data": {
      "image/png": "[encoded data removed]",
      "text/plain": [
       "<Figure size 360x288 with 2 Axes>"
      ]
     },
     "metadata": {
      "needs_background": "light"
     },
     "output_type": "display_data"
    }
   ],
   "source": [
    "grid4.fit(X1_train, y1_train)  \n",
    "\n",
    "y1_pred = grid4.predict(X1_test)\n",
    "\n",
    "cm = confusion_matrix(y1_test, y1_pred)\n",
    "cm_df = pd.DataFrame(cm,\n",
    "                     index = [0,1], \n",
    "                     columns = [0,1])\n",
    "plt.figure(figsize=(5,4))\n",
    "sns.heatmap(cm_df, annot=True)\n",
    "plt.title('Confusion Matrix')\n",
    "plt.ylabel('Actal Values')\n",
    "plt.xlabel('Predicted Values')\n",
    "plt.show()\n",
    "\n",
    "#print(cm)\n"
   ]
  },
  {
   "cell_type": "code",
   "execution_count": 66,
   "id": "2e8ba058",
   "metadata": {
    "scrolled": false
   },
   "outputs": [
    {
     "name": "stdout",
     "output_type": "stream",
     "text": [
      "              precision    recall  f1-score   support\n",
      "\n",
      "           0       0.45      1.00      0.62        18\n",
      "           1       0.00      0.00      0.00        22\n",
      "\n",
      "    accuracy                           0.45        40\n",
      "   macro avg       0.23      0.50      0.31        40\n",
      "weighted avg       0.20      0.45      0.28        40\n",
      "\n"
     ]
    },
    {
     "name": "stderr",
     "output_type": "stream",
     "text": [
      "C:\\Users\\siagu\\AppData\\Roaming\\Python\\Python39\\site-packages\\sklearn\\metrics\\_classification.py:1318: UndefinedMetricWarning: Precision and F-score are ill-defined and being set to 0.0 in labels with no predicted samples. Use `zero_division` parameter to control this behavior.\n",
      "  _warn_prf(average, modifier, msg_start, len(result))\n",
      "C:\\Users\\siagu\\AppData\\Roaming\\Python\\Python39\\site-packages\\sklearn\\metrics\\_classification.py:1318: UndefinedMetricWarning: Precision and F-score are ill-defined and being set to 0.0 in labels with no predicted samples. Use `zero_division` parameter to control this behavior.\n",
      "  _warn_prf(average, modifier, msg_start, len(result))\n",
      "C:\\Users\\siagu\\AppData\\Roaming\\Python\\Python39\\site-packages\\sklearn\\metrics\\_classification.py:1318: UndefinedMetricWarning: Precision and F-score are ill-defined and being set to 0.0 in labels with no predicted samples. Use `zero_division` parameter to control this behavior.\n",
      "  _warn_prf(average, modifier, msg_start, len(result))\n"
     ]
    }
   ],
   "source": [
    "print(classification_report(y1_test, y1_pred))"
   ]
  },
  {
   "cell_type": "code",
   "execution_count": 67,
   "id": "50a26ed5",
   "metadata": {},
   "outputs": [
    {
     "data": {
      "image/png": "[encoded data removed]",
      "text/plain": [
       "<Figure size 432x288 with 1 Axes>"
      ]
     },
     "metadata": {
      "needs_background": "light"
     },
     "output_type": "display_data"
    },
    {
     "data": {
      "image/png": "[encoded data removed]",
      "text/plain": [
       "<Figure size 792x576 with 1 Axes>"
      ]
     },
     "metadata": {},
     "output_type": "display_data"
    },
    {
     "data": {
      "text/plain": [
       "<ggplot: (120196103003)>"
      ]
     },
     "execution_count": 67,
     "metadata": {},
     "output_type": "execute_result"
    }
   ],
   "source": [
    "import sklearn.metrics as metrics\n",
    "# calculate the fpr and tpr for all thresholds of the classification\n",
    "probs = grid4.predict_proba(X1_test)\n",
    "preds = probs[:,1]\n",
    "fpr, tpr, threshold = metrics.roc_curve(y1_test, preds)\n",
    "roc_auc = metrics.auc(fpr, tpr)\n",
    "\n",
    "# method I: plt\n",
    "import matplotlib.pyplot as plt\n",
    "plt.title('Receiver Operating Characteristic')\n",
    "plt.plot(fpr, tpr, 'b', label = 'AUC = %0.3f' % roc_auc)\n",
    "plt.legend(loc = 'lower right')\n",
    "plt.plot([0, 1], [0, 1],'r--')\n",
    "plt.xlim([0, 1])\n",
    "plt.ylim([0, 1])\n",
    "plt.ylabel('True Positive Rate')\n",
    "plt.xlabel('False Positive Rate')\n",
    "plt.show()\n",
    "\n",
    "# method II: ggplot\n",
    "from ggplot import *\n",
    "df = pd.DataFrame(dict(fpr = fpr, tpr = tpr))\n",
    "ggplot(df, aes(x = 'fpr', y = 'tpr')) + geom_line() + geom_abline(linetype = 'dashed')"
   ]
  },
  {
   "cell_type": "code",
   "execution_count": 68,
   "id": "014af561",
   "metadata": {},
   "outputs": [
    {
     "name": "stdout",
     "output_type": "stream",
     "text": [
      "Model1: f1=0.000 auc=0.636\n"
     ]
    },
    {
     "data": {
      "image/png": "[encoded data removed]",
      "text/plain": [
       "<Figure size 432x288 with 1 Axes>"
      ]
     },
     "metadata": {
      "needs_background": "light"
     },
     "output_type": "display_data"
    }
   ],
   "source": [
    "# precision-recall curve and f1\n",
    "from sklearn.datasets import make_classification\n",
    "from sklearn.linear_model import LogisticRegression\n",
    "from sklearn.model_selection import train_test_split\n",
    "from sklearn.metrics import precision_recall_curve\n",
    "from sklearn.metrics import f1_score\n",
    "from sklearn.metrics import auc\n",
    "from matplotlib import pyplot\n",
    "lr_probs = grid4.predict_proba(X1_test)\n",
    "# keep probabilities for the positive outcome only\n",
    "lr_probs = lr_probs[:, 1]\n",
    "# predict class values\n",
    "yhat = grid4.predict(X1_test)\n",
    "lr_precision, lr_recall, _ = precision_recall_curve(y1_test, lr_probs)\n",
    "lr_f1, lr_auc = f1_score(y1_test, yhat), auc(lr_recall, lr_precision)\n",
    "# summarize scores\n",
    "print('Model1: f1=%.3f auc=%.3f' % (lr_f1, lr_auc))\n",
    "# plot the precision-recall curves\n",
    "no_skill = len(y1_test[y1_test==1]) / len(y1_test)\n",
    "pyplot.plot([0, 1], [no_skill, no_skill], linestyle='--', label='No Skill')\n",
    "pyplot.plot(lr_recall, lr_precision, marker='.', label='Logistic')\n",
    "# axis labels\n",
    "pyplot.xlabel('Recall')\n",
    "pyplot.ylabel('Precision')\n",
    "# show the legend\n",
    "pyplot.legend()\n",
    "# show the plot\n",
    "pyplot.show()"
   ]
  },
  {
   "cell_type": "code",
   "execution_count": 69,
   "id": "18d14410",
   "metadata": {},
   "outputs": [
    {
     "name": "stdout",
     "output_type": "stream",
     "text": [
      "balanced_accuracy 0.5\n"
     ]
    }
   ],
   "source": [
    "print(\"balanced_accuracy\", balanced_accuracy_score(y1_test, y1_pred))"
   ]
  },
  {
   "cell_type": "code",
   "execution_count": 70,
   "id": "f5e132b1",
   "metadata": {},
   "outputs": [
    {
     "name": "stdout",
     "output_type": "stream",
     "text": [
      "Fitting 5 folds for each of 100 candidates, totalling 500 fits\n",
      "[CV 1/5] END C=0.1, class_weight=balanced, gamma=1, kernel=linear;, score=0.512 total time=   0.0s\n",
      "[CV 2/5] END C=0.1, class_weight=balanced, gamma=1, kernel=linear;, score=0.512 total time=   0.0s\n",
      "[CV 3/5] END C=0.1, class_weight=balanced, gamma=1, kernel=linear;, score=0.850 total time=   0.0s\n",
      "[CV 4/5] END C=0.1, class_weight=balanced, gamma=1, kernel=linear;, score=0.750 total time=   0.0s\n",
      "[CV 5/5] END C=0.1, class_weight=balanced, gamma=1, kernel=linear;, score=0.700 total time=   0.0s\n",
      "[CV 1/5] END C=0.1, class_weight=balanced, gamma=1, kernel=rbf;, score=0.512 total time=   0.0s\n",
      "[CV 2/5] END C=0.1, class_weight=balanced, gamma=1, kernel=rbf;, score=0.512 total time=   0.0s\n",
      "[CV 3/5] END C=0.1, class_weight=balanced, gamma=1, kernel=rbf;, score=0.775 total time=   0.0s\n",
      "[CV 4/5] END C=0.1, class_weight=balanced, gamma=1, kernel=rbf;, score=0.950 total time=   0.0s\n",
      "[CV 5/5] END C=0.1, class_weight=balanced, gamma=1, kernel=rbf;, score=0.875 total time=   0.0s\n",
      "[CV 1/5] END C=0.1, class_weight=balanced, gamma=0.1, kernel=linear;, score=0.512 total time=   0.0s\n",
      "[CV 2/5] END C=0.1, class_weight=balanced, gamma=0.1, kernel=linear;, score=0.512 total time=   0.0s\n",
      "[CV 3/5] END C=0.1, class_weight=balanced, gamma=0.1, kernel=linear;, score=0.850 total time=   0.0s\n",
      "[CV 4/5] END C=0.1, class_weight=balanced, gamma=0.1, kernel=linear;, score=0.750 total time=   0.0s\n",
      "[CV 5/5] END C=0.1, class_weight=balanced, gamma=0.1, kernel=linear;, score=0.700 total time=   0.0s\n",
      "[CV 1/5] END C=0.1, class_weight=balanced, gamma=0.1, kernel=rbf;, score=0.512 total time=   0.0s\n",
      "[CV 2/5] END C=0.1, class_weight=balanced, gamma=0.1, kernel=rbf;, score=0.512 total time=   0.0s\n",
      "[CV 3/5] END C=0.1, class_weight=balanced, gamma=0.1, kernel=rbf;, score=0.850 total time=   0.0s\n",
      "[CV 4/5] END C=0.1, class_weight=balanced, gamma=0.1, kernel=rbf;, score=0.825 total time=   0.0s\n",
      "[CV 5/5] END C=0.1, class_weight=balanced, gamma=0.1, kernel=rbf;, score=0.675 total time=   0.0s\n",
      "[CV 1/5] END C=0.1, class_weight=balanced, gamma=0.01, kernel=linear;, score=0.512 total time=   0.0s\n",
      "[CV 2/5] END C=0.1, class_weight=balanced, gamma=0.01, kernel=linear;, score=0.512 total time=   0.0s\n",
      "[CV 3/5] END C=0.1, class_weight=balanced, gamma=0.01, kernel=linear;, score=0.850 total time=   0.0s\n",
      "[CV 4/5] END C=0.1, class_weight=balanced, gamma=0.01, kernel=linear;, score=0.750 total time=   0.0s\n",
      "[CV 5/5] END C=0.1, class_weight=balanced, gamma=0.01, kernel=linear;, score=0.700 total time=   0.0s\n",
      "[CV 1/5] END C=0.1, class_weight=balanced, gamma=0.01, kernel=rbf;, score=0.512 total time=   0.0s\n",
      "[CV 2/5] END C=0.1, class_weight=balanced, gamma=0.01, kernel=rbf;, score=0.512 total time=   0.0s\n",
      "[CV 3/5] END C=0.1, class_weight=balanced, gamma=0.01, kernel=rbf;, score=0.850 total time=   0.0s\n",
      "[CV 4/5] END C=0.1, class_weight=balanced, gamma=0.01, kernel=rbf;, score=0.750 total time=   0.0s\n",
      "[CV 5/5] END C=0.1, class_weight=balanced, gamma=0.01, kernel=rbf;, score=0.700 total time=   0.0s\n",
      "[CV 1/5] END C=0.1, class_weight=balanced, gamma=0.001, kernel=linear;, score=0.512 total time=   0.0s\n",
      "[CV 2/5] END C=0.1, class_weight=balanced, gamma=0.001, kernel=linear;, score=0.512 total time=   0.0s\n",
      "[CV 3/5] END C=0.1, class_weight=balanced, gamma=0.001, kernel=linear;, score=0.850 total time=   0.0s\n",
      "[CV 4/5] END C=0.1, class_weight=balanced, gamma=0.001, kernel=linear;, score=0.750 total time=   0.0s\n",
      "[CV 5/5] END C=0.1, class_weight=balanced, gamma=0.001, kernel=linear;, score=0.700 total time=   0.0s\n",
      "[CV 1/5] END C=0.1, class_weight=balanced, gamma=0.001, kernel=rbf;, score=0.512 total time=   0.0s\n",
      "[CV 2/5] END C=0.1, class_weight=balanced, gamma=0.001, kernel=rbf;, score=0.512 total time=   0.0s\n",
      "[CV 3/5] END C=0.1, class_weight=balanced, gamma=0.001, kernel=rbf;, score=0.850 total time=   0.0s\n",
      "[CV 4/5] END C=0.1, class_weight=balanced, gamma=0.001, kernel=rbf;, score=0.750 total time=   0.0s\n",
      "[CV 5/5] END C=0.1, class_weight=balanced, gamma=0.001, kernel=rbf;, score=0.700 total time=   0.0s\n",
      "[CV 1/5] END C=0.1, class_weight=balanced, gamma=0.0001, kernel=linear;, score=0.512 total time=   0.0s\n",
      "[CV 2/5] END C=0.1, class_weight=balanced, gamma=0.0001, kernel=linear;, score=0.512 total time=   0.0s\n",
      "[CV 3/5] END C=0.1, class_weight=balanced, gamma=0.0001, kernel=linear;, score=0.850 total time=   0.0s\n",
      "[CV 4/5] END C=0.1, class_weight=balanced, gamma=0.0001, kernel=linear;, score=0.750 total time=   0.0s\n",
      "[CV 5/5] END C=0.1, class_weight=balanced, gamma=0.0001, kernel=linear;, score=0.700 total time=   0.0s\n",
      "[CV 1/5] END C=0.1, class_weight=balanced, gamma=0.0001, kernel=rbf;, score=0.512 total time=   0.0s\n",
      "[CV 2/5] END C=0.1, class_weight=balanced, gamma=0.0001, kernel=rbf;, score=0.512 total time=   0.0s\n",
      "[CV 3/5] END C=0.1, class_weight=balanced, gamma=0.0001, kernel=rbf;, score=0.850 total time=   0.0s\n",
      "[CV 4/5] END C=0.1, class_weight=balanced, gamma=0.0001, kernel=rbf;, score=0.750 total time=   0.0s\n",
      "[CV 5/5] END C=0.1, class_weight=balanced, gamma=0.0001, kernel=rbf;, score=0.700 total time=   0.0s\n",
      "[CV 1/5] END C=0.1, class_weight=None, gamma=1, kernel=linear;, score=0.488 total time=   0.0s\n",
      "[CV 2/5] END C=0.1, class_weight=None, gamma=1, kernel=linear;, score=0.488 total time=   0.0s\n",
      "[CV 3/5] END C=0.1, class_weight=None, gamma=1, kernel=linear;, score=0.850 total time=   0.0s\n",
      "[CV 4/5] END C=0.1, class_weight=None, gamma=1, kernel=linear;, score=0.750 total time=   0.0s\n",
      "[CV 5/5] END C=0.1, class_weight=None, gamma=1, kernel=linear;, score=0.700 total time=   0.0s\n",
      "[CV 1/5] END C=0.1, class_weight=None, gamma=1, kernel=rbf;, score=0.488 total time=   0.0s\n",
      "[CV 2/5] END C=0.1, class_weight=None, gamma=1, kernel=rbf;, score=0.488 total time=   0.0s\n",
      "[CV 3/5] END C=0.1, class_weight=None, gamma=1, kernel=rbf;, score=0.775 total time=   0.0s\n",
      "[CV 4/5] END C=0.1, class_weight=None, gamma=1, kernel=rbf;, score=0.950 total time=   0.0s\n",
      "[CV 5/5] END C=0.1, class_weight=None, gamma=1, kernel=rbf;, score=0.875 total time=   0.0s\n",
      "[CV 1/5] END C=0.1, class_weight=None, gamma=0.1, kernel=linear;, score=0.488 total time=   0.0s\n",
      "[CV 2/5] END C=0.1, class_weight=None, gamma=0.1, kernel=linear;, score=0.488 total time=   0.0s\n",
      "[CV 3/5] END C=0.1, class_weight=None, gamma=0.1, kernel=linear;, score=0.850 total time=   0.0s\n",
      "[CV 4/5] END C=0.1, class_weight=None, gamma=0.1, kernel=linear;, score=0.750 total time=   0.0s\n",
      "[CV 5/5] END C=0.1, class_weight=None, gamma=0.1, kernel=linear;, score=0.700 total time=   0.0s\n",
      "[CV 1/5] END C=0.1, class_weight=None, gamma=0.1, kernel=rbf;, score=0.488 total time=   0.0s\n",
      "[CV 2/5] END C=0.1, class_weight=None, gamma=0.1, kernel=rbf;, score=0.488 total time=   0.0s\n",
      "[CV 3/5] END C=0.1, class_weight=None, gamma=0.1, kernel=rbf;, score=0.850 total time=   0.0s\n",
      "[CV 4/5] END C=0.1, class_weight=None, gamma=0.1, kernel=rbf;, score=0.825 total time=   0.0s\n",
      "[CV 5/5] END C=0.1, class_weight=None, gamma=0.1, kernel=rbf;, score=0.675 total time=   0.0s\n",
      "[CV 1/5] END C=0.1, class_weight=None, gamma=0.01, kernel=linear;, score=0.488 total time=   0.0s\n",
      "[CV 2/5] END C=0.1, class_weight=None, gamma=0.01, kernel=linear;, score=0.488 total time=   0.0s\n",
      "[CV 3/5] END C=0.1, class_weight=None, gamma=0.01, kernel=linear;, score=0.850 total time=   0.0s\n",
      "[CV 4/5] END C=0.1, class_weight=None, gamma=0.01, kernel=linear;, score=0.750 total time=   0.0s\n",
      "[CV 5/5] END C=0.1, class_weight=None, gamma=0.01, kernel=linear;, score=0.700 total time=   0.0s\n",
      "[CV 1/5] END C=0.1, class_weight=None, gamma=0.01, kernel=rbf;, score=0.488 total time=   0.0s\n",
      "[CV 2/5] END C=0.1, class_weight=None, gamma=0.01, kernel=rbf;, score=0.488 total time=   0.0s\n",
      "[CV 3/5] END C=0.1, class_weight=None, gamma=0.01, kernel=rbf;, score=0.850 total time=   0.0s\n",
      "[CV 4/5] END C=0.1, class_weight=None, gamma=0.01, kernel=rbf;, score=0.750 total time=   0.0s\n",
      "[CV 5/5] END C=0.1, class_weight=None, gamma=0.01, kernel=rbf;, score=0.700 total time=   0.0s\n",
      "[CV 1/5] END C=0.1, class_weight=None, gamma=0.001, kernel=linear;, score=0.488 total time=   0.0s\n",
      "[CV 2/5] END C=0.1, class_weight=None, gamma=0.001, kernel=linear;, score=0.488 total time=   0.0s\n",
      "[CV 3/5] END C=0.1, class_weight=None, gamma=0.001, kernel=linear;, score=0.850 total time=   0.0s\n",
      "[CV 4/5] END C=0.1, class_weight=None, gamma=0.001, kernel=linear;, score=0.750 total time=   0.0s\n",
      "[CV 5/5] END C=0.1, class_weight=None, gamma=0.001, kernel=linear;, score=0.700 total time=   0.0s\n",
      "[CV 1/5] END C=0.1, class_weight=None, gamma=0.001, kernel=rbf;, score=0.488 total time=   0.0s\n",
      "[CV 2/5] END C=0.1, class_weight=None, gamma=0.001, kernel=rbf;, score=0.488 total time=   0.0s\n"
     ]
    },
    {
     "name": "stdout",
     "output_type": "stream",
     "text": [
      "[CV 3/5] END C=0.1, class_weight=None, gamma=0.001, kernel=rbf;, score=0.850 total time=   0.0s\n",
      "[CV 4/5] END C=0.1, class_weight=None, gamma=0.001, kernel=rbf;, score=0.750 total time=   0.0s\n",
      "[CV 5/5] END C=0.1, class_weight=None, gamma=0.001, kernel=rbf;, score=0.700 total time=   0.0s\n",
      "[CV 1/5] END C=0.1, class_weight=None, gamma=0.0001, kernel=linear;, score=0.488 total time=   0.0s\n",
      "[CV 2/5] END C=0.1, class_weight=None, gamma=0.0001, kernel=linear;, score=0.488 total time=   0.0s\n",
      "[CV 3/5] END C=0.1, class_weight=None, gamma=0.0001, kernel=linear;, score=0.850 total time=   0.0s\n",
      "[CV 4/5] END C=0.1, class_weight=None, gamma=0.0001, kernel=linear;, score=0.750 total time=   0.0s\n",
      "[CV 5/5] END C=0.1, class_weight=None, gamma=0.0001, kernel=linear;, score=0.700 total time=   0.0s\n",
      "[CV 1/5] END C=0.1, class_weight=None, gamma=0.0001, kernel=rbf;, score=0.488 total time=   0.0s\n",
      "[CV 2/5] END C=0.1, class_weight=None, gamma=0.0001, kernel=rbf;, score=0.488 total time=   0.0s\n",
      "[CV 3/5] END C=0.1, class_weight=None, gamma=0.0001, kernel=rbf;, score=0.850 total time=   0.0s\n",
      "[CV 4/5] END C=0.1, class_weight=None, gamma=0.0001, kernel=rbf;, score=0.750 total time=   0.0s\n",
      "[CV 5/5] END C=0.1, class_weight=None, gamma=0.0001, kernel=rbf;, score=0.700 total time=   0.0s\n",
      "[CV 1/5] END C=1, class_weight=balanced, gamma=1, kernel=linear;, score=0.756 total time=   0.0s\n",
      "[CV 2/5] END C=1, class_weight=balanced, gamma=1, kernel=linear;, score=0.732 total time=   0.0s\n",
      "[CV 3/5] END C=1, class_weight=balanced, gamma=1, kernel=linear;, score=0.825 total time=   0.0s\n",
      "[CV 4/5] END C=1, class_weight=balanced, gamma=1, kernel=linear;, score=0.825 total time=   0.0s\n",
      "[CV 5/5] END C=1, class_weight=balanced, gamma=1, kernel=linear;, score=0.750 total time=   0.0s\n",
      "[CV 1/5] END C=1, class_weight=balanced, gamma=1, kernel=rbf;, score=0.854 total time=   0.0s\n",
      "[CV 2/5] END C=1, class_weight=balanced, gamma=1, kernel=rbf;, score=0.756 total time=   0.0s\n",
      "[CV 3/5] END C=1, class_weight=balanced, gamma=1, kernel=rbf;, score=0.850 total time=   0.0s\n",
      "[CV 4/5] END C=1, class_weight=balanced, gamma=1, kernel=rbf;, score=0.950 total time=   0.0s\n",
      "[CV 5/5] END C=1, class_weight=balanced, gamma=1, kernel=rbf;, score=0.800 total time=   0.0s\n",
      "[CV 1/5] END C=1, class_weight=balanced, gamma=0.1, kernel=linear;, score=0.756 total time=   0.0s\n",
      "[CV 2/5] END C=1, class_weight=balanced, gamma=0.1, kernel=linear;, score=0.732 total time=   0.0s\n",
      "[CV 3/5] END C=1, class_weight=balanced, gamma=0.1, kernel=linear;, score=0.825 total time=   0.0s\n",
      "[CV 4/5] END C=1, class_weight=balanced, gamma=0.1, kernel=linear;, score=0.825 total time=   0.0s\n",
      "[CV 5/5] END C=1, class_weight=balanced, gamma=0.1, kernel=linear;, score=0.750 total time=   0.0s\n",
      "[CV 1/5] END C=1, class_weight=balanced, gamma=0.1, kernel=rbf;, score=0.659 total time=   0.0s\n",
      "[CV 2/5] END C=1, class_weight=balanced, gamma=0.1, kernel=rbf;, score=0.537 total time=   0.0s\n",
      "[CV 3/5] END C=1, class_weight=balanced, gamma=0.1, kernel=rbf;, score=0.850 total time=   0.0s\n",
      "[CV 4/5] END C=1, class_weight=balanced, gamma=0.1, kernel=rbf;, score=0.825 total time=   0.0s\n",
      "[CV 5/5] END C=1, class_weight=balanced, gamma=0.1, kernel=rbf;, score=0.675 total time=   0.0s\n",
      "[CV 1/5] END C=1, class_weight=balanced, gamma=0.01, kernel=linear;, score=0.756 total time=   0.0s\n",
      "[CV 2/5] END C=1, class_weight=balanced, gamma=0.01, kernel=linear;, score=0.732 total time=   0.0s\n",
      "[CV 3/5] END C=1, class_weight=balanced, gamma=0.01, kernel=linear;, score=0.825 total time=   0.0s\n",
      "[CV 4/5] END C=1, class_weight=balanced, gamma=0.01, kernel=linear;, score=0.825 total time=   0.0s\n",
      "[CV 5/5] END C=1, class_weight=balanced, gamma=0.01, kernel=linear;, score=0.750 total time=   0.0s\n",
      "[CV 1/5] END C=1, class_weight=balanced, gamma=0.01, kernel=rbf;, score=0.512 total time=   0.0s\n",
      "[CV 2/5] END C=1, class_weight=balanced, gamma=0.01, kernel=rbf;, score=0.512 total time=   0.0s\n",
      "[CV 3/5] END C=1, class_weight=balanced, gamma=0.01, kernel=rbf;, score=0.850 total time=   0.0s\n",
      "[CV 4/5] END C=1, class_weight=balanced, gamma=0.01, kernel=rbf;, score=0.750 total time=   0.0s\n",
      "[CV 5/5] END C=1, class_weight=balanced, gamma=0.01, kernel=rbf;, score=0.700 total time=   0.0s\n",
      "[CV 1/5] END C=1, class_weight=balanced, gamma=0.001, kernel=linear;, score=0.756 total time=   0.0s\n",
      "[CV 2/5] END C=1, class_weight=balanced, gamma=0.001, kernel=linear;, score=0.732 total time=   0.0s\n",
      "[CV 3/5] END C=1, class_weight=balanced, gamma=0.001, kernel=linear;, score=0.825 total time=   0.0s\n",
      "[CV 4/5] END C=1, class_weight=balanced, gamma=0.001, kernel=linear;, score=0.825 total time=   0.0s\n",
      "[CV 5/5] END C=1, class_weight=balanced, gamma=0.001, kernel=linear;, score=0.750 total time=   0.0s\n",
      "[CV 1/5] END C=1, class_weight=balanced, gamma=0.001, kernel=rbf;, score=0.512 total time=   0.0s\n",
      "[CV 2/5] END C=1, class_weight=balanced, gamma=0.001, kernel=rbf;, score=0.512 total time=   0.0s\n",
      "[CV 3/5] END C=1, class_weight=balanced, gamma=0.001, kernel=rbf;, score=0.850 total time=   0.0s\n",
      "[CV 4/5] END C=1, class_weight=balanced, gamma=0.001, kernel=rbf;, score=0.750 total time=   0.0s\n",
      "[CV 5/5] END C=1, class_weight=balanced, gamma=0.001, kernel=rbf;, score=0.700 total time=   0.0s\n",
      "[CV 1/5] END C=1, class_weight=balanced, gamma=0.0001, kernel=linear;, score=0.756 total time=   0.0s\n",
      "[CV 2/5] END C=1, class_weight=balanced, gamma=0.0001, kernel=linear;, score=0.732 total time=   0.0s\n",
      "[CV 3/5] END C=1, class_weight=balanced, gamma=0.0001, kernel=linear;, score=0.825 total time=   0.0s\n",
      "[CV 4/5] END C=1, class_weight=balanced, gamma=0.0001, kernel=linear;, score=0.825 total time=   0.0s\n",
      "[CV 5/5] END C=1, class_weight=balanced, gamma=0.0001, kernel=linear;, score=0.750 total time=   0.0s\n",
      "[CV 1/5] END C=1, class_weight=balanced, gamma=0.0001, kernel=rbf;, score=0.512 total time=   0.0s\n",
      "[CV 2/5] END C=1, class_weight=balanced, gamma=0.0001, kernel=rbf;, score=0.512 total time=   0.0s\n",
      "[CV 3/5] END C=1, class_weight=balanced, gamma=0.0001, kernel=rbf;, score=0.850 total time=   0.0s\n",
      "[CV 4/5] END C=1, class_weight=balanced, gamma=0.0001, kernel=rbf;, score=0.750 total time=   0.0s\n",
      "[CV 5/5] END C=1, class_weight=balanced, gamma=0.0001, kernel=rbf;, score=0.700 total time=   0.0s\n",
      "[CV 1/5] END C=1, class_weight=None, gamma=1, kernel=linear;, score=0.756 total time=   0.0s\n",
      "[CV 2/5] END C=1, class_weight=None, gamma=1, kernel=linear;, score=0.732 total time=   0.0s\n",
      "[CV 3/5] END C=1, class_weight=None, gamma=1, kernel=linear;, score=0.825 total time=   0.0s\n",
      "[CV 4/5] END C=1, class_weight=None, gamma=1, kernel=linear;, score=0.825 total time=   0.0s\n",
      "[CV 5/5] END C=1, class_weight=None, gamma=1, kernel=linear;, score=0.750 total time=   0.0s\n",
      "[CV 1/5] END C=1, class_weight=None, gamma=1, kernel=rbf;, score=0.829 total time=   0.0s\n",
      "[CV 2/5] END C=1, class_weight=None, gamma=1, kernel=rbf;, score=0.756 total time=   0.0s\n",
      "[CV 3/5] END C=1, class_weight=None, gamma=1, kernel=rbf;, score=0.850 total time=   0.0s\n",
      "[CV 4/5] END C=1, class_weight=None, gamma=1, kernel=rbf;, score=0.950 total time=   0.0s\n",
      "[CV 5/5] END C=1, class_weight=None, gamma=1, kernel=rbf;, score=0.800 total time=   0.0s\n",
      "[CV 1/5] END C=1, class_weight=None, gamma=0.1, kernel=linear;, score=0.756 total time=   0.0s\n",
      "[CV 2/5] END C=1, class_weight=None, gamma=0.1, kernel=linear;, score=0.732 total time=   0.0s\n",
      "[CV 3/5] END C=1, class_weight=None, gamma=0.1, kernel=linear;, score=0.825 total time=   0.0s\n",
      "[CV 4/5] END C=1, class_weight=None, gamma=0.1, kernel=linear;, score=0.825 total time=   0.0s\n",
      "[CV 5/5] END C=1, class_weight=None, gamma=0.1, kernel=linear;, score=0.750 total time=   0.0s\n",
      "[CV 1/5] END C=1, class_weight=None, gamma=0.1, kernel=rbf;, score=0.537 total time=   0.0s\n",
      "[CV 2/5] END C=1, class_weight=None, gamma=0.1, kernel=rbf;, score=0.585 total time=   0.0s\n",
      "[CV 3/5] END C=1, class_weight=None, gamma=0.1, kernel=rbf;, score=0.850 total time=   0.0s\n",
      "[CV 4/5] END C=1, class_weight=None, gamma=0.1, kernel=rbf;, score=0.825 total time=   0.0s\n",
      "[CV 5/5] END C=1, class_weight=None, gamma=0.1, kernel=rbf;, score=0.675 total time=   0.0s\n",
      "[CV 1/5] END C=1, class_weight=None, gamma=0.01, kernel=linear;, score=0.756 total time=   0.0s\n",
      "[CV 2/5] END C=1, class_weight=None, gamma=0.01, kernel=linear;, score=0.732 total time=   0.0s\n",
      "[CV 3/5] END C=1, class_weight=None, gamma=0.01, kernel=linear;, score=0.825 total time=   0.0s\n",
      "[CV 4/5] END C=1, class_weight=None, gamma=0.01, kernel=linear;, score=0.825 total time=   0.0s\n",
      "[CV 5/5] END C=1, class_weight=None, gamma=0.01, kernel=linear;, score=0.750 total time=   0.0s\n",
      "[CV 1/5] END C=1, class_weight=None, gamma=0.01, kernel=rbf;, score=0.488 total time=   0.0s\n",
      "[CV 2/5] END C=1, class_weight=None, gamma=0.01, kernel=rbf;, score=0.488 total time=   0.0s\n",
      "[CV 3/5] END C=1, class_weight=None, gamma=0.01, kernel=rbf;, score=0.850 total time=   0.0s\n"
     ]
    },
    {
     "name": "stdout",
     "output_type": "stream",
     "text": [
      "[CV 4/5] END C=1, class_weight=None, gamma=0.01, kernel=rbf;, score=0.750 total time=   0.0s\n",
      "[CV 5/5] END C=1, class_weight=None, gamma=0.01, kernel=rbf;, score=0.700 total time=   0.0s\n",
      "[CV 1/5] END C=1, class_weight=None, gamma=0.001, kernel=linear;, score=0.756 total time=   0.0s\n",
      "[CV 2/5] END C=1, class_weight=None, gamma=0.001, kernel=linear;, score=0.732 total time=   0.0s\n",
      "[CV 3/5] END C=1, class_weight=None, gamma=0.001, kernel=linear;, score=0.825 total time=   0.0s\n",
      "[CV 4/5] END C=1, class_weight=None, gamma=0.001, kernel=linear;, score=0.825 total time=   0.0s\n",
      "[CV 5/5] END C=1, class_weight=None, gamma=0.001, kernel=linear;, score=0.750 total time=   0.0s\n",
      "[CV 1/5] END C=1, class_weight=None, gamma=0.001, kernel=rbf;, score=0.488 total time=   0.0s\n",
      "[CV 2/5] END C=1, class_weight=None, gamma=0.001, kernel=rbf;, score=0.488 total time=   0.0s\n",
      "[CV 3/5] END C=1, class_weight=None, gamma=0.001, kernel=rbf;, score=0.850 total time=   0.0s\n",
      "[CV 4/5] END C=1, class_weight=None, gamma=0.001, kernel=rbf;, score=0.750 total time=   0.0s\n",
      "[CV 5/5] END C=1, class_weight=None, gamma=0.001, kernel=rbf;, score=0.700 total time=   0.0s\n",
      "[CV 1/5] END C=1, class_weight=None, gamma=0.0001, kernel=linear;, score=0.756 total time=   0.0s\n",
      "[CV 2/5] END C=1, class_weight=None, gamma=0.0001, kernel=linear;, score=0.732 total time=   0.0s\n",
      "[CV 3/5] END C=1, class_weight=None, gamma=0.0001, kernel=linear;, score=0.825 total time=   0.0s\n",
      "[CV 4/5] END C=1, class_weight=None, gamma=0.0001, kernel=linear;, score=0.825 total time=   0.0s\n",
      "[CV 5/5] END C=1, class_weight=None, gamma=0.0001, kernel=linear;, score=0.750 total time=   0.0s\n",
      "[CV 1/5] END C=1, class_weight=None, gamma=0.0001, kernel=rbf;, score=0.488 total time=   0.0s\n",
      "[CV 2/5] END C=1, class_weight=None, gamma=0.0001, kernel=rbf;, score=0.488 total time=   0.0s\n",
      "[CV 3/5] END C=1, class_weight=None, gamma=0.0001, kernel=rbf;, score=0.850 total time=   0.0s\n",
      "[CV 4/5] END C=1, class_weight=None, gamma=0.0001, kernel=rbf;, score=0.750 total time=   0.0s\n",
      "[CV 5/5] END C=1, class_weight=None, gamma=0.0001, kernel=rbf;, score=0.700 total time=   0.0s\n",
      "[CV 1/5] END C=10, class_weight=balanced, gamma=1, kernel=linear;, score=0.829 total time=   0.0s\n",
      "[CV 2/5] END C=10, class_weight=balanced, gamma=1, kernel=linear;, score=0.634 total time=   0.0s\n",
      "[CV 3/5] END C=10, class_weight=balanced, gamma=1, kernel=linear;, score=0.800 total time=   0.0s\n",
      "[CV 4/5] END C=10, class_weight=balanced, gamma=1, kernel=linear;, score=0.900 total time=   0.0s\n",
      "[CV 5/5] END C=10, class_weight=balanced, gamma=1, kernel=linear;, score=0.750 total time=   0.0s\n",
      "[CV 1/5] END C=10, class_weight=balanced, gamma=1, kernel=rbf;, score=0.805 total time=   0.0s\n",
      "[CV 2/5] END C=10, class_weight=balanced, gamma=1, kernel=rbf;, score=0.805 total time=   0.0s\n",
      "[CV 3/5] END C=10, class_weight=balanced, gamma=1, kernel=rbf;, score=0.900 total time=   0.0s\n",
      "[CV 4/5] END C=10, class_weight=balanced, gamma=1, kernel=rbf;, score=0.975 total time=   0.0s\n",
      "[CV 5/5] END C=10, class_weight=balanced, gamma=1, kernel=rbf;, score=0.775 total time=   0.0s\n",
      "[CV 1/5] END C=10, class_weight=balanced, gamma=0.1, kernel=linear;, score=0.829 total time=   0.0s\n",
      "[CV 2/5] END C=10, class_weight=balanced, gamma=0.1, kernel=linear;, score=0.634 total time=   0.0s\n",
      "[CV 3/5] END C=10, class_weight=balanced, gamma=0.1, kernel=linear;, score=0.800 total time=   0.0s\n",
      "[CV 4/5] END C=10, class_weight=balanced, gamma=0.1, kernel=linear;, score=0.900 total time=   0.0s\n",
      "[CV 5/5] END C=10, class_weight=balanced, gamma=0.1, kernel=linear;, score=0.750 total time=   0.0s\n",
      "[CV 1/5] END C=10, class_weight=balanced, gamma=0.1, kernel=rbf;, score=0.829 total time=   0.0s\n",
      "[CV 2/5] END C=10, class_weight=balanced, gamma=0.1, kernel=rbf;, score=0.732 total time=   0.0s\n",
      "[CV 3/5] END C=10, class_weight=balanced, gamma=0.1, kernel=rbf;, score=0.875 total time=   0.0s\n",
      "[CV 4/5] END C=10, class_weight=balanced, gamma=0.1, kernel=rbf;, score=0.875 total time=   0.0s\n",
      "[CV 5/5] END C=10, class_weight=balanced, gamma=0.1, kernel=rbf;, score=0.750 total time=   0.0s\n",
      "[CV 1/5] END C=10, class_weight=balanced, gamma=0.01, kernel=linear;, score=0.829 total time=   0.0s\n",
      "[CV 2/5] END C=10, class_weight=balanced, gamma=0.01, kernel=linear;, score=0.634 total time=   0.0s\n",
      "[CV 3/5] END C=10, class_weight=balanced, gamma=0.01, kernel=linear;, score=0.800 total time=   0.0s\n",
      "[CV 4/5] END C=10, class_weight=balanced, gamma=0.01, kernel=linear;, score=0.900 total time=   0.0s\n",
      "[CV 5/5] END C=10, class_weight=balanced, gamma=0.01, kernel=linear;, score=0.750 total time=   0.0s\n",
      "[CV 1/5] END C=10, class_weight=balanced, gamma=0.01, kernel=rbf;, score=0.683 total time=   0.0s\n",
      "[CV 2/5] END C=10, class_weight=balanced, gamma=0.01, kernel=rbf;, score=0.659 total time=   0.0s\n",
      "[CV 3/5] END C=10, class_weight=balanced, gamma=0.01, kernel=rbf;, score=0.850 total time=   0.0s\n",
      "[CV 4/5] END C=10, class_weight=balanced, gamma=0.01, kernel=rbf;, score=0.750 total time=   0.0s\n",
      "[CV 5/5] END C=10, class_weight=balanced, gamma=0.01, kernel=rbf;, score=0.675 total time=   0.0s\n",
      "[CV 1/5] END C=10, class_weight=balanced, gamma=0.001, kernel=linear;, score=0.829 total time=   0.0s\n",
      "[CV 2/5] END C=10, class_weight=balanced, gamma=0.001, kernel=linear;, score=0.634 total time=   0.0s\n",
      "[CV 3/5] END C=10, class_weight=balanced, gamma=0.001, kernel=linear;, score=0.800 total time=   0.0s\n",
      "[CV 4/5] END C=10, class_weight=balanced, gamma=0.001, kernel=linear;, score=0.900 total time=   0.0s\n",
      "[CV 5/5] END C=10, class_weight=balanced, gamma=0.001, kernel=linear;, score=0.750 total time=   0.0s\n",
      "[CV 1/5] END C=10, class_weight=balanced, gamma=0.001, kernel=rbf;, score=0.488 total time=   0.0s\n",
      "[CV 2/5] END C=10, class_weight=balanced, gamma=0.001, kernel=rbf;, score=0.488 total time=   0.0s\n",
      "[CV 3/5] END C=10, class_weight=balanced, gamma=0.001, kernel=rbf;, score=0.850 total time=   0.0s\n",
      "[CV 4/5] END C=10, class_weight=balanced, gamma=0.001, kernel=rbf;, score=0.750 total time=   0.0s\n",
      "[CV 5/5] END C=10, class_weight=balanced, gamma=0.001, kernel=rbf;, score=0.700 total time=   0.0s\n",
      "[CV 1/5] END C=10, class_weight=balanced, gamma=0.0001, kernel=linear;, score=0.829 total time=   0.0s\n",
      "[CV 2/5] END C=10, class_weight=balanced, gamma=0.0001, kernel=linear;, score=0.634 total time=   0.0s\n",
      "[CV 3/5] END C=10, class_weight=balanced, gamma=0.0001, kernel=linear;, score=0.800 total time=   0.0s\n",
      "[CV 4/5] END C=10, class_weight=balanced, gamma=0.0001, kernel=linear;, score=0.900 total time=   0.0s\n",
      "[CV 5/5] END C=10, class_weight=balanced, gamma=0.0001, kernel=linear;, score=0.750 total time=   0.0s\n",
      "[CV 1/5] END C=10, class_weight=balanced, gamma=0.0001, kernel=rbf;, score=0.488 total time=   0.0s\n",
      "[CV 2/5] END C=10, class_weight=balanced, gamma=0.0001, kernel=rbf;, score=0.488 total time=   0.0s\n",
      "[CV 3/5] END C=10, class_weight=balanced, gamma=0.0001, kernel=rbf;, score=0.850 total time=   0.0s\n",
      "[CV 4/5] END C=10, class_weight=balanced, gamma=0.0001, kernel=rbf;, score=0.750 total time=   0.0s\n",
      "[CV 5/5] END C=10, class_weight=balanced, gamma=0.0001, kernel=rbf;, score=0.700 total time=   0.0s\n",
      "[CV 1/5] END C=10, class_weight=None, gamma=1, kernel=linear;, score=0.829 total time=   0.0s\n",
      "[CV 2/5] END C=10, class_weight=None, gamma=1, kernel=linear;, score=0.634 total time=   0.0s\n",
      "[CV 3/5] END C=10, class_weight=None, gamma=1, kernel=linear;, score=0.800 total time=   0.0s\n",
      "[CV 4/5] END C=10, class_weight=None, gamma=1, kernel=linear;, score=0.900 total time=   0.0s\n",
      "[CV 5/5] END C=10, class_weight=None, gamma=1, kernel=linear;, score=0.750 total time=   0.0s\n",
      "[CV 1/5] END C=10, class_weight=None, gamma=1, kernel=rbf;, score=0.805 total time=   0.0s\n",
      "[CV 2/5] END C=10, class_weight=None, gamma=1, kernel=rbf;, score=0.805 total time=   0.0s\n",
      "[CV 3/5] END C=10, class_weight=None, gamma=1, kernel=rbf;, score=0.900 total time=   0.0s\n",
      "[CV 4/5] END C=10, class_weight=None, gamma=1, kernel=rbf;, score=0.975 total time=   0.0s\n",
      "[CV 5/5] END C=10, class_weight=None, gamma=1, kernel=rbf;, score=0.775 total time=   0.0s\n",
      "[CV 1/5] END C=10, class_weight=None, gamma=0.1, kernel=linear;, score=0.829 total time=   0.0s\n",
      "[CV 2/5] END C=10, class_weight=None, gamma=0.1, kernel=linear;, score=0.634 total time=   0.0s\n",
      "[CV 3/5] END C=10, class_weight=None, gamma=0.1, kernel=linear;, score=0.800 total time=   0.0s\n",
      "[CV 4/5] END C=10, class_weight=None, gamma=0.1, kernel=linear;, score=0.900 total time=   0.0s\n",
      "[CV 5/5] END C=10, class_weight=None, gamma=0.1, kernel=linear;, score=0.750 total time=   0.0s\n",
      "[CV 1/5] END C=10, class_weight=None, gamma=0.1, kernel=rbf;, score=0.829 total time=   0.0s\n"
     ]
    },
    {
     "name": "stdout",
     "output_type": "stream",
     "text": [
      "[CV 2/5] END C=10, class_weight=None, gamma=0.1, kernel=rbf;, score=0.732 total time=   0.0s\n",
      "[CV 3/5] END C=10, class_weight=None, gamma=0.1, kernel=rbf;, score=0.875 total time=   0.0s\n",
      "[CV 4/5] END C=10, class_weight=None, gamma=0.1, kernel=rbf;, score=0.875 total time=   0.0s\n",
      "[CV 5/5] END C=10, class_weight=None, gamma=0.1, kernel=rbf;, score=0.750 total time=   0.0s\n",
      "[CV 1/5] END C=10, class_weight=None, gamma=0.01, kernel=linear;, score=0.829 total time=   0.0s\n",
      "[CV 2/5] END C=10, class_weight=None, gamma=0.01, kernel=linear;, score=0.634 total time=   0.0s\n",
      "[CV 3/5] END C=10, class_weight=None, gamma=0.01, kernel=linear;, score=0.800 total time=   0.0s\n",
      "[CV 4/5] END C=10, class_weight=None, gamma=0.01, kernel=linear;, score=0.900 total time=   0.0s\n",
      "[CV 5/5] END C=10, class_weight=None, gamma=0.01, kernel=linear;, score=0.750 total time=   0.0s\n",
      "[CV 1/5] END C=10, class_weight=None, gamma=0.01, kernel=rbf;, score=0.659 total time=   0.0s\n",
      "[CV 2/5] END C=10, class_weight=None, gamma=0.01, kernel=rbf;, score=0.634 total time=   0.0s\n",
      "[CV 3/5] END C=10, class_weight=None, gamma=0.01, kernel=rbf;, score=0.850 total time=   0.0s\n",
      "[CV 4/5] END C=10, class_weight=None, gamma=0.01, kernel=rbf;, score=0.750 total time=   0.0s\n",
      "[CV 5/5] END C=10, class_weight=None, gamma=0.01, kernel=rbf;, score=0.675 total time=   0.0s\n",
      "[CV 1/5] END C=10, class_weight=None, gamma=0.001, kernel=linear;, score=0.829 total time=   0.0s\n",
      "[CV 2/5] END C=10, class_weight=None, gamma=0.001, kernel=linear;, score=0.634 total time=   0.0s\n",
      "[CV 3/5] END C=10, class_weight=None, gamma=0.001, kernel=linear;, score=0.800 total time=   0.0s\n",
      "[CV 4/5] END C=10, class_weight=None, gamma=0.001, kernel=linear;, score=0.900 total time=   0.0s\n",
      "[CV 5/5] END C=10, class_weight=None, gamma=0.001, kernel=linear;, score=0.750 total time=   0.0s\n",
      "[CV 1/5] END C=10, class_weight=None, gamma=0.001, kernel=rbf;, score=0.488 total time=   0.0s\n",
      "[CV 2/5] END C=10, class_weight=None, gamma=0.001, kernel=rbf;, score=0.488 total time=   0.0s\n",
      "[CV 3/5] END C=10, class_weight=None, gamma=0.001, kernel=rbf;, score=0.850 total time=   0.0s\n",
      "[CV 4/5] END C=10, class_weight=None, gamma=0.001, kernel=rbf;, score=0.750 total time=   0.0s\n",
      "[CV 5/5] END C=10, class_weight=None, gamma=0.001, kernel=rbf;, score=0.700 total time=   0.0s\n",
      "[CV 1/5] END C=10, class_weight=None, gamma=0.0001, kernel=linear;, score=0.829 total time=   0.0s\n",
      "[CV 2/5] END C=10, class_weight=None, gamma=0.0001, kernel=linear;, score=0.634 total time=   0.0s\n",
      "[CV 3/5] END C=10, class_weight=None, gamma=0.0001, kernel=linear;, score=0.800 total time=   0.0s\n",
      "[CV 4/5] END C=10, class_weight=None, gamma=0.0001, kernel=linear;, score=0.900 total time=   0.0s\n",
      "[CV 5/5] END C=10, class_weight=None, gamma=0.0001, kernel=linear;, score=0.750 total time=   0.0s\n",
      "[CV 1/5] END C=10, class_weight=None, gamma=0.0001, kernel=rbf;, score=0.488 total time=   0.0s\n",
      "[CV 2/5] END C=10, class_weight=None, gamma=0.0001, kernel=rbf;, score=0.488 total time=   0.0s\n",
      "[CV 3/5] END C=10, class_weight=None, gamma=0.0001, kernel=rbf;, score=0.850 total time=   0.0s\n",
      "[CV 4/5] END C=10, class_weight=None, gamma=0.0001, kernel=rbf;, score=0.750 total time=   0.0s\n",
      "[CV 5/5] END C=10, class_weight=None, gamma=0.0001, kernel=rbf;, score=0.700 total time=   0.0s\n",
      "[CV 1/5] END C=100, class_weight=balanced, gamma=1, kernel=linear;, score=0.829 total time=   0.0s\n",
      "[CV 2/5] END C=100, class_weight=balanced, gamma=1, kernel=linear;, score=0.634 total time=   0.0s\n",
      "[CV 3/5] END C=100, class_weight=balanced, gamma=1, kernel=linear;, score=0.800 total time=   0.0s\n",
      "[CV 4/5] END C=100, class_weight=balanced, gamma=1, kernel=linear;, score=0.925 total time=   0.0s\n",
      "[CV 5/5] END C=100, class_weight=balanced, gamma=1, kernel=linear;, score=0.750 total time=   0.0s\n",
      "[CV 1/5] END C=100, class_weight=balanced, gamma=1, kernel=rbf;, score=0.805 total time=   0.0s\n",
      "[CV 2/5] END C=100, class_weight=balanced, gamma=1, kernel=rbf;, score=0.805 total time=   0.0s\n",
      "[CV 3/5] END C=100, class_weight=balanced, gamma=1, kernel=rbf;, score=0.900 total time=   0.0s\n",
      "[CV 4/5] END C=100, class_weight=balanced, gamma=1, kernel=rbf;, score=0.975 total time=   0.0s\n",
      "[CV 5/5] END C=100, class_weight=balanced, gamma=1, kernel=rbf;, score=0.775 total time=   0.0s\n",
      "[CV 1/5] END C=100, class_weight=balanced, gamma=0.1, kernel=linear;, score=0.829 total time=   0.0s\n",
      "[CV 2/5] END C=100, class_weight=balanced, gamma=0.1, kernel=linear;, score=0.634 total time=   0.0s\n",
      "[CV 3/5] END C=100, class_weight=balanced, gamma=0.1, kernel=linear;, score=0.800 total time=   0.0s\n",
      "[CV 4/5] END C=100, class_weight=balanced, gamma=0.1, kernel=linear;, score=0.925 total time=   0.0s\n",
      "[CV 5/5] END C=100, class_weight=balanced, gamma=0.1, kernel=linear;, score=0.750 total time=   0.0s\n",
      "[CV 1/5] END C=100, class_weight=balanced, gamma=0.1, kernel=rbf;, score=0.829 total time=   0.0s\n",
      "[CV 2/5] END C=100, class_weight=balanced, gamma=0.1, kernel=rbf;, score=0.659 total time=   0.0s\n",
      "[CV 3/5] END C=100, class_weight=balanced, gamma=0.1, kernel=rbf;, score=0.825 total time=   0.0s\n",
      "[CV 4/5] END C=100, class_weight=balanced, gamma=0.1, kernel=rbf;, score=0.925 total time=   0.0s\n",
      "[CV 5/5] END C=100, class_weight=balanced, gamma=0.1, kernel=rbf;, score=0.775 total time=   0.0s\n",
      "[CV 1/5] END C=100, class_weight=balanced, gamma=0.01, kernel=linear;, score=0.829 total time=   0.0s\n",
      "[CV 2/5] END C=100, class_weight=balanced, gamma=0.01, kernel=linear;, score=0.634 total time=   0.0s\n",
      "[CV 3/5] END C=100, class_weight=balanced, gamma=0.01, kernel=linear;, score=0.800 total time=   0.0s\n",
      "[CV 4/5] END C=100, class_weight=balanced, gamma=0.01, kernel=linear;, score=0.925 total time=   0.0s\n",
      "[CV 5/5] END C=100, class_weight=balanced, gamma=0.01, kernel=linear;, score=0.750 total time=   0.0s\n",
      "[CV 1/5] END C=100, class_weight=balanced, gamma=0.01, kernel=rbf;, score=0.829 total time=   0.0s\n",
      "[CV 2/5] END C=100, class_weight=balanced, gamma=0.01, kernel=rbf;, score=0.707 total time=   0.0s\n",
      "[CV 3/5] END C=100, class_weight=balanced, gamma=0.01, kernel=rbf;, score=0.875 total time=   0.0s\n",
      "[CV 4/5] END C=100, class_weight=balanced, gamma=0.01, kernel=rbf;, score=0.875 total time=   0.0s\n",
      "[CV 5/5] END C=100, class_weight=balanced, gamma=0.01, kernel=rbf;, score=0.750 total time=   0.0s\n",
      "[CV 1/5] END C=100, class_weight=balanced, gamma=0.001, kernel=linear;, score=0.829 total time=   0.0s\n",
      "[CV 2/5] END C=100, class_weight=balanced, gamma=0.001, kernel=linear;, score=0.634 total time=   0.0s\n",
      "[CV 3/5] END C=100, class_weight=balanced, gamma=0.001, kernel=linear;, score=0.800 total time=   0.0s\n",
      "[CV 4/5] END C=100, class_weight=balanced, gamma=0.001, kernel=linear;, score=0.925 total time=   0.0s\n",
      "[CV 5/5] END C=100, class_weight=balanced, gamma=0.001, kernel=linear;, score=0.750 total time=   0.0s\n",
      "[CV 1/5] END C=100, class_weight=balanced, gamma=0.001, kernel=rbf;, score=0.659 total time=   0.0s\n",
      "[CV 2/5] END C=100, class_weight=balanced, gamma=0.001, kernel=rbf;, score=0.659 total time=   0.0s\n",
      "[CV 3/5] END C=100, class_weight=balanced, gamma=0.001, kernel=rbf;, score=0.850 total time=   0.0s\n",
      "[CV 4/5] END C=100, class_weight=balanced, gamma=0.001, kernel=rbf;, score=0.750 total time=   0.0s\n",
      "[CV 5/5] END C=100, class_weight=balanced, gamma=0.001, kernel=rbf;, score=0.700 total time=   0.0s\n",
      "[CV 1/5] END C=100, class_weight=balanced, gamma=0.0001, kernel=linear;, score=0.829 total time=   0.0s\n",
      "[CV 2/5] END C=100, class_weight=balanced, gamma=0.0001, kernel=linear;, score=0.634 total time=   0.0s\n",
      "[CV 3/5] END C=100, class_weight=balanced, gamma=0.0001, kernel=linear;, score=0.800 total time=   0.0s\n",
      "[CV 4/5] END C=100, class_weight=balanced, gamma=0.0001, kernel=linear;, score=0.925 total time=   0.0s\n",
      "[CV 5/5] END C=100, class_weight=balanced, gamma=0.0001, kernel=linear;, score=0.750 total time=   0.0s\n",
      "[CV 1/5] END C=100, class_weight=balanced, gamma=0.0001, kernel=rbf;, score=0.512 total time=   0.0s\n",
      "[CV 2/5] END C=100, class_weight=balanced, gamma=0.0001, kernel=rbf;, score=0.512 total time=   0.0s\n",
      "[CV 3/5] END C=100, class_weight=balanced, gamma=0.0001, kernel=rbf;, score=0.850 total time=   0.0s\n",
      "[CV 4/5] END C=100, class_weight=balanced, gamma=0.0001, kernel=rbf;, score=0.750 total time=   0.0s\n",
      "[CV 5/5] END C=100, class_weight=balanced, gamma=0.0001, kernel=rbf;, score=0.700 total time=   0.0s\n",
      "[CV 1/5] END C=100, class_weight=None, gamma=1, kernel=linear;, score=0.829 total time=   0.0s\n",
      "[CV 2/5] END C=100, class_weight=None, gamma=1, kernel=linear;, score=0.634 total time=   0.0s\n",
      "[CV 3/5] END C=100, class_weight=None, gamma=1, kernel=linear;, score=0.800 total time=   0.0s\n",
      "[CV 4/5] END C=100, class_weight=None, gamma=1, kernel=linear;, score=0.925 total time=   0.0s\n",
      "[CV 5/5] END C=100, class_weight=None, gamma=1, kernel=linear;, score=0.750 total time=   0.0s\n"
     ]
    },
    {
     "name": "stdout",
     "output_type": "stream",
     "text": [
      "[CV 1/5] END C=100, class_weight=None, gamma=1, kernel=rbf;, score=0.805 total time=   0.0s\n",
      "[CV 2/5] END C=100, class_weight=None, gamma=1, kernel=rbf;, score=0.805 total time=   0.0s\n",
      "[CV 3/5] END C=100, class_weight=None, gamma=1, kernel=rbf;, score=0.900 total time=   0.0s\n",
      "[CV 4/5] END C=100, class_weight=None, gamma=1, kernel=rbf;, score=0.975 total time=   0.0s\n",
      "[CV 5/5] END C=100, class_weight=None, gamma=1, kernel=rbf;, score=0.775 total time=   0.0s\n",
      "[CV 1/5] END C=100, class_weight=None, gamma=0.1, kernel=linear;, score=0.829 total time=   0.0s\n",
      "[CV 2/5] END C=100, class_weight=None, gamma=0.1, kernel=linear;, score=0.634 total time=   0.0s\n",
      "[CV 3/5] END C=100, class_weight=None, gamma=0.1, kernel=linear;, score=0.800 total time=   0.0s\n",
      "[CV 4/5] END C=100, class_weight=None, gamma=0.1, kernel=linear;, score=0.925 total time=   0.0s\n",
      "[CV 5/5] END C=100, class_weight=None, gamma=0.1, kernel=linear;, score=0.750 total time=   0.0s\n",
      "[CV 1/5] END C=100, class_weight=None, gamma=0.1, kernel=rbf;, score=0.829 total time=   0.0s\n",
      "[CV 2/5] END C=100, class_weight=None, gamma=0.1, kernel=rbf;, score=0.659 total time=   0.0s\n",
      "[CV 3/5] END C=100, class_weight=None, gamma=0.1, kernel=rbf;, score=0.825 total time=   0.0s\n",
      "[CV 4/5] END C=100, class_weight=None, gamma=0.1, kernel=rbf;, score=0.925 total time=   0.0s\n",
      "[CV 5/5] END C=100, class_weight=None, gamma=0.1, kernel=rbf;, score=0.775 total time=   0.0s\n",
      "[CV 1/5] END C=100, class_weight=None, gamma=0.01, kernel=linear;, score=0.829 total time=   0.0s\n",
      "[CV 2/5] END C=100, class_weight=None, gamma=0.01, kernel=linear;, score=0.634 total time=   0.0s\n",
      "[CV 3/5] END C=100, class_weight=None, gamma=0.01, kernel=linear;, score=0.800 total time=   0.0s\n",
      "[CV 4/5] END C=100, class_weight=None, gamma=0.01, kernel=linear;, score=0.925 total time=   0.0s\n",
      "[CV 5/5] END C=100, class_weight=None, gamma=0.01, kernel=linear;, score=0.750 total time=   0.0s\n",
      "[CV 1/5] END C=100, class_weight=None, gamma=0.01, kernel=rbf;, score=0.829 total time=   0.0s\n",
      "[CV 2/5] END C=100, class_weight=None, gamma=0.01, kernel=rbf;, score=0.707 total time=   0.0s\n",
      "[CV 3/5] END C=100, class_weight=None, gamma=0.01, kernel=rbf;, score=0.875 total time=   0.0s\n",
      "[CV 4/5] END C=100, class_weight=None, gamma=0.01, kernel=rbf;, score=0.875 total time=   0.0s\n",
      "[CV 5/5] END C=100, class_weight=None, gamma=0.01, kernel=rbf;, score=0.750 total time=   0.0s\n",
      "[CV 1/5] END C=100, class_weight=None, gamma=0.001, kernel=linear;, score=0.829 total time=   0.0s\n",
      "[CV 2/5] END C=100, class_weight=None, gamma=0.001, kernel=linear;, score=0.634 total time=   0.0s\n",
      "[CV 3/5] END C=100, class_weight=None, gamma=0.001, kernel=linear;, score=0.800 total time=   0.0s\n",
      "[CV 4/5] END C=100, class_weight=None, gamma=0.001, kernel=linear;, score=0.925 total time=   0.0s\n",
      "[CV 5/5] END C=100, class_weight=None, gamma=0.001, kernel=linear;, score=0.750 total time=   0.0s\n",
      "[CV 1/5] END C=100, class_weight=None, gamma=0.001, kernel=rbf;, score=0.659 total time=   0.0s\n",
      "[CV 2/5] END C=100, class_weight=None, gamma=0.001, kernel=rbf;, score=0.634 total time=   0.0s\n",
      "[CV 3/5] END C=100, class_weight=None, gamma=0.001, kernel=rbf;, score=0.850 total time=   0.0s\n",
      "[CV 4/5] END C=100, class_weight=None, gamma=0.001, kernel=rbf;, score=0.750 total time=   0.0s\n",
      "[CV 5/5] END C=100, class_weight=None, gamma=0.001, kernel=rbf;, score=0.700 total time=   0.0s\n",
      "[CV 1/5] END C=100, class_weight=None, gamma=0.0001, kernel=linear;, score=0.829 total time=   0.0s\n",
      "[CV 2/5] END C=100, class_weight=None, gamma=0.0001, kernel=linear;, score=0.634 total time=   0.0s\n",
      "[CV 3/5] END C=100, class_weight=None, gamma=0.0001, kernel=linear;, score=0.800 total time=   0.0s\n",
      "[CV 4/5] END C=100, class_weight=None, gamma=0.0001, kernel=linear;, score=0.925 total time=   0.0s\n",
      "[CV 5/5] END C=100, class_weight=None, gamma=0.0001, kernel=linear;, score=0.750 total time=   0.0s\n",
      "[CV 1/5] END C=100, class_weight=None, gamma=0.0001, kernel=rbf;, score=0.488 total time=   0.0s\n",
      "[CV 2/5] END C=100, class_weight=None, gamma=0.0001, kernel=rbf;, score=0.488 total time=   0.0s\n",
      "[CV 3/5] END C=100, class_weight=None, gamma=0.0001, kernel=rbf;, score=0.850 total time=   0.0s\n",
      "[CV 4/5] END C=100, class_weight=None, gamma=0.0001, kernel=rbf;, score=0.750 total time=   0.0s\n",
      "[CV 5/5] END C=100, class_weight=None, gamma=0.0001, kernel=rbf;, score=0.700 total time=   0.0s\n",
      "[CV 1/5] END C=1000, class_weight=balanced, gamma=1, kernel=linear;, score=0.829 total time=   0.0s\n",
      "[CV 2/5] END C=1000, class_weight=balanced, gamma=1, kernel=linear;, score=0.634 total time=   0.0s\n",
      "[CV 3/5] END C=1000, class_weight=balanced, gamma=1, kernel=linear;, score=0.800 total time=   0.0s\n",
      "[CV 4/5] END C=1000, class_weight=balanced, gamma=1, kernel=linear;, score=0.925 total time=   0.0s\n",
      "[CV 5/5] END C=1000, class_weight=balanced, gamma=1, kernel=linear;, score=0.750 total time=   0.0s\n",
      "[CV 1/5] END C=1000, class_weight=balanced, gamma=1, kernel=rbf;, score=0.805 total time=   0.0s\n",
      "[CV 2/5] END C=1000, class_weight=balanced, gamma=1, kernel=rbf;, score=0.805 total time=   0.0s\n",
      "[CV 3/5] END C=1000, class_weight=balanced, gamma=1, kernel=rbf;, score=0.900 total time=   0.0s\n",
      "[CV 4/5] END C=1000, class_weight=balanced, gamma=1, kernel=rbf;, score=0.975 total time=   0.0s\n",
      "[CV 5/5] END C=1000, class_weight=balanced, gamma=1, kernel=rbf;, score=0.775 total time=   0.0s\n",
      "[CV 1/5] END C=1000, class_weight=balanced, gamma=0.1, kernel=linear;, score=0.829 total time=   0.0s\n",
      "[CV 2/5] END C=1000, class_weight=balanced, gamma=0.1, kernel=linear;, score=0.634 total time=   0.0s\n",
      "[CV 3/5] END C=1000, class_weight=balanced, gamma=0.1, kernel=linear;, score=0.800 total time=   0.0s\n",
      "[CV 4/5] END C=1000, class_weight=balanced, gamma=0.1, kernel=linear;, score=0.925 total time=   0.0s\n",
      "[CV 5/5] END C=1000, class_weight=balanced, gamma=0.1, kernel=linear;, score=0.750 total time=   0.0s\n",
      "[CV 1/5] END C=1000, class_weight=balanced, gamma=0.1, kernel=rbf;, score=0.829 total time=   0.0s\n",
      "[CV 2/5] END C=1000, class_weight=balanced, gamma=0.1, kernel=rbf;, score=0.659 total time=   0.0s\n",
      "[CV 3/5] END C=1000, class_weight=balanced, gamma=0.1, kernel=rbf;, score=0.825 total time=   0.0s\n",
      "[CV 4/5] END C=1000, class_weight=balanced, gamma=0.1, kernel=rbf;, score=0.925 total time=   0.0s\n",
      "[CV 5/5] END C=1000, class_weight=balanced, gamma=0.1, kernel=rbf;, score=0.775 total time=   0.0s\n",
      "[CV 1/5] END C=1000, class_weight=balanced, gamma=0.01, kernel=linear;, score=0.829 total time=   0.0s\n",
      "[CV 2/5] END C=1000, class_weight=balanced, gamma=0.01, kernel=linear;, score=0.634 total time=   0.0s\n",
      "[CV 3/5] END C=1000, class_weight=balanced, gamma=0.01, kernel=linear;, score=0.800 total time=   0.0s\n",
      "[CV 4/5] END C=1000, class_weight=balanced, gamma=0.01, kernel=linear;, score=0.925 total time=   0.0s\n",
      "[CV 5/5] END C=1000, class_weight=balanced, gamma=0.01, kernel=linear;, score=0.750 total time=   0.0s\n",
      "[CV 1/5] END C=1000, class_weight=balanced, gamma=0.01, kernel=rbf;, score=0.829 total time=   0.0s\n",
      "[CV 2/5] END C=1000, class_weight=balanced, gamma=0.01, kernel=rbf;, score=0.634 total time=   0.0s\n",
      "[CV 3/5] END C=1000, class_weight=balanced, gamma=0.01, kernel=rbf;, score=0.800 total time=   0.0s\n",
      "[CV 4/5] END C=1000, class_weight=balanced, gamma=0.01, kernel=rbf;, score=0.925 total time=   0.0s\n",
      "[CV 5/5] END C=1000, class_weight=balanced, gamma=0.01, kernel=rbf;, score=0.750 total time=   0.0s\n",
      "[CV 1/5] END C=1000, class_weight=balanced, gamma=0.001, kernel=linear;, score=0.829 total time=   0.0s\n",
      "[CV 2/5] END C=1000, class_weight=balanced, gamma=0.001, kernel=linear;, score=0.634 total time=   0.0s\n",
      "[CV 3/5] END C=1000, class_weight=balanced, gamma=0.001, kernel=linear;, score=0.800 total time=   0.0s\n",
      "[CV 4/5] END C=1000, class_weight=balanced, gamma=0.001, kernel=linear;, score=0.925 total time=   0.0s\n",
      "[CV 5/5] END C=1000, class_weight=balanced, gamma=0.001, kernel=linear;, score=0.750 total time=   0.0s\n",
      "[CV 1/5] END C=1000, class_weight=balanced, gamma=0.001, kernel=rbf;, score=0.829 total time=   0.0s\n",
      "[CV 2/5] END C=1000, class_weight=balanced, gamma=0.001, kernel=rbf;, score=0.707 total time=   0.0s\n",
      "[CV 3/5] END C=1000, class_weight=balanced, gamma=0.001, kernel=rbf;, score=0.875 total time=   0.0s\n",
      "[CV 4/5] END C=1000, class_weight=balanced, gamma=0.001, kernel=rbf;, score=0.875 total time=   0.0s\n",
      "[CV 5/5] END C=1000, class_weight=balanced, gamma=0.001, kernel=rbf;, score=0.750 total time=   0.0s\n",
      "[CV 1/5] END C=1000, class_weight=balanced, gamma=0.0001, kernel=linear;, score=0.829 total time=   0.0s\n"
     ]
    },
    {
     "name": "stdout",
     "output_type": "stream",
     "text": [
      "[CV 2/5] END C=1000, class_weight=balanced, gamma=0.0001, kernel=linear;, score=0.634 total time=   0.0s\n",
      "[CV 3/5] END C=1000, class_weight=balanced, gamma=0.0001, kernel=linear;, score=0.800 total time=   0.0s\n",
      "[CV 4/5] END C=1000, class_weight=balanced, gamma=0.0001, kernel=linear;, score=0.925 total time=   0.0s\n",
      "[CV 5/5] END C=1000, class_weight=balanced, gamma=0.0001, kernel=linear;, score=0.750 total time=   0.0s\n",
      "[CV 1/5] END C=1000, class_weight=balanced, gamma=0.0001, kernel=rbf;, score=0.659 total time=   0.0s\n",
      "[CV 2/5] END C=1000, class_weight=balanced, gamma=0.0001, kernel=rbf;, score=0.659 total time=   0.0s\n",
      "[CV 3/5] END C=1000, class_weight=balanced, gamma=0.0001, kernel=rbf;, score=0.850 total time=   0.0s\n",
      "[CV 4/5] END C=1000, class_weight=balanced, gamma=0.0001, kernel=rbf;, score=0.750 total time=   0.0s\n",
      "[CV 5/5] END C=1000, class_weight=balanced, gamma=0.0001, kernel=rbf;, score=0.700 total time=   0.0s\n",
      "[CV 1/5] END C=1000, class_weight=None, gamma=1, kernel=linear;, score=0.829 total time=   0.0s\n",
      "[CV 2/5] END C=1000, class_weight=None, gamma=1, kernel=linear;, score=0.634 total time=   0.0s\n",
      "[CV 3/5] END C=1000, class_weight=None, gamma=1, kernel=linear;, score=0.800 total time=   0.0s\n",
      "[CV 4/5] END C=1000, class_weight=None, gamma=1, kernel=linear;, score=0.925 total time=   0.0s\n",
      "[CV 5/5] END C=1000, class_weight=None, gamma=1, kernel=linear;, score=0.750 total time=   0.0s\n",
      "[CV 1/5] END C=1000, class_weight=None, gamma=1, kernel=rbf;, score=0.805 total time=   0.0s\n",
      "[CV 2/5] END C=1000, class_weight=None, gamma=1, kernel=rbf;, score=0.805 total time=   0.0s\n",
      "[CV 3/5] END C=1000, class_weight=None, gamma=1, kernel=rbf;, score=0.900 total time=   0.0s\n",
      "[CV 4/5] END C=1000, class_weight=None, gamma=1, kernel=rbf;, score=0.975 total time=   0.0s\n",
      "[CV 5/5] END C=1000, class_weight=None, gamma=1, kernel=rbf;, score=0.775 total time=   0.0s\n",
      "[CV 1/5] END C=1000, class_weight=None, gamma=0.1, kernel=linear;, score=0.829 total time=   0.0s\n",
      "[CV 2/5] END C=1000, class_weight=None, gamma=0.1, kernel=linear;, score=0.634 total time=   0.0s\n",
      "[CV 3/5] END C=1000, class_weight=None, gamma=0.1, kernel=linear;, score=0.800 total time=   0.0s\n",
      "[CV 4/5] END C=1000, class_weight=None, gamma=0.1, kernel=linear;, score=0.925 total time=   0.0s\n",
      "[CV 5/5] END C=1000, class_weight=None, gamma=0.1, kernel=linear;, score=0.750 total time=   0.0s\n",
      "[CV 1/5] END C=1000, class_weight=None, gamma=0.1, kernel=rbf;, score=0.829 total time=   0.0s\n",
      "[CV 2/5] END C=1000, class_weight=None, gamma=0.1, kernel=rbf;, score=0.659 total time=   0.0s\n",
      "[CV 3/5] END C=1000, class_weight=None, gamma=0.1, kernel=rbf;, score=0.825 total time=   0.0s\n",
      "[CV 4/5] END C=1000, class_weight=None, gamma=0.1, kernel=rbf;, score=0.925 total time=   0.0s\n",
      "[CV 5/5] END C=1000, class_weight=None, gamma=0.1, kernel=rbf;, score=0.775 total time=   0.0s\n",
      "[CV 1/5] END C=1000, class_weight=None, gamma=0.01, kernel=linear;, score=0.829 total time=   0.0s\n",
      "[CV 2/5] END C=1000, class_weight=None, gamma=0.01, kernel=linear;, score=0.634 total time=   0.0s\n",
      "[CV 3/5] END C=1000, class_weight=None, gamma=0.01, kernel=linear;, score=0.800 total time=   0.0s\n",
      "[CV 4/5] END C=1000, class_weight=None, gamma=0.01, kernel=linear;, score=0.925 total time=   0.0s\n",
      "[CV 5/5] END C=1000, class_weight=None, gamma=0.01, kernel=linear;, score=0.750 total time=   0.0s\n",
      "[CV 1/5] END C=1000, class_weight=None, gamma=0.01, kernel=rbf;, score=0.829 total time=   0.0s\n",
      "[CV 2/5] END C=1000, class_weight=None, gamma=0.01, kernel=rbf;, score=0.634 total time=   0.0s\n",
      "[CV 3/5] END C=1000, class_weight=None, gamma=0.01, kernel=rbf;, score=0.800 total time=   0.0s\n",
      "[CV 4/5] END C=1000, class_weight=None, gamma=0.01, kernel=rbf;, score=0.925 total time=   0.0s\n",
      "[CV 5/5] END C=1000, class_weight=None, gamma=0.01, kernel=rbf;, score=0.750 total time=   0.0s\n",
      "[CV 1/5] END C=1000, class_weight=None, gamma=0.001, kernel=linear;, score=0.829 total time=   0.0s\n",
      "[CV 2/5] END C=1000, class_weight=None, gamma=0.001, kernel=linear;, score=0.634 total time=   0.0s\n",
      "[CV 3/5] END C=1000, class_weight=None, gamma=0.001, kernel=linear;, score=0.800 total time=   0.0s\n",
      "[CV 4/5] END C=1000, class_weight=None, gamma=0.001, kernel=linear;, score=0.925 total time=   0.0s\n",
      "[CV 5/5] END C=1000, class_weight=None, gamma=0.001, kernel=linear;, score=0.750 total time=   0.0s\n",
      "[CV 1/5] END C=1000, class_weight=None, gamma=0.001, kernel=rbf;, score=0.829 total time=   0.0s\n",
      "[CV 2/5] END C=1000, class_weight=None, gamma=0.001, kernel=rbf;, score=0.707 total time=   0.0s\n",
      "[CV 3/5] END C=1000, class_weight=None, gamma=0.001, kernel=rbf;, score=0.875 total time=   0.0s\n",
      "[CV 4/5] END C=1000, class_weight=None, gamma=0.001, kernel=rbf;, score=0.875 total time=   0.0s\n",
      "[CV 5/5] END C=1000, class_weight=None, gamma=0.001, kernel=rbf;, score=0.750 total time=   0.0s\n",
      "[CV 1/5] END C=1000, class_weight=None, gamma=0.0001, kernel=linear;, score=0.829 total time=   0.0s\n",
      "[CV 2/5] END C=1000, class_weight=None, gamma=0.0001, kernel=linear;, score=0.634 total time=   0.0s\n",
      "[CV 3/5] END C=1000, class_weight=None, gamma=0.0001, kernel=linear;, score=0.800 total time=   0.0s\n",
      "[CV 4/5] END C=1000, class_weight=None, gamma=0.0001, kernel=linear;, score=0.925 total time=   0.0s\n",
      "[CV 5/5] END C=1000, class_weight=None, gamma=0.0001, kernel=linear;, score=0.750 total time=   0.0s\n",
      "[CV 1/5] END C=1000, class_weight=None, gamma=0.0001, kernel=rbf;, score=0.659 total time=   0.0s\n",
      "[CV 2/5] END C=1000, class_weight=None, gamma=0.0001, kernel=rbf;, score=0.634 total time=   0.0s\n",
      "[CV 3/5] END C=1000, class_weight=None, gamma=0.0001, kernel=rbf;, score=0.850 total time=   0.0s\n",
      "[CV 4/5] END C=1000, class_weight=None, gamma=0.0001, kernel=rbf;, score=0.750 total time=   0.0s\n",
      "[CV 5/5] END C=1000, class_weight=None, gamma=0.0001, kernel=rbf;, score=0.700 total time=   0.0s\n"
     ]
    },
    {
     "data": {
      "image/png": "[encoded data removed]",
      "text/plain": [
       "<Figure size 360x288 with 2 Axes>"
      ]
     },
     "metadata": {
      "needs_background": "light"
     },
     "output_type": "display_data"
    }
   ],
   "source": [
    "grid4.fit(X2_train, y2_train)\n",
    "\n",
    "y2_pred = grid4.predict(X2_test)\n",
    "\n",
    "cm = confusion_matrix(y2_test, y2_pred)\n",
    "#print(cm)\n",
    "cm_df = pd.DataFrame(cm,\n",
    "                     index = [0,1], \n",
    "                     columns = [0,1])\n",
    "plt.figure(figsize=(5,4))\n",
    "sns.heatmap(cm_df, annot=True)\n",
    "plt.title('Confusion Matrix')\n",
    "plt.ylabel('Actal Values')\n",
    "plt.xlabel('Predicted Values')\n",
    "plt.show()"
   ]
  },
  {
   "cell_type": "code",
   "execution_count": 71,
   "id": "ca90dcdf",
   "metadata": {
    "scrolled": true
   },
   "outputs": [
    {
     "name": "stdout",
     "output_type": "stream",
     "text": [
      "              precision    recall  f1-score   support\n",
      "\n",
      "           0       0.57      0.89      0.70        18\n",
      "           1       0.83      0.45      0.59        22\n",
      "\n",
      "    accuracy                           0.65        40\n",
      "   macro avg       0.70      0.67      0.64        40\n",
      "weighted avg       0.72      0.65      0.64        40\n",
      "\n"
     ]
    }
   ],
   "source": [
    "print(classification_report(y2_test, y2_pred))"
   ]
  },
  {
   "cell_type": "code",
   "execution_count": 72,
   "id": "f4b7ab44",
   "metadata": {},
   "outputs": [
    {
     "data": {
      "image/png": "[encoded data removed]",
      "text/plain": [
       "<Figure size 432x288 with 1 Axes>"
      ]
     },
     "metadata": {
      "needs_background": "light"
     },
     "output_type": "display_data"
    },
    {
     "data": {
      "image/png": "[encoded data removed]",
      "text/plain": [
       "<Figure size 792x576 with 1 Axes>"
      ]
     },
     "metadata": {},
     "output_type": "display_data"
    },
    {
     "data": {
      "text/plain": [
       "<ggplot: (120196793010)>"
      ]
     },
     "execution_count": 72,
     "metadata": {},
     "output_type": "execute_result"
    }
   ],
   "source": [
    "import sklearn.metrics as metrics\n",
    "# calculate the fpr and tpr for all thresholds of the classification\n",
    "probs = grid4.predict_proba(X2_test)\n",
    "preds = probs[:,1]\n",
    "fpr, tpr, threshold = metrics.roc_curve(y2_test, preds)\n",
    "roc_auc = metrics.auc(fpr, tpr)\n",
    "\n",
    "# method I: plt\n",
    "import matplotlib.pyplot as plt\n",
    "plt.title('Receiver Operating Characteristic')\n",
    "plt.plot(fpr, tpr, 'b', label = 'AUC = %0.3f' % roc_auc)\n",
    "plt.legend(loc = 'lower right')\n",
    "plt.plot([0, 1], [0, 1],'r--')\n",
    "plt.xlim([0, 1])\n",
    "plt.ylim([0, 1])\n",
    "plt.ylabel('True Positive Rate')\n",
    "plt.xlabel('False Positive Rate')\n",
    "plt.show()\n",
    "\n",
    "# method II: ggplot\n",
    "from ggplot import *\n",
    "df = pd.DataFrame(dict(fpr = fpr, tpr = tpr))\n",
    "ggplot(df, aes(x = 'fpr', y = 'tpr')) + geom_line() + geom_abline(linetype = 'dashed')"
   ]
  },
  {
   "cell_type": "code",
   "execution_count": 73,
   "id": "a6fcc1e7",
   "metadata": {},
   "outputs": [
    {
     "name": "stdout",
     "output_type": "stream",
     "text": [
      "Model1: f1=0.615 auc=0.712\n"
     ]
    },
    {
     "data": {
      "image/png": "[encoded data removed]",
      "text/plain": [
       "<Figure size 432x288 with 1 Axes>"
      ]
     },
     "metadata": {
      "needs_background": "light"
     },
     "output_type": "display_data"
    }
   ],
   "source": [
    "# precision-recall curve and f1\n",
    "from sklearn.datasets import make_classification\n",
    "from sklearn.linear_model import LogisticRegression\n",
    "from sklearn.model_selection import train_test_split\n",
    "from sklearn.metrics import precision_recall_curve\n",
    "from sklearn.metrics import f1_score\n",
    "from sklearn.metrics import auc\n",
    "from matplotlib import pyplot\n",
    "lr_probs = grid4.predict_proba(X2_test)\n",
    "# keep probabilities for the positive outcome only\n",
    "lr_probs = lr_probs[:, 1]\n",
    "# predict class values\n",
    "yhat = grid3.predict(X2_test)\n",
    "lr_precision, lr_recall, _ = precision_recall_curve(y2_test, lr_probs)\n",
    "lr_f1, lr_auc = f1_score(y2_test, yhat), auc(lr_recall, lr_precision)\n",
    "# summarize scores\n",
    "print('Model1: f1=%.3f auc=%.3f' % (lr_f1, lr_auc))\n",
    "# plot the precision-recall curves\n",
    "no_skill = len(y2_test[y2_test==1]) / len(y2_test)\n",
    "pyplot.plot([0, 1], [no_skill, no_skill], linestyle='--', label='No Skill')\n",
    "pyplot.plot(lr_recall, lr_precision, marker='.', label='Logistic')\n",
    "# axis labels\n",
    "pyplot.xlabel('Recall')\n",
    "pyplot.ylabel('Precision')\n",
    "# show the legend\n",
    "pyplot.legend()\n",
    "# show the plot\n",
    "pyplot.show()"
   ]
  },
  {
   "cell_type": "code",
   "execution_count": 74,
   "id": "6bac3d27",
   "metadata": {},
   "outputs": [
    {
     "name": "stdout",
     "output_type": "stream",
     "text": [
      "balanced_accuracy 0.6717171717171717\n"
     ]
    }
   ],
   "source": [
    "print(\"balanced_accuracy\", balanced_accuracy_score(y2_test, y2_pred))"
   ]
  },
  {
   "cell_type": "code",
   "execution_count": null,
   "id": "45228c5a",
   "metadata": {},
   "outputs": [],
   "source": []
  }
 ],
 "metadata": {
  "colab": {
   "collapsed_sections": [
    "add39348",
    "a645e505",
    "0732beeb"
   ],
   "provenance": [],
   "toc_visible": true
  },
  "kernelspec": {
   "display_name": "Python 3 (ipykernel)",
   "language": "python",
   "name": "python3"
  },
  "language_info": {
   "codemirror_mode": {
    "name": "ipython",
    "version": 3
   },
   "file_extension": ".py",
   "mimetype": "text/x-python",
   "name": "python",
   "nbconvert_exporter": "python",
   "pygments_lexer": "ipython3",
   "version": "3.9.7"
  }
 },
 "nbformat": 4,
 "nbformat_minor": 5
}
