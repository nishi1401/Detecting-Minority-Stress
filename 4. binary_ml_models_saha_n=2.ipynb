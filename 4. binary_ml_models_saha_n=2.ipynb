{
 "cells": [
  {
   "cell_type": "markdown",
   "id": "7jyzUc2n7u4p",
   "metadata": {
    "id": "7jyzUc2n7u4p"
   },
   "source": [
    "# Loading the dataset"
   ]
  },
  {
   "cell_type": "code",
   "execution_count": 1,
   "id": "985ceac8",
   "metadata": {
    "id": "985ceac8"
   },
   "outputs": [],
   "source": [
    "import numpy as np\n",
    "import pandas as pd\n",
    "import matplotlib.pyplot as plt\n",
    "import seaborn as sns\n",
    "\n",
    "import re\n",
    "import nltk\n"
   ]
  },
  {
   "cell_type": "code",
   "execution_count": 2,
   "id": "82f58c75",
   "metadata": {
    "id": "82f58c75"
   },
   "outputs": [
    {
     "data": {
      "text/html": [
       "<div>\n",
       "<style scoped>\n",
       "    .dataframe tbody tr th:only-of-type {\n",
       "        vertical-align: middle;\n",
       "    }\n",
       "\n",
       "    .dataframe tbody tr th {\n",
       "        vertical-align: top;\n",
       "    }\n",
       "\n",
       "    .dataframe thead th {\n",
       "        text-align: right;\n",
       "    }\n",
       "</style>\n",
       "<table border=\"1\" class=\"dataframe\">\n",
       "  <thead>\n",
       "    <tr style=\"text-align: right;\">\n",
       "      <th></th>\n",
       "      <th>body</th>\n",
       "      <th>target</th>\n",
       "    </tr>\n",
       "  </thead>\n",
       "  <tbody>\n",
       "    <tr>\n",
       "      <th>0</th>\n",
       "      <td>My girlfriend and I started a webcomic about a...</td>\n",
       "      <td>0</td>\n",
       "    </tr>\n",
       "    <tr>\n",
       "      <th>1</th>\n",
       "      <td>If you need a place to stay, a warm meal, or a...</td>\n",
       "      <td>0</td>\n",
       "    </tr>\n",
       "    <tr>\n",
       "      <th>2</th>\n",
       "      <td>Ok, first of all, I have really bad anxiety an...</td>\n",
       "      <td>0</td>\n",
       "    </tr>\n",
       "    <tr>\n",
       "      <th>3</th>\n",
       "      <td>I read that straight girls like men with broad...</td>\n",
       "      <td>0</td>\n",
       "    </tr>\n",
       "    <tr>\n",
       "      <th>4</th>\n",
       "      <td>.. So I'm an almost 21 year old woman who is w...</td>\n",
       "      <td>1</td>\n",
       "    </tr>\n",
       "    <tr>\n",
       "      <th>...</th>\n",
       "      <td>...</td>\n",
       "      <td>...</td>\n",
       "    </tr>\n",
       "    <tr>\n",
       "      <th>192</th>\n",
       "      <td>Last night out of the blue a post gets out on ...</td>\n",
       "      <td>1</td>\n",
       "    </tr>\n",
       "    <tr>\n",
       "      <th>193</th>\n",
       "      <td>Hello reddit nation,  16M here, sad story inbo...</td>\n",
       "      <td>1</td>\n",
       "    </tr>\n",
       "    <tr>\n",
       "      <th>194</th>\n",
       "      <td>So one of my favorite artists Janelle Monae ju...</td>\n",
       "      <td>0</td>\n",
       "    </tr>\n",
       "    <tr>\n",
       "      <th>195</th>\n",
       "      <td>I wish to tell everyone, mainly family on Face...</td>\n",
       "      <td>0</td>\n",
       "    </tr>\n",
       "    <tr>\n",
       "      <th>196</th>\n",
       "      <td>Recently, I saw this article shaming comedians...</td>\n",
       "      <td>1</td>\n",
       "    </tr>\n",
       "  </tbody>\n",
       "</table>\n",
       "<p>197 rows × 2 columns</p>\n",
       "</div>"
      ],
      "text/plain": [
       "                                                  body  target\n",
       "0    My girlfriend and I started a webcomic about a...       0\n",
       "1    If you need a place to stay, a warm meal, or a...       0\n",
       "2    Ok, first of all, I have really bad anxiety an...       0\n",
       "3    I read that straight girls like men with broad...       0\n",
       "4    .. So I'm an almost 21 year old woman who is w...       1\n",
       "..                                                 ...     ...\n",
       "192  Last night out of the blue a post gets out on ...       1\n",
       "193  Hello reddit nation,  16M here, sad story inbo...       1\n",
       "194  So one of my favorite artists Janelle Monae ju...       0\n",
       "195  I wish to tell everyone, mainly family on Face...       0\n",
       "196  Recently, I saw this article shaming comedians...       1\n",
       "\n",
       "[197 rows x 2 columns]"
      ]
     },
     "execution_count": 2,
     "metadata": {},
     "output_type": "execute_result"
    }
   ],
   "source": [
    "# df = pd.read_csv(r\"C:\\Users\\siagu\\Downloads\\binary-data - 50000 dataset.csv\")\n",
    "df = pd.read_csv(r\"dataset_labelled.csv\")\n",
    "\n",
    "#df = df.head(500)\n",
    "df"
   ]
  },
  {
   "cell_type": "code",
   "execution_count": 3,
   "id": "594f8bc3",
   "metadata": {},
   "outputs": [
    {
     "data": {
      "text/plain": [
       "0    119\n",
       "1     78\n",
       "Name: target, dtype: int64"
      ]
     },
     "execution_count": 3,
     "metadata": {},
     "output_type": "execute_result"
    }
   ],
   "source": [
    "count=df['target'].value_counts()\n",
    "count"
   ]
  },
  {
   "cell_type": "code",
   "execution_count": 4,
   "id": "92ea4ab7",
   "metadata": {},
   "outputs": [
    {
     "data": {
      "text/html": [
       "<div>\n",
       "<style scoped>\n",
       "    .dataframe tbody tr th:only-of-type {\n",
       "        vertical-align: middle;\n",
       "    }\n",
       "\n",
       "    .dataframe tbody tr th {\n",
       "        vertical-align: top;\n",
       "    }\n",
       "\n",
       "    .dataframe thead th {\n",
       "        text-align: right;\n",
       "    }\n",
       "</style>\n",
       "<table border=\"1\" class=\"dataframe\">\n",
       "  <thead>\n",
       "    <tr style=\"text-align: right;\">\n",
       "      <th></th>\n",
       "      <th>body</th>\n",
       "      <th>target</th>\n",
       "    </tr>\n",
       "  </thead>\n",
       "  <tbody>\n",
       "    <tr>\n",
       "      <th>0</th>\n",
       "      <td>My girlfriend and I started a webcomic about a...</td>\n",
       "      <td>0</td>\n",
       "    </tr>\n",
       "    <tr>\n",
       "      <th>1</th>\n",
       "      <td>If you need a place to stay, a warm meal, or a...</td>\n",
       "      <td>0</td>\n",
       "    </tr>\n",
       "    <tr>\n",
       "      <th>2</th>\n",
       "      <td>Ok, first of all, I have really bad anxiety an...</td>\n",
       "      <td>0</td>\n",
       "    </tr>\n",
       "    <tr>\n",
       "      <th>3</th>\n",
       "      <td>I read that straight girls like men with broad...</td>\n",
       "      <td>0</td>\n",
       "    </tr>\n",
       "    <tr>\n",
       "      <th>4</th>\n",
       "      <td>.. So I'm an almost 21 year old woman who is w...</td>\n",
       "      <td>1</td>\n",
       "    </tr>\n",
       "  </tbody>\n",
       "</table>\n",
       "</div>"
      ],
      "text/plain": [
       "                                                body  target\n",
       "0  My girlfriend and I started a webcomic about a...       0\n",
       "1  If you need a place to stay, a warm meal, or a...       0\n",
       "2  Ok, first of all, I have really bad anxiety an...       0\n",
       "3  I read that straight girls like men with broad...       0\n",
       "4  .. So I'm an almost 21 year old woman who is w...       1"
      ]
     },
     "execution_count": 4,
     "metadata": {},
     "output_type": "execute_result"
    }
   ],
   "source": [
    "df.head()"
   ]
  },
  {
   "cell_type": "code",
   "execution_count": 5,
   "id": "b335edb4",
   "metadata": {},
   "outputs": [
    {
     "data": {
      "text/html": [
       "<div>\n",
       "<style scoped>\n",
       "    .dataframe tbody tr th:only-of-type {\n",
       "        vertical-align: middle;\n",
       "    }\n",
       "\n",
       "    .dataframe tbody tr th {\n",
       "        vertical-align: top;\n",
       "    }\n",
       "\n",
       "    .dataframe thead th {\n",
       "        text-align: right;\n",
       "    }\n",
       "</style>\n",
       "<table border=\"1\" class=\"dataframe\">\n",
       "  <thead>\n",
       "    <tr style=\"text-align: right;\">\n",
       "      <th></th>\n",
       "      <th>body</th>\n",
       "      <th>target</th>\n",
       "    </tr>\n",
       "  </thead>\n",
       "  <tbody>\n",
       "    <tr>\n",
       "      <th>0</th>\n",
       "      <td>My girlfriend and I started a webcomic about a...</td>\n",
       "      <td>0</td>\n",
       "    </tr>\n",
       "    <tr>\n",
       "      <th>1</th>\n",
       "      <td>If you need a place to stay, a warm meal, or a...</td>\n",
       "      <td>0</td>\n",
       "    </tr>\n",
       "    <tr>\n",
       "      <th>2</th>\n",
       "      <td>Ok, first of all, I have really bad anxiety an...</td>\n",
       "      <td>0</td>\n",
       "    </tr>\n",
       "    <tr>\n",
       "      <th>3</th>\n",
       "      <td>I read that straight girls like men with broad...</td>\n",
       "      <td>0</td>\n",
       "    </tr>\n",
       "    <tr>\n",
       "      <th>4</th>\n",
       "      <td>.. So I'm an almost 21 year old woman who is w...</td>\n",
       "      <td>1</td>\n",
       "    </tr>\n",
       "  </tbody>\n",
       "</table>\n",
       "</div>"
      ],
      "text/plain": [
       "                                                body  target\n",
       "0  My girlfriend and I started a webcomic about a...       0\n",
       "1  If you need a place to stay, a warm meal, or a...       0\n",
       "2  Ok, first of all, I have really bad anxiety an...       0\n",
       "3  I read that straight girls like men with broad...       0\n",
       "4  .. So I'm an almost 21 year old woman who is w...       1"
      ]
     },
     "execution_count": 5,
     "metadata": {},
     "output_type": "execute_result"
    }
   ],
   "source": [
    "df = df[['body', 'target']]\n",
    "\n",
    "df.head()"
   ]
  },
  {
   "cell_type": "code",
   "execution_count": 6,
   "id": "66872179",
   "metadata": {
    "colab": {
     "base_uri": "https://localhost:8080/"
    },
    "id": "66872179",
    "outputId": "638705b5-6953-4217-f408-3dd8b459509a"
   },
   "outputs": [
    {
     "data": {
      "text/plain": [
       "(197, 2)"
      ]
     },
     "execution_count": 6,
     "metadata": {},
     "output_type": "execute_result"
    }
   ],
   "source": [
    "df.shape"
   ]
  },
  {
   "cell_type": "markdown",
   "id": "Pl0HBHll5yRE",
   "metadata": {
    "id": "Pl0HBHll5yRE"
   },
   "source": [
    "# Data Analysis"
   ]
  },
  {
   "cell_type": "code",
   "execution_count": 7,
   "id": "b51276ed",
   "metadata": {
    "colab": {
     "base_uri": "https://localhost:8080/"
    },
    "id": "b51276ed",
    "outputId": "c9e21612-753e-40cc-991b-c21d35db842d",
    "scrolled": true
   },
   "outputs": [
    {
     "data": {
      "text/plain": [
       "body      0\n",
       "target    0\n",
       "dtype: int64"
      ]
     },
     "execution_count": 7,
     "metadata": {},
     "output_type": "execute_result"
    }
   ],
   "source": [
    "df.isnull().sum()"
   ]
  },
  {
   "cell_type": "code",
   "execution_count": null,
   "id": "71801f6a",
   "metadata": {},
   "outputs": [],
   "source": []
  },
  {
   "cell_type": "markdown",
   "id": "l_pUSStB6n4Y",
   "metadata": {
    "id": "l_pUSStB6n4Y"
   },
   "source": [
    "# Data Preprocessing"
   ]
  },
  {
   "cell_type": "code",
   "execution_count": 8,
   "id": "94d70868",
   "metadata": {
    "colab": {
     "base_uri": "https://localhost:8080/"
    },
    "id": "94d70868",
    "outputId": "3f1b548c-608a-4d61-dedf-ffcbc3cf86b7",
    "scrolled": true
   },
   "outputs": [
    {
     "name": "stderr",
     "output_type": "stream",
     "text": [
      "[nltk_data] Downloading package stopwords to\n",
      "[nltk_data]     C:\\Users\\HP\\AppData\\Roaming\\nltk_data...\n",
      "[nltk_data]   Package stopwords is already up-to-date!\n"
     ]
    }
   ],
   "source": [
    "from nltk.corpus import stopwords\n",
    "nltk.download('stopwords')\n",
    "\n",
    "stopwords = stopwords.words('english')"
   ]
  },
  {
   "cell_type": "code",
   "execution_count": 9,
   "id": "b81aa9ea",
   "metadata": {
    "id": "b81aa9ea"
   },
   "outputs": [],
   "source": [
    "stemmer = nltk.PorterStemmer()"
   ]
  },
  {
   "cell_type": "code",
   "execution_count": 10,
   "id": "f3d8cea3",
   "metadata": {
    "colab": {
     "base_uri": "https://localhost:8080/"
    },
    "id": "f3d8cea3",
    "outputId": "26413a0c-1071-4e0c-8369-60a6a7a49455",
    "scrolled": true
   },
   "outputs": [
    {
     "name": "stderr",
     "output_type": "stream",
     "text": [
      "[nltk_data] Downloading package wordnet to\n",
      "[nltk_data]     C:\\Users\\HP\\AppData\\Roaming\\nltk_data...\n",
      "[nltk_data]   Package wordnet is already up-to-date!\n",
      "[nltk_data] Downloading package omw-1.4 to\n",
      "[nltk_data]     C:\\Users\\HP\\AppData\\Roaming\\nltk_data...\n",
      "[nltk_data]   Package omw-1.4 is already up-to-date!\n"
     ]
    }
   ],
   "source": [
    "from nltk.stem import WordNetLemmatizer\n",
    "nltk.download('wordnet')\n",
    "nltk.download('omw-1.4')\n",
    "\n",
    "lemmatizer = WordNetLemmatizer()"
   ]
  },
  {
   "cell_type": "code",
   "execution_count": 11,
   "id": "b4d57aa5",
   "metadata": {
    "id": "b4d57aa5"
   },
   "outputs": [],
   "source": [
    "def preprocess(text):\n",
    "    text = str(text).lower()\n",
    "    text = re.sub('https?://\\S+|www\\.\\S+', '', text)\n",
    "    text = re.sub('\\n|\\t', '', text)\n",
    "    text = re.sub('\\d', '', text) ##\n",
    "    text = re.sub(r'[^\\w\\s]', ' ', text) ##\n",
    "    text = [word for word in text.split() if word not in stopwords] \n",
    "    text = [stemmer.stem(word) for word in text]\n",
    "    \n",
    "    text = \" \".join(text)\n",
    "    \n",
    "    return text\n",
    "    "
   ]
  },
  {
   "cell_type": "code",
   "execution_count": 12,
   "id": "821bcadd",
   "metadata": {
    "id": "821bcadd",
    "scrolled": true
   },
   "outputs": [],
   "source": [
    "df['clean'] = df['body'].apply(preprocess)"
   ]
  },
  {
   "cell_type": "code",
   "execution_count": 13,
   "id": "0e8584c4",
   "metadata": {
    "colab": {
     "base_uri": "https://localhost:8080/"
    },
    "id": "0e8584c4",
    "outputId": "5f20d461-96ae-429a-d4bb-e70c17880b40",
    "scrolled": true
   },
   "outputs": [
    {
     "name": "stdout",
     "output_type": "stream",
     "text": [
      "Original Tweets: \n",
      "1077\n",
      "195\n",
      "Preprocessed comments: \n",
      "531\n",
      "88\n"
     ]
    }
   ],
   "source": [
    "avg_len = df['body'].str.len().mean()\n",
    "avg_word_count = df['body'].str.split().str.len().mean()\n",
    "\n",
    "print('Original Tweets: ')\n",
    "print(int(avg_len))\n",
    "print(int(avg_word_count))\n",
    "\n",
    "\n",
    "avg_clean_len = df['clean'].str.len().mean()\n",
    "avg_clean_word_count = df['clean'].str.split().str.len().mean()\n",
    "\n",
    "print('Preprocessed comments: ')\n",
    "print(int(avg_clean_len))\n",
    "print(int(avg_clean_word_count))\n"
   ]
  },
  {
   "cell_type": "code",
   "execution_count": 14,
   "id": "85bd1eb8",
   "metadata": {},
   "outputs": [
    {
     "data": {
      "text/plain": [
       "Text(0.5, 1.0, 'Avg length of comments')"
      ]
     },
     "execution_count": 14,
     "metadata": {},
     "output_type": "execute_result"
    },
    {
     "data": {
      "image/png": "[encoded data removed]",
      "text/plain": [
       "<Figure size 432x288 with 1 Axes>"
      ]
     },
     "metadata": {
      "needs_background": "light"
     },
     "output_type": "display_data"
    }
   ],
   "source": [
    "y = [129, 64]\n",
    "x  = ['before preprocessing', 'after preprocessing']\n",
    "\n",
    "plt.bar(x, y, color = ['pink', 'gray'])\n",
    "plt.title('Avg length of comments')"
   ]
  },
  {
   "cell_type": "code",
   "execution_count": 15,
   "id": "32fb2b68",
   "metadata": {},
   "outputs": [
    {
     "data": {
      "text/plain": [
       "Text(0.5, 1.0, 'Avg word count of comments')"
      ]
     },
     "execution_count": 15,
     "metadata": {},
     "output_type": "execute_result"
    },
    {
     "data": {
      "image/png": "[encoded data removed]",
      "text/plain": [
       "<Figure size 432x288 with 1 Axes>"
      ]
     },
     "metadata": {
      "needs_background": "light"
     },
     "output_type": "display_data"
    }
   ],
   "source": [
    "\n",
    "y = [23, 11]\n",
    "x  = ['before preprocessing', 'after preprocessing']\n",
    "\n",
    "plt.bar(x, y, color = ['pink', 'gray'])\n",
    "plt.title('Avg word count of comments')"
   ]
  },
  {
   "cell_type": "code",
   "execution_count": 16,
   "id": "0305c468",
   "metadata": {
    "id": "0305c468"
   },
   "outputs": [],
   "source": [
    "data = df[['clean']]"
   ]
  },
  {
   "cell_type": "code",
   "execution_count": 17,
   "id": "tV2hDlvsWcCS",
   "metadata": {
    "colab": {
     "base_uri": "https://localhost:8080/",
     "height": 206
    },
    "id": "tV2hDlvsWcCS",
    "outputId": "17a20827-820a-48ab-fde2-33ad82f14c8c"
   },
   "outputs": [
    {
     "data": {
      "text/html": [
       "<div>\n",
       "<style scoped>\n",
       "    .dataframe tbody tr th:only-of-type {\n",
       "        vertical-align: middle;\n",
       "    }\n",
       "\n",
       "    .dataframe tbody tr th {\n",
       "        vertical-align: top;\n",
       "    }\n",
       "\n",
       "    .dataframe thead th {\n",
       "        text-align: right;\n",
       "    }\n",
       "</style>\n",
       "<table border=\"1\" class=\"dataframe\">\n",
       "  <thead>\n",
       "    <tr style=\"text-align: right;\">\n",
       "      <th></th>\n",
       "      <th>clean</th>\n",
       "    </tr>\n",
       "  </thead>\n",
       "  <tbody>\n",
       "    <tr>\n",
       "      <th>0</th>\n",
       "      <td>girlfriend start webcom relationship artist tr...</td>\n",
       "    </tr>\n",
       "    <tr>\n",
       "      <th>1</th>\n",
       "      <td>need place stay warm meal listen ear messag u ...</td>\n",
       "    </tr>\n",
       "    <tr>\n",
       "      <th>2</th>\n",
       "      <td>ok first realli bad anxieti tend focu person w...</td>\n",
       "    </tr>\n",
       "    <tr>\n",
       "      <th>3</th>\n",
       "      <td>read straight girl like men broad shoulder wid...</td>\n",
       "    </tr>\n",
       "    <tr>\n",
       "      <th>4</th>\n",
       "      <td>almost year old woman well lesbian area known ...</td>\n",
       "    </tr>\n",
       "  </tbody>\n",
       "</table>\n",
       "</div>"
      ],
      "text/plain": [
       "                                               clean\n",
       "0  girlfriend start webcom relationship artist tr...\n",
       "1  need place stay warm meal listen ear messag u ...\n",
       "2  ok first realli bad anxieti tend focu person w...\n",
       "3  read straight girl like men broad shoulder wid...\n",
       "4  almost year old woman well lesbian area known ..."
      ]
     },
     "execution_count": 17,
     "metadata": {},
     "output_type": "execute_result"
    }
   ],
   "source": [
    "data.head()"
   ]
  },
  {
   "cell_type": "code",
   "execution_count": null,
   "id": "b926070c",
   "metadata": {},
   "outputs": [],
   "source": []
  },
  {
   "cell_type": "code",
   "execution_count": null,
   "id": "40398fc6",
   "metadata": {},
   "outputs": [],
   "source": []
  },
  {
   "cell_type": "code",
   "execution_count": null,
   "id": "0f3ba329",
   "metadata": {},
   "outputs": [],
   "source": []
  },
  {
   "cell_type": "markdown",
   "id": "aHJFajoL8Xw6",
   "metadata": {
    "id": "aHJFajoL8Xw6"
   },
   "source": [
    "# Dataset splitting"
   ]
  },
  {
   "cell_type": "code",
   "execution_count": 18,
   "id": "28d6abc3",
   "metadata": {
    "colab": {
     "base_uri": "https://localhost:8080/"
    },
    "id": "28d6abc3",
    "outputId": "d28044fd-5818-4be6-e0b3-d07269a5dd72"
   },
   "outputs": [
    {
     "name": "stdout",
     "output_type": "stream",
     "text": [
      "(149,)\n",
      "(149,)\n",
      "(48,)\n",
      "(48,)\n"
     ]
    }
   ],
   "source": [
    "from sklearn.model_selection import train_test_split\n",
    "\n",
    "#X1_train, X1_test, y1_train, y1_test = train_test_split(df['clean'], df['target'], test_size = 0.25, random_state = 0)\n",
    "X1_train=df['clean'].head(149)\n",
    "X1_test=df['clean'].tail(48)\n",
    "y1_train=df['target'].head(149)\n",
    "y1_test=df['target'].tail(48)\n",
    "print(X1_train.shape)\n",
    "print(y1_train.shape)\n",
    "print(X1_test.shape)\n",
    "print(y1_test.shape)\n"
   ]
  },
  {
   "cell_type": "code",
   "execution_count": 19,
   "id": "166a6b01",
   "metadata": {
    "colab": {
     "base_uri": "https://localhost:8080/"
    },
    "id": "166a6b01",
    "outputId": "bd3e3e33-e8aa-4b4c-ee92-d09711a6decc"
   },
   "outputs": [
    {
     "name": "stdout",
     "output_type": "stream",
     "text": [
      "(149,)\n",
      "(149,)\n",
      "(48,)\n",
      "(48,)\n"
     ]
    }
   ],
   "source": [
    "#X2_train, X2_test, y2_train, y2_test = train_test_split(df['clean'], df['target'], test_size = 0.25, random_state = 0)\n",
    "X2_train=df['clean'].head(149)\n",
    "X2_test=df['clean'].tail(48)\n",
    "y2_train=df['target'].head(149)\n",
    "y2_test=df['target'].tail(48)\n",
    "print(X2_train.shape)\n",
    "print(y2_train.shape)\n",
    "print(X2_test.shape)\n",
    "print(y2_test.shape)\n"
   ]
  },
  {
   "cell_type": "markdown",
   "id": "HP4V6ys94onb",
   "metadata": {
    "id": "HP4V6ys94onb"
   },
   "source": [
    "# Vectorization"
   ]
  },
  {
   "cell_type": "code",
   "execution_count": 20,
   "id": "02450e86",
   "metadata": {
    "id": "02450e86"
   },
   "outputs": [],
   "source": [
    "from sklearn.feature_extraction.text import TfidfVectorizer, CountVectorizer\n",
    "import gensim"
   ]
  },
  {
   "cell_type": "code",
   "execution_count": 21,
   "id": "a83e58bb",
   "metadata": {
    "colab": {
     "base_uri": "https://localhost:8080/"
    },
    "id": "a83e58bb",
    "outputId": "ccbad5aa-21b7-4c52-dcfa-b0481a6b362c"
   },
   "outputs": [
    {
     "data": {
      "text/plain": [
       "(149, 659)"
      ]
     },
     "execution_count": 21,
     "metadata": {},
     "output_type": "execute_result"
    }
   ],
   "source": [
    "bow_vectorizer = CountVectorizer(max_df = 0.90, min_df=2, max_features = 659, analyzer = 'word', ngram_range=(1,2), stop_words='english')\n",
    "\n",
    "X1_train = bow_vectorizer.fit_transform(X1_train)\n",
    "X1_test = bow_vectorizer.transform(X1_test)\n",
    "\n",
    "X1_train.shape"
   ]
  },
  {
   "cell_type": "code",
   "execution_count": 22,
   "id": "1d3205ad",
   "metadata": {
    "id": "1d3205ad"
   },
   "outputs": [
    {
     "data": {
      "text/plain": [
       "(149, 659)"
      ]
     },
     "execution_count": 22,
     "metadata": {},
     "output_type": "execute_result"
    }
   ],
   "source": [
    "tfidf_vectorizer = TfidfVectorizer(max_df = 0.90, min_df=2, max_features = 659, analyzer = 'word', ngram_range=(1,2), stop_words='english')\n",
    "\n",
    "X2_train = tfidf_vectorizer.fit_transform(X2_train)\n",
    "X2_test = tfidf_vectorizer.transform(X2_test)\n",
    "\n",
    "X2_train.shape"
   ]
  },
  {
   "cell_type": "markdown",
   "id": "P_ydA0J16FQa",
   "metadata": {
    "id": "P_ydA0J16FQa"
   },
   "source": [
    "# Model Training"
   ]
  },
  {
   "cell_type": "code",
   "execution_count": 23,
   "id": "6fa92031",
   "metadata": {},
   "outputs": [],
   "source": [
    "#Metrics\n",
    "from sklearn.metrics import make_scorer, accuracy_score, precision_score\n",
    "from sklearn.metrics import classification_report\n",
    "from sklearn.metrics import confusion_matrix\n",
    "from sklearn.metrics import accuracy_score ,precision_score,recall_score,f1_score\n",
    "\n",
    "#Model Select\n",
    "# from sklearn import cross_validation\n",
    "from sklearn.model_selection import cross_val_score\n",
    "from sklearn.model_selection import train_test_split\n",
    "from sklearn.neural_network import MLPClassifier\n",
    "from sklearn.ensemble import RandomForestClassifier\n",
    "from sklearn.naive_bayes import GaussianNB\n",
    "from sklearn.tree import DecisionTreeClassifier\n",
    "from sklearn.neighbors import KNeighborsClassifier\n",
    "from sklearn.svm import SVC, LinearSVC"
   ]
  },
  {
   "cell_type": "code",
   "execution_count": null,
   "id": "48a0156b",
   "metadata": {},
   "outputs": [],
   "source": []
  },
  {
   "cell_type": "code",
   "execution_count": null,
   "id": "bb5f014d",
   "metadata": {},
   "outputs": [],
   "source": []
  },
  {
   "cell_type": "markdown",
   "id": "97b6f41e",
   "metadata": {},
   "source": [
    "# MLP"
   ]
  },
  {
   "cell_type": "code",
   "execution_count": 24,
   "id": "a2a520e9",
   "metadata": {},
   "outputs": [
    {
     "name": "stdout",
     "output_type": "stream",
     "text": [
      "The best parameters are {'activation': 'tanh', 'alpha': 0.0001, 'hidden_layer_sizes': (20,), 'learning_rate': 'adaptive', 'solver': 'sgd'} with a score of 0.68\n"
     ]
    },
    {
     "name": "stderr",
     "output_type": "stream",
     "text": [
      "C:\\Users\\HP\\AppData\\Local\\Programs\\Python\\Python310\\lib\\site-packages\\sklearn\\neural_network\\_multilayer_perceptron.py:702: ConvergenceWarning: Stochastic Optimizer: Maximum iterations (200) reached and the optimization hasn't converged yet.\n",
      "  warnings.warn(\n"
     ]
    }
   ],
   "source": [
    "from sklearn.model_selection import GridSearchCV\n",
    "import numpy as np\n",
    "\n",
    "rf = MLPClassifier()\n",
    "batch_size = np.arange(10,100,10)\n",
    "learn_rate = np.arange(0.001,0.3)\n",
    "#epochs = [10, 50, 100]\n",
    "#param_grid = dict(batch_size=batch_size, learning_rate_init=learn_rate)\n",
    "parameter_space = {\n",
    "    'hidden_layer_sizes': [(10,30,10),(20,)],\n",
    "    'activation': ['tanh', 'relu'],\n",
    "    'solver': ['sgd', 'adam'],\n",
    "    'alpha': [0.0001, 0.05],\n",
    "    'learning_rate': ['constant','adaptive'],\n",
    "}\n",
    "grid1 = GridSearchCV(rf, parameter_space, n_jobs=-1, cv=5)\n",
    "grid_result = grid1.fit(X1_train, y1_train)\n",
    "print(\"The best parameters are %s with a score of %0.2f\"\n",
    "      % (grid1.best_params_, grid1.best_score_))"
   ]
  },
  {
   "cell_type": "code",
   "execution_count": 25,
   "id": "495f4c8e",
   "metadata": {},
   "outputs": [],
   "source": [
    "#model1 = MLPClassifier(max_iter=500, activation='relu' ,batch_size=60, learning_rate_init=0.001)"
   ]
  },
  {
   "cell_type": "code",
   "execution_count": 26,
   "id": "e60c938a",
   "metadata": {},
   "outputs": [
    {
     "data": {
      "image/png": "[encoded data removed]",
      "text/plain": [
       "<Figure size 360x288 with 2 Axes>"
      ]
     },
     "metadata": {
      "needs_background": "light"
     },
     "output_type": "display_data"
    }
   ],
   "source": [
    "#model1.fit(X1_train, y1_train)  \n",
    "\n",
    "y1_pred = grid1.predict(X1_test)\n",
    "#X1_test\n",
    "cm = confusion_matrix(y1_test, y1_pred)\n",
    "#d1 = pd.concat([X1_test,y1_test], axis=1)\n",
    "#d1 = pd.concat([d1,y1_pred], axis=1)\n",
    "cm_df = pd.DataFrame(cm,\n",
    "                     index = [0,1], \n",
    "                     columns = [0,1])\n",
    "plt.figure(figsize=(5,4))\n",
    "sns.heatmap(cm_df, annot=True)\n",
    "plt.title('Confusion Matrix')\n",
    "plt.ylabel('Actal Values')\n",
    "plt.xlabel('Predicted Values')\n",
    "plt.show()\n",
    "#print(cm)"
   ]
  },
  {
   "cell_type": "code",
   "execution_count": 27,
   "id": "7be353ea",
   "metadata": {},
   "outputs": [
    {
     "name": "stdout",
     "output_type": "stream",
     "text": [
      "[0 0 0 0 0 0 0 0 0 0 1 1 1 1 0 0 0 1 0 0 0 0 1 0 0 1 1 0 0 0 0 1 0 1 0 0 0\n",
      " 0 0 0 1 1 0 0 1 0 0 1]\n"
     ]
    }
   ],
   "source": [
    "print(y1_pred)"
   ]
  },
  {
   "cell_type": "code",
   "execution_count": 28,
   "id": "f47340ca",
   "metadata": {},
   "outputs": [
    {
     "name": "stdout",
     "output_type": "stream",
     "text": [
      "              precision    recall  f1-score   support\n",
      "\n",
      "           0       0.71      0.89      0.79        27\n",
      "           1       0.79      0.52      0.63        21\n",
      "\n",
      "    accuracy                           0.73        48\n",
      "   macro avg       0.75      0.71      0.71        48\n",
      "weighted avg       0.74      0.73      0.72        48\n",
      "\n"
     ]
    }
   ],
   "source": [
    "print(classification_report(y1_test, y1_pred))"
   ]
  },
  {
   "cell_type": "code",
   "execution_count": 29,
   "id": "b593b48e",
   "metadata": {},
   "outputs": [],
   "source": [
    "import numpy as np\n",
    "import matplotlib.pyplot as plt\n",
    "from itertools import cycle\n",
    "\n",
    "from sklearn import svm, datasets\n",
    "from sklearn.metrics import roc_curve, auc\n",
    "from sklearn.model_selection import train_test_split\n",
    "from sklearn.preprocessing import label_binarize\n",
    "from sklearn.multiclass import OneVsRestClassifier\n",
    "from sklearn.metrics import roc_auc_score\n",
    "\n",
    "#from utils.plot_ROC_Curve import plot_roc_pr\n",
    "\n",
    "#plot_roc_pr(y_pred = y1_pred, y_test = y1_test)\n"
   ]
  },
  {
   "cell_type": "code",
   "execution_count": 30,
   "id": "e54f2209",
   "metadata": {
    "scrolled": true
   },
   "outputs": [],
   "source": [
    "#!pip install scikit-plot\n",
    "from scikitplot.estimators import plot_feature_importances\n",
    "from scikitplot.metrics import plot_confusion_matrix, plot_roc\n",
    "import scikitplot as skplt\n",
    "import matplotlib.pyplot as plt"
   ]
  },
  {
   "cell_type": "code",
   "execution_count": 32,
   "id": "abbc3cde",
   "metadata": {},
   "outputs": [
    {
     "data": {
      "image/png": "[encoded data removed]",
      "text/plain": [
       "<Figure size 432x288 with 1 Axes>"
      ]
     },
     "metadata": {
      "needs_background": "light"
     },
     "output_type": "display_data"
    }
   ],
   "source": [
    "import sklearn.metrics as metrics\n",
    "# calculate the fpr and tpr for all thresholds of the classification\n",
    "probs = grid1.predict_proba(X1_test)\n",
    "preds = probs[:,1]\n",
    "fpr, tpr, threshold = metrics.roc_curve(y1_test, preds)\n",
    "roc_auc = metrics.auc(fpr, tpr)\n",
    "\n",
    "# method I: plt\n",
    "import matplotlib.pyplot as plt\n",
    "plt.title('Receiver Operating Characteristic')\n",
    "plt.plot(fpr, tpr, 'b', label = 'AUC = %0.3f' % roc_auc)\n",
    "plt.legend(loc = 'lower right')\n",
    "plt.plot([0, 1], [0, 1],'r--')\n",
    "plt.xlim([0, 1])\n",
    "plt.ylim([0, 1])\n",
    "plt.ylabel('True Positive Rate')\n",
    "plt.xlabel('False Positive Rate')\n",
    "plt.show()\n",
    "\n",
    "# method II: ggplot\n",
    "# from ggplot import *\n",
    "# df = pd.DataFrame(dict(fpr = fpr, tpr = tpr))\n",
    "# ggplot(df, aes(x = 'fpr', y = 'tpr')) + geom_line() + geom_abline(linetype = 'dashed')"
   ]
  },
  {
   "cell_type": "code",
   "execution_count": 33,
   "id": "15f67993",
   "metadata": {},
   "outputs": [
    {
     "name": "stdout",
     "output_type": "stream",
     "text": [
      "Model1: f1=0.629 auc=0.697\n"
     ]
    },
    {
     "data": {
      "image/png": "[encoded data removed]",
      "text/plain": [
       "<Figure size 432x288 with 1 Axes>"
      ]
     },
     "metadata": {
      "needs_background": "light"
     },
     "output_type": "display_data"
    }
   ],
   "source": [
    "# precision-recall curve and f1\n",
    "from sklearn.datasets import make_classification\n",
    "from sklearn.linear_model import LogisticRegression\n",
    "from sklearn.model_selection import train_test_split\n",
    "from sklearn.metrics import precision_recall_curve\n",
    "from sklearn.metrics import f1_score\n",
    "from sklearn.metrics import auc\n",
    "from matplotlib import pyplot\n",
    "lr_probs = grid1.predict_proba(X1_test)\n",
    "# keep probabilities for the positive outcome only\n",
    "lr_probs = lr_probs[:, 1]\n",
    "# predict class values\n",
    "yhat = grid1.predict(X1_test)\n",
    "lr_precision, lr_recall, _ = precision_recall_curve(y1_test, lr_probs)\n",
    "lr_f1, lr_auc = f1_score(y1_test, yhat), auc(lr_recall, lr_precision)\n",
    "# summarize scores\n",
    "print('Model1: f1=%.3f auc=%.3f' % (lr_f1, lr_auc))\n",
    "# plot the precision-recall curves\n",
    "no_skill = len(y1_test[y1_test==1]) / len(y1_test)\n",
    "pyplot.plot([0, 1], [no_skill, no_skill], linestyle='--', label='No Skill')\n",
    "pyplot.plot(lr_recall, lr_precision, marker='.', label='MLP')\n",
    "# axis labels\n",
    "pyplot.xlabel('Recall')\n",
    "pyplot.ylabel('Precision')\n",
    "# show the legend\n",
    "pyplot.legend()\n",
    "# show the plot\n",
    "pyplot.show()"
   ]
  },
  {
   "cell_type": "code",
   "execution_count": 34,
   "id": "88e5231c",
   "metadata": {},
   "outputs": [
    {
     "name": "stdout",
     "output_type": "stream",
     "text": [
      "balanced_accuracy 0.7063492063492063\n"
     ]
    }
   ],
   "source": [
    "from sklearn.metrics import balanced_accuracy_score\n",
    "\n",
    "print(\"balanced_accuracy\", balanced_accuracy_score(y1_test, y1_pred))"
   ]
  },
  {
   "cell_type": "code",
   "execution_count": 35,
   "id": "cd215637",
   "metadata": {},
   "outputs": [
    {
     "name": "stderr",
     "output_type": "stream",
     "text": [
      "C:\\Users\\HP\\AppData\\Local\\Programs\\Python\\Python310\\lib\\site-packages\\sklearn\\neural_network\\_multilayer_perceptron.py:702: ConvergenceWarning: Stochastic Optimizer: Maximum iterations (200) reached and the optimization hasn't converged yet.\n",
      "  warnings.warn(\n"
     ]
    },
    {
     "data": {
      "image/png": "[encoded data removed]",
      "text/plain": [
       "<Figure size 360x288 with 2 Axes>"
      ]
     },
     "metadata": {
      "needs_background": "light"
     },
     "output_type": "display_data"
    }
   ],
   "source": [
    "grid1.fit(X2_train, y2_train)\n",
    "\n",
    "\n",
    "y2_pred = grid1.predict(X2_test)\n",
    "#grid1.fit(X2_train, y2_train)\n",
    "\n",
    "y2_pred = grid1.predict(X2_test)\n",
    "\n",
    "cm = confusion_matrix(y2_test, y2_pred)\n",
    "\n",
    "#print(cm)\n",
    "cm_df = pd.DataFrame(cm,\n",
    "                     index = [0,1], \n",
    "                     columns = [0,1])\n",
    "plt.figure(figsize=(5,4))\n",
    "sns.heatmap(cm_df, annot=True)\n",
    "plt.title('Confusion Matrix')\n",
    "plt.ylabel('Actal Values')\n",
    "plt.xlabel('Predicted Values')\n",
    "plt.show()"
   ]
  },
  {
   "cell_type": "code",
   "execution_count": 36,
   "id": "802ea564",
   "metadata": {},
   "outputs": [
    {
     "name": "stdout",
     "output_type": "stream",
     "text": [
      "[1 0 0 0 0 1 0 0 1 1 1 1 0 1 0 1 0 0 1 0 1 1 1 0 1 1 1 1 1 0 0 1 0 0 0 0 0\n",
      " 0 0 0 0 0 1 0 1 1 0 1]\n"
     ]
    }
   ],
   "source": [
    "print(y2_pred)"
   ]
  },
  {
   "cell_type": "code",
   "execution_count": 37,
   "id": "367bb6e9",
   "metadata": {},
   "outputs": [
    {
     "name": "stdout",
     "output_type": "stream",
     "text": [
      "              precision    recall  f1-score   support\n",
      "\n",
      "           0       0.73      0.70      0.72        27\n",
      "           1       0.64      0.67      0.65        21\n",
      "\n",
      "    accuracy                           0.69        48\n",
      "   macro avg       0.68      0.69      0.68        48\n",
      "weighted avg       0.69      0.69      0.69        48\n",
      "\n"
     ]
    }
   ],
   "source": [
    "print(classification_report(y2_test, y2_pred))"
   ]
  },
  {
   "cell_type": "code",
   "execution_count": 38,
   "id": "149fba50",
   "metadata": {},
   "outputs": [
    {
     "data": {
      "image/png": "[encoded data removed]",
      "text/plain": [
       "<Figure size 432x288 with 1 Axes>"
      ]
     },
     "metadata": {
      "needs_background": "light"
     },
     "output_type": "display_data"
    }
   ],
   "source": [
    "import sklearn.metrics as metrics\n",
    "# calculate the fpr and tpr for all thresholds of the classification\n",
    "probs = grid1.predict_proba(X2_test)\n",
    "preds = probs[:,1]\n",
    "fpr, tpr, threshold = metrics.roc_curve(y2_test, preds)\n",
    "roc_auc = metrics.auc(fpr, tpr)\n",
    "\n",
    "# method I: plt\n",
    "import matplotlib.pyplot as plt\n",
    "plt.title('Receiver Operating Characteristic')\n",
    "plt.plot(fpr, tpr, 'b', label = 'AUC = %0.3f' % roc_auc)\n",
    "plt.legend(loc = 'lower right')\n",
    "plt.plot([0, 1], [0, 1],'r--')\n",
    "plt.xlim([0, 1])\n",
    "plt.ylim([0, 1])\n",
    "plt.ylabel('True Positive Rate')\n",
    "plt.xlabel('False Positive Rate')\n",
    "plt.show()\n",
    "\n",
    "# method II: ggplot\n",
    "# from ggplot import *\n",
    "# df = pd.DataFrame(dict(fpr = fpr, tpr = tpr))\n",
    "# ggplot(df, aes(x = 'fpr', y = 'tpr')) + geom_line() + geom_abline(linetype = 'dashed')"
   ]
  },
  {
   "cell_type": "code",
   "execution_count": 39,
   "id": "dd8bde8d",
   "metadata": {},
   "outputs": [
    {
     "name": "stdout",
     "output_type": "stream",
     "text": [
      "Model1: f1=0.651 auc=0.731\n"
     ]
    },
    {
     "data": {
      "image/png": "[encoded data removed]",
      "text/plain": [
       "<Figure size 432x288 with 1 Axes>"
      ]
     },
     "metadata": {
      "needs_background": "light"
     },
     "output_type": "display_data"
    }
   ],
   "source": [
    "# precision-recall curve and f1\n",
    "from sklearn.datasets import make_classification\n",
    "from sklearn.linear_model import LogisticRegression\n",
    "from sklearn.model_selection import train_test_split\n",
    "from sklearn.metrics import precision_recall_curve\n",
    "from sklearn.metrics import f1_score\n",
    "from sklearn.metrics import auc\n",
    "from matplotlib import pyplot\n",
    "lr_probs = grid1.predict_proba(X2_test)\n",
    "# keep probabilities for the positive outcome only\n",
    "lr_probs = lr_probs[:, 1]\n",
    "# predict class values\n",
    "yhat = grid1.predict(X2_test)\n",
    "lr_precision, lr_recall, _ = precision_recall_curve(y2_test, lr_probs)\n",
    "lr_f1, lr_auc = f1_score(y2_test, yhat), auc(lr_recall, lr_precision)\n",
    "# summarize scores\n",
    "print('Model1: f1=%.3f auc=%.3f' % (lr_f1, lr_auc))\n",
    "# plot the precision-recall curves\n",
    "no_skill = len(y2_test[y2_test==1]) / len(y2_test)\n",
    "pyplot.plot([0, 1], [no_skill, no_skill], linestyle='--', label='No Skill')\n",
    "pyplot.plot(lr_recall, lr_precision, marker='.', label='MLP')\n",
    "# axis labels\n",
    "pyplot.xlabel('Recall')\n",
    "pyplot.ylabel('Precision')\n",
    "# show the legend\n",
    "pyplot.legend()\n",
    "# show the plot\n",
    "pyplot.show()"
   ]
  },
  {
   "cell_type": "code",
   "execution_count": 40,
   "id": "c6e0f034",
   "metadata": {},
   "outputs": [
    {
     "name": "stdout",
     "output_type": "stream",
     "text": [
      "balanced_accuracy 0.6851851851851851\n"
     ]
    }
   ],
   "source": [
    "print(\"balanced_accuracy\", balanced_accuracy_score(y2_test, y2_pred))"
   ]
  },
  {
   "cell_type": "markdown",
   "id": "d120f69d",
   "metadata": {},
   "source": [
    "# Random forest"
   ]
  },
  {
   "cell_type": "code",
   "execution_count": 41,
   "id": "620e70b5",
   "metadata": {},
   "outputs": [
    {
     "name": "stdout",
     "output_type": "stream",
     "text": [
      "The best parameters are {'criterion': 'log_loss', 'max_features': 4, 'min_samples_split': 0.1, 'n_estimators': 200} with a score of 0.711\n"
     ]
    }
   ],
   "source": [
    "from sklearn.model_selection import GridSearchCV\n",
    "import numpy as np\n",
    "\n",
    "max_features_range = np.arange(1,6,1)\n",
    "n_estimators_range = np.arange(10,210,10)\n",
    "#n_depth_range = np.arange(1,32)\n",
    "min_samples_split=np.arange(0.1,1.0)\n",
    "criterion=['gini', 'entropy', 'log_loss']\n",
    "param_grid = dict(max_features=max_features_range, n_estimators=n_estimators_range,min_samples_split=min_samples_split,criterion=criterion)\n",
    "\n",
    "rf = RandomForestClassifier()\n",
    "\n",
    "grid2 = GridSearchCV(estimator=rf, param_grid=param_grid, cv=5)\n",
    "grid2.fit(X1_train, y1_train)\n",
    "print(\"The best parameters are %s with a score of %0.3f\"\n",
    "      % (grid2.best_params_, grid2.best_score_))"
   ]
  },
  {
   "cell_type": "code",
   "execution_count": 42,
   "id": "0a21dbd0",
   "metadata": {},
   "outputs": [],
   "source": [
    "#model2 = RandomForestClassifier(n_estimators=50, max_features=5)"
   ]
  },
  {
   "cell_type": "code",
   "execution_count": 43,
   "id": "83e775db",
   "metadata": {},
   "outputs": [
    {
     "data": {
      "image/png": "[encoded data removed]",
      "text/plain": [
       "<Figure size 360x288 with 2 Axes>"
      ]
     },
     "metadata": {
      "needs_background": "light"
     },
     "output_type": "display_data"
    }
   ],
   "source": [
    "grid2.fit(X1_train, y1_train)  \n",
    "\n",
    "y1_pred = grid2.predict(X1_test)\n",
    "\n",
    "cm = confusion_matrix(y1_test, y1_pred)\n",
    "cm_df = pd.DataFrame(cm,\n",
    "                     index = [0,1], \n",
    "                     columns = [0,1])\n",
    "plt.figure(figsize=(5,4))\n",
    "sns.heatmap(cm_df, annot=True)\n",
    "plt.title('Confusion Matrix')\n",
    "plt.ylabel('Actal Values')\n",
    "plt.xlabel('Predicted Values')\n",
    "plt.show()\n",
    "#print(cm)\n"
   ]
  },
  {
   "cell_type": "code",
   "execution_count": 44,
   "id": "0543680b",
   "metadata": {},
   "outputs": [
    {
     "name": "stdout",
     "output_type": "stream",
     "text": [
      "[0 0 1 0 0 0 0 0 0 0 0 0 1 0 0 0 0 0 0 0 0 1 0 0 0 1 1 0 0 0 0 0 0 0 0 0 0\n",
      " 0 1 0 1 1 0 0 0 0 0 0]\n"
     ]
    }
   ],
   "source": [
    "print(y1_pred)"
   ]
  },
  {
   "cell_type": "code",
   "execution_count": 45,
   "id": "3a52c75f",
   "metadata": {},
   "outputs": [
    {
     "name": "stdout",
     "output_type": "stream",
     "text": [
      "              precision    recall  f1-score   support\n",
      "\n",
      "           0       0.62      0.93      0.75        27\n",
      "           1       0.75      0.29      0.41        21\n",
      "\n",
      "    accuracy                           0.65        48\n",
      "   macro avg       0.69      0.61      0.58        48\n",
      "weighted avg       0.68      0.65      0.60        48\n",
      "\n"
     ]
    }
   ],
   "source": [
    "print(classification_report(y1_test, y1_pred))"
   ]
  },
  {
   "cell_type": "code",
   "execution_count": 46,
   "id": "d0db3449",
   "metadata": {},
   "outputs": [
    {
     "data": {
      "image/png": "[encoded data removed]",
      "text/plain": [
       "<Figure size 432x288 with 1 Axes>"
      ]
     },
     "metadata": {
      "needs_background": "light"
     },
     "output_type": "display_data"
    }
   ],
   "source": [
    "import sklearn.metrics as metrics\n",
    "# calculate the fpr and tpr for all thresholds of the classification\n",
    "probs = grid2.predict_proba(X1_test)\n",
    "preds = probs[:,1]\n",
    "fpr, tpr, threshold = metrics.roc_curve(y1_test, preds)\n",
    "roc_auc = metrics.auc(fpr, tpr)\n",
    "\n",
    "# method I: plt\n",
    "import matplotlib.pyplot as plt\n",
    "plt.title('Receiver Operating Characteristic')\n",
    "plt.plot(fpr, tpr, 'b', label = 'AUC = %0.3f' % roc_auc)\n",
    "plt.legend(loc = 'lower right')\n",
    "plt.plot([0, 1], [0, 1],'r--')\n",
    "plt.xlim([0, 1])\n",
    "plt.ylim([0, 1])\n",
    "plt.ylabel('True Positive Rate')\n",
    "plt.xlabel('False Positive Rate')\n",
    "plt.show()\n",
    "\n",
    "# method II: ggplot\n",
    "# from ggplot import *\n",
    "# df = pd.DataFrame(dict(fpr = fpr, tpr = tpr))\n",
    "# ggplot(df, aes(x = 'fpr', y = 'tpr')) + geom_line() + geom_abline(linetype = 'dashed')"
   ]
  },
  {
   "cell_type": "code",
   "execution_count": 47,
   "id": "c268c875",
   "metadata": {},
   "outputs": [
    {
     "name": "stdout",
     "output_type": "stream",
     "text": [
      "Model1: f1=0.414 auc=0.728\n"
     ]
    },
    {
     "data": {
      "image/png": "[encoded data removed]",
      "text/plain": [
       "<Figure size 432x288 with 1 Axes>"
      ]
     },
     "metadata": {
      "needs_background": "light"
     },
     "output_type": "display_data"
    }
   ],
   "source": [
    "# precision-recall curve and f1\n",
    "from sklearn.datasets import make_classification\n",
    "from sklearn.linear_model import LogisticRegression\n",
    "from sklearn.model_selection import train_test_split\n",
    "from sklearn.metrics import precision_recall_curve\n",
    "from sklearn.metrics import f1_score\n",
    "from sklearn.metrics import auc\n",
    "from matplotlib import pyplot\n",
    "lr_probs = grid2.predict_proba(X1_test)\n",
    "# keep probabilities for the positive outcome only\n",
    "lr_probs = lr_probs[:, 1]\n",
    "# predict class values\n",
    "yhat = grid2.predict(X1_test)\n",
    "lr_precision, lr_recall, _ = precision_recall_curve(y1_test, lr_probs)\n",
    "lr_f1, lr_auc = f1_score(y1_test, yhat), auc(lr_recall, lr_precision)\n",
    "# summarize scores\n",
    "print('Model1: f1=%.3f auc=%.3f' % (lr_f1, lr_auc))\n",
    "# plot the precision-recall curves\n",
    "no_skill = len(y1_test[y1_test==1]) / len(y1_test)\n",
    "pyplot.plot([0, 1], [no_skill, no_skill], linestyle='--', label='No Skill')\n",
    "pyplot.plot(lr_recall, lr_precision, marker='.', label='Random Forest')\n",
    "# axis labels\n",
    "pyplot.xlabel('Recall')\n",
    "pyplot.ylabel('Precision')\n",
    "# show the legend\n",
    "pyplot.legend()\n",
    "# show the plot\n",
    "pyplot.show()"
   ]
  },
  {
   "cell_type": "code",
   "execution_count": 48,
   "id": "7a3e1065",
   "metadata": {},
   "outputs": [
    {
     "name": "stdout",
     "output_type": "stream",
     "text": [
      "balanced_accuracy 0.6058201058201058\n"
     ]
    }
   ],
   "source": [
    "print(\"balanced_accuracy\", balanced_accuracy_score(y1_test, y1_pred))"
   ]
  },
  {
   "cell_type": "code",
   "execution_count": 49,
   "id": "46e3e57f",
   "metadata": {},
   "outputs": [
    {
     "data": {
      "image/png": "[encoded data removed]",
      "text/plain": [
       "<Figure size 360x288 with 2 Axes>"
      ]
     },
     "metadata": {
      "needs_background": "light"
     },
     "output_type": "display_data"
    }
   ],
   "source": [
    "grid2.fit(X2_train, y2_train)\n",
    "\n",
    "y2_pred = grid2.predict(X2_test)\n",
    "\n",
    "cm = confusion_matrix(y2_test, y2_pred)\n",
    "#print(cm)\n",
    "cm_df = pd.DataFrame(cm,\n",
    "                     index = [0,1], \n",
    "                     columns = [0,1])\n",
    "plt.figure(figsize=(5,4))\n",
    "sns.heatmap(cm_df, annot=True)\n",
    "plt.title('Confusion Matrix')\n",
    "plt.ylabel('Actal Values')\n",
    "plt.xlabel('Predicted Values')\n",
    "plt.show()"
   ]
  },
  {
   "cell_type": "code",
   "execution_count": 50,
   "id": "1ca18508",
   "metadata": {},
   "outputs": [
    {
     "name": "stdout",
     "output_type": "stream",
     "text": [
      "[0 0 0 0 0 0 0 1 0 0 0 0 0 0 0 1 0 0 0 0 0 0 0 0 0 1 0 1 0 0 0 0 0 0 0 0 0\n",
      " 0 0 0 0 0 1 0 0 0 0 0]\n"
     ]
    }
   ],
   "source": [
    "print(y2_pred)"
   ]
  },
  {
   "cell_type": "code",
   "execution_count": 51,
   "id": "9e90bd77",
   "metadata": {
    "scrolled": true
   },
   "outputs": [
    {
     "name": "stdout",
     "output_type": "stream",
     "text": [
      "              precision    recall  f1-score   support\n",
      "\n",
      "           0       0.58      0.93      0.71        27\n",
      "           1       0.60      0.14      0.23        21\n",
      "\n",
      "    accuracy                           0.58        48\n",
      "   macro avg       0.59      0.53      0.47        48\n",
      "weighted avg       0.59      0.58      0.50        48\n",
      "\n"
     ]
    }
   ],
   "source": [
    "print(classification_report(y2_test, y2_pred))"
   ]
  },
  {
   "cell_type": "code",
   "execution_count": 52,
   "id": "ddf3cdb4",
   "metadata": {},
   "outputs": [
    {
     "data": {
      "image/png": "[encoded data removed]",
      "text/plain": [
       "<Figure size 432x288 with 1 Axes>"
      ]
     },
     "metadata": {
      "needs_background": "light"
     },
     "output_type": "display_data"
    }
   ],
   "source": [
    "import sklearn.metrics as metrics\n",
    "# calculate the fpr and tpr for all thresholds of the classification\n",
    "probs = grid2.predict_proba(X2_test)\n",
    "preds = probs[:,1]\n",
    "fpr, tpr, threshold = metrics.roc_curve(y2_test, preds)\n",
    "roc_auc = metrics.auc(fpr, tpr)\n",
    "\n",
    "# method I: plt\n",
    "import matplotlib.pyplot as plt\n",
    "plt.title('Receiver Operating Characteristic')\n",
    "plt.plot(fpr, tpr, 'b', label = 'AUC = %0.3f' % roc_auc)\n",
    "plt.legend(loc = 'lower right')\n",
    "plt.plot([0, 1], [0, 1],'r--')\n",
    "plt.xlim([0, 1])\n",
    "plt.ylim([0, 1])\n",
    "plt.ylabel('True Positive Rate')\n",
    "plt.xlabel('False Positive Rate')\n",
    "plt.show()\n",
    "\n",
    "# method II: ggplot\n",
    "# from ggplot import *\n",
    "# df = pd.DataFrame(dict(fpr = fpr, tpr = tpr))\n",
    "# ggplot(df, aes(x = 'fpr', y = 'tpr')) + geom_line() + geom_abline(linetype = 'dashed')"
   ]
  },
  {
   "cell_type": "code",
   "execution_count": 53,
   "id": "d888655f",
   "metadata": {},
   "outputs": [
    {
     "name": "stdout",
     "output_type": "stream",
     "text": [
      "Model1: f1=0.231 auc=0.736\n"
     ]
    },
    {
     "data": {
      "image/png": "[encoded data removed]",
      "text/plain": [
       "<Figure size 432x288 with 1 Axes>"
      ]
     },
     "metadata": {
      "needs_background": "light"
     },
     "output_type": "display_data"
    }
   ],
   "source": [
    "# precision-recall curve and f1\n",
    "from sklearn.datasets import make_classification\n",
    "from sklearn.linear_model import LogisticRegression\n",
    "from sklearn.model_selection import train_test_split\n",
    "from sklearn.metrics import precision_recall_curve\n",
    "from sklearn.metrics import f1_score\n",
    "from sklearn.metrics import auc\n",
    "from matplotlib import pyplot\n",
    "lr_probs = grid2.predict_proba(X2_test)\n",
    "# keep probabilities for the positive outcome only\n",
    "lr_probs = lr_probs[:, 1]\n",
    "# predict class values\n",
    "yhat = grid2.predict(X2_test)\n",
    "lr_precision, lr_recall, _ = precision_recall_curve(y2_test, lr_probs)\n",
    "lr_f1, lr_auc = f1_score(y2_test, yhat), auc(lr_recall, lr_precision)\n",
    "# summarize scores\n",
    "print('Model1: f1=%.3f auc=%.3f' % (lr_f1, lr_auc))\n",
    "# plot the precision-recall curves\n",
    "no_skill = len(y2_test[y2_test==1]) / len(y2_test)\n",
    "pyplot.plot([0, 1], [no_skill, no_skill], linestyle='--', label='No Skill')\n",
    "pyplot.plot(lr_recall, lr_precision, marker='.', label='Random Forest')\n",
    "# axis labels\n",
    "pyplot.xlabel('Recall')\n",
    "pyplot.ylabel('Precision')\n",
    "# show the legend\n",
    "pyplot.legend()\n",
    "# show the plot\n",
    "pyplot.show()"
   ]
  },
  {
   "cell_type": "code",
   "execution_count": 54,
   "id": "6420da07",
   "metadata": {},
   "outputs": [
    {
     "name": "stdout",
     "output_type": "stream",
     "text": [
      "balanced_accuracy 0.5343915343915344\n"
     ]
    }
   ],
   "source": [
    "print(\"balanced_accuracy\", balanced_accuracy_score(y2_test, y2_pred))"
   ]
  },
  {
   "cell_type": "markdown",
   "id": "f06fcda2",
   "metadata": {},
   "source": [
    "# Decision Tree"
   ]
  },
  {
   "cell_type": "code",
   "execution_count": 55,
   "id": "907ac2a9",
   "metadata": {},
   "outputs": [
    {
     "name": "stdout",
     "output_type": "stream",
     "text": [
      "The best parameters are {'criterion': 'entropy', 'max_depth': 13, 'max_features': 5, 'min_samples_split': 0.1} with a score of 0.71\n"
     ]
    }
   ],
   "source": [
    "from sklearn.model_selection import GridSearchCV\n",
    "import numpy as np\n",
    "\n",
    "max_features_range = np.arange(1,6,1)\n",
    "max_depth_range = np.arange(1,32)\n",
    "criterion=['gini', 'entropy', 'log_loss']\n",
    "min_samples_split=np.arange(0.1,1.0)\n",
    "param_grid = dict(max_features=max_features_range, max_depth=max_depth_range,criterion=criterion,min_samples_split=min_samples_split)\n",
    "\n",
    "rf = DecisionTreeClassifier()\n",
    "\n",
    "grid3 = GridSearchCV(estimator=rf, param_grid=param_grid, cv=5)\n",
    "grid3.fit(X1_train, y1_train)\n",
    "print(\"The best parameters are %s with a score of %0.2f\"\n",
    "      % (grid3.best_params_, grid3.best_score_))"
   ]
  },
  {
   "cell_type": "code",
   "execution_count": 56,
   "id": "1ccbfc44",
   "metadata": {},
   "outputs": [],
   "source": [
    "#model3 = DecisionTreeClassifier(max_depth=4, max_features=3) "
   ]
  },
  {
   "cell_type": "code",
   "execution_count": 57,
   "id": "67cc77d1",
   "metadata": {},
   "outputs": [
    {
     "data": {
      "image/png": "[encoded data removed]",
      "text/plain": [
       "<Figure size 360x288 with 2 Axes>"
      ]
     },
     "metadata": {
      "needs_background": "light"
     },
     "output_type": "display_data"
    }
   ],
   "source": [
    "grid3.fit(X1_train, y1_train)  \n",
    "\n",
    "y1_pred = grid3.predict(X1_test)\n",
    "\n",
    "cm = confusion_matrix(y1_test, y1_pred)\n",
    "\n",
    "#print(cm)\n",
    "cm_df = pd.DataFrame(cm,\n",
    "                     index = [0,1], \n",
    "                     columns = [0,1])\n",
    "plt.figure(figsize=(5,4))\n",
    "sns.heatmap(cm_df, annot=True)\n",
    "plt.title('Confusion Matrix')\n",
    "plt.ylabel('Actal Values')\n",
    "plt.xlabel('Predicted Values')\n",
    "plt.show()"
   ]
  },
  {
   "cell_type": "code",
   "execution_count": 58,
   "id": "1ea21829",
   "metadata": {},
   "outputs": [
    {
     "name": "stdout",
     "output_type": "stream",
     "text": [
      "[0 0 1 0 0 0 0 0 0 0 0 0 0 1 1 1 0 0 1 1 0 1 1 0 1 1 1 1 0 1 0 1 0 0 0 0 1\n",
      " 1 1 0 0 1 0 1 1 0 0 1]\n"
     ]
    }
   ],
   "source": [
    "print(y1_pred)"
   ]
  },
  {
   "cell_type": "code",
   "execution_count": 59,
   "id": "d58a6258",
   "metadata": {},
   "outputs": [
    {
     "name": "stdout",
     "output_type": "stream",
     "text": [
      "              precision    recall  f1-score   support\n",
      "\n",
      "           0       0.70      0.70      0.70        27\n",
      "           1       0.62      0.62      0.62        21\n",
      "\n",
      "    accuracy                           0.67        48\n",
      "   macro avg       0.66      0.66      0.66        48\n",
      "weighted avg       0.67      0.67      0.67        48\n",
      "\n"
     ]
    }
   ],
   "source": [
    "print(classification_report(y1_test, y1_pred))"
   ]
  },
  {
   "cell_type": "code",
   "execution_count": 60,
   "id": "e19b902f",
   "metadata": {},
   "outputs": [
    {
     "data": {
      "image/png": "[encoded data removed]",
      "text/plain": [
       "<Figure size 432x288 with 1 Axes>"
      ]
     },
     "metadata": {
      "needs_background": "light"
     },
     "output_type": "display_data"
    }
   ],
   "source": [
    "import sklearn.metrics as metrics\n",
    "# calculate the fpr and tpr for all thresholds of the classification\n",
    "probs = grid3.predict_proba(X1_test)\n",
    "preds = probs[:,1]\n",
    "fpr, tpr, threshold = metrics.roc_curve(y1_test, preds)\n",
    "roc_auc = metrics.auc(fpr, tpr)\n",
    "\n",
    "# method I: plt\n",
    "import matplotlib.pyplot as plt\n",
    "plt.title('Receiver Operating Characteristic')\n",
    "plt.plot(fpr, tpr, 'b', label = 'AUC = %0.3f' % roc_auc)\n",
    "plt.legend(loc = 'lower right')\n",
    "plt.plot([0, 1], [0, 1],'r--')\n",
    "plt.xlim([0, 1])\n",
    "plt.ylim([0, 1])\n",
    "plt.ylabel('True Positive Rate')\n",
    "plt.xlabel('False Positive Rate')\n",
    "plt.show()\n",
    "\n",
    "# method II: ggplot\n",
    "# from ggplot import *\n",
    "# df = pd.DataFrame(dict(fpr = fpr, tpr = tpr))\n",
    "# ggplot(df, aes(x = 'fpr', y = 'tpr')) + geom_line() + geom_abline(linetype = 'dashed')"
   ]
  },
  {
   "cell_type": "code",
   "execution_count": 61,
   "id": "0e1cdcee",
   "metadata": {},
   "outputs": [
    {
     "name": "stdout",
     "output_type": "stream",
     "text": [
      "Model1: f1=0.619 auc=0.594\n"
     ]
    },
    {
     "data": {
      "image/png": "[encoded data removed]",
      "text/plain": [
       "<Figure size 432x288 with 1 Axes>"
      ]
     },
     "metadata": {
      "needs_background": "light"
     },
     "output_type": "display_data"
    }
   ],
   "source": [
    "# precision-recall curve and f1\n",
    "from sklearn.datasets import make_classification\n",
    "from sklearn.linear_model import LogisticRegression\n",
    "from sklearn.model_selection import train_test_split\n",
    "from sklearn.metrics import precision_recall_curve\n",
    "from sklearn.metrics import f1_score\n",
    "from sklearn.metrics import auc\n",
    "from matplotlib import pyplot\n",
    "lr_probs = grid3.predict_proba(X1_test)\n",
    "# keep probabilities for the positive outcome only\n",
    "lr_probs = lr_probs[:, 1]\n",
    "# predict class values\n",
    "yhat = grid3.predict(X1_test)\n",
    "lr_precision, lr_recall, _ = precision_recall_curve(y1_test, lr_probs)\n",
    "lr_f1, lr_auc = f1_score(y1_test, yhat), auc(lr_recall, lr_precision)\n",
    "# summarize scores\n",
    "print('Model1: f1=%.3f auc=%.3f' % (lr_f1, lr_auc))\n",
    "# plot the precision-recall curves\n",
    "no_skill = len(y1_test[y1_test==1]) / len(y1_test)\n",
    "pyplot.plot([0, 1], [no_skill, no_skill], linestyle='--', label='No Skill')\n",
    "pyplot.plot(lr_recall, lr_precision, marker='.', label='Decision Tree')\n",
    "# axis labels\n",
    "pyplot.xlabel('Recall')\n",
    "pyplot.ylabel('Precision')\n",
    "# show the legend\n",
    "pyplot.legend()\n",
    "# show the plot\n",
    "pyplot.show()"
   ]
  },
  {
   "cell_type": "code",
   "execution_count": 62,
   "id": "d01417b0",
   "metadata": {},
   "outputs": [
    {
     "name": "stdout",
     "output_type": "stream",
     "text": [
      "balanced_accuracy 0.6613756613756614\n"
     ]
    }
   ],
   "source": [
    "print(\"balanced_accuracy\", balanced_accuracy_score(y1_test, y1_pred))"
   ]
  },
  {
   "cell_type": "code",
   "execution_count": 63,
   "id": "ea8e646f",
   "metadata": {},
   "outputs": [
    {
     "data": {
      "image/png": "[encoded data removed]",
      "text/plain": [
       "<Figure size 360x288 with 2 Axes>"
      ]
     },
     "metadata": {
      "needs_background": "light"
     },
     "output_type": "display_data"
    }
   ],
   "source": [
    "grid3.fit(X2_train, y2_train)\n",
    "\n",
    "y2_pred = grid3.predict(X2_test)\n",
    "\n",
    "cm = confusion_matrix(y2_test, y2_pred)\n",
    "#print(cm)\n",
    "cm_df = pd.DataFrame(cm,\n",
    "                     index = [0,1], \n",
    "                     columns = [0,1])\n",
    "plt.figure(figsize=(5,4))\n",
    "sns.heatmap(cm_df, annot=True)\n",
    "plt.title('Confusion Matrix')\n",
    "plt.ylabel('Actal Values')\n",
    "plt.xlabel('Predicted Values')\n",
    "plt.show()"
   ]
  },
  {
   "cell_type": "code",
   "execution_count": 64,
   "id": "c647f903",
   "metadata": {},
   "outputs": [
    {
     "name": "stdout",
     "output_type": "stream",
     "text": [
      "[0 0 0 0 0 0 0 0 0 1 0 0 0 0 1 0 0 0 0 0 0 0 1 0 0 0 1 0 0 0 0 0 1 0 0 0 0\n",
      " 0 0 1 0 0 0 0 0 0 0 0]\n"
     ]
    }
   ],
   "source": [
    "print(y2_pred)"
   ]
  },
  {
   "cell_type": "code",
   "execution_count": 65,
   "id": "4e8613fd",
   "metadata": {},
   "outputs": [
    {
     "name": "stdout",
     "output_type": "stream",
     "text": [
      "              precision    recall  f1-score   support\n",
      "\n",
      "           0       0.57      0.89      0.70        27\n",
      "           1       0.50      0.14      0.22        21\n",
      "\n",
      "    accuracy                           0.56        48\n",
      "   macro avg       0.54      0.52      0.46        48\n",
      "weighted avg       0.54      0.56      0.49        48\n",
      "\n"
     ]
    }
   ],
   "source": [
    "print(classification_report(y2_test, y2_pred))"
   ]
  },
  {
   "cell_type": "code",
   "execution_count": 66,
   "id": "af6e0194",
   "metadata": {},
   "outputs": [
    {
     "data": {
      "image/png": "[encoded data removed]",
      "text/plain": [
       "<Figure size 432x288 with 1 Axes>"
      ]
     },
     "metadata": {
      "needs_background": "light"
     },
     "output_type": "display_data"
    }
   ],
   "source": [
    "import sklearn.metrics as metrics\n",
    "# calculate the fpr and tpr for all thresholds of the classification\n",
    "probs = grid3.predict_proba(X2_test)\n",
    "preds = probs[:,1]\n",
    "fpr, tpr, threshold = metrics.roc_curve(y2_test, preds)\n",
    "roc_auc = metrics.auc(fpr, tpr)\n",
    "\n",
    "# method I: plt\n",
    "import matplotlib.pyplot as plt\n",
    "plt.title('Receiver Operating Characteristic')\n",
    "plt.plot(fpr, tpr, 'b', label = 'AUC = %0.3f' % roc_auc)\n",
    "plt.legend(loc = 'lower right')\n",
    "plt.plot([0, 1], [0, 1],'r--')\n",
    "plt.xlim([0, 1])\n",
    "plt.ylim([0, 1])\n",
    "plt.ylabel('True Positive Rate')\n",
    "plt.xlabel('False Positive Rate')\n",
    "plt.show()\n",
    "\n",
    "# method II: ggplot\n",
    "# from ggplot import *\n",
    "# df = pd.DataFrame(dict(fpr = fpr, tpr = tpr))\n",
    "# ggplot(df, aes(x = 'fpr', y = 'tpr')) + geom_line() + geom_abline(linetype = 'dashed')"
   ]
  },
  {
   "cell_type": "code",
   "execution_count": 67,
   "id": "3fb52837",
   "metadata": {
    "scrolled": true
   },
   "outputs": [
    {
     "name": "stdout",
     "output_type": "stream",
     "text": [
      "Model1: f1=0.222 auc=0.529\n"
     ]
    },
    {
     "data": {
      "image/png": "[encoded data removed]",
      "text/plain": [
       "<Figure size 432x288 with 1 Axes>"
      ]
     },
     "metadata": {
      "needs_background": "light"
     },
     "output_type": "display_data"
    }
   ],
   "source": [
    "# precision-recall curve and f1\n",
    "from sklearn.datasets import make_classification\n",
    "from sklearn.linear_model import LogisticRegression\n",
    "from sklearn.model_selection import train_test_split\n",
    "from sklearn.metrics import precision_recall_curve\n",
    "from sklearn.metrics import f1_score\n",
    "from sklearn.metrics import auc\n",
    "from matplotlib import pyplot\n",
    "lr_probs = grid3.predict_proba(X2_test)\n",
    "# keep probabilities for the positive outcome only\n",
    "lr_probs = lr_probs[:, 1]\n",
    "# predict class values\n",
    "yhat = grid3.predict(X2_test)\n",
    "lr_precision, lr_recall, _ = precision_recall_curve(y2_test, lr_probs)\n",
    "lr_f1, lr_auc = f1_score(y2_test, yhat), auc(lr_recall, lr_precision)\n",
    "# summarize scores\n",
    "print('Model1: f1=%.3f auc=%.3f' % (lr_f1, lr_auc))\n",
    "# plot the precision-recall curves\n",
    "no_skill = len(y2_test[y2_test==1]) / len(y2_test)\n",
    "pyplot.plot([0, 1], [no_skill, no_skill], linestyle='--', label='No Skill')\n",
    "pyplot.plot(lr_recall, lr_precision, marker='.', label='Decision Tree')\n",
    "# axis labels\n",
    "pyplot.xlabel('Recall')\n",
    "pyplot.ylabel('Precision')\n",
    "# show the legend\n",
    "pyplot.legend()\n",
    "# show the plot\n",
    "pyplot.show()"
   ]
  },
  {
   "cell_type": "code",
   "execution_count": 68,
   "id": "15cb0d59",
   "metadata": {},
   "outputs": [
    {
     "name": "stdout",
     "output_type": "stream",
     "text": [
      "balanced_accuracy 0.5158730158730158\n"
     ]
    }
   ],
   "source": [
    "print(\"balanced_accuracy\", balanced_accuracy_score(y2_test, y2_pred))"
   ]
  },
  {
   "cell_type": "markdown",
   "id": "71c79845",
   "metadata": {},
   "source": [
    "# SVM"
   ]
  },
  {
   "cell_type": "code",
   "execution_count": 69,
   "id": "f4f447be",
   "metadata": {},
   "outputs": [
    {
     "name": "stdout",
     "output_type": "stream",
     "text": [
      "Fitting 5 folds for each of 24 candidates, totalling 120 fits\n",
      "[CV 1/5] END C=0.1, class_weight=balanced, gamma=1, kernel=linear;, score=0.667 total time=   0.0s\n",
      "[CV 2/5] END C=0.1, class_weight=balanced, gamma=1, kernel=linear;, score=0.633 total time=   0.0s\n",
      "[CV 3/5] END C=0.1, class_weight=balanced, gamma=1, kernel=linear;, score=0.667 total time=   0.0s\n",
      "[CV 4/5] END C=0.1, class_weight=balanced, gamma=1, kernel=linear;, score=0.700 total time=   0.0s\n",
      "[CV 5/5] END C=0.1, class_weight=balanced, gamma=1, kernel=linear;, score=0.552 total time=   0.0s\n",
      "[CV 1/5] END C=0.1, class_weight=balanced, gamma=1, kernel=rbf;, score=0.633 total time=   0.0s\n",
      "[CV 2/5] END C=0.1, class_weight=balanced, gamma=1, kernel=rbf;, score=0.633 total time=   0.0s\n",
      "[CV 3/5] END C=0.1, class_weight=balanced, gamma=1, kernel=rbf;, score=0.600 total time=   0.0s\n",
      "[CV 4/5] END C=0.1, class_weight=balanced, gamma=1, kernel=rbf;, score=0.600 total time=   0.0s\n",
      "[CV 5/5] END C=0.1, class_weight=balanced, gamma=1, kernel=rbf;, score=0.621 total time=   0.0s\n",
      "[CV 1/5] END C=0.1, class_weight=balanced, gamma=0.1, kernel=linear;, score=0.667 total time=   0.0s\n",
      "[CV 2/5] END C=0.1, class_weight=balanced, gamma=0.1, kernel=linear;, score=0.633 total time=   0.0s\n",
      "[CV 3/5] END C=0.1, class_weight=balanced, gamma=0.1, kernel=linear;, score=0.667 total time=   0.1s\n",
      "[CV 4/5] END C=0.1, class_weight=balanced, gamma=0.1, kernel=linear;, score=0.700 total time=   0.0s\n",
      "[CV 5/5] END C=0.1, class_weight=balanced, gamma=0.1, kernel=linear;, score=0.552 total time=   0.0s\n",
      "[CV 1/5] END C=0.1, class_weight=balanced, gamma=0.1, kernel=rbf;, score=0.633 total time=   0.0s\n",
      "[CV 2/5] END C=0.1, class_weight=balanced, gamma=0.1, kernel=rbf;, score=0.633 total time=   0.0s\n",
      "[CV 3/5] END C=0.1, class_weight=balanced, gamma=0.1, kernel=rbf;, score=0.600 total time=   0.0s\n",
      "[CV 4/5] END C=0.1, class_weight=balanced, gamma=0.1, kernel=rbf;, score=0.600 total time=   0.0s\n",
      "[CV 5/5] END C=0.1, class_weight=balanced, gamma=0.1, kernel=rbf;, score=0.621 total time=   0.0s\n",
      "[CV 1/5] END C=0.1, class_weight=balanced, gamma=0.0001, kernel=linear;, score=0.667 total time=   0.0s\n",
      "[CV 2/5] END C=0.1, class_weight=balanced, gamma=0.0001, kernel=linear;, score=0.633 total time=   0.0s\n",
      "[CV 3/5] END C=0.1, class_weight=balanced, gamma=0.0001, kernel=linear;, score=0.667 total time=   0.0s\n",
      "[CV 4/5] END C=0.1, class_weight=balanced, gamma=0.0001, kernel=linear;, score=0.700 total time=   0.0s\n",
      "[CV 5/5] END C=0.1, class_weight=balanced, gamma=0.0001, kernel=linear;, score=0.552 total time=   0.0s\n",
      "[CV 1/5] END C=0.1, class_weight=balanced, gamma=0.0001, kernel=rbf;, score=0.633 total time=   0.0s\n",
      "[CV 2/5] END C=0.1, class_weight=balanced, gamma=0.0001, kernel=rbf;, score=0.633 total time=   0.0s\n",
      "[CV 3/5] END C=0.1, class_weight=balanced, gamma=0.0001, kernel=rbf;, score=0.600 total time=   0.0s\n",
      "[CV 4/5] END C=0.1, class_weight=balanced, gamma=0.0001, kernel=rbf;, score=0.600 total time=   0.0s\n",
      "[CV 5/5] END C=0.1, class_weight=balanced, gamma=0.0001, kernel=rbf;, score=0.621 total time=   0.0s\n",
      "[CV 1/5] END C=0.1, class_weight=None, gamma=1, kernel=linear;, score=0.667 total time=   0.0s\n",
      "[CV 2/5] END C=0.1, class_weight=None, gamma=1, kernel=linear;, score=0.633 total time=   0.0s\n",
      "[CV 3/5] END C=0.1, class_weight=None, gamma=1, kernel=linear;, score=0.700 total time=   0.0s\n",
      "[CV 4/5] END C=0.1, class_weight=None, gamma=1, kernel=linear;, score=0.800 total time=   0.0s\n",
      "[CV 5/5] END C=0.1, class_weight=None, gamma=1, kernel=linear;, score=0.552 total time=   0.0s\n",
      "[CV 1/5] END C=0.1, class_weight=None, gamma=1, kernel=rbf;, score=0.633 total time=   0.0s\n",
      "[CV 2/5] END C=0.1, class_weight=None, gamma=1, kernel=rbf;, score=0.633 total time=   0.0s\n",
      "[CV 3/5] END C=0.1, class_weight=None, gamma=1, kernel=rbf;, score=0.600 total time=   0.0s\n",
      "[CV 4/5] END C=0.1, class_weight=None, gamma=1, kernel=rbf;, score=0.600 total time=   0.0s\n",
      "[CV 5/5] END C=0.1, class_weight=None, gamma=1, kernel=rbf;, score=0.621 total time=   0.0s\n",
      "[CV 1/5] END C=0.1, class_weight=None, gamma=0.1, kernel=linear;, score=0.667 total time=   0.0s\n",
      "[CV 2/5] END C=0.1, class_weight=None, gamma=0.1, kernel=linear;, score=0.633 total time=   0.0s\n",
      "[CV 3/5] END C=0.1, class_weight=None, gamma=0.1, kernel=linear;, score=0.700 total time=   0.0s\n",
      "[CV 4/5] END C=0.1, class_weight=None, gamma=0.1, kernel=linear;, score=0.800 total time=   0.0s\n",
      "[CV 5/5] END C=0.1, class_weight=None, gamma=0.1, kernel=linear;, score=0.552 total time=   0.0s\n",
      "[CV 1/5] END C=0.1, class_weight=None, gamma=0.1, kernel=rbf;, score=0.633 total time=   0.0s\n",
      "[CV 2/5] END C=0.1, class_weight=None, gamma=0.1, kernel=rbf;, score=0.633 total time=   0.0s\n",
      "[CV 3/5] END C=0.1, class_weight=None, gamma=0.1, kernel=rbf;, score=0.600 total time=   0.0s\n",
      "[CV 4/5] END C=0.1, class_weight=None, gamma=0.1, kernel=rbf;, score=0.600 total time=   0.0s\n",
      "[CV 5/5] END C=0.1, class_weight=None, gamma=0.1, kernel=rbf;, score=0.621 total time=   0.0s\n",
      "[CV 1/5] END C=0.1, class_weight=None, gamma=0.0001, kernel=linear;, score=0.667 total time=   0.0s\n",
      "[CV 2/5] END C=0.1, class_weight=None, gamma=0.0001, kernel=linear;, score=0.633 total time=   0.0s\n",
      "[CV 3/5] END C=0.1, class_weight=None, gamma=0.0001, kernel=linear;, score=0.700 total time=   0.0s\n",
      "[CV 4/5] END C=0.1, class_weight=None, gamma=0.0001, kernel=linear;, score=0.800 total time=   0.0s\n",
      "[CV 5/5] END C=0.1, class_weight=None, gamma=0.0001, kernel=linear;, score=0.552 total time=   0.0s\n",
      "[CV 1/5] END C=0.1, class_weight=None, gamma=0.0001, kernel=rbf;, score=0.633 total time=   0.0s\n",
      "[CV 2/5] END C=0.1, class_weight=None, gamma=0.0001, kernel=rbf;, score=0.633 total time=   0.0s\n",
      "[CV 3/5] END C=0.1, class_weight=None, gamma=0.0001, kernel=rbf;, score=0.600 total time=   0.0s\n",
      "[CV 4/5] END C=0.1, class_weight=None, gamma=0.0001, kernel=rbf;, score=0.600 total time=   0.0s\n",
      "[CV 5/5] END C=0.1, class_weight=None, gamma=0.0001, kernel=rbf;, score=0.621 total time=   0.0s\n",
      "[CV 1/5] END C=1000, class_weight=balanced, gamma=1, kernel=linear;, score=0.667 total time=   0.0s\n",
      "[CV 2/5] END C=1000, class_weight=balanced, gamma=1, kernel=linear;, score=0.533 total time=   0.0s\n",
      "[CV 3/5] END C=1000, class_weight=balanced, gamma=1, kernel=linear;, score=0.767 total time=   0.0s\n",
      "[CV 4/5] END C=1000, class_weight=balanced, gamma=1, kernel=linear;, score=0.667 total time=   0.0s\n",
      "[CV 5/5] END C=1000, class_weight=balanced, gamma=1, kernel=linear;, score=0.586 total time=   0.0s\n",
      "[CV 1/5] END C=1000, class_weight=balanced, gamma=1, kernel=rbf;, score=0.633 total time=   0.0s\n",
      "[CV 2/5] END C=1000, class_weight=balanced, gamma=1, kernel=rbf;, score=0.633 total time=   0.0s\n",
      "[CV 3/5] END C=1000, class_weight=balanced, gamma=1, kernel=rbf;, score=0.600 total time=   0.0s\n",
      "[CV 4/5] END C=1000, class_weight=balanced, gamma=1, kernel=rbf;, score=0.600 total time=   0.0s\n",
      "[CV 5/5] END C=1000, class_weight=balanced, gamma=1, kernel=rbf;, score=0.621 total time=   0.0s\n",
      "[CV 1/5] END C=1000, class_weight=balanced, gamma=0.1, kernel=linear;, score=0.667 total time=   0.0s\n",
      "[CV 2/5] END C=1000, class_weight=balanced, gamma=0.1, kernel=linear;, score=0.533 total time=   0.0s\n",
      "[CV 3/5] END C=1000, class_weight=balanced, gamma=0.1, kernel=linear;, score=0.767 total time=   0.0s\n",
      "[CV 4/5] END C=1000, class_weight=balanced, gamma=0.1, kernel=linear;, score=0.667 total time=   0.0s\n",
      "[CV 5/5] END C=1000, class_weight=balanced, gamma=0.1, kernel=linear;, score=0.586 total time=   0.0s\n",
      "[CV 1/5] END C=1000, class_weight=balanced, gamma=0.1, kernel=rbf;, score=0.633 total time=   0.0s\n",
      "[CV 2/5] END C=1000, class_weight=balanced, gamma=0.1, kernel=rbf;, score=0.633 total time=   0.0s\n",
      "[CV 3/5] END C=1000, class_weight=balanced, gamma=0.1, kernel=rbf;, score=0.600 total time=   0.0s\n",
      "[CV 4/5] END C=1000, class_weight=balanced, gamma=0.1, kernel=rbf;, score=0.600 total time=   0.0s\n",
      "[CV 5/5] END C=1000, class_weight=balanced, gamma=0.1, kernel=rbf;, score=0.621 total time=   0.0s\n",
      "[CV 1/5] END C=1000, class_weight=balanced, gamma=0.0001, kernel=linear;, score=0.667 total time=   0.0s\n",
      "[CV 2/5] END C=1000, class_weight=balanced, gamma=0.0001, kernel=linear;, score=0.533 total time=   0.0s\n",
      "[CV 3/5] END C=1000, class_weight=balanced, gamma=0.0001, kernel=linear;, score=0.767 total time=   0.0s\n",
      "[CV 4/5] END C=1000, class_weight=balanced, gamma=0.0001, kernel=linear;, score=0.667 total time=   0.0s\n"
     ]
    },
    {
     "name": "stdout",
     "output_type": "stream",
     "text": [
      "[CV 5/5] END C=1000, class_weight=balanced, gamma=0.0001, kernel=linear;, score=0.586 total time=   0.0s\n",
      "[CV 1/5] END C=1000, class_weight=balanced, gamma=0.0001, kernel=rbf;, score=0.667 total time=   0.0s\n",
      "[CV 2/5] END C=1000, class_weight=balanced, gamma=0.0001, kernel=rbf;, score=0.600 total time=   0.0s\n",
      "[CV 3/5] END C=1000, class_weight=balanced, gamma=0.0001, kernel=rbf;, score=0.700 total time=   0.0s\n",
      "[CV 4/5] END C=1000, class_weight=balanced, gamma=0.0001, kernel=rbf;, score=0.733 total time=   0.0s\n",
      "[CV 5/5] END C=1000, class_weight=balanced, gamma=0.0001, kernel=rbf;, score=0.586 total time=   0.0s\n",
      "[CV 1/5] END C=1000, class_weight=None, gamma=1, kernel=linear;, score=0.667 total time=   0.0s\n",
      "[CV 2/5] END C=1000, class_weight=None, gamma=1, kernel=linear;, score=0.533 total time=   0.0s\n",
      "[CV 3/5] END C=1000, class_weight=None, gamma=1, kernel=linear;, score=0.767 total time=   0.0s\n",
      "[CV 4/5] END C=1000, class_weight=None, gamma=1, kernel=linear;, score=0.667 total time=   0.0s\n",
      "[CV 5/5] END C=1000, class_weight=None, gamma=1, kernel=linear;, score=0.586 total time=   0.0s\n",
      "[CV 1/5] END C=1000, class_weight=None, gamma=1, kernel=rbf;, score=0.633 total time=   0.0s\n",
      "[CV 2/5] END C=1000, class_weight=None, gamma=1, kernel=rbf;, score=0.633 total time=   0.0s\n",
      "[CV 3/5] END C=1000, class_weight=None, gamma=1, kernel=rbf;, score=0.600 total time=   0.0s\n",
      "[CV 4/5] END C=1000, class_weight=None, gamma=1, kernel=rbf;, score=0.600 total time=   0.0s\n",
      "[CV 5/5] END C=1000, class_weight=None, gamma=1, kernel=rbf;, score=0.621 total time=   0.0s\n",
      "[CV 1/5] END C=1000, class_weight=None, gamma=0.1, kernel=linear;, score=0.667 total time=   0.0s\n",
      "[CV 2/5] END C=1000, class_weight=None, gamma=0.1, kernel=linear;, score=0.533 total time=   0.0s\n",
      "[CV 3/5] END C=1000, class_weight=None, gamma=0.1, kernel=linear;, score=0.767 total time=   0.0s\n",
      "[CV 4/5] END C=1000, class_weight=None, gamma=0.1, kernel=linear;, score=0.667 total time=   0.0s\n",
      "[CV 5/5] END C=1000, class_weight=None, gamma=0.1, kernel=linear;, score=0.586 total time=   0.0s\n",
      "[CV 1/5] END C=1000, class_weight=None, gamma=0.1, kernel=rbf;, score=0.633 total time=   0.0s\n",
      "[CV 2/5] END C=1000, class_weight=None, gamma=0.1, kernel=rbf;, score=0.633 total time=   0.0s\n",
      "[CV 3/5] END C=1000, class_weight=None, gamma=0.1, kernel=rbf;, score=0.600 total time=   0.0s\n",
      "[CV 4/5] END C=1000, class_weight=None, gamma=0.1, kernel=rbf;, score=0.600 total time=   0.0s\n",
      "[CV 5/5] END C=1000, class_weight=None, gamma=0.1, kernel=rbf;, score=0.621 total time=   0.0s\n",
      "[CV 1/5] END C=1000, class_weight=None, gamma=0.0001, kernel=linear;, score=0.667 total time=   0.0s\n",
      "[CV 2/5] END C=1000, class_weight=None, gamma=0.0001, kernel=linear;, score=0.533 total time=   0.0s\n",
      "[CV 3/5] END C=1000, class_weight=None, gamma=0.0001, kernel=linear;, score=0.767 total time=   0.0s\n",
      "[CV 4/5] END C=1000, class_weight=None, gamma=0.0001, kernel=linear;, score=0.667 total time=   0.0s\n",
      "[CV 5/5] END C=1000, class_weight=None, gamma=0.0001, kernel=linear;, score=0.586 total time=   0.0s\n",
      "[CV 1/5] END C=1000, class_weight=None, gamma=0.0001, kernel=rbf;, score=0.667 total time=   0.0s\n",
      "[CV 2/5] END C=1000, class_weight=None, gamma=0.0001, kernel=rbf;, score=0.633 total time=   0.0s\n",
      "[CV 3/5] END C=1000, class_weight=None, gamma=0.0001, kernel=rbf;, score=0.700 total time=   0.0s\n",
      "[CV 4/5] END C=1000, class_weight=None, gamma=0.0001, kernel=rbf;, score=0.733 total time=   0.0s\n",
      "[CV 5/5] END C=1000, class_weight=None, gamma=0.0001, kernel=rbf;, score=0.586 total time=   0.0s\n",
      "The best parameters are {'C': 0.1, 'class_weight': None, 'gamma': 1, 'kernel': 'linear'} with a score of 0.670\n"
     ]
    }
   ],
   "source": [
    "\n",
    "from sklearn.model_selection import GridSearchCV\n",
    "  \n",
    "# defining parameter range\n",
    "param_grid = {'C': [0.1, 1000], \n",
    "              'gamma': [1, 0.1, 0.0001],\n",
    "               'kernel': ['linear','rbf'],\n",
    "                'class_weight':['balanced', None]} \n",
    "rf=SVC(probability=True)\n",
    "grid4 = GridSearchCV(estimator=rf, param_grid=param_grid, refit = True, verbose = 3, cv=5)\n",
    "  \n",
    "# fitting the model for grid search\n",
    "grid4.fit(X1_train, y1_train)\n",
    "print(\"The best parameters are %s with a score of %0.3f\"\n",
    "      % (grid4.best_params_, grid4.best_score_))"
   ]
  },
  {
   "cell_type": "code",
   "execution_count": 70,
   "id": "cf2e75c0",
   "metadata": {},
   "outputs": [],
   "source": [
    "#model4 = SVC(C=10,gamma=0.1, max_iter=4000)"
   ]
  },
  {
   "cell_type": "code",
   "execution_count": 71,
   "id": "499a1947",
   "metadata": {},
   "outputs": [
    {
     "name": "stdout",
     "output_type": "stream",
     "text": [
      "Fitting 5 folds for each of 24 candidates, totalling 120 fits\n",
      "[CV 1/5] END C=0.1, class_weight=balanced, gamma=1, kernel=linear;, score=0.667 total time=   0.0s\n",
      "[CV 2/5] END C=0.1, class_weight=balanced, gamma=1, kernel=linear;, score=0.633 total time=   0.0s\n",
      "[CV 3/5] END C=0.1, class_weight=balanced, gamma=1, kernel=linear;, score=0.667 total time=   0.0s\n",
      "[CV 4/5] END C=0.1, class_weight=balanced, gamma=1, kernel=linear;, score=0.700 total time=   0.0s\n",
      "[CV 5/5] END C=0.1, class_weight=balanced, gamma=1, kernel=linear;, score=0.552 total time=   0.0s\n",
      "[CV 1/5] END C=0.1, class_weight=balanced, gamma=1, kernel=rbf;, score=0.633 total time=   0.0s\n",
      "[CV 2/5] END C=0.1, class_weight=balanced, gamma=1, kernel=rbf;, score=0.633 total time=   0.0s\n",
      "[CV 3/5] END C=0.1, class_weight=balanced, gamma=1, kernel=rbf;, score=0.600 total time=   0.0s\n",
      "[CV 4/5] END C=0.1, class_weight=balanced, gamma=1, kernel=rbf;, score=0.600 total time=   0.0s\n",
      "[CV 5/5] END C=0.1, class_weight=balanced, gamma=1, kernel=rbf;, score=0.621 total time=   0.0s\n",
      "[CV 1/5] END C=0.1, class_weight=balanced, gamma=0.1, kernel=linear;, score=0.667 total time=   0.0s\n",
      "[CV 2/5] END C=0.1, class_weight=balanced, gamma=0.1, kernel=linear;, score=0.633 total time=   0.0s\n",
      "[CV 3/5] END C=0.1, class_weight=balanced, gamma=0.1, kernel=linear;, score=0.667 total time=   0.0s\n",
      "[CV 4/5] END C=0.1, class_weight=balanced, gamma=0.1, kernel=linear;, score=0.700 total time=   0.0s\n",
      "[CV 5/5] END C=0.1, class_weight=balanced, gamma=0.1, kernel=linear;, score=0.552 total time=   0.0s\n",
      "[CV 1/5] END C=0.1, class_weight=balanced, gamma=0.1, kernel=rbf;, score=0.633 total time=   0.0s\n",
      "[CV 2/5] END C=0.1, class_weight=balanced, gamma=0.1, kernel=rbf;, score=0.633 total time=   0.0s\n",
      "[CV 3/5] END C=0.1, class_weight=balanced, gamma=0.1, kernel=rbf;, score=0.600 total time=   0.0s\n",
      "[CV 4/5] END C=0.1, class_weight=balanced, gamma=0.1, kernel=rbf;, score=0.600 total time=   0.0s\n",
      "[CV 5/5] END C=0.1, class_weight=balanced, gamma=0.1, kernel=rbf;, score=0.621 total time=   0.0s\n",
      "[CV 1/5] END C=0.1, class_weight=balanced, gamma=0.0001, kernel=linear;, score=0.667 total time=   0.0s\n",
      "[CV 2/5] END C=0.1, class_weight=balanced, gamma=0.0001, kernel=linear;, score=0.633 total time=   0.0s\n",
      "[CV 3/5] END C=0.1, class_weight=balanced, gamma=0.0001, kernel=linear;, score=0.667 total time=   0.0s\n",
      "[CV 4/5] END C=0.1, class_weight=balanced, gamma=0.0001, kernel=linear;, score=0.700 total time=   0.0s\n",
      "[CV 5/5] END C=0.1, class_weight=balanced, gamma=0.0001, kernel=linear;, score=0.552 total time=   0.0s\n",
      "[CV 1/5] END C=0.1, class_weight=balanced, gamma=0.0001, kernel=rbf;, score=0.633 total time=   0.0s\n",
      "[CV 2/5] END C=0.1, class_weight=balanced, gamma=0.0001, kernel=rbf;, score=0.633 total time=   0.0s\n",
      "[CV 3/5] END C=0.1, class_weight=balanced, gamma=0.0001, kernel=rbf;, score=0.600 total time=   0.0s\n",
      "[CV 4/5] END C=0.1, class_weight=balanced, gamma=0.0001, kernel=rbf;, score=0.600 total time=   0.0s\n",
      "[CV 5/5] END C=0.1, class_weight=balanced, gamma=0.0001, kernel=rbf;, score=0.621 total time=   0.0s\n",
      "[CV 1/5] END C=0.1, class_weight=None, gamma=1, kernel=linear;, score=0.667 total time=   0.0s\n",
      "[CV 2/5] END C=0.1, class_weight=None, gamma=1, kernel=linear;, score=0.633 total time=   0.0s\n",
      "[CV 3/5] END C=0.1, class_weight=None, gamma=1, kernel=linear;, score=0.700 total time=   0.0s\n",
      "[CV 4/5] END C=0.1, class_weight=None, gamma=1, kernel=linear;, score=0.800 total time=   0.0s\n",
      "[CV 5/5] END C=0.1, class_weight=None, gamma=1, kernel=linear;, score=0.552 total time=   0.0s\n",
      "[CV 1/5] END C=0.1, class_weight=None, gamma=1, kernel=rbf;, score=0.633 total time=   0.0s\n",
      "[CV 2/5] END C=0.1, class_weight=None, gamma=1, kernel=rbf;, score=0.633 total time=   0.0s\n",
      "[CV 3/5] END C=0.1, class_weight=None, gamma=1, kernel=rbf;, score=0.600 total time=   0.0s\n",
      "[CV 4/5] END C=0.1, class_weight=None, gamma=1, kernel=rbf;, score=0.600 total time=   0.0s\n",
      "[CV 5/5] END C=0.1, class_weight=None, gamma=1, kernel=rbf;, score=0.621 total time=   0.0s\n",
      "[CV 1/5] END C=0.1, class_weight=None, gamma=0.1, kernel=linear;, score=0.667 total time=   0.0s\n",
      "[CV 2/5] END C=0.1, class_weight=None, gamma=0.1, kernel=linear;, score=0.633 total time=   0.0s\n",
      "[CV 3/5] END C=0.1, class_weight=None, gamma=0.1, kernel=linear;, score=0.700 total time=   0.0s\n",
      "[CV 4/5] END C=0.1, class_weight=None, gamma=0.1, kernel=linear;, score=0.800 total time=   0.0s\n",
      "[CV 5/5] END C=0.1, class_weight=None, gamma=0.1, kernel=linear;, score=0.552 total time=   0.0s\n",
      "[CV 1/5] END C=0.1, class_weight=None, gamma=0.1, kernel=rbf;, score=0.633 total time=   0.0s\n",
      "[CV 2/5] END C=0.1, class_weight=None, gamma=0.1, kernel=rbf;, score=0.633 total time=   0.0s\n",
      "[CV 3/5] END C=0.1, class_weight=None, gamma=0.1, kernel=rbf;, score=0.600 total time=   0.0s\n",
      "[CV 4/5] END C=0.1, class_weight=None, gamma=0.1, kernel=rbf;, score=0.600 total time=   0.0s\n",
      "[CV 5/5] END C=0.1, class_weight=None, gamma=0.1, kernel=rbf;, score=0.621 total time=   0.0s\n",
      "[CV 1/5] END C=0.1, class_weight=None, gamma=0.0001, kernel=linear;, score=0.667 total time=   0.0s\n",
      "[CV 2/5] END C=0.1, class_weight=None, gamma=0.0001, kernel=linear;, score=0.633 total time=   0.0s\n",
      "[CV 3/5] END C=0.1, class_weight=None, gamma=0.0001, kernel=linear;, score=0.700 total time=   0.0s\n",
      "[CV 4/5] END C=0.1, class_weight=None, gamma=0.0001, kernel=linear;, score=0.800 total time=   0.0s\n",
      "[CV 5/5] END C=0.1, class_weight=None, gamma=0.0001, kernel=linear;, score=0.552 total time=   0.0s\n",
      "[CV 1/5] END C=0.1, class_weight=None, gamma=0.0001, kernel=rbf;, score=0.633 total time=   0.0s\n",
      "[CV 2/5] END C=0.1, class_weight=None, gamma=0.0001, kernel=rbf;, score=0.633 total time=   0.0s\n",
      "[CV 3/5] END C=0.1, class_weight=None, gamma=0.0001, kernel=rbf;, score=0.600 total time=   0.0s\n",
      "[CV 4/5] END C=0.1, class_weight=None, gamma=0.0001, kernel=rbf;, score=0.600 total time=   0.0s\n",
      "[CV 5/5] END C=0.1, class_weight=None, gamma=0.0001, kernel=rbf;, score=0.621 total time=   0.0s\n",
      "[CV 1/5] END C=1000, class_weight=balanced, gamma=1, kernel=linear;, score=0.667 total time=   0.0s\n",
      "[CV 2/5] END C=1000, class_weight=balanced, gamma=1, kernel=linear;, score=0.533 total time=   0.0s\n",
      "[CV 3/5] END C=1000, class_weight=balanced, gamma=1, kernel=linear;, score=0.767 total time=   0.0s\n",
      "[CV 4/5] END C=1000, class_weight=balanced, gamma=1, kernel=linear;, score=0.667 total time=   0.0s\n",
      "[CV 5/5] END C=1000, class_weight=balanced, gamma=1, kernel=linear;, score=0.586 total time=   0.0s\n",
      "[CV 1/5] END C=1000, class_weight=balanced, gamma=1, kernel=rbf;, score=0.633 total time=   0.0s\n",
      "[CV 2/5] END C=1000, class_weight=balanced, gamma=1, kernel=rbf;, score=0.633 total time=   0.0s\n",
      "[CV 3/5] END C=1000, class_weight=balanced, gamma=1, kernel=rbf;, score=0.600 total time=   0.0s\n",
      "[CV 4/5] END C=1000, class_weight=balanced, gamma=1, kernel=rbf;, score=0.600 total time=   0.0s\n",
      "[CV 5/5] END C=1000, class_weight=balanced, gamma=1, kernel=rbf;, score=0.621 total time=   0.0s\n",
      "[CV 1/5] END C=1000, class_weight=balanced, gamma=0.1, kernel=linear;, score=0.667 total time=   0.0s\n",
      "[CV 2/5] END C=1000, class_weight=balanced, gamma=0.1, kernel=linear;, score=0.533 total time=   0.0s\n",
      "[CV 3/5] END C=1000, class_weight=balanced, gamma=0.1, kernel=linear;, score=0.767 total time=   0.0s\n",
      "[CV 4/5] END C=1000, class_weight=balanced, gamma=0.1, kernel=linear;, score=0.667 total time=   0.0s\n",
      "[CV 5/5] END C=1000, class_weight=balanced, gamma=0.1, kernel=linear;, score=0.586 total time=   0.0s\n",
      "[CV 1/5] END C=1000, class_weight=balanced, gamma=0.1, kernel=rbf;, score=0.633 total time=   0.0s\n",
      "[CV 2/5] END C=1000, class_weight=balanced, gamma=0.1, kernel=rbf;, score=0.633 total time=   0.0s\n",
      "[CV 3/5] END C=1000, class_weight=balanced, gamma=0.1, kernel=rbf;, score=0.600 total time=   0.0s\n",
      "[CV 4/5] END C=1000, class_weight=balanced, gamma=0.1, kernel=rbf;, score=0.600 total time=   0.0s\n",
      "[CV 5/5] END C=1000, class_weight=balanced, gamma=0.1, kernel=rbf;, score=0.621 total time=   0.0s\n",
      "[CV 1/5] END C=1000, class_weight=balanced, gamma=0.0001, kernel=linear;, score=0.667 total time=   0.0s\n",
      "[CV 2/5] END C=1000, class_weight=balanced, gamma=0.0001, kernel=linear;, score=0.533 total time=   0.0s\n",
      "[CV 3/5] END C=1000, class_weight=balanced, gamma=0.0001, kernel=linear;, score=0.767 total time=   0.0s\n",
      "[CV 4/5] END C=1000, class_weight=balanced, gamma=0.0001, kernel=linear;, score=0.667 total time=   0.0s\n",
      "[CV 5/5] END C=1000, class_weight=balanced, gamma=0.0001, kernel=linear;, score=0.586 total time=   0.0s\n"
     ]
    },
    {
     "name": "stdout",
     "output_type": "stream",
     "text": [
      "[CV 1/5] END C=1000, class_weight=balanced, gamma=0.0001, kernel=rbf;, score=0.667 total time=   0.0s\n",
      "[CV 2/5] END C=1000, class_weight=balanced, gamma=0.0001, kernel=rbf;, score=0.600 total time=   0.0s\n",
      "[CV 3/5] END C=1000, class_weight=balanced, gamma=0.0001, kernel=rbf;, score=0.700 total time=   0.0s\n",
      "[CV 4/5] END C=1000, class_weight=balanced, gamma=0.0001, kernel=rbf;, score=0.733 total time=   0.0s\n",
      "[CV 5/5] END C=1000, class_weight=balanced, gamma=0.0001, kernel=rbf;, score=0.586 total time=   0.0s\n",
      "[CV 1/5] END C=1000, class_weight=None, gamma=1, kernel=linear;, score=0.667 total time=   0.0s\n",
      "[CV 2/5] END C=1000, class_weight=None, gamma=1, kernel=linear;, score=0.533 total time=   0.0s\n",
      "[CV 3/5] END C=1000, class_weight=None, gamma=1, kernel=linear;, score=0.767 total time=   0.0s\n",
      "[CV 4/5] END C=1000, class_weight=None, gamma=1, kernel=linear;, score=0.667 total time=   0.0s\n",
      "[CV 5/5] END C=1000, class_weight=None, gamma=1, kernel=linear;, score=0.586 total time=   0.0s\n",
      "[CV 1/5] END C=1000, class_weight=None, gamma=1, kernel=rbf;, score=0.633 total time=   0.0s\n",
      "[CV 2/5] END C=1000, class_weight=None, gamma=1, kernel=rbf;, score=0.633 total time=   0.0s\n",
      "[CV 3/5] END C=1000, class_weight=None, gamma=1, kernel=rbf;, score=0.600 total time=   0.0s\n",
      "[CV 4/5] END C=1000, class_weight=None, gamma=1, kernel=rbf;, score=0.600 total time=   0.0s\n",
      "[CV 5/5] END C=1000, class_weight=None, gamma=1, kernel=rbf;, score=0.621 total time=   0.0s\n",
      "[CV 1/5] END C=1000, class_weight=None, gamma=0.1, kernel=linear;, score=0.667 total time=   0.0s\n",
      "[CV 2/5] END C=1000, class_weight=None, gamma=0.1, kernel=linear;, score=0.533 total time=   0.0s\n",
      "[CV 3/5] END C=1000, class_weight=None, gamma=0.1, kernel=linear;, score=0.767 total time=   0.0s\n",
      "[CV 4/5] END C=1000, class_weight=None, gamma=0.1, kernel=linear;, score=0.667 total time=   0.0s\n",
      "[CV 5/5] END C=1000, class_weight=None, gamma=0.1, kernel=linear;, score=0.586 total time=   0.0s\n",
      "[CV 1/5] END C=1000, class_weight=None, gamma=0.1, kernel=rbf;, score=0.633 total time=   0.0s\n",
      "[CV 2/5] END C=1000, class_weight=None, gamma=0.1, kernel=rbf;, score=0.633 total time=   0.0s\n",
      "[CV 3/5] END C=1000, class_weight=None, gamma=0.1, kernel=rbf;, score=0.600 total time=   0.0s\n",
      "[CV 4/5] END C=1000, class_weight=None, gamma=0.1, kernel=rbf;, score=0.600 total time=   0.0s\n",
      "[CV 5/5] END C=1000, class_weight=None, gamma=0.1, kernel=rbf;, score=0.621 total time=   0.0s\n",
      "[CV 1/5] END C=1000, class_weight=None, gamma=0.0001, kernel=linear;, score=0.667 total time=   0.0s\n",
      "[CV 2/5] END C=1000, class_weight=None, gamma=0.0001, kernel=linear;, score=0.533 total time=   0.0s\n",
      "[CV 3/5] END C=1000, class_weight=None, gamma=0.0001, kernel=linear;, score=0.767 total time=   0.0s\n",
      "[CV 4/5] END C=1000, class_weight=None, gamma=0.0001, kernel=linear;, score=0.667 total time=   0.0s\n",
      "[CV 5/5] END C=1000, class_weight=None, gamma=0.0001, kernel=linear;, score=0.586 total time=   0.0s\n",
      "[CV 1/5] END C=1000, class_weight=None, gamma=0.0001, kernel=rbf;, score=0.667 total time=   0.0s\n",
      "[CV 2/5] END C=1000, class_weight=None, gamma=0.0001, kernel=rbf;, score=0.633 total time=   0.0s\n",
      "[CV 3/5] END C=1000, class_weight=None, gamma=0.0001, kernel=rbf;, score=0.700 total time=   0.0s\n",
      "[CV 4/5] END C=1000, class_weight=None, gamma=0.0001, kernel=rbf;, score=0.733 total time=   0.0s\n",
      "[CV 5/5] END C=1000, class_weight=None, gamma=0.0001, kernel=rbf;, score=0.586 total time=   0.1s\n"
     ]
    },
    {
     "data": {
      "image/png": "[encoded data removed]",
      "text/plain": [
       "<Figure size 360x288 with 2 Axes>"
      ]
     },
     "metadata": {
      "needs_background": "light"
     },
     "output_type": "display_data"
    }
   ],
   "source": [
    "grid4.fit(X1_train, y1_train)  \n",
    "\n",
    "y1_pred = grid4.predict(X1_test)\n",
    "\n",
    "cm = confusion_matrix(y1_test, y1_pred)\n",
    "cm_df = pd.DataFrame(cm,\n",
    "                     index = [0,1], \n",
    "                     columns = [0,1])\n",
    "plt.figure(figsize=(5,4))\n",
    "sns.heatmap(cm_df, annot=True)\n",
    "plt.title('Confusion Matrix')\n",
    "plt.ylabel('Actal Values')\n",
    "plt.xlabel('Predicted Values')\n",
    "plt.show()\n",
    "\n",
    "#print(cm)\n"
   ]
  },
  {
   "cell_type": "code",
   "execution_count": 72,
   "id": "fb367d46",
   "metadata": {},
   "outputs": [
    {
     "name": "stdout",
     "output_type": "stream",
     "text": [
      "[0 0 1 0 0 0 0 1 0 0 0 1 1 1 0 1 0 0 1 0 0 1 1 0 0 1 1 1 0 0 0 1 0 0 0 0 0\n",
      " 0 0 0 0 1 1 0 1 0 0 1]\n"
     ]
    }
   ],
   "source": [
    "print(y1_pred)"
   ]
  },
  {
   "cell_type": "code",
   "execution_count": 73,
   "id": "2e8ba058",
   "metadata": {
    "scrolled": false
   },
   "outputs": [
    {
     "name": "stdout",
     "output_type": "stream",
     "text": [
      "              precision    recall  f1-score   support\n",
      "\n",
      "           0       0.74      0.85      0.79        27\n",
      "           1       0.76      0.62      0.68        21\n",
      "\n",
      "    accuracy                           0.75        48\n",
      "   macro avg       0.75      0.74      0.74        48\n",
      "weighted avg       0.75      0.75      0.75        48\n",
      "\n"
     ]
    }
   ],
   "source": [
    "print(classification_report(y1_test, y1_pred))"
   ]
  },
  {
   "cell_type": "code",
   "execution_count": 74,
   "id": "50a26ed5",
   "metadata": {},
   "outputs": [
    {
     "data": {
      "image/png": "[encoded data removed]",
      "text/plain": [
       "<Figure size 432x288 with 1 Axes>"
      ]
     },
     "metadata": {
      "needs_background": "light"
     },
     "output_type": "display_data"
    }
   ],
   "source": [
    "import sklearn.metrics as metrics\n",
    "# calculate the fpr and tpr for all thresholds of the classification\n",
    "probs = grid4.predict_proba(X1_test)\n",
    "preds = probs[:,1]\n",
    "fpr, tpr, threshold = metrics.roc_curve(y1_test, preds)\n",
    "roc_auc = metrics.auc(fpr, tpr)\n",
    "\n",
    "# method I: plt\n",
    "import matplotlib.pyplot as plt\n",
    "plt.title('Receiver Operating Characteristic')\n",
    "plt.plot(fpr, tpr, 'b', label = 'AUC = %0.3f' % roc_auc)\n",
    "plt.legend(loc = 'lower right')\n",
    "plt.plot([0, 1], [0, 1],'r--')\n",
    "plt.xlim([0, 1])\n",
    "plt.ylim([0, 1])\n",
    "plt.ylabel('True Positive Rate')\n",
    "plt.xlabel('False Positive Rate')\n",
    "plt.show()\n",
    "\n",
    "# method II: ggplot\n",
    "# from ggplot import *\n",
    "# df = pd.DataFrame(dict(fpr = fpr, tpr = tpr))\n",
    "# ggplot(df, aes(x = 'fpr', y = 'tpr')) + geom_line() + geom_abline(linetype = 'dashed')"
   ]
  },
  {
   "cell_type": "code",
   "execution_count": 75,
   "id": "0c0495ff",
   "metadata": {},
   "outputs": [
    {
     "name": "stdout",
     "output_type": "stream",
     "text": [
      "Model1: f1=0.684 auc=0.780\n"
     ]
    },
    {
     "data": {
      "image/png": "[encoded data removed]",
      "text/plain": [
       "<Figure size 432x288 with 1 Axes>"
      ]
     },
     "metadata": {
      "needs_background": "light"
     },
     "output_type": "display_data"
    }
   ],
   "source": [
    "# precision-recall curve and f1\n",
    "from sklearn.datasets import make_classification\n",
    "from sklearn.linear_model import LogisticRegression\n",
    "from sklearn.model_selection import train_test_split\n",
    "from sklearn.metrics import precision_recall_curve\n",
    "from sklearn.metrics import f1_score\n",
    "from sklearn.metrics import auc\n",
    "from matplotlib import pyplot\n",
    "lr_probs = grid4.predict_proba(X1_test)\n",
    "# keep probabilities for the positive outcome only\n",
    "lr_probs = lr_probs[:, 1]\n",
    "# predict class values\n",
    "\n",
    "yhat = grid4.predict(X1_test)\n",
    "lr_precision, lr_recall, _ = precision_recall_curve(y1_test, lr_probs)\n",
    "lr_f1, lr_auc = f1_score(y1_test, yhat), auc(lr_recall, lr_precision)\n",
    "# summarize scores\n",
    "print('Model1: f1=%.3f auc=%.3f' % (lr_f1, lr_auc))\n",
    "# plot the precision-recall curves\n",
    "no_skill = len(y1_test[y1_test==1]) / len(y1_test)\n",
    "pyplot.plot([0, 1], [no_skill, no_skill], linestyle='--', label='No Skill')\n",
    "pyplot.plot(lr_recall, lr_precision, marker='.', label='SVM')\n",
    "# axis labels\n",
    "pyplot.xlabel('Recall')\n",
    "pyplot.ylabel('Precision')\n",
    "# show the legend\n",
    "pyplot.legend()\n",
    "# show the plot\n",
    "pyplot.show()"
   ]
  },
  {
   "cell_type": "code",
   "execution_count": 76,
   "id": "18d14410",
   "metadata": {},
   "outputs": [
    {
     "name": "stdout",
     "output_type": "stream",
     "text": [
      "balanced_accuracy 0.7354497354497355\n"
     ]
    }
   ],
   "source": [
    "print(\"balanced_accuracy\", balanced_accuracy_score(y1_test, y1_pred))"
   ]
  },
  {
   "cell_type": "code",
   "execution_count": 77,
   "id": "f5e132b1",
   "metadata": {
    "scrolled": true
   },
   "outputs": [
    {
     "name": "stdout",
     "output_type": "stream",
     "text": [
      "Fitting 5 folds for each of 24 candidates, totalling 120 fits\n",
      "[CV 1/5] END C=0.1, class_weight=balanced, gamma=1, kernel=linear;, score=0.633 total time=   0.0s\n",
      "[CV 2/5] END C=0.1, class_weight=balanced, gamma=1, kernel=linear;, score=0.633 total time=   0.0s\n",
      "[CV 3/5] END C=0.1, class_weight=balanced, gamma=1, kernel=linear;, score=0.600 total time=   0.0s\n",
      "[CV 4/5] END C=0.1, class_weight=balanced, gamma=1, kernel=linear;, score=0.600 total time=   0.0s\n",
      "[CV 5/5] END C=0.1, class_weight=balanced, gamma=1, kernel=linear;, score=0.621 total time=   0.0s\n",
      "[CV 1/5] END C=0.1, class_weight=balanced, gamma=1, kernel=rbf;, score=0.633 total time=   0.0s\n",
      "[CV 2/5] END C=0.1, class_weight=balanced, gamma=1, kernel=rbf;, score=0.633 total time=   0.0s\n",
      "[CV 3/5] END C=0.1, class_weight=balanced, gamma=1, kernel=rbf;, score=0.600 total time=   0.0s\n",
      "[CV 4/5] END C=0.1, class_weight=balanced, gamma=1, kernel=rbf;, score=0.600 total time=   0.0s\n",
      "[CV 5/5] END C=0.1, class_weight=balanced, gamma=1, kernel=rbf;, score=0.621 total time=   0.0s\n",
      "[CV 1/5] END C=0.1, class_weight=balanced, gamma=0.1, kernel=linear;, score=0.633 total time=   0.0s\n",
      "[CV 2/5] END C=0.1, class_weight=balanced, gamma=0.1, kernel=linear;, score=0.633 total time=   0.0s\n",
      "[CV 3/5] END C=0.1, class_weight=balanced, gamma=0.1, kernel=linear;, score=0.600 total time=   0.0s\n",
      "[CV 4/5] END C=0.1, class_weight=balanced, gamma=0.1, kernel=linear;, score=0.600 total time=   0.0s\n",
      "[CV 5/5] END C=0.1, class_weight=balanced, gamma=0.1, kernel=linear;, score=0.621 total time=   0.0s\n",
      "[CV 1/5] END C=0.1, class_weight=balanced, gamma=0.1, kernel=rbf;, score=0.633 total time=   0.0s\n",
      "[CV 2/5] END C=0.1, class_weight=balanced, gamma=0.1, kernel=rbf;, score=0.633 total time=   0.0s\n",
      "[CV 3/5] END C=0.1, class_weight=balanced, gamma=0.1, kernel=rbf;, score=0.600 total time=   0.0s\n",
      "[CV 4/5] END C=0.1, class_weight=balanced, gamma=0.1, kernel=rbf;, score=0.600 total time=   0.0s\n",
      "[CV 5/5] END C=0.1, class_weight=balanced, gamma=0.1, kernel=rbf;, score=0.621 total time=   0.0s\n",
      "[CV 1/5] END C=0.1, class_weight=balanced, gamma=0.0001, kernel=linear;, score=0.633 total time=   0.0s\n",
      "[CV 2/5] END C=0.1, class_weight=balanced, gamma=0.0001, kernel=linear;, score=0.633 total time=   0.0s\n",
      "[CV 3/5] END C=0.1, class_weight=balanced, gamma=0.0001, kernel=linear;, score=0.600 total time=   0.0s\n",
      "[CV 4/5] END C=0.1, class_weight=balanced, gamma=0.0001, kernel=linear;, score=0.600 total time=   0.0s\n",
      "[CV 5/5] END C=0.1, class_weight=balanced, gamma=0.0001, kernel=linear;, score=0.621 total time=   0.0s\n",
      "[CV 1/5] END C=0.1, class_weight=balanced, gamma=0.0001, kernel=rbf;, score=0.633 total time=   0.0s\n",
      "[CV 2/5] END C=0.1, class_weight=balanced, gamma=0.0001, kernel=rbf;, score=0.633 total time=   0.0s\n",
      "[CV 3/5] END C=0.1, class_weight=balanced, gamma=0.0001, kernel=rbf;, score=0.600 total time=   0.0s\n",
      "[CV 4/5] END C=0.1, class_weight=balanced, gamma=0.0001, kernel=rbf;, score=0.600 total time=   0.0s\n",
      "[CV 5/5] END C=0.1, class_weight=balanced, gamma=0.0001, kernel=rbf;, score=0.621 total time=   0.0s\n",
      "[CV 1/5] END C=0.1, class_weight=None, gamma=1, kernel=linear;, score=0.633 total time=   0.0s\n",
      "[CV 2/5] END C=0.1, class_weight=None, gamma=1, kernel=linear;, score=0.633 total time=   0.0s\n",
      "[CV 3/5] END C=0.1, class_weight=None, gamma=1, kernel=linear;, score=0.600 total time=   0.0s\n",
      "[CV 4/5] END C=0.1, class_weight=None, gamma=1, kernel=linear;, score=0.600 total time=   0.0s\n",
      "[CV 5/5] END C=0.1, class_weight=None, gamma=1, kernel=linear;, score=0.621 total time=   0.0s\n",
      "[CV 1/5] END C=0.1, class_weight=None, gamma=1, kernel=rbf;, score=0.633 total time=   0.0s\n",
      "[CV 2/5] END C=0.1, class_weight=None, gamma=1, kernel=rbf;, score=0.633 total time=   0.0s\n",
      "[CV 3/5] END C=0.1, class_weight=None, gamma=1, kernel=rbf;, score=0.600 total time=   0.0s\n",
      "[CV 4/5] END C=0.1, class_weight=None, gamma=1, kernel=rbf;, score=0.600 total time=   0.0s\n",
      "[CV 5/5] END C=0.1, class_weight=None, gamma=1, kernel=rbf;, score=0.621 total time=   0.0s\n",
      "[CV 1/5] END C=0.1, class_weight=None, gamma=0.1, kernel=linear;, score=0.633 total time=   0.0s\n",
      "[CV 2/5] END C=0.1, class_weight=None, gamma=0.1, kernel=linear;, score=0.633 total time=   0.0s\n",
      "[CV 3/5] END C=0.1, class_weight=None, gamma=0.1, kernel=linear;, score=0.600 total time=   0.0s\n",
      "[CV 4/5] END C=0.1, class_weight=None, gamma=0.1, kernel=linear;, score=0.600 total time=   0.0s\n",
      "[CV 5/5] END C=0.1, class_weight=None, gamma=0.1, kernel=linear;, score=0.621 total time=   0.0s\n",
      "[CV 1/5] END C=0.1, class_weight=None, gamma=0.1, kernel=rbf;, score=0.633 total time=   0.1s\n",
      "[CV 2/5] END C=0.1, class_weight=None, gamma=0.1, kernel=rbf;, score=0.633 total time=   0.0s\n",
      "[CV 3/5] END C=0.1, class_weight=None, gamma=0.1, kernel=rbf;, score=0.600 total time=   0.0s\n",
      "[CV 4/5] END C=0.1, class_weight=None, gamma=0.1, kernel=rbf;, score=0.600 total time=   0.0s\n",
      "[CV 5/5] END C=0.1, class_weight=None, gamma=0.1, kernel=rbf;, score=0.621 total time=   0.0s\n",
      "[CV 1/5] END C=0.1, class_weight=None, gamma=0.0001, kernel=linear;, score=0.633 total time=   0.0s\n",
      "[CV 2/5] END C=0.1, class_weight=None, gamma=0.0001, kernel=linear;, score=0.633 total time=   0.0s\n",
      "[CV 3/5] END C=0.1, class_weight=None, gamma=0.0001, kernel=linear;, score=0.600 total time=   0.0s\n",
      "[CV 4/5] END C=0.1, class_weight=None, gamma=0.0001, kernel=linear;, score=0.600 total time=   0.0s\n",
      "[CV 5/5] END C=0.1, class_weight=None, gamma=0.0001, kernel=linear;, score=0.621 total time=   0.0s\n",
      "[CV 1/5] END C=0.1, class_weight=None, gamma=0.0001, kernel=rbf;, score=0.633 total time=   0.0s\n",
      "[CV 2/5] END C=0.1, class_weight=None, gamma=0.0001, kernel=rbf;, score=0.633 total time=   0.0s\n",
      "[CV 3/5] END C=0.1, class_weight=None, gamma=0.0001, kernel=rbf;, score=0.600 total time=   0.0s\n",
      "[CV 4/5] END C=0.1, class_weight=None, gamma=0.0001, kernel=rbf;, score=0.600 total time=   0.0s\n",
      "[CV 5/5] END C=0.1, class_weight=None, gamma=0.0001, kernel=rbf;, score=0.621 total time=   0.0s\n",
      "[CV 1/5] END C=1000, class_weight=balanced, gamma=1, kernel=linear;, score=0.633 total time=   0.0s\n",
      "[CV 2/5] END C=1000, class_weight=balanced, gamma=1, kernel=linear;, score=0.667 total time=   0.0s\n",
      "[CV 3/5] END C=1000, class_weight=balanced, gamma=1, kernel=linear;, score=0.667 total time=   0.0s\n",
      "[CV 4/5] END C=1000, class_weight=balanced, gamma=1, kernel=linear;, score=0.733 total time=   0.0s\n",
      "[CV 5/5] END C=1000, class_weight=balanced, gamma=1, kernel=linear;, score=0.552 total time=   0.0s\n",
      "[CV 1/5] END C=1000, class_weight=balanced, gamma=1, kernel=rbf;, score=0.633 total time=   0.0s\n",
      "[CV 2/5] END C=1000, class_weight=balanced, gamma=1, kernel=rbf;, score=0.700 total time=   0.0s\n",
      "[CV 3/5] END C=1000, class_weight=balanced, gamma=1, kernel=rbf;, score=0.600 total time=   0.0s\n",
      "[CV 4/5] END C=1000, class_weight=balanced, gamma=1, kernel=rbf;, score=0.700 total time=   0.0s\n",
      "[CV 5/5] END C=1000, class_weight=balanced, gamma=1, kernel=rbf;, score=0.621 total time=   0.0s\n",
      "[CV 1/5] END C=1000, class_weight=balanced, gamma=0.1, kernel=linear;, score=0.633 total time=   0.0s\n",
      "[CV 2/5] END C=1000, class_weight=balanced, gamma=0.1, kernel=linear;, score=0.667 total time=   0.0s\n",
      "[CV 3/5] END C=1000, class_weight=balanced, gamma=0.1, kernel=linear;, score=0.667 total time=   0.0s\n",
      "[CV 4/5] END C=1000, class_weight=balanced, gamma=0.1, kernel=linear;, score=0.733 total time=   0.0s\n",
      "[CV 5/5] END C=1000, class_weight=balanced, gamma=0.1, kernel=linear;, score=0.552 total time=   0.0s\n",
      "[CV 1/5] END C=1000, class_weight=balanced, gamma=0.1, kernel=rbf;, score=0.700 total time=   0.0s\n",
      "[CV 2/5] END C=1000, class_weight=balanced, gamma=0.1, kernel=rbf;, score=0.667 total time=   0.0s\n",
      "[CV 3/5] END C=1000, class_weight=balanced, gamma=0.1, kernel=rbf;, score=0.700 total time=   0.0s\n",
      "[CV 4/5] END C=1000, class_weight=balanced, gamma=0.1, kernel=rbf;, score=0.700 total time=   0.0s\n",
      "[CV 5/5] END C=1000, class_weight=balanced, gamma=0.1, kernel=rbf;, score=0.586 total time=   0.0s\n",
      "[CV 1/5] END C=1000, class_weight=balanced, gamma=0.0001, kernel=linear;, score=0.633 total time=   0.0s\n",
      "[CV 2/5] END C=1000, class_weight=balanced, gamma=0.0001, kernel=linear;, score=0.667 total time=   0.0s\n",
      "[CV 3/5] END C=1000, class_weight=balanced, gamma=0.0001, kernel=linear;, score=0.667 total time=   0.0s\n"
     ]
    },
    {
     "name": "stdout",
     "output_type": "stream",
     "text": [
      "[CV 4/5] END C=1000, class_weight=balanced, gamma=0.0001, kernel=linear;, score=0.733 total time=   0.0s\n",
      "[CV 5/5] END C=1000, class_weight=balanced, gamma=0.0001, kernel=linear;, score=0.552 total time=   0.0s\n",
      "[CV 1/5] END C=1000, class_weight=balanced, gamma=0.0001, kernel=rbf;, score=0.367 total time=   0.0s\n",
      "[CV 2/5] END C=1000, class_weight=balanced, gamma=0.0001, kernel=rbf;, score=0.367 total time=   0.0s\n",
      "[CV 3/5] END C=1000, class_weight=balanced, gamma=0.0001, kernel=rbf;, score=0.600 total time=   0.0s\n",
      "[CV 4/5] END C=1000, class_weight=balanced, gamma=0.0001, kernel=rbf;, score=0.600 total time=   0.0s\n",
      "[CV 5/5] END C=1000, class_weight=balanced, gamma=0.0001, kernel=rbf;, score=0.621 total time=   0.0s\n",
      "[CV 1/5] END C=1000, class_weight=None, gamma=1, kernel=linear;, score=0.633 total time=   0.0s\n",
      "[CV 2/5] END C=1000, class_weight=None, gamma=1, kernel=linear;, score=0.667 total time=   0.0s\n",
      "[CV 3/5] END C=1000, class_weight=None, gamma=1, kernel=linear;, score=0.667 total time=   0.0s\n",
      "[CV 4/5] END C=1000, class_weight=None, gamma=1, kernel=linear;, score=0.733 total time=   0.0s\n",
      "[CV 5/5] END C=1000, class_weight=None, gamma=1, kernel=linear;, score=0.552 total time=   0.0s\n",
      "[CV 1/5] END C=1000, class_weight=None, gamma=1, kernel=rbf;, score=0.633 total time=   0.0s\n",
      "[CV 2/5] END C=1000, class_weight=None, gamma=1, kernel=rbf;, score=0.700 total time=   0.0s\n",
      "[CV 3/5] END C=1000, class_weight=None, gamma=1, kernel=rbf;, score=0.600 total time=   0.0s\n",
      "[CV 4/5] END C=1000, class_weight=None, gamma=1, kernel=rbf;, score=0.700 total time=   0.0s\n",
      "[CV 5/5] END C=1000, class_weight=None, gamma=1, kernel=rbf;, score=0.621 total time=   0.0s\n",
      "[CV 1/5] END C=1000, class_weight=None, gamma=0.1, kernel=linear;, score=0.633 total time=   0.0s\n",
      "[CV 2/5] END C=1000, class_weight=None, gamma=0.1, kernel=linear;, score=0.667 total time=   0.0s\n",
      "[CV 3/5] END C=1000, class_weight=None, gamma=0.1, kernel=linear;, score=0.667 total time=   0.0s\n",
      "[CV 4/5] END C=1000, class_weight=None, gamma=0.1, kernel=linear;, score=0.733 total time=   0.0s\n",
      "[CV 5/5] END C=1000, class_weight=None, gamma=0.1, kernel=linear;, score=0.552 total time=   0.0s\n",
      "[CV 1/5] END C=1000, class_weight=None, gamma=0.1, kernel=rbf;, score=0.700 total time=   0.0s\n",
      "[CV 2/5] END C=1000, class_weight=None, gamma=0.1, kernel=rbf;, score=0.667 total time=   0.0s\n",
      "[CV 3/5] END C=1000, class_weight=None, gamma=0.1, kernel=rbf;, score=0.700 total time=   0.0s\n",
      "[CV 4/5] END C=1000, class_weight=None, gamma=0.1, kernel=rbf;, score=0.700 total time=   0.0s\n",
      "[CV 5/5] END C=1000, class_weight=None, gamma=0.1, kernel=rbf;, score=0.586 total time=   0.0s\n",
      "[CV 1/5] END C=1000, class_weight=None, gamma=0.0001, kernel=linear;, score=0.633 total time=   0.1s\n",
      "[CV 2/5] END C=1000, class_weight=None, gamma=0.0001, kernel=linear;, score=0.667 total time=   0.0s\n",
      "[CV 3/5] END C=1000, class_weight=None, gamma=0.0001, kernel=linear;, score=0.667 total time=   0.0s\n",
      "[CV 4/5] END C=1000, class_weight=None, gamma=0.0001, kernel=linear;, score=0.733 total time=   0.0s\n",
      "[CV 5/5] END C=1000, class_weight=None, gamma=0.0001, kernel=linear;, score=0.552 total time=   0.0s\n",
      "[CV 1/5] END C=1000, class_weight=None, gamma=0.0001, kernel=rbf;, score=0.633 total time=   0.0s\n",
      "[CV 2/5] END C=1000, class_weight=None, gamma=0.0001, kernel=rbf;, score=0.633 total time=   0.0s\n",
      "[CV 3/5] END C=1000, class_weight=None, gamma=0.0001, kernel=rbf;, score=0.600 total time=   0.0s\n",
      "[CV 4/5] END C=1000, class_weight=None, gamma=0.0001, kernel=rbf;, score=0.600 total time=   0.0s\n",
      "[CV 5/5] END C=1000, class_weight=None, gamma=0.0001, kernel=rbf;, score=0.621 total time=   0.0s\n"
     ]
    },
    {
     "data": {
      "image/png": "[encoded data removed]",
      "text/plain": [
       "<Figure size 360x288 with 2 Axes>"
      ]
     },
     "metadata": {
      "needs_background": "light"
     },
     "output_type": "display_data"
    }
   ],
   "source": [
    "grid4.fit(X2_train, y2_train)\n",
    "\n",
    "y2_pred = grid4.predict(X2_test)\n",
    "\n",
    "cm = confusion_matrix(y2_test, y2_pred)\n",
    "#print(cm)\n",
    "cm_df = pd.DataFrame(cm,\n",
    "                     index = [0,1], \n",
    "                     columns = [0,1])\n",
    "plt.figure(figsize=(5,4))\n",
    "sns.heatmap(cm_df, annot=True)\n",
    "plt.title('Confusion Matrix')\n",
    "plt.ylabel('Actal Values')\n",
    "plt.xlabel('Predicted Values')\n",
    "plt.show()"
   ]
  },
  {
   "cell_type": "code",
   "execution_count": 78,
   "id": "61da9e13",
   "metadata": {},
   "outputs": [
    {
     "name": "stdout",
     "output_type": "stream",
     "text": [
      "[0 0 1 0 0 1 0 0 1 0 1 1 1 1 0 1 0 0 1 0 0 1 1 0 0 1 1 1 1 0 0 1 0 1 0 0 0\n",
      " 0 0 1 1 0 1 0 1 1 0 1]\n"
     ]
    }
   ],
   "source": [
    "print(y2_pred)"
   ]
  },
  {
   "cell_type": "code",
   "execution_count": 79,
   "id": "ca90dcdf",
   "metadata": {
    "scrolled": true
   },
   "outputs": [
    {
     "name": "stdout",
     "output_type": "stream",
     "text": [
      "              precision    recall  f1-score   support\n",
      "\n",
      "           0       0.76      0.70      0.73        27\n",
      "           1       0.65      0.71      0.68        21\n",
      "\n",
      "    accuracy                           0.71        48\n",
      "   macro avg       0.71      0.71      0.71        48\n",
      "weighted avg       0.71      0.71      0.71        48\n",
      "\n"
     ]
    }
   ],
   "source": [
    "print(classification_report(y2_test, y2_pred))"
   ]
  },
  {
   "cell_type": "code",
   "execution_count": 80,
   "id": "f4b7ab44",
   "metadata": {},
   "outputs": [
    {
     "data": {
      "image/png": "[encoded data removed]",
      "text/plain": [
       "<Figure size 432x288 with 1 Axes>"
      ]
     },
     "metadata": {
      "needs_background": "light"
     },
     "output_type": "display_data"
    }
   ],
   "source": [
    "import sklearn.metrics as metrics\n",
    "# calculate the fpr and tpr for all thresholds of the classification\n",
    "probs = grid4.predict_proba(X2_test)\n",
    "preds = probs[:,1]\n",
    "fpr, tpr, threshold = metrics.roc_curve(y2_test, preds)\n",
    "roc_auc = metrics.auc(fpr, tpr)\n",
    "\n",
    "# method I: plt\n",
    "import matplotlib.pyplot as plt\n",
    "plt.title('Receiver Operating Characteristic')\n",
    "plt.plot(fpr, tpr, 'b', label = 'AUC = %0.3f' % roc_auc)\n",
    "plt.legend(loc = 'lower right')\n",
    "plt.plot([0, 1], [0, 1],'r--')\n",
    "plt.xlim([0, 1])\n",
    "plt.ylim([0, 1])\n",
    "plt.ylabel('True Positive Rate')\n",
    "plt.xlabel('False Positive Rate')\n",
    "plt.show()\n",
    "\n",
    "# method II: ggplot\n",
    "# from ggplot import *\n",
    "# df = pd.DataFrame(dict(fpr = fpr, tpr = tpr))\n",
    "# ggplot(df, aes(x = 'fpr', y = 'tpr')) + geom_line() + geom_abline(linetype = 'dashed')"
   ]
  },
  {
   "cell_type": "code",
   "execution_count": 81,
   "id": "b20ec293",
   "metadata": {},
   "outputs": [
    {
     "name": "stdout",
     "output_type": "stream",
     "text": [
      "Model1: f1=0.222 auc=0.839\n"
     ]
    },
    {
     "data": {
      "image/png": "[encoded data removed]",
      "text/plain": [
       "<Figure size 432x288 with 1 Axes>"
      ]
     },
     "metadata": {
      "needs_background": "light"
     },
     "output_type": "display_data"
    }
   ],
   "source": [
    "# precision-recall curve and f1\n",
    "from sklearn.datasets import make_classification\n",
    "from sklearn.linear_model import LogisticRegression\n",
    "from sklearn.model_selection import train_test_split\n",
    "from sklearn.metrics import precision_recall_curve\n",
    "from sklearn.metrics import f1_score\n",
    "from sklearn.metrics import auc\n",
    "from matplotlib import pyplot\n",
    "lr_probs = grid4.predict_proba(X2_test)\n",
    "# keep probabilities for the positive outcome only\n",
    "lr_probs = lr_probs[:, 1]\n",
    "# predict class values\n",
    "yhat = grid3.predict(X2_test)\n",
    "lr_precision, lr_recall, _ = precision_recall_curve(y2_test, lr_probs)\n",
    "lr_f1, lr_auc = f1_score(y2_test, yhat), auc(lr_recall, lr_precision)\n",
    "# summarize scores\n",
    "print('Model1: f1=%.3f auc=%.3f' % (lr_f1, lr_auc))\n",
    "# plot the precision-recall curves\n",
    "no_skill = len(y2_test[y2_test==1]) / len(y2_test)\n",
    "pyplot.plot([0, 1], [no_skill, no_skill], linestyle='--', label='No Skill')\n",
    "pyplot.plot(lr_recall, lr_precision, marker='.', label='SVM')\n",
    "# axis labels\n",
    "pyplot.xlabel('Recall')\n",
    "pyplot.ylabel('Precision')\n",
    "# show the legend\n",
    "pyplot.legend()\n",
    "# show the plot\n",
    "pyplot.show()"
   ]
  },
  {
   "cell_type": "code",
   "execution_count": 82,
   "id": "6bac3d27",
   "metadata": {},
   "outputs": [
    {
     "name": "stdout",
     "output_type": "stream",
     "text": [
      "balanced_accuracy 0.7089947089947091\n"
     ]
    }
   ],
   "source": [
    "print(\"balanced_accuracy\", balanced_accuracy_score(y2_test, y2_pred))"
   ]
  },
  {
   "cell_type": "code",
   "execution_count": 84,
   "id": "732ddea9",
   "metadata": {},
   "outputs": [
    {
     "data": {
      "text/plain": [
       "(12074, 3)"
      ]
     },
     "execution_count": 84,
     "metadata": {},
     "output_type": "execute_result"
    }
   ],
   "source": [
    "data = pd.read_csv(r\"dataset_timeline1.csv\")\n",
    "data.shape"
   ]
  },
  {
   "cell_type": "code",
   "execution_count": 85,
   "id": "8a6a1b37",
   "metadata": {},
   "outputs": [
    {
     "data": {
      "text/plain": [
       "subreddit                                                 lgbt\n",
       "body         I've posted in the past for advice about comin...\n",
       "target                                                     NaN\n",
       "Name: 12073, dtype: object"
      ]
     },
     "execution_count": 85,
     "metadata": {},
     "output_type": "execute_result"
    }
   ],
   "source": [
    "data.iloc[12073, :]"
   ]
  },
  {
   "cell_type": "code",
   "execution_count": 86,
   "id": "e050ac6b",
   "metadata": {},
   "outputs": [],
   "source": [
    "for i in range(12074):\n",
    "    text = preprocess(data['body'][i])\n",
    "    \n",
    "    text = tfidf_vectorizer.transform([text])\n",
    "    \n",
    "    value = grid4.predict(text)\n",
    "    \n",
    "    data.iloc[i, -1] = value"
   ]
  },
  {
   "cell_type": "code",
   "execution_count": 87,
   "id": "ca93740d",
   "metadata": {},
   "outputs": [
    {
     "data": {
      "text/html": [
       "<div>\n",
       "<style scoped>\n",
       "    .dataframe tbody tr th:only-of-type {\n",
       "        vertical-align: middle;\n",
       "    }\n",
       "\n",
       "    .dataframe tbody tr th {\n",
       "        vertical-align: top;\n",
       "    }\n",
       "\n",
       "    .dataframe thead th {\n",
       "        text-align: right;\n",
       "    }\n",
       "</style>\n",
       "<table border=\"1\" class=\"dataframe\">\n",
       "  <thead>\n",
       "    <tr style=\"text-align: right;\">\n",
       "      <th></th>\n",
       "      <th>subreddit</th>\n",
       "      <th>body</th>\n",
       "      <th>target</th>\n",
       "    </tr>\n",
       "  </thead>\n",
       "  <tbody>\n",
       "    <tr>\n",
       "      <th>0</th>\n",
       "      <td>lgbt</td>\n",
       "      <td>Finally my first binder came in today and I'm ...</td>\n",
       "      <td>1.0</td>\n",
       "    </tr>\n",
       "    <tr>\n",
       "      <th>1</th>\n",
       "      <td>lgbt</td>\n",
       "      <td>Ok so growing up I've always loved girls no ma...</td>\n",
       "      <td>1.0</td>\n",
       "    </tr>\n",
       "    <tr>\n",
       "      <th>2</th>\n",
       "      <td>lgbt</td>\n",
       "      <td>Hey, all! I wanted to make a help video on how...</td>\n",
       "      <td>0.0</td>\n",
       "    </tr>\n",
       "    <tr>\n",
       "      <th>3</th>\n",
       "      <td>lgbt</td>\n",
       "      <td>I personally never have done it before,And I w...</td>\n",
       "      <td>0.0</td>\n",
       "    </tr>\n",
       "    <tr>\n",
       "      <th>4</th>\n",
       "      <td>lgbt</td>\n",
       "      <td>Hello, I'm a Public Safety Officer at a relati...</td>\n",
       "      <td>1.0</td>\n",
       "    </tr>\n",
       "  </tbody>\n",
       "</table>\n",
       "</div>"
      ],
      "text/plain": [
       "  subreddit                                               body  target\n",
       "0      lgbt  Finally my first binder came in today and I'm ...     1.0\n",
       "1      lgbt  Ok so growing up I've always loved girls no ma...     1.0\n",
       "2      lgbt  Hey, all! I wanted to make a help video on how...     0.0\n",
       "3      lgbt  I personally never have done it before,And I w...     0.0\n",
       "4      lgbt  Hello, I'm a Public Safety Officer at a relati...     1.0"
      ]
     },
     "execution_count": 87,
     "metadata": {},
     "output_type": "execute_result"
    }
   ],
   "source": [
    "data.head()"
   ]
  },
  {
   "cell_type": "code",
   "execution_count": 88,
   "id": "0938132c",
   "metadata": {},
   "outputs": [
    {
     "data": {
      "text/html": [
       "<div>\n",
       "<style scoped>\n",
       "    .dataframe tbody tr th:only-of-type {\n",
       "        vertical-align: middle;\n",
       "    }\n",
       "\n",
       "    .dataframe tbody tr th {\n",
       "        vertical-align: top;\n",
       "    }\n",
       "\n",
       "    .dataframe thead th {\n",
       "        text-align: right;\n",
       "    }\n",
       "</style>\n",
       "<table border=\"1\" class=\"dataframe\">\n",
       "  <thead>\n",
       "    <tr style=\"text-align: right;\">\n",
       "      <th></th>\n",
       "      <th>subreddit</th>\n",
       "      <th>body</th>\n",
       "      <th>target</th>\n",
       "    </tr>\n",
       "  </thead>\n",
       "  <tbody>\n",
       "    <tr>\n",
       "      <th>12069</th>\n",
       "      <td>lgbt</td>\n",
       "      <td>I know this mightn't be the right subreddit to...</td>\n",
       "      <td>0.0</td>\n",
       "    </tr>\n",
       "    <tr>\n",
       "      <th>12070</th>\n",
       "      <td>lgbt</td>\n",
       "      <td>So last night i was riding an elevator and a t...</td>\n",
       "      <td>1.0</td>\n",
       "    </tr>\n",
       "    <tr>\n",
       "      <th>12071</th>\n",
       "      <td>lgbt</td>\n",
       "      <td>They keep referencing how depressed they are t...</td>\n",
       "      <td>1.0</td>\n",
       "    </tr>\n",
       "    <tr>\n",
       "      <th>12072</th>\n",
       "      <td>lgbt</td>\n",
       "      <td>New, secret account for obvious reasons. Sorry...</td>\n",
       "      <td>1.0</td>\n",
       "    </tr>\n",
       "    <tr>\n",
       "      <th>12073</th>\n",
       "      <td>lgbt</td>\n",
       "      <td>I've posted in the past for advice about comin...</td>\n",
       "      <td>0.0</td>\n",
       "    </tr>\n",
       "  </tbody>\n",
       "</table>\n",
       "</div>"
      ],
      "text/plain": [
       "      subreddit                                               body  target\n",
       "12069      lgbt  I know this mightn't be the right subreddit to...     0.0\n",
       "12070      lgbt  So last night i was riding an elevator and a t...     1.0\n",
       "12071      lgbt  They keep referencing how depressed they are t...     1.0\n",
       "12072      lgbt  New, secret account for obvious reasons. Sorry...     1.0\n",
       "12073      lgbt  I've posted in the past for advice about comin...     0.0"
      ]
     },
     "execution_count": 88,
     "metadata": {},
     "output_type": "execute_result"
    }
   ],
   "source": [
    "data.tail()"
   ]
  },
  {
   "cell_type": "code",
   "execution_count": 89,
   "id": "d3391dbd",
   "metadata": {},
   "outputs": [
    {
     "data": {
      "text/plain": [
       "<AxesSubplot:>"
      ]
     },
     "execution_count": 89,
     "metadata": {},
     "output_type": "execute_result"
    },
    {
     "data": {
      "image/png": "[encoded data removed]",
      "text/plain": [
       "<Figure size 432x288 with 1 Axes>"
      ]
     },
     "metadata": {
      "needs_background": "light"
     },
     "output_type": "display_data"
    }
   ],
   "source": [
    "count=data['target'].value_counts()\n",
    "count.plot(kind='bar')"
   ]
  },
  {
   "cell_type": "code",
   "execution_count": 90,
   "id": "0eaf56bf",
   "metadata": {},
   "outputs": [
    {
     "data": {
      "text/plain": [
       "0.0    7922\n",
       "1.0    4152\n",
       "Name: target, dtype: int64"
      ]
     },
     "execution_count": 90,
     "metadata": {},
     "output_type": "execute_result"
    }
   ],
   "source": [
    "count"
   ]
  },
  {
   "cell_type": "code",
   "execution_count": 91,
   "id": "1472e243",
   "metadata": {},
   "outputs": [],
   "source": [
    "data.to_csv('dataset_svm.csv')"
   ]
  },
  {
   "cell_type": "code",
   "execution_count": 92,
   "id": "55f70714",
   "metadata": {},
   "outputs": [
    {
     "data": {
      "text/plain": [
       "(12074, 3)"
      ]
     },
     "execution_count": 92,
     "metadata": {},
     "output_type": "execute_result"
    }
   ],
   "source": [
    "data1 = pd.read_csv(r\"dataset_timeline1.csv\")\n",
    "data1.shape"
   ]
  },
  {
   "cell_type": "code",
   "execution_count": 93,
   "id": "4a44df0b",
   "metadata": {},
   "outputs": [],
   "source": [
    "for i in range(12074):\n",
    "    text = preprocess(data1['body'][i])\n",
    "    \n",
    "    text = bow_vectorizer.transform([text])\n",
    "    \n",
    "    value = grid1.predict(text)\n",
    "    \n",
    "    data1.iloc[i, -1] = value"
   ]
  },
  {
   "cell_type": "code",
   "execution_count": 94,
   "id": "53c7661c",
   "metadata": {},
   "outputs": [],
   "source": [
    "data1.to_csv('dataset_mlp.csv')"
   ]
  },
  {
   "cell_type": "code",
   "execution_count": 95,
   "id": "b3d61b45",
   "metadata": {},
   "outputs": [
    {
     "data": {
      "text/plain": [
       "<AxesSubplot:>"
      ]
     },
     "execution_count": 95,
     "metadata": {},
     "output_type": "execute_result"
    },
    {
     "data": {
      "image/png": "[encoded data removed]",
      "text/plain": [
       "<Figure size 432x288 with 1 Axes>"
      ]
     },
     "metadata": {
      "needs_background": "light"
     },
     "output_type": "display_data"
    }
   ],
   "source": [
    "count=data1['target'].value_counts()\n",
    "count.plot(kind='bar')"
   ]
  },
  {
   "cell_type": "code",
   "execution_count": 96,
   "id": "15b518a1",
   "metadata": {},
   "outputs": [
    {
     "data": {
      "text/plain": [
       "1.0    6952\n",
       "0.0    5122\n",
       "Name: target, dtype: int64"
      ]
     },
     "execution_count": 96,
     "metadata": {},
     "output_type": "execute_result"
    }
   ],
   "source": [
    "count"
   ]
  },
  {
   "cell_type": "code",
   "execution_count": null,
   "id": "b03e6fa6",
   "metadata": {},
   "outputs": [],
   "source": []
  }
 ],
 "metadata": {
  "colab": {
   "collapsed_sections": [
    "add39348",
    "a645e505",
    "0732beeb"
   ],
   "provenance": [],
   "toc_visible": true
  },
  "kernelspec": {
   "display_name": "Python 3 (ipykernel)",
   "language": "python",
   "name": "python3"
  },
  "language_info": {
   "codemirror_mode": {
    "name": "ipython",
    "version": 3
   },
   "file_extension": ".py",
   "mimetype": "text/x-python",
   "name": "python",
   "nbconvert_exporter": "python",
   "pygments_lexer": "ipython3",
   "version": "3.10.4"
  }
 },
 "nbformat": 4,
 "nbformat_minor": 5
}
