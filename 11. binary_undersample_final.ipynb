{
 "cells": [
  {
   "cell_type": "markdown",
   "id": "7jyzUc2n7u4p",
   "metadata": {
    "id": "7jyzUc2n7u4p"
   },
   "source": [
    "# Loading the dataset"
   ]
  },
  {
   "cell_type": "code",
   "execution_count": 1,
   "id": "985ceac8",
   "metadata": {
    "id": "985ceac8"
   },
   "outputs": [],
   "source": [
    "import numpy as np\n",
    "import pandas as pd\n",
    "\n",
    "import matplotlib.pyplot as plt\n",
    "import seaborn as sns\n",
    "\n",
    "import re\n",
    "import nltk\n"
   ]
  },
  {
   "cell_type": "code",
   "execution_count": 2,
   "id": "82f58c75",
   "metadata": {
    "id": "82f58c75"
   },
   "outputs": [],
   "source": [
    "df = pd.read_csv(r\"undersample-binarydata.csv\")\n",
    "#df = df.head(500)"
   ]
  },
  {
   "cell_type": "code",
   "execution_count": 3,
   "id": "594f8bc3",
   "metadata": {},
   "outputs": [
    {
     "data": {
      "text/plain": [
       "0    78\n",
       "1    78\n",
       "Name: target, dtype: int64"
      ]
     },
     "execution_count": 3,
     "metadata": {},
     "output_type": "execute_result"
    }
   ],
   "source": [
    "count=df['target'].value_counts()\n",
    "count"
   ]
  },
  {
   "cell_type": "code",
   "execution_count": 4,
   "id": "92ea4ab7",
   "metadata": {},
   "outputs": [
    {
     "data": {
      "text/html": [
       "<div>\n",
       "<style scoped>\n",
       "    .dataframe tbody tr th:only-of-type {\n",
       "        vertical-align: middle;\n",
       "    }\n",
       "\n",
       "    .dataframe tbody tr th {\n",
       "        vertical-align: top;\n",
       "    }\n",
       "\n",
       "    .dataframe thead th {\n",
       "        text-align: right;\n",
       "    }\n",
       "</style>\n",
       "<table border=\"1\" class=\"dataframe\">\n",
       "  <thead>\n",
       "    <tr style=\"text-align: right;\">\n",
       "      <th></th>\n",
       "      <th>Unnamed: 0</th>\n",
       "      <th>body</th>\n",
       "      <th>target</th>\n",
       "    </tr>\n",
       "  </thead>\n",
       "  <tbody>\n",
       "    <tr>\n",
       "      <th>0</th>\n",
       "      <td>0</td>\n",
       "      <td>So I'm gay. And \"straight acting\". I've always...</td>\n",
       "      <td>0</td>\n",
       "    </tr>\n",
       "    <tr>\n",
       "      <th>1</th>\n",
       "      <td>1</td>\n",
       "      <td>I keep thinking about kids. I'm bi cismale, se...</td>\n",
       "      <td>0</td>\n",
       "    </tr>\n",
       "    <tr>\n",
       "      <th>2</th>\n",
       "      <td>2</td>\n",
       "      <td>I've considered myself bi for a few years but ...</td>\n",
       "      <td>0</td>\n",
       "    </tr>\n",
       "    <tr>\n",
       "      <th>3</th>\n",
       "      <td>3</td>\n",
       "      <td>This year I moved in with 3 other guys, in an ...</td>\n",
       "      <td>0</td>\n",
       "    </tr>\n",
       "    <tr>\n",
       "      <th>4</th>\n",
       "      <td>4</td>\n",
       "      <td>Did my toenails (gay guy here) for the first t...</td>\n",
       "      <td>0</td>\n",
       "    </tr>\n",
       "  </tbody>\n",
       "</table>\n",
       "</div>"
      ],
      "text/plain": [
       "   Unnamed: 0                                               body  target\n",
       "0           0  So I'm gay. And \"straight acting\". I've always...       0\n",
       "1           1  I keep thinking about kids. I'm bi cismale, se...       0\n",
       "2           2  I've considered myself bi for a few years but ...       0\n",
       "3           3  This year I moved in with 3 other guys, in an ...       0\n",
       "4           4  Did my toenails (gay guy here) for the first t...       0"
      ]
     },
     "execution_count": 4,
     "metadata": {},
     "output_type": "execute_result"
    }
   ],
   "source": [
    "df.head()"
   ]
  },
  {
   "cell_type": "code",
   "execution_count": 5,
   "id": "b335edb4",
   "metadata": {},
   "outputs": [
    {
     "data": {
      "text/html": [
       "<div>\n",
       "<style scoped>\n",
       "    .dataframe tbody tr th:only-of-type {\n",
       "        vertical-align: middle;\n",
       "    }\n",
       "\n",
       "    .dataframe tbody tr th {\n",
       "        vertical-align: top;\n",
       "    }\n",
       "\n",
       "    .dataframe thead th {\n",
       "        text-align: right;\n",
       "    }\n",
       "</style>\n",
       "<table border=\"1\" class=\"dataframe\">\n",
       "  <thead>\n",
       "    <tr style=\"text-align: right;\">\n",
       "      <th></th>\n",
       "      <th>body</th>\n",
       "      <th>target</th>\n",
       "    </tr>\n",
       "  </thead>\n",
       "  <tbody>\n",
       "    <tr>\n",
       "      <th>28</th>\n",
       "      <td>I have been dating the same guy for 3.5 years....</td>\n",
       "      <td>0</td>\n",
       "    </tr>\n",
       "    <tr>\n",
       "      <th>136</th>\n",
       "      <td>I hate every single thing about myself\\r\\n\\r\\n...</td>\n",
       "      <td>1</td>\n",
       "    </tr>\n",
       "    <tr>\n",
       "      <th>51</th>\n",
       "      <td>I read a book of essays by parents of LGBT kid...</td>\n",
       "      <td>0</td>\n",
       "    </tr>\n",
       "    <tr>\n",
       "      <th>52</th>\n",
       "      <td>This whole election cycle has been a shitshow\\...</td>\n",
       "      <td>0</td>\n",
       "    </tr>\n",
       "    <tr>\n",
       "      <th>1</th>\n",
       "      <td>I keep thinking about kids. I'm bi cismale, se...</td>\n",
       "      <td>0</td>\n",
       "    </tr>\n",
       "  </tbody>\n",
       "</table>\n",
       "</div>"
      ],
      "text/plain": [
       "                                                  body  target\n",
       "28   I have been dating the same guy for 3.5 years....       0\n",
       "136  I hate every single thing about myself\\r\\n\\r\\n...       1\n",
       "51   I read a book of essays by parents of LGBT kid...       0\n",
       "52   This whole election cycle has been a shitshow\\...       0\n",
       "1    I keep thinking about kids. I'm bi cismale, se...       0"
      ]
     },
     "execution_count": 5,
     "metadata": {},
     "output_type": "execute_result"
    }
   ],
   "source": [
    "df = df[['body', 'target']]\n",
    "df = df.sample(frac = 1)\n",
    "df.head()"
   ]
  },
  {
   "cell_type": "code",
   "execution_count": 6,
   "id": "d8bc5ac4",
   "metadata": {},
   "outputs": [],
   "source": [
    "df.to_csv('dataset_undersample_s.csv')"
   ]
  },
  {
   "cell_type": "code",
   "execution_count": 7,
   "id": "66872179",
   "metadata": {
    "colab": {
     "base_uri": "https://localhost:8080/"
    },
    "id": "66872179",
    "outputId": "638705b5-6953-4217-f408-3dd8b459509a"
   },
   "outputs": [
    {
     "data": {
      "text/plain": [
       "(156, 2)"
      ]
     },
     "execution_count": 7,
     "metadata": {},
     "output_type": "execute_result"
    }
   ],
   "source": [
    "df.shape"
   ]
  },
  {
   "cell_type": "markdown",
   "id": "Pl0HBHll5yRE",
   "metadata": {
    "id": "Pl0HBHll5yRE"
   },
   "source": [
    "# Data Analysis"
   ]
  },
  {
   "cell_type": "code",
   "execution_count": 8,
   "id": "b51276ed",
   "metadata": {
    "colab": {
     "base_uri": "https://localhost:8080/"
    },
    "id": "b51276ed",
    "outputId": "c9e21612-753e-40cc-991b-c21d35db842d",
    "scrolled": true
   },
   "outputs": [
    {
     "data": {
      "text/plain": [
       "body      0\n",
       "target    0\n",
       "dtype: int64"
      ]
     },
     "execution_count": 8,
     "metadata": {},
     "output_type": "execute_result"
    }
   ],
   "source": [
    "df.isnull().sum()"
   ]
  },
  {
   "cell_type": "code",
   "execution_count": 9,
   "id": "71801f6a",
   "metadata": {},
   "outputs": [
    {
     "data": {
      "text/plain": [
       "28     0\n",
       "136    1\n",
       "51     0\n",
       "52     0\n",
       "1      0\n",
       "      ..\n",
       "112    1\n",
       "38     0\n",
       "90     1\n",
       "10     0\n",
       "137    1\n",
       "Name: target, Length: 156, dtype: int64"
      ]
     },
     "execution_count": 9,
     "metadata": {},
     "output_type": "execute_result"
    }
   ],
   "source": [
    "df[\"target\"]"
   ]
  },
  {
   "cell_type": "markdown",
   "id": "l_pUSStB6n4Y",
   "metadata": {
    "id": "l_pUSStB6n4Y"
   },
   "source": [
    "# Data Preprocessing"
   ]
  },
  {
   "cell_type": "code",
   "execution_count": 10,
   "id": "94d70868",
   "metadata": {
    "colab": {
     "base_uri": "https://localhost:8080/"
    },
    "id": "94d70868",
    "outputId": "3f1b548c-608a-4d61-dedf-ffcbc3cf86b7",
    "scrolled": true
   },
   "outputs": [],
   "source": [
    "from nltk.corpus import stopwords\n",
    "#nltk.download('stopwords')\n",
    "\n",
    "stopwords = stopwords.words('english')"
   ]
  },
  {
   "cell_type": "code",
   "execution_count": 11,
   "id": "b81aa9ea",
   "metadata": {
    "id": "b81aa9ea"
   },
   "outputs": [],
   "source": [
    "stemmer = nltk.PorterStemmer()"
   ]
  },
  {
   "cell_type": "code",
   "execution_count": 12,
   "id": "f3d8cea3",
   "metadata": {
    "colab": {
     "base_uri": "https://localhost:8080/"
    },
    "id": "f3d8cea3",
    "outputId": "26413a0c-1071-4e0c-8369-60a6a7a49455",
    "scrolled": true
   },
   "outputs": [],
   "source": [
    "from nltk.stem import WordNetLemmatizer\n",
    "#nltk.download('wordnet')\n",
    "#nltk.download('omw-1.4')\n",
    "\n",
    "lemmatizer = WordNetLemmatizer()"
   ]
  },
  {
   "cell_type": "code",
   "execution_count": 13,
   "id": "b4d57aa5",
   "metadata": {
    "id": "b4d57aa5"
   },
   "outputs": [],
   "source": [
    "def preprocess(text):\n",
    "    text = str(text).lower()\n",
    "    text = re.sub('https?://\\S+|www\\.\\S+', '', text)\n",
    "    text = re.sub('\\n|\\t', '', text)\n",
    "    text = re.sub('\\d', '', text) ##\n",
    "    text = re.sub(r'[^\\w\\s]', ' ', text) ##\n",
    "    text = [word for word in text.split() if word not in stopwords] \n",
    "    text = [stemmer.stem(word) for word in text]\n",
    "    \n",
    "    text = \" \".join(text)\n",
    "    \n",
    "    return text\n",
    "    "
   ]
  },
  {
   "cell_type": "code",
   "execution_count": 14,
   "id": "821bcadd",
   "metadata": {
    "id": "821bcadd",
    "scrolled": true
   },
   "outputs": [],
   "source": [
    "df['clean'] = df['body'].apply(preprocess)"
   ]
  },
  {
   "cell_type": "code",
   "execution_count": 15,
   "id": "0e8584c4",
   "metadata": {
    "colab": {
     "base_uri": "https://localhost:8080/"
    },
    "id": "0e8584c4",
    "outputId": "5f20d461-96ae-429a-d4bb-e70c17880b40",
    "scrolled": true
   },
   "outputs": [
    {
     "name": "stdout",
     "output_type": "stream",
     "text": [
      "Original Tweets: \n",
      "1118\n",
      "204\n",
      "Preprocessed comments: \n",
      "548\n",
      "92\n"
     ]
    }
   ],
   "source": [
    "avg_len = df['body'].str.len().mean()\n",
    "avg_word_count = df['body'].str.split().str.len().mean()\n",
    "\n",
    "print('Original Tweets: ')\n",
    "print(int(avg_len))\n",
    "print(int(avg_word_count))\n",
    "\n",
    "\n",
    "avg_clean_len = df['clean'].str.len().mean()\n",
    "avg_clean_word_count = df['clean'].str.split().str.len().mean()\n",
    "\n",
    "print('Preprocessed comments: ')\n",
    "print(int(avg_clean_len))\n",
    "print(int(avg_clean_word_count))\n"
   ]
  },
  {
   "cell_type": "code",
   "execution_count": 16,
   "id": "85bd1eb8",
   "metadata": {},
   "outputs": [
    {
     "data": {
      "text/plain": [
       "Text(0.5, 1.0, 'Avg length of comments')"
      ]
     },
     "execution_count": 16,
     "metadata": {},
     "output_type": "execute_result"
    },
    {
     "data": {
      "image/png": "[encoded data removed]",
      "text/plain": [
       "<Figure size 432x288 with 1 Axes>"
      ]
     },
     "metadata": {
      "needs_background": "light"
     },
     "output_type": "display_data"
    }
   ],
   "source": [
    "y = [129, 64]\n",
    "x  = ['before preprocessing', 'after preprocessing']\n",
    "\n",
    "plt.bar(x, y, color = ['pink', 'gray'])\n",
    "plt.title('Avg length of comments')"
   ]
  },
  {
   "cell_type": "code",
   "execution_count": 17,
   "id": "32fb2b68",
   "metadata": {},
   "outputs": [
    {
     "data": {
      "text/plain": [
       "Text(0.5, 1.0, 'Avg word count of comments')"
      ]
     },
     "execution_count": 17,
     "metadata": {},
     "output_type": "execute_result"
    },
    {
     "data": {
      "image/png": "[encoded data removed]",
      "text/plain": [
       "<Figure size 432x288 with 1 Axes>"
      ]
     },
     "metadata": {
      "needs_background": "light"
     },
     "output_type": "display_data"
    }
   ],
   "source": [
    "\n",
    "y = [23, 11]\n",
    "x  = ['before preprocessing', 'after preprocessing']\n",
    "\n",
    "plt.bar(x, y, color = ['pink', 'gray'])\n",
    "plt.title('Avg word count of comments')"
   ]
  },
  {
   "cell_type": "code",
   "execution_count": 18,
   "id": "0305c468",
   "metadata": {
    "id": "0305c468"
   },
   "outputs": [],
   "source": [
    "data = df[['clean']]"
   ]
  },
  {
   "cell_type": "code",
   "execution_count": 19,
   "id": "tV2hDlvsWcCS",
   "metadata": {
    "colab": {
     "base_uri": "https://localhost:8080/",
     "height": 206
    },
    "id": "tV2hDlvsWcCS",
    "outputId": "17a20827-820a-48ab-fde2-33ad82f14c8c"
   },
   "outputs": [
    {
     "data": {
      "text/html": [
       "<div>\n",
       "<style scoped>\n",
       "    .dataframe tbody tr th:only-of-type {\n",
       "        vertical-align: middle;\n",
       "    }\n",
       "\n",
       "    .dataframe tbody tr th {\n",
       "        vertical-align: top;\n",
       "    }\n",
       "\n",
       "    .dataframe thead th {\n",
       "        text-align: right;\n",
       "    }\n",
       "</style>\n",
       "<table border=\"1\" class=\"dataframe\">\n",
       "  <thead>\n",
       "    <tr style=\"text-align: right;\">\n",
       "      <th></th>\n",
       "      <th>clean</th>\n",
       "    </tr>\n",
       "  </thead>\n",
       "  <tbody>\n",
       "    <tr>\n",
       "      <th>28</th>\n",
       "      <td>date guy year first met marri woman addict clo...</td>\n",
       "    </tr>\n",
       "    <tr>\n",
       "      <th>136</th>\n",
       "      <td>hate everi singl thing need smash head hammer ...</td>\n",
       "    </tr>\n",
       "    <tr>\n",
       "      <th>51</th>\n",
       "      <td>read book essay parent lgbt kid one parent tal...</td>\n",
       "    </tr>\n",
       "    <tr>\n",
       "      <th>52</th>\n",
       "      <td>whole elect cycl shitshow complet utter fuck c...</td>\n",
       "    </tr>\n",
       "    <tr>\n",
       "      <th>1</th>\n",
       "      <td>keep think kid bi cismal see ace cisfemal hope...</td>\n",
       "    </tr>\n",
       "  </tbody>\n",
       "</table>\n",
       "</div>"
      ],
      "text/plain": [
       "                                                 clean\n",
       "28   date guy year first met marri woman addict clo...\n",
       "136  hate everi singl thing need smash head hammer ...\n",
       "51   read book essay parent lgbt kid one parent tal...\n",
       "52   whole elect cycl shitshow complet utter fuck c...\n",
       "1    keep think kid bi cismal see ace cisfemal hope..."
      ]
     },
     "execution_count": 19,
     "metadata": {},
     "output_type": "execute_result"
    }
   ],
   "source": [
    "data.head()"
   ]
  },
  {
   "cell_type": "code",
   "execution_count": 20,
   "id": "8c76f53b",
   "metadata": {},
   "outputs": [
    {
     "data": {
      "text/plain": [
       "28     0\n",
       "136    1\n",
       "51     0\n",
       "52     0\n",
       "1      0\n",
       "      ..\n",
       "112    1\n",
       "38     0\n",
       "90     1\n",
       "10     0\n",
       "137    1\n",
       "Name: target, Length: 156, dtype: int64"
      ]
     },
     "execution_count": 20,
     "metadata": {},
     "output_type": "execute_result"
    }
   ],
   "source": [
    "df[\"target\"]"
   ]
  },
  {
   "cell_type": "markdown",
   "id": "aHJFajoL8Xw6",
   "metadata": {
    "id": "aHJFajoL8Xw6"
   },
   "source": [
    "# Dataset splitting"
   ]
  },
  {
   "cell_type": "code",
   "execution_count": 21,
   "id": "28d6abc3",
   "metadata": {
    "colab": {
     "base_uri": "https://localhost:8080/"
    },
    "id": "28d6abc3",
    "outputId": "d28044fd-5818-4be6-e0b3-d07269a5dd72"
   },
   "outputs": [
    {
     "name": "stdout",
     "output_type": "stream",
     "text": [
      "(117,)\n",
      "(117,)\n",
      "(39,)\n",
      "(39,)\n"
     ]
    }
   ],
   "source": [
    "from sklearn.model_selection import train_test_split\n",
    "\n",
    "X1_train, X1_test, y1_train, y1_test = train_test_split(df['clean'], df['target'], test_size = 0.25, random_state = 0)\n",
    "#X1_train=df['clean'].head(117)\n",
    "#X1_test=df['clean'].tail(39)\n",
    "#y1_train=df['target'].head(117)\n",
    "#y1_test=df['target'].tail(39)\n",
    "print(X1_train.shape)\n",
    "print(y1_train.shape)\n",
    "print(X1_test.shape)\n",
    "print(y1_test.shape)\n"
   ]
  },
  {
   "cell_type": "code",
   "execution_count": 22,
   "id": "166a6b01",
   "metadata": {
    "colab": {
     "base_uri": "https://localhost:8080/"
    },
    "id": "166a6b01",
    "outputId": "bd3e3e33-e8aa-4b4c-ee92-d09711a6decc"
   },
   "outputs": [
    {
     "name": "stdout",
     "output_type": "stream",
     "text": [
      "(117,)\n",
      "(117,)\n",
      "(39,)\n",
      "(39,)\n"
     ]
    }
   ],
   "source": [
    "from sklearn.model_selection import train_test_split\n",
    "\n",
    "X2_train, X2_test, y2_train, y2_test = train_test_split(df['clean'], df['target'], test_size = 0.25, random_state = 0)\n",
    "#X2_train=df['clean'].head(117)\n",
    "#X2_test=df['clean'].tail(39)\n",
    "#y2_train=df['target'].head(117)\n",
    "#y2_test=df['target'].tail(39)\n",
    "print(X2_train.shape)\n",
    "print(y2_train.shape)\n",
    "print(X2_test.shape)\n",
    "print(y2_test.shape)\n"
   ]
  },
  {
   "cell_type": "markdown",
   "id": "HP4V6ys94onb",
   "metadata": {
    "id": "HP4V6ys94onb"
   },
   "source": [
    "# Vectorization"
   ]
  },
  {
   "cell_type": "code",
   "execution_count": 23,
   "id": "02450e86",
   "metadata": {
    "id": "02450e86"
   },
   "outputs": [],
   "source": [
    "from sklearn.feature_extraction.text import TfidfVectorizer, CountVectorizer\n",
    "import gensim"
   ]
  },
  {
   "cell_type": "code",
   "execution_count": 24,
   "id": "a83e58bb",
   "metadata": {
    "colab": {
     "base_uri": "https://localhost:8080/"
    },
    "id": "a83e58bb",
    "outputId": "ccbad5aa-21b7-4c52-dcfa-b0481a6b362c"
   },
   "outputs": [],
   "source": [
    "bow_vectorizer = CountVectorizer(max_df = 0.90, min_df=2, analyzer = 'word', ngram_range=(1,1), max_features = 659, stop_words='english')\n",
    "\n",
    "X1_train = bow_vectorizer.fit_transform(X1_train)\n",
    "X1_test = bow_vectorizer.transform(X1_test)\n"
   ]
  },
  {
   "cell_type": "code",
   "execution_count": 25,
   "id": "1d3205ad",
   "metadata": {
    "id": "1d3205ad"
   },
   "outputs": [
    {
     "data": {
      "text/plain": [
       "(117, 659)"
      ]
     },
     "execution_count": 25,
     "metadata": {},
     "output_type": "execute_result"
    }
   ],
   "source": [
    "tfidf_vectorizer = TfidfVectorizer(max_df = 0.90, min_df=2, max_features = 659, analyzer = 'word', ngram_range=(1,1), stop_words='english')\n",
    "\n",
    "X2_train = tfidf_vectorizer.fit_transform(X2_train)\n",
    "X2_test = tfidf_vectorizer.transform(X2_test)\n",
    "\n",
    "X2_train.shape"
   ]
  },
  {
   "cell_type": "markdown",
   "id": "P_ydA0J16FQa",
   "metadata": {
    "id": "P_ydA0J16FQa"
   },
   "source": [
    "# Model Training"
   ]
  },
  {
   "cell_type": "code",
   "execution_count": 26,
   "id": "6fa92031",
   "metadata": {},
   "outputs": [],
   "source": [
    "#Metrics\n",
    "from sklearn.metrics import make_scorer, accuracy_score, precision_score\n",
    "from sklearn.metrics import classification_report\n",
    "from sklearn.metrics import confusion_matrix\n",
    "from sklearn.metrics import accuracy_score ,precision_score,recall_score,f1_score\n",
    "\n",
    "#Model Select\n",
    "# from sklearn import cross_validation\n",
    "from sklearn.model_selection import cross_val_score\n",
    "from sklearn.model_selection import train_test_split\n",
    "from sklearn.neural_network import MLPClassifier\n",
    "from sklearn.ensemble import RandomForestClassifier\n",
    "from sklearn.naive_bayes import GaussianNB\n",
    "from sklearn.tree import DecisionTreeClassifier\n",
    "from sklearn.neighbors import KNeighborsClassifier\n",
    "from sklearn.svm import SVC, LinearSVC"
   ]
  },
  {
   "cell_type": "code",
   "execution_count": null,
   "id": "feeea5ba",
   "metadata": {},
   "outputs": [],
   "source": []
  },
  {
   "cell_type": "markdown",
   "id": "97b6f41e",
   "metadata": {},
   "source": [
    "# MLP"
   ]
  },
  {
   "cell_type": "code",
   "execution_count": 27,
   "id": "a2a520e9",
   "metadata": {},
   "outputs": [
    {
     "name": "stdout",
     "output_type": "stream",
     "text": [
      "The best parameters are {'activation': 'relu', 'alpha': 0.0001, 'hidden_layer_sizes': (10, 30, 10), 'learning_rate': 'constant', 'solver': 'adam'} with a score of 0.778\n"
     ]
    }
   ],
   "source": [
    "from sklearn.model_selection import GridSearchCV\n",
    "import numpy as np\n",
    "\n",
    "rf = MLPClassifier()\n",
    "batch_size = np.arange(10,100,10)\n",
    "learn_rate = np.arange(0.001,0.3)\n",
    "#epochs = [10, 50, 100]\n",
    "#param_grid = dict(batch_size=batch_size, learning_rate_init=learn_rate)\n",
    "parameter_space = {\n",
    "    'hidden_layer_sizes': [(10,30,10),(20,),(100,)],\n",
    "    'activation': ['tanh', 'relu'],\n",
    "    'solver': ['sgd', 'adam'],\n",
    "    'alpha': np.arange(0.0001,0.05),\n",
    "    'learning_rate': ['constant','adaptive'],\n",
    "}\n",
    "grid1 = GridSearchCV(rf, parameter_space, n_jobs=-1, cv=5)\n",
    "grid_result = grid1.fit(X1_train, y1_train)\n",
    "print(\"The best parameters are %s with a score of %0.3f\"\n",
    "      % (grid1.best_params_, grid1.best_score_))"
   ]
  },
  {
   "cell_type": "code",
   "execution_count": 28,
   "id": "495f4c8e",
   "metadata": {},
   "outputs": [],
   "source": [
    "#model1 = MLPClassifier(max_iter=500, activation='relu' ,batch_size=60, learning_rate_init=0.001)"
   ]
  },
  {
   "cell_type": "code",
   "execution_count": 29,
   "id": "e60c938a",
   "metadata": {},
   "outputs": [
    {
     "data": {
      "image/png": "[encoded data removed]",
      "text/plain": [
       "<Figure size 360x288 with 2 Axes>"
      ]
     },
     "metadata": {
      "needs_background": "light"
     },
     "output_type": "display_data"
    }
   ],
   "source": [
    "#model1.fit(X1_train, y1_train)  \n",
    "\n",
    "y1_pred = grid1.predict(X1_test)\n",
    "\n",
    "cm = confusion_matrix(y1_test, y1_pred)\n",
    "cm_df = pd.DataFrame(cm,\n",
    "                     index = [0,1], \n",
    "                     columns = [0,1])\n",
    "plt.figure(figsize=(5,4))\n",
    "sns.heatmap(cm_df, annot=True)\n",
    "plt.title('Confusion Matrix')\n",
    "plt.ylabel('Actal Values')\n",
    "plt.xlabel('Predicted Values')\n",
    "plt.show()\n",
    "#print(cm)"
   ]
  },
  {
   "cell_type": "code",
   "execution_count": 30,
   "id": "cf6111fa",
   "metadata": {},
   "outputs": [
    {
     "name": "stdout",
     "output_type": "stream",
     "text": [
      "[1 0 0 1 1 1 0 0 0 1 0 1 1 1 0 0 1 0 0 0 0 1 1 1 1 1 1 1 1 0 1 1 0 1 1 1 0\n",
      " 1 0]\n"
     ]
    }
   ],
   "source": [
    "print(y1_pred)"
   ]
  },
  {
   "cell_type": "code",
   "execution_count": 31,
   "id": "f47340ca",
   "metadata": {},
   "outputs": [
    {
     "name": "stdout",
     "output_type": "stream",
     "text": [
      "              precision    recall  f1-score   support\n",
      "\n",
      "           0       0.62      0.56      0.59        18\n",
      "           1       0.65      0.71      0.68        21\n",
      "\n",
      "    accuracy                           0.64        39\n",
      "   macro avg       0.64      0.63      0.64        39\n",
      "weighted avg       0.64      0.64      0.64        39\n",
      "\n"
     ]
    }
   ],
   "source": [
    "print(classification_report(y1_test, y1_pred))"
   ]
  },
  {
   "cell_type": "code",
   "execution_count": 32,
   "id": "b593b48e",
   "metadata": {},
   "outputs": [],
   "source": [
    "import numpy as np\n",
    "import matplotlib.pyplot as plt\n",
    "from itertools import cycle\n",
    "\n",
    "from sklearn import svm, datasets\n",
    "from sklearn.metrics import roc_curve, auc\n",
    "from sklearn.model_selection import train_test_split\n",
    "from sklearn.preprocessing import label_binarize\n",
    "from sklearn.multiclass import OneVsRestClassifier\n",
    "from sklearn.metrics import roc_auc_score\n",
    "\n",
    "#from utils.plot_ROC_Curve import plot_roc_pr\n",
    "\n",
    "#plot_roc_pr(y_pred = y1_pred, y_test = y1_test)\n"
   ]
  },
  {
   "cell_type": "code",
   "execution_count": 33,
   "id": "e54f2209",
   "metadata": {},
   "outputs": [],
   "source": [
    "#!pip install scikit-plot\n",
    "from scikitplot.estimators import plot_feature_importances\n",
    "from scikitplot.metrics import plot_confusion_matrix, plot_roc\n",
    "import scikitplot as skplt\n",
    "import matplotlib.pyplot as plt"
   ]
  },
  {
   "cell_type": "code",
   "execution_count": 34,
   "id": "abbc3cde",
   "metadata": {},
   "outputs": [
    {
     "name": "stdout",
     "output_type": "stream",
     "text": [
      "[9.99999840e-01 2.52697135e-04 1.54586460e-01 9.99941421e-01\n",
      " 9.05133263e-01 9.99146055e-01 1.96400929e-03 8.54392953e-05\n",
      " 1.40991131e-01 9.99706812e-01 5.19753272e-05 9.97238818e-01\n",
      " 9.76430156e-01 9.38466807e-01 3.90922905e-02 2.05023867e-01\n",
      " 8.21064574e-01 8.60384655e-04 1.15497762e-01 1.07415028e-04\n",
      " 3.10058606e-01 9.66209585e-01 9.99997473e-01 9.79461794e-01\n",
      " 9.99769598e-01 9.94708105e-01 9.93129840e-01 9.99388526e-01\n",
      " 9.88536962e-01 2.09858895e-06 8.80353926e-01 9.96927169e-01\n",
      " 1.07415028e-04 9.49840463e-01 9.15765685e-01 8.38881126e-01\n",
      " 8.43588059e-02 9.99098403e-01 5.82654574e-02]\n"
     ]
    },
    {
     "data": {
      "image/png": "[encoded data removed]",
      "text/plain": [
       "<Figure size 432x288 with 1 Axes>"
      ]
     },
     "metadata": {
      "needs_background": "light"
     },
     "output_type": "display_data"
    },
    {
     "data": {
      "image/png": "[encoded data removed]",
      "text/plain": [
       "<Figure size 792x576 with 1 Axes>"
      ]
     },
     "metadata": {},
     "output_type": "display_data"
    },
    {
     "data": {
      "text/plain": [
       "<ggplot: (100782847419)>"
      ]
     },
     "execution_count": 34,
     "metadata": {},
     "output_type": "execute_result"
    }
   ],
   "source": [
    "import sklearn.metrics as metrics\n",
    "# calculate the fpr and tpr for all thresholds of the classification\n",
    "probs = grid1.predict_proba(X1_test)\n",
    "#print(probs)\n",
    "preds = probs[:,1]\n",
    "print(preds)\n",
    "fpr, tpr, threshold = metrics.roc_curve(y1_test, preds)\n",
    "roc_auc = metrics.auc(fpr, tpr)\n",
    "\n",
    "# method I: plt\n",
    "import matplotlib.pyplot as plt\n",
    "plt.title('Receiver Operating Characteristic')\n",
    "plt.plot(fpr, tpr, 'b', label = 'AUC = %0.3f' % roc_auc)\n",
    "plt.legend(loc = 'lower right')\n",
    "plt.plot([0, 1], [0, 1],'r--')\n",
    "plt.xlim([0, 1])\n",
    "plt.ylim([0, 1])\n",
    "plt.ylabel('True Positive Rate')\n",
    "plt.xlabel('False Positive Rate')\n",
    "plt.show()\n",
    "\n",
    "# method II: ggplot\n",
    "from ggplot import *\n",
    "df = pd.DataFrame(dict(fpr = fpr, tpr = tpr))\n",
    "ggplot(df, aes(x = 'fpr', y = 'tpr')) + geom_line() + geom_abline(linetype = 'dashed')"
   ]
  },
  {
   "cell_type": "code",
   "execution_count": 35,
   "id": "88e5231c",
   "metadata": {},
   "outputs": [
    {
     "name": "stdout",
     "output_type": "stream",
     "text": [
      "balanced_accuracy 0.6349206349206349\n"
     ]
    }
   ],
   "source": [
    "from sklearn.metrics import balanced_accuracy_score\n",
    "\n",
    "print(\"balanced_accuracy\", balanced_accuracy_score(y1_test, y1_pred))"
   ]
  },
  {
   "cell_type": "code",
   "execution_count": 36,
   "id": "6e73f828",
   "metadata": {},
   "outputs": [
    {
     "name": "stdout",
     "output_type": "stream",
     "text": [
      "Model1: f1=0.682 auc=0.814\n"
     ]
    },
    {
     "data": {
      "image/png": "[encoded data removed]",
      "text/plain": [
       "<Figure size 432x288 with 1 Axes>"
      ]
     },
     "metadata": {
      "needs_background": "light"
     },
     "output_type": "display_data"
    }
   ],
   "source": [
    "# precision-recall curve and f1\n",
    "from sklearn.datasets import make_classification\n",
    "from sklearn.linear_model import LogisticRegression\n",
    "from sklearn.model_selection import train_test_split\n",
    "from sklearn.metrics import precision_recall_curve\n",
    "from sklearn.metrics import f1_score\n",
    "from sklearn.metrics import auc\n",
    "from matplotlib import pyplot\n",
    "lr_probs = grid1.predict_proba(X1_test)\n",
    "# keep probabilities for the positive outcome only\n",
    "lr_probs = lr_probs[:, 1]\n",
    "# predict class values\n",
    "yhat = grid1.predict(X1_test)\n",
    "lr_precision, lr_recall, _ = precision_recall_curve(y1_test, lr_probs)\n",
    "lr_f1, lr_auc = f1_score(y1_test, yhat), auc(lr_recall, lr_precision)\n",
    "# summarize scores\n",
    "print('Model1: f1=%.3f auc=%.3f' % (lr_f1, lr_auc))\n",
    "# plot the precision-recall curves\n",
    "no_skill = len(y1_test[y1_test==1]) / len(y1_test)\n",
    "pyplot.plot([0, 1], [no_skill, no_skill], linestyle='--', label='No Skill')\n",
    "pyplot.plot(lr_recall, lr_precision, marker='.', label='MLP')\n",
    "# axis labels\n",
    "pyplot.xlabel('Recall')\n",
    "pyplot.ylabel('Precision')\n",
    "# show the legend\n",
    "pyplot.legend()\n",
    "# show the plot\n",
    "pyplot.show()"
   ]
  },
  {
   "cell_type": "code",
   "execution_count": 37,
   "id": "cd215637",
   "metadata": {},
   "outputs": [
    {
     "name": "stderr",
     "output_type": "stream",
     "text": [
      "C:\\Users\\siagu\\AppData\\Roaming\\Python\\Python39\\site-packages\\sklearn\\neural_network\\_multilayer_perceptron.py:692: ConvergenceWarning: Stochastic Optimizer: Maximum iterations (200) reached and the optimization hasn't converged yet.\n",
      "  warnings.warn(\n"
     ]
    },
    {
     "data": {
      "image/png": "[encoded data removed]",
      "text/plain": [
       "<Figure size 360x288 with 2 Axes>"
      ]
     },
     "metadata": {
      "needs_background": "light"
     },
     "output_type": "display_data"
    }
   ],
   "source": [
    "grid1.fit(X2_train, y2_train)\n",
    "y2_pred = grid1.predict(X2_test)\n",
    "#grid1.fit(X2_train, y2_train)\n",
    "\n",
    "y2_pred = grid1.predict(X2_test)\n",
    "\n",
    "cm = confusion_matrix(y2_test, y2_pred)\n",
    "\n",
    "#print(cm)\n",
    "cm_df = pd.DataFrame(cm,\n",
    "                     index = [0,1], \n",
    "                     columns = [0,1])\n",
    "plt.figure(figsize=(5,4))\n",
    "sns.heatmap(cm_df, annot=True)\n",
    "plt.title('Confusion Matrix')\n",
    "plt.ylabel('Actal Values')\n",
    "plt.xlabel('Predicted Values')\n",
    "plt.show()"
   ]
  },
  {
   "cell_type": "code",
   "execution_count": 38,
   "id": "474e7b52",
   "metadata": {},
   "outputs": [
    {
     "name": "stdout",
     "output_type": "stream",
     "text": [
      "[1 0 0 1 1 1 0 0 0 1 0 1 1 1 0 0 1 0 0 0 1 1 1 1 1 1 1 1 1 0 1 1 0 1 1 1 0\n",
      " 1 0]\n"
     ]
    }
   ],
   "source": [
    "print(y2_pred)"
   ]
  },
  {
   "cell_type": "code",
   "execution_count": 39,
   "id": "367bb6e9",
   "metadata": {},
   "outputs": [
    {
     "name": "stdout",
     "output_type": "stream",
     "text": [
      "              precision    recall  f1-score   support\n",
      "\n",
      "           0       0.67      0.56      0.61        18\n",
      "           1       0.67      0.76      0.71        21\n",
      "\n",
      "    accuracy                           0.67        39\n",
      "   macro avg       0.67      0.66      0.66        39\n",
      "weighted avg       0.67      0.67      0.66        39\n",
      "\n"
     ]
    }
   ],
   "source": [
    "print(classification_report(y2_test, y2_pred))"
   ]
  },
  {
   "cell_type": "code",
   "execution_count": 40,
   "id": "149fba50",
   "metadata": {},
   "outputs": [
    {
     "data": {
      "image/png": "[encoded data removed]",
      "text/plain": [
       "<Figure size 432x288 with 1 Axes>"
      ]
     },
     "metadata": {
      "needs_background": "light"
     },
     "output_type": "display_data"
    },
    {
     "data": {
      "image/png": "[encoded data removed]",
      "text/plain": [
       "<Figure size 792x576 with 1 Axes>"
      ]
     },
     "metadata": {},
     "output_type": "display_data"
    },
    {
     "data": {
      "text/plain": [
       "<ggplot: (100787775669)>"
      ]
     },
     "execution_count": 40,
     "metadata": {},
     "output_type": "execute_result"
    }
   ],
   "source": [
    "import sklearn.metrics as metrics\n",
    "# calculate the fpr and tpr for all thresholds of the classification\n",
    "probs = grid1.predict_proba(X2_test)\n",
    "preds = probs[:,1]\n",
    "fpr, tpr, threshold = metrics.roc_curve(y2_test, preds)\n",
    "roc_auc = metrics.auc(fpr, tpr)\n",
    "\n",
    "# method I: plt\n",
    "import matplotlib.pyplot as plt\n",
    "plt.title('Receiver Operating Characteristic')\n",
    "plt.plot(fpr, tpr, 'b', label = 'AUC = %0.3f' % roc_auc)\n",
    "plt.legend(loc = 'lower right')\n",
    "plt.plot([0, 1], [0, 1],'r--')\n",
    "plt.xlim([0, 1])\n",
    "plt.ylim([0, 1])\n",
    "plt.ylabel('True Positive Rate')\n",
    "plt.xlabel('False Positive Rate')\n",
    "plt.show()\n",
    "\n",
    "# method II: ggplot\n",
    "from ggplot import *\n",
    "df = pd.DataFrame(dict(fpr = fpr, tpr = tpr))\n",
    "ggplot(df, aes(x = 'fpr', y = 'tpr')) + geom_line() + geom_abline(linetype = 'dashed')"
   ]
  },
  {
   "cell_type": "code",
   "execution_count": 41,
   "id": "c6e0f034",
   "metadata": {},
   "outputs": [
    {
     "name": "stdout",
     "output_type": "stream",
     "text": [
      "balanced_accuracy 0.6587301587301587\n"
     ]
    }
   ],
   "source": [
    "print(\"balanced_accuracy\", balanced_accuracy_score(y2_test, y2_pred))"
   ]
  },
  {
   "cell_type": "code",
   "execution_count": 42,
   "id": "89d8d7c4",
   "metadata": {},
   "outputs": [
    {
     "name": "stdout",
     "output_type": "stream",
     "text": [
      "Model1: f1=0.711 auc=0.612\n"
     ]
    },
    {
     "data": {
      "image/png": "[encoded data removed]",
      "text/plain": [
       "<Figure size 432x288 with 1 Axes>"
      ]
     },
     "metadata": {
      "needs_background": "light"
     },
     "output_type": "display_data"
    }
   ],
   "source": [
    "# precision-recall curve and f1\n",
    "from sklearn.datasets import make_classification\n",
    "from sklearn.linear_model import LogisticRegression\n",
    "from sklearn.model_selection import train_test_split\n",
    "from sklearn.metrics import precision_recall_curve\n",
    "from sklearn.metrics import f1_score\n",
    "from sklearn.metrics import auc\n",
    "from matplotlib import pyplot\n",
    "lr_probs = grid1.predict_proba(X2_test)\n",
    "# keep probabilities for the positive outcome only\n",
    "lr_probs = lr_probs[:, 1]\n",
    "# predict class values\n",
    "yhat = grid1.predict(X2_test)\n",
    "lr_precision, lr_recall, _ = precision_recall_curve(y2_test, lr_probs)\n",
    "lr_f1, lr_auc = f1_score(y2_test, yhat), auc(lr_recall, lr_precision)\n",
    "# summarize scores\n",
    "print('Model1: f1=%.3f auc=%.3f' % (lr_f1, lr_auc))\n",
    "# plot the precision-recall curves\n",
    "no_skill = len(y2_test[y2_test==1]) / len(y2_test)\n",
    "pyplot.plot([0, 1], [no_skill, no_skill], linestyle='--', label='No Skill')\n",
    "pyplot.plot(lr_recall, lr_precision, marker='.', label='MLP')\n",
    "# axis labels\n",
    "pyplot.xlabel('Recall')\n",
    "pyplot.ylabel('Precision')\n",
    "# show the legend\n",
    "pyplot.legend()\n",
    "# show the plot\n",
    "pyplot.show()"
   ]
  },
  {
   "cell_type": "markdown",
   "id": "d120f69d",
   "metadata": {},
   "source": [
    "# Random forest"
   ]
  },
  {
   "cell_type": "code",
   "execution_count": 43,
   "id": "620e70b5",
   "metadata": {},
   "outputs": [
    {
     "name": "stderr",
     "output_type": "stream",
     "text": [
      "C:\\Users\\siagu\\AppData\\Roaming\\Python\\Python39\\site-packages\\sklearn\\model_selection\\_validation.py:372: FitFailedWarning: \n",
      "500 fits failed out of a total of 1500.\n",
      "The score on these train-test partitions for these parameters will be set to nan.\n",
      "If these failures are not expected, you can try to debug them by setting error_score='raise'.\n",
      "\n",
      "Below are more details about the failures:\n",
      "--------------------------------------------------------------------------------\n",
      "500 fits failed with the following error:\n",
      "Traceback (most recent call last):\n",
      "  File \"C:\\Users\\siagu\\AppData\\Roaming\\Python\\Python39\\site-packages\\sklearn\\model_selection\\_validation.py\", line 680, in _fit_and_score\n",
      "    estimator.fit(X_train, y_train, **fit_params)\n",
      "  File \"C:\\Users\\siagu\\AppData\\Roaming\\Python\\Python39\\site-packages\\sklearn\\ensemble\\_forest.py\", line 450, in fit\n",
      "    trees = Parallel(\n",
      "  File \"C:\\Users\\siagu\\anaconda3\\lib\\site-packages\\joblib\\parallel.py\", line 1043, in __call__\n",
      "    if self.dispatch_one_batch(iterator):\n",
      "  File \"C:\\Users\\siagu\\anaconda3\\lib\\site-packages\\joblib\\parallel.py\", line 861, in dispatch_one_batch\n",
      "    self._dispatch(tasks)\n",
      "  File \"C:\\Users\\siagu\\anaconda3\\lib\\site-packages\\joblib\\parallel.py\", line 779, in _dispatch\n",
      "    job = self._backend.apply_async(batch, callback=cb)\n",
      "  File \"C:\\Users\\siagu\\anaconda3\\lib\\site-packages\\joblib\\_parallel_backends.py\", line 208, in apply_async\n",
      "    result = ImmediateResult(func)\n",
      "  File \"C:\\Users\\siagu\\anaconda3\\lib\\site-packages\\joblib\\_parallel_backends.py\", line 572, in __init__\n",
      "    self.results = batch()\n",
      "  File \"C:\\Users\\siagu\\anaconda3\\lib\\site-packages\\joblib\\parallel.py\", line 262, in __call__\n",
      "    return [func(*args, **kwargs)\n",
      "  File \"C:\\Users\\siagu\\anaconda3\\lib\\site-packages\\joblib\\parallel.py\", line 262, in <listcomp>\n",
      "    return [func(*args, **kwargs)\n",
      "  File \"C:\\Users\\siagu\\AppData\\Roaming\\Python\\Python39\\site-packages\\sklearn\\utils\\fixes.py\", line 216, in __call__\n",
      "    return self.function(*args, **kwargs)\n",
      "  File \"C:\\Users\\siagu\\AppData\\Roaming\\Python\\Python39\\site-packages\\sklearn\\ensemble\\_forest.py\", line 185, in _parallel_build_trees\n",
      "    tree.fit(X, y, sample_weight=curr_sample_weight, check_input=False)\n",
      "  File \"C:\\Users\\siagu\\AppData\\Roaming\\Python\\Python39\\site-packages\\sklearn\\tree\\_classes.py\", line 937, in fit\n",
      "    super().fit(\n",
      "  File \"C:\\Users\\siagu\\AppData\\Roaming\\Python\\Python39\\site-packages\\sklearn\\tree\\_classes.py\", line 352, in fit\n",
      "    criterion = CRITERIA_CLF[self.criterion](\n",
      "KeyError: 'log_loss'\n",
      "\n",
      "  warnings.warn(some_fits_failed_message, FitFailedWarning)\n",
      "C:\\Users\\siagu\\AppData\\Roaming\\Python\\Python39\\site-packages\\sklearn\\model_selection\\_search.py:969: UserWarning: One or more of the test scores are non-finite: [0.65       0.70036232 0.72753623 0.71847826 0.71630435 0.70108696\n",
      " 0.7692029  0.70144928 0.70978261 0.67536232 0.7442029  0.68369565\n",
      " 0.74347826 0.70905797 0.72717391 0.70978261 0.72644928 0.73514493\n",
      " 0.73514493 0.76123188 0.72608696 0.68297101 0.73550725 0.70978261\n",
      " 0.72717391 0.7442029  0.67536232 0.71811594 0.69202899 0.70108696\n",
      " 0.68369565 0.71847826 0.69275362 0.73478261 0.71775362 0.73586957\n",
      " 0.74384058 0.72717391 0.73586957 0.75253623 0.70036232 0.76086957\n",
      " 0.68369565 0.68442029 0.72717391 0.72644928 0.77028986 0.73586957\n",
      " 0.71050725 0.73550725 0.74384058 0.76050725 0.7173913  0.72681159\n",
      " 0.76992754 0.70108696 0.71847826 0.76123188 0.75289855 0.75217391\n",
      " 0.6326087  0.72681159 0.69275362 0.69202899 0.69275362 0.73478261\n",
      " 0.65036232 0.75253623 0.75289855 0.73623188 0.70869565 0.71811594\n",
      " 0.7442029  0.7442029  0.70144928 0.71050725 0.72717391 0.72644928\n",
      " 0.71050725 0.71050725 0.65797101 0.73550725 0.68442029 0.68369565\n",
      " 0.69166667 0.69275362 0.73514493 0.72644928 0.72644928 0.7442029\n",
      " 0.7442029  0.72681159 0.73478261 0.71775362 0.71014493 0.77028986\n",
      " 0.74456522 0.7442029  0.73550725 0.71847826 0.68369565 0.68369565\n",
      " 0.71702899 0.68405797 0.70144928 0.75217391 0.69202899 0.70181159\n",
      " 0.74384058 0.74384058 0.70978261 0.74384058 0.75253623 0.75217391\n",
      " 0.69202899 0.76884058 0.7692029  0.72681159 0.76956522 0.71847826\n",
      " 0.62427536 0.72789855 0.76050725 0.67536232 0.75181159 0.69311594\n",
      " 0.76086957 0.75181159 0.7442029  0.71811594 0.74384058 0.73442029\n",
      " 0.72681159 0.70942029 0.74384058 0.7615942  0.72717391 0.75253623\n",
      " 0.72681159 0.74456522 0.70036232 0.63297101 0.73514493 0.69202899\n",
      " 0.72717391 0.72644928 0.76086957 0.70217391 0.74384058 0.74384058\n",
      " 0.71884058 0.76123188 0.73586957 0.71811594 0.70181159 0.74456522\n",
      " 0.72644928 0.73550725 0.73550725 0.76956522 0.68369565 0.73550725\n",
      " 0.71014493 0.68405797 0.72572464 0.74347826 0.71811594 0.68369565\n",
      " 0.73550725 0.69202899 0.73550725 0.7442029  0.70072464 0.73478261\n",
      " 0.74456522 0.71884058 0.73586957 0.7442029  0.75253623 0.73550725\n",
      " 0.67644928 0.72644928 0.73514493 0.70978261 0.74347826 0.73623188\n",
      " 0.7615942  0.75326087 0.6923913  0.70072464 0.75181159 0.71014493\n",
      " 0.76123188 0.70144928 0.76123188 0.6923913  0.7192029  0.72644928\n",
      " 0.74384058 0.73586957        nan        nan        nan        nan\n",
      "        nan        nan        nan        nan        nan        nan\n",
      "        nan        nan        nan        nan        nan        nan\n",
      "        nan        nan        nan        nan        nan        nan\n",
      "        nan        nan        nan        nan        nan        nan\n",
      "        nan        nan        nan        nan        nan        nan\n",
      "        nan        nan        nan        nan        nan        nan\n",
      "        nan        nan        nan        nan        nan        nan\n",
      "        nan        nan        nan        nan        nan        nan\n",
      "        nan        nan        nan        nan        nan        nan\n",
      "        nan        nan        nan        nan        nan        nan\n",
      "        nan        nan        nan        nan        nan        nan\n",
      "        nan        nan        nan        nan        nan        nan\n",
      "        nan        nan        nan        nan        nan        nan\n",
      "        nan        nan        nan        nan        nan        nan\n",
      "        nan        nan        nan        nan        nan        nan\n",
      "        nan        nan        nan        nan        nan        nan]\n",
      "  warnings.warn(\n"
     ]
    },
    {
     "name": "stdout",
     "output_type": "stream",
     "text": [
      "The best parameters are {'criterion': 'gini', 'max_features': 3, 'min_samples_split': 0.1, 'n_estimators': 70} with a score of 0.77\n"
     ]
    }
   ],
   "source": [
    "from sklearn.model_selection import GridSearchCV\n",
    "import numpy as np\n",
    "\n",
    "max_features_range = np.arange(1,6,1)\n",
    "n_estimators_range = np.arange(10,210,10)\n",
    "#n_depth_range = np.arange(1,32)\n",
    "min_samples_split=np.arange(0.1,1.0)\n",
    "criterion=['gini', 'entropy', 'log_loss']\n",
    "param_grid = dict(max_features=max_features_range, n_estimators=n_estimators_range,min_samples_split=min_samples_split,criterion=criterion)\n",
    "\n",
    "rf = RandomForestClassifier()\n",
    "\n",
    "grid2 = GridSearchCV(estimator=rf, param_grid=param_grid, cv=5)\n",
    "grid2.fit(X1_train, y1_train)\n",
    "print(\"The best parameters are %s with a score of %0.2f\"\n",
    "      % (grid2.best_params_, grid2.best_score_))"
   ]
  },
  {
   "cell_type": "code",
   "execution_count": 44,
   "id": "0a21dbd0",
   "metadata": {},
   "outputs": [],
   "source": [
    "#model2 = RandomForestClassifier(n_estimators=50, max_features=5)"
   ]
  },
  {
   "cell_type": "code",
   "execution_count": 45,
   "id": "83e775db",
   "metadata": {},
   "outputs": [
    {
     "name": "stderr",
     "output_type": "stream",
     "text": [
      "C:\\Users\\siagu\\AppData\\Roaming\\Python\\Python39\\site-packages\\sklearn\\model_selection\\_validation.py:372: FitFailedWarning: \n",
      "500 fits failed out of a total of 1500.\n",
      "The score on these train-test partitions for these parameters will be set to nan.\n",
      "If these failures are not expected, you can try to debug them by setting error_score='raise'.\n",
      "\n",
      "Below are more details about the failures:\n",
      "--------------------------------------------------------------------------------\n",
      "500 fits failed with the following error:\n",
      "Traceback (most recent call last):\n",
      "  File \"C:\\Users\\siagu\\AppData\\Roaming\\Python\\Python39\\site-packages\\sklearn\\model_selection\\_validation.py\", line 680, in _fit_and_score\n",
      "    estimator.fit(X_train, y_train, **fit_params)\n",
      "  File \"C:\\Users\\siagu\\AppData\\Roaming\\Python\\Python39\\site-packages\\sklearn\\ensemble\\_forest.py\", line 450, in fit\n",
      "    trees = Parallel(\n",
      "  File \"C:\\Users\\siagu\\anaconda3\\lib\\site-packages\\joblib\\parallel.py\", line 1043, in __call__\n",
      "    if self.dispatch_one_batch(iterator):\n",
      "  File \"C:\\Users\\siagu\\anaconda3\\lib\\site-packages\\joblib\\parallel.py\", line 861, in dispatch_one_batch\n",
      "    self._dispatch(tasks)\n",
      "  File \"C:\\Users\\siagu\\anaconda3\\lib\\site-packages\\joblib\\parallel.py\", line 779, in _dispatch\n",
      "    job = self._backend.apply_async(batch, callback=cb)\n",
      "  File \"C:\\Users\\siagu\\anaconda3\\lib\\site-packages\\joblib\\_parallel_backends.py\", line 208, in apply_async\n",
      "    result = ImmediateResult(func)\n",
      "  File \"C:\\Users\\siagu\\anaconda3\\lib\\site-packages\\joblib\\_parallel_backends.py\", line 572, in __init__\n",
      "    self.results = batch()\n",
      "  File \"C:\\Users\\siagu\\anaconda3\\lib\\site-packages\\joblib\\parallel.py\", line 262, in __call__\n",
      "    return [func(*args, **kwargs)\n",
      "  File \"C:\\Users\\siagu\\anaconda3\\lib\\site-packages\\joblib\\parallel.py\", line 262, in <listcomp>\n",
      "    return [func(*args, **kwargs)\n",
      "  File \"C:\\Users\\siagu\\AppData\\Roaming\\Python\\Python39\\site-packages\\sklearn\\utils\\fixes.py\", line 216, in __call__\n",
      "    return self.function(*args, **kwargs)\n",
      "  File \"C:\\Users\\siagu\\AppData\\Roaming\\Python\\Python39\\site-packages\\sklearn\\ensemble\\_forest.py\", line 185, in _parallel_build_trees\n",
      "    tree.fit(X, y, sample_weight=curr_sample_weight, check_input=False)\n",
      "  File \"C:\\Users\\siagu\\AppData\\Roaming\\Python\\Python39\\site-packages\\sklearn\\tree\\_classes.py\", line 937, in fit\n",
      "    super().fit(\n",
      "  File \"C:\\Users\\siagu\\AppData\\Roaming\\Python\\Python39\\site-packages\\sklearn\\tree\\_classes.py\", line 352, in fit\n",
      "    criterion = CRITERIA_CLF[self.criterion](\n",
      "KeyError: 'log_loss'\n",
      "\n",
      "  warnings.warn(some_fits_failed_message, FitFailedWarning)\n",
      "C:\\Users\\siagu\\AppData\\Roaming\\Python\\Python39\\site-packages\\sklearn\\model_selection\\_search.py:969: UserWarning: One or more of the test scores are non-finite: [0.6673913  0.6923913  0.67572464 0.66666667 0.69311594 0.76956522\n",
      " 0.67572464 0.72717391 0.73514493 0.72681159 0.72608696 0.66666667\n",
      " 0.74311594 0.70108696 0.74384058 0.73550725 0.72717391 0.66702899\n",
      " 0.75289855 0.73514493 0.65797101 0.73550725 0.68623188 0.70869565\n",
      " 0.73514493 0.6923913  0.72826087 0.70905797 0.71811594 0.71884058\n",
      " 0.75253623 0.70217391 0.73586957 0.70905797 0.73514493 0.68333333\n",
      " 0.75326087 0.78695652 0.75217391 0.71811594 0.70108696 0.72572464\n",
      " 0.68369565 0.67427536 0.73478261 0.68442029 0.73550725 0.76123188\n",
      " 0.72717391 0.74347826 0.7442029  0.7442029  0.76086957 0.77862319\n",
      " 0.76123188 0.71014493 0.71014493 0.72717391 0.73550725 0.71847826\n",
      " 0.63224638 0.71847826 0.69311594 0.71884058 0.75217391 0.70036232\n",
      " 0.73586957 0.70108696 0.71014493 0.72608696 0.73586957 0.70217391\n",
      " 0.72717391 0.69311594 0.73586957 0.74384058 0.72608696 0.70072464\n",
      " 0.71884058 0.76195652 0.70978261 0.70072464 0.70144928 0.76123188\n",
      " 0.7615942  0.68442029 0.75253623 0.72681159 0.73478261 0.7442029\n",
      " 0.70978261 0.71847826 0.71014493 0.7442029  0.69347826 0.75253623\n",
      " 0.7442029  0.71050725 0.72717391 0.70144928 0.74275362 0.70905797\n",
      " 0.75108696 0.75289855 0.73514493 0.68369565 0.72717391 0.72681159\n",
      " 0.73623188 0.71014493 0.6923913  0.70905797 0.70978261 0.77789855\n",
      " 0.75181159 0.76956522 0.73586957 0.75253623 0.72681159 0.75217391\n",
      " 0.68478261 0.71775362 0.68478261 0.76086957 0.70905797 0.70942029\n",
      " 0.77028986 0.7442029  0.75181159 0.71884058 0.73586957 0.70036232\n",
      " 0.70905797 0.70942029 0.71811594 0.80362319 0.70942029 0.76050725\n",
      " 0.70108696 0.73514493 0.70797101 0.69347826 0.67572464 0.70978261\n",
      " 0.73514493 0.7692029  0.75144928 0.76992754 0.70833333 0.75362319\n",
      " 0.70181159 0.71847826 0.73514493 0.72681159 0.71884058 0.72644928\n",
      " 0.72644928 0.76956522 0.7442029  0.7442029  0.67536232 0.71884058\n",
      " 0.68333333 0.7442029  0.70108696 0.69275362 0.70905797 0.70978261\n",
      " 0.70942029 0.74456522 0.75217391 0.68369565 0.71811594 0.70144928\n",
      " 0.75289855 0.71884058 0.72753623 0.75217391 0.73586957 0.76086957\n",
      " 0.70869565 0.67608696 0.70942029 0.72717391 0.7192029  0.69166667\n",
      " 0.72753623 0.69202899 0.71811594 0.71847826 0.71884058 0.74347826\n",
      " 0.72789855 0.74456522 0.72717391 0.76123188 0.72681159 0.68405797\n",
      " 0.72717391 0.73586957        nan        nan        nan        nan\n",
      "        nan        nan        nan        nan        nan        nan\n",
      "        nan        nan        nan        nan        nan        nan\n",
      "        nan        nan        nan        nan        nan        nan\n",
      "        nan        nan        nan        nan        nan        nan\n",
      "        nan        nan        nan        nan        nan        nan\n",
      "        nan        nan        nan        nan        nan        nan\n",
      "        nan        nan        nan        nan        nan        nan\n",
      "        nan        nan        nan        nan        nan        nan\n",
      "        nan        nan        nan        nan        nan        nan\n",
      "        nan        nan        nan        nan        nan        nan\n",
      "        nan        nan        nan        nan        nan        nan\n",
      "        nan        nan        nan        nan        nan        nan\n",
      "        nan        nan        nan        nan        nan        nan\n",
      "        nan        nan        nan        nan        nan        nan\n",
      "        nan        nan        nan        nan        nan        nan\n",
      "        nan        nan        nan        nan        nan        nan]\n",
      "  warnings.warn(\n"
     ]
    },
    {
     "data": {
      "image/png": "[encoded data removed]",
      "text/plain": [
       "<Figure size 360x288 with 2 Axes>"
      ]
     },
     "metadata": {
      "needs_background": "light"
     },
     "output_type": "display_data"
    }
   ],
   "source": [
    "grid2.fit(X1_train, y1_train)  \n",
    "\n",
    "y1_pred = grid2.predict(X1_test)\n",
    "\n",
    "cm = confusion_matrix(y1_test, y1_pred)\n",
    "cm_df = pd.DataFrame(cm,\n",
    "                     index = [0,1], \n",
    "                     columns = [0,1])\n",
    "plt.figure(figsize=(5,4))\n",
    "sns.heatmap(cm_df, annot=True)\n",
    "plt.title('Confusion Matrix')\n",
    "plt.ylabel('Actal Values')\n",
    "plt.xlabel('Predicted Values')\n",
    "plt.show()\n",
    "#print(cm)\n"
   ]
  },
  {
   "cell_type": "code",
   "execution_count": 46,
   "id": "014201b8",
   "metadata": {},
   "outputs": [
    {
     "name": "stdout",
     "output_type": "stream",
     "text": [
      "[1 1 0 1 1 1 1 0 0 1 0 1 1 0 0 1 0 0 0 0 0 1 1 1 1 1 1 1 1 0 0 1 0 1 1 1 0\n",
      " 1 1]\n"
     ]
    }
   ],
   "source": [
    "print(y1_pred)"
   ]
  },
  {
   "cell_type": "code",
   "execution_count": 47,
   "id": "3a52c75f",
   "metadata": {},
   "outputs": [
    {
     "name": "stdout",
     "output_type": "stream",
     "text": [
      "              precision    recall  f1-score   support\n",
      "\n",
      "           0       0.73      0.61      0.67        18\n",
      "           1       0.71      0.81      0.76        21\n",
      "\n",
      "    accuracy                           0.72        39\n",
      "   macro avg       0.72      0.71      0.71        39\n",
      "weighted avg       0.72      0.72      0.71        39\n",
      "\n"
     ]
    }
   ],
   "source": [
    "print(classification_report(y1_test, y1_pred))"
   ]
  },
  {
   "cell_type": "code",
   "execution_count": 48,
   "id": "d0db3449",
   "metadata": {},
   "outputs": [
    {
     "data": {
      "image/png": "[encoded data removed]",
      "text/plain": [
       "<Figure size 432x288 with 1 Axes>"
      ]
     },
     "metadata": {
      "needs_background": "light"
     },
     "output_type": "display_data"
    },
    {
     "data": {
      "image/png": "[encoded data removed]",
      "text/plain": [
       "<Figure size 792x576 with 1 Axes>"
      ]
     },
     "metadata": {},
     "output_type": "display_data"
    },
    {
     "data": {
      "text/plain": [
       "<ggplot: (100788028347)>"
      ]
     },
     "execution_count": 48,
     "metadata": {},
     "output_type": "execute_result"
    }
   ],
   "source": [
    "import sklearn.metrics as metrics\n",
    "# calculate the fpr and tpr for all thresholds of the classification\n",
    "probs = grid2.predict_proba(X1_test)\n",
    "preds = probs[:,1]\n",
    "fpr, tpr, threshold = metrics.roc_curve(y1_test, preds)\n",
    "roc_auc = metrics.auc(fpr, tpr)\n",
    "\n",
    "# method I: plt\n",
    "import matplotlib.pyplot as plt\n",
    "plt.title('Receiver Operating Characteristic')\n",
    "plt.plot(fpr, tpr, 'b', label = 'AUC = %0.3f' % roc_auc)\n",
    "plt.legend(loc = 'lower right')\n",
    "plt.plot([0, 1], [0, 1],'r--')\n",
    "plt.xlim([0, 1])\n",
    "plt.ylim([0, 1])\n",
    "plt.ylabel('True Positive Rate')\n",
    "plt.xlabel('False Positive Rate')\n",
    "plt.show()\n",
    "\n",
    "# method II: ggplot\n",
    "from ggplot import *\n",
    "df = pd.DataFrame(dict(fpr = fpr, tpr = tpr))\n",
    "ggplot(df, aes(x = 'fpr', y = 'tpr')) + geom_line() + geom_abline(linetype = 'dashed')"
   ]
  },
  {
   "cell_type": "code",
   "execution_count": 49,
   "id": "7a3e1065",
   "metadata": {},
   "outputs": [
    {
     "name": "stdout",
     "output_type": "stream",
     "text": [
      "balanced_accuracy 0.7103174603174603\n"
     ]
    }
   ],
   "source": [
    "print(\"balanced_accuracy\", balanced_accuracy_score(y1_test, y1_pred))"
   ]
  },
  {
   "cell_type": "code",
   "execution_count": 50,
   "id": "34b711f0",
   "metadata": {},
   "outputs": [
    {
     "name": "stdout",
     "output_type": "stream",
     "text": [
      "Model1: f1=0.756 auc=0.811\n"
     ]
    },
    {
     "data": {
      "image/png": "[encoded data removed]",
      "text/plain": [
       "<Figure size 432x288 with 1 Axes>"
      ]
     },
     "metadata": {
      "needs_background": "light"
     },
     "output_type": "display_data"
    }
   ],
   "source": [
    "# precision-recall curve and f1\n",
    "from sklearn.datasets import make_classification\n",
    "from sklearn.linear_model import LogisticRegression\n",
    "from sklearn.model_selection import train_test_split\n",
    "from sklearn.metrics import precision_recall_curve\n",
    "from sklearn.metrics import f1_score\n",
    "from sklearn.metrics import auc\n",
    "from matplotlib import pyplot\n",
    "lr_probs = grid2.predict_proba(X1_test)\n",
    "# keep probabilities for the positive outcome only\n",
    "lr_probs = lr_probs[:, 1]\n",
    "# predict class values\n",
    "yhat = grid2.predict(X1_test)\n",
    "lr_precision, lr_recall, _ = precision_recall_curve(y1_test, lr_probs)\n",
    "lr_f1, lr_auc = f1_score(y1_test, yhat), auc(lr_recall, lr_precision)\n",
    "# summarize scores\n",
    "print('Model1: f1=%.3f auc=%.3f' % (lr_f1, lr_auc))\n",
    "# plot the precision-recall curves\n",
    "no_skill = len(y1_test[y1_test==1]) / len(y1_test)\n",
    "pyplot.plot([0, 1], [no_skill, no_skill], linestyle='--', label='No Skill')\n",
    "pyplot.plot(lr_recall, lr_precision, marker='.', label='Random Forest')\n",
    "# axis labels\n",
    "pyplot.xlabel('Recall')\n",
    "pyplot.ylabel('Precision')\n",
    "# show the legend\n",
    "pyplot.legend()\n",
    "# show the plot\n",
    "pyplot.show()"
   ]
  },
  {
   "cell_type": "code",
   "execution_count": 51,
   "id": "46e3e57f",
   "metadata": {},
   "outputs": [
    {
     "name": "stderr",
     "output_type": "stream",
     "text": [
      "C:\\Users\\siagu\\AppData\\Roaming\\Python\\Python39\\site-packages\\sklearn\\model_selection\\_validation.py:372: FitFailedWarning: \n",
      "500 fits failed out of a total of 1500.\n",
      "The score on these train-test partitions for these parameters will be set to nan.\n",
      "If these failures are not expected, you can try to debug them by setting error_score='raise'.\n",
      "\n",
      "Below are more details about the failures:\n",
      "--------------------------------------------------------------------------------\n",
      "500 fits failed with the following error:\n",
      "Traceback (most recent call last):\n",
      "  File \"C:\\Users\\siagu\\AppData\\Roaming\\Python\\Python39\\site-packages\\sklearn\\model_selection\\_validation.py\", line 680, in _fit_and_score\n",
      "    estimator.fit(X_train, y_train, **fit_params)\n",
      "  File \"C:\\Users\\siagu\\AppData\\Roaming\\Python\\Python39\\site-packages\\sklearn\\ensemble\\_forest.py\", line 450, in fit\n",
      "    trees = Parallel(\n",
      "  File \"C:\\Users\\siagu\\anaconda3\\lib\\site-packages\\joblib\\parallel.py\", line 1043, in __call__\n",
      "    if self.dispatch_one_batch(iterator):\n",
      "  File \"C:\\Users\\siagu\\anaconda3\\lib\\site-packages\\joblib\\parallel.py\", line 861, in dispatch_one_batch\n",
      "    self._dispatch(tasks)\n",
      "  File \"C:\\Users\\siagu\\anaconda3\\lib\\site-packages\\joblib\\parallel.py\", line 779, in _dispatch\n",
      "    job = self._backend.apply_async(batch, callback=cb)\n",
      "  File \"C:\\Users\\siagu\\anaconda3\\lib\\site-packages\\joblib\\_parallel_backends.py\", line 208, in apply_async\n",
      "    result = ImmediateResult(func)\n",
      "  File \"C:\\Users\\siagu\\anaconda3\\lib\\site-packages\\joblib\\_parallel_backends.py\", line 572, in __init__\n",
      "    self.results = batch()\n",
      "  File \"C:\\Users\\siagu\\anaconda3\\lib\\site-packages\\joblib\\parallel.py\", line 262, in __call__\n",
      "    return [func(*args, **kwargs)\n",
      "  File \"C:\\Users\\siagu\\anaconda3\\lib\\site-packages\\joblib\\parallel.py\", line 262, in <listcomp>\n",
      "    return [func(*args, **kwargs)\n",
      "  File \"C:\\Users\\siagu\\AppData\\Roaming\\Python\\Python39\\site-packages\\sklearn\\utils\\fixes.py\", line 216, in __call__\n",
      "    return self.function(*args, **kwargs)\n",
      "  File \"C:\\Users\\siagu\\AppData\\Roaming\\Python\\Python39\\site-packages\\sklearn\\ensemble\\_forest.py\", line 185, in _parallel_build_trees\n",
      "    tree.fit(X, y, sample_weight=curr_sample_weight, check_input=False)\n",
      "  File \"C:\\Users\\siagu\\AppData\\Roaming\\Python\\Python39\\site-packages\\sklearn\\tree\\_classes.py\", line 937, in fit\n",
      "    super().fit(\n",
      "  File \"C:\\Users\\siagu\\AppData\\Roaming\\Python\\Python39\\site-packages\\sklearn\\tree\\_classes.py\", line 352, in fit\n",
      "    criterion = CRITERIA_CLF[self.criterion](\n",
      "KeyError: 'log_loss'\n",
      "\n",
      "  warnings.warn(some_fits_failed_message, FitFailedWarning)\n",
      "C:\\Users\\siagu\\AppData\\Roaming\\Python\\Python39\\site-packages\\sklearn\\model_selection\\_search.py:969: UserWarning: One or more of the test scores are non-finite: [0.66666667 0.7        0.6923913  0.70942029 0.72681159 0.70833333\n",
      " 0.73442029 0.7865942  0.72753623 0.71847826 0.72608696 0.70108696\n",
      " 0.76956522 0.76811594 0.74384058 0.77753623 0.75217391 0.7692029\n",
      " 0.75181159 0.75181159 0.7076087  0.70072464 0.69275362 0.72681159\n",
      " 0.70072464 0.74384058 0.71811594 0.68405797 0.7442029  0.76123188\n",
      " 0.70072464 0.72717391 0.65833333 0.74275362 0.79456522 0.73514493\n",
      " 0.76086957 0.75217391 0.76014493 0.72681159 0.65797101 0.68369565\n",
      " 0.70797101 0.71811594 0.70942029 0.74456522 0.69275362 0.71847826\n",
      " 0.70978261 0.75181159 0.71847826 0.70144928 0.74384058 0.73478261\n",
      " 0.72644928 0.7692029  0.69202899 0.74347826 0.76014493 0.71811594\n",
      " 0.70036232 0.68405797 0.69094203 0.76992754 0.7442029  0.68405797\n",
      " 0.70905797 0.79456522 0.70072464 0.72644928 0.69166667 0.73442029\n",
      " 0.70869565 0.70144928 0.71811594 0.7692029  0.72644928 0.75181159\n",
      " 0.73478261 0.71811594 0.70869565 0.69130435 0.73514493 0.73442029\n",
      " 0.76956522 0.72681159 0.73514493 0.74347826 0.70036232 0.7615942\n",
      " 0.71847826 0.68478261 0.68405797 0.71014493 0.6923913  0.73478261\n",
      " 0.6923913  0.70217391 0.72644928 0.71847826 0.71847826 0.7423913\n",
      " 0.66630435 0.69927536 0.70144928 0.70905797 0.75253623 0.77862319\n",
      " 0.73442029 0.73478261 0.79492754 0.78550725 0.76884058 0.79456522\n",
      " 0.73369565 0.76123188 0.76050725 0.75181159 0.76086957 0.70108696\n",
      " 0.67572464 0.72572464 0.6826087  0.73333333 0.69311594 0.72681159\n",
      " 0.75217391 0.76050725 0.77681159 0.73514493 0.70869565 0.79492754\n",
      " 0.74311594 0.77717391 0.73442029 0.75144928 0.74311594 0.7692029\n",
      " 0.79528986 0.72644928 0.69891304 0.73442029 0.70978261 0.71014493\n",
      " 0.65797101 0.71775362 0.67427536 0.74311594 0.74384058 0.75108696\n",
      " 0.76956522 0.73478261 0.77753623 0.73550725 0.71847826 0.71811594\n",
      " 0.73514493 0.73478261 0.7692029  0.73514493 0.57282609 0.65724638\n",
      " 0.69927536 0.68369565 0.69275362 0.71014493 0.75978261 0.71847826\n",
      " 0.73586957 0.75181159 0.7692029  0.71702899 0.675      0.74347826\n",
      " 0.71775362 0.75253623 0.70978261 0.70942029 0.76086957 0.75253623\n",
      " 0.63188406 0.79528986 0.67536232 0.71702899 0.70181159 0.73478261\n",
      " 0.68333333 0.64130435 0.70942029 0.73442029 0.70108696 0.71811594\n",
      " 0.71847826 0.70072464 0.72644928 0.71811594 0.7423913  0.71811594\n",
      " 0.71014493 0.72681159        nan        nan        nan        nan\n",
      "        nan        nan        nan        nan        nan        nan\n",
      "        nan        nan        nan        nan        nan        nan\n",
      "        nan        nan        nan        nan        nan        nan\n",
      "        nan        nan        nan        nan        nan        nan\n",
      "        nan        nan        nan        nan        nan        nan\n",
      "        nan        nan        nan        nan        nan        nan\n",
      "        nan        nan        nan        nan        nan        nan\n",
      "        nan        nan        nan        nan        nan        nan\n",
      "        nan        nan        nan        nan        nan        nan\n",
      "        nan        nan        nan        nan        nan        nan\n",
      "        nan        nan        nan        nan        nan        nan\n",
      "        nan        nan        nan        nan        nan        nan\n",
      "        nan        nan        nan        nan        nan        nan\n",
      "        nan        nan        nan        nan        nan        nan\n",
      "        nan        nan        nan        nan        nan        nan\n",
      "        nan        nan        nan        nan        nan        nan]\n",
      "  warnings.warn(\n"
     ]
    },
    {
     "data": {
      "image/png": "[encoded data removed]",
      "text/plain": [
       "<Figure size 360x288 with 2 Axes>"
      ]
     },
     "metadata": {
      "needs_background": "light"
     },
     "output_type": "display_data"
    }
   ],
   "source": [
    "grid2.fit(X2_train, y2_train)\n",
    "\n",
    "y2_pred = grid2.predict(X2_test)\n",
    "\n",
    "cm = confusion_matrix(y2_test, y2_pred)\n",
    "#print(cm)\n",
    "cm_df = pd.DataFrame(cm,\n",
    "                     index = [0,1], \n",
    "                     columns = [0,1])\n",
    "plt.figure(figsize=(5,4))\n",
    "sns.heatmap(cm_df, annot=True)\n",
    "plt.title('Confusion Matrix')\n",
    "plt.ylabel('Actal Values')\n",
    "plt.xlabel('Predicted Values')\n",
    "plt.show()"
   ]
  },
  {
   "cell_type": "code",
   "execution_count": 52,
   "id": "9deeedef",
   "metadata": {},
   "outputs": [
    {
     "name": "stdout",
     "output_type": "stream",
     "text": [
      "[1 1 0 1 1 1 1 0 0 1 0 1 1 1 0 1 0 0 0 0 0 1 1 0 1 1 1 1 1 0 0 1 0 1 1 1 0\n",
      " 1 1]\n"
     ]
    }
   ],
   "source": [
    "print(y2_pred)"
   ]
  },
  {
   "cell_type": "code",
   "execution_count": 53,
   "id": "9e90bd77",
   "metadata": {
    "scrolled": true
   },
   "outputs": [
    {
     "name": "stdout",
     "output_type": "stream",
     "text": [
      "              precision    recall  f1-score   support\n",
      "\n",
      "           0       0.73      0.61      0.67        18\n",
      "           1       0.71      0.81      0.76        21\n",
      "\n",
      "    accuracy                           0.72        39\n",
      "   macro avg       0.72      0.71      0.71        39\n",
      "weighted avg       0.72      0.72      0.71        39\n",
      "\n"
     ]
    }
   ],
   "source": [
    "print(classification_report(y2_test, y2_pred))"
   ]
  },
  {
   "cell_type": "code",
   "execution_count": 54,
   "id": "ddf3cdb4",
   "metadata": {},
   "outputs": [
    {
     "data": {
      "image/png": "[encoded data removed]",
      "text/plain": [
       "<Figure size 432x288 with 1 Axes>"
      ]
     },
     "metadata": {
      "needs_background": "light"
     },
     "output_type": "display_data"
    },
    {
     "data": {
      "image/png": "[encoded data removed]",
      "text/plain": [
       "<Figure size 792x576 with 1 Axes>"
      ]
     },
     "metadata": {},
     "output_type": "display_data"
    },
    {
     "data": {
      "text/plain": [
       "<ggplot: (100788112222)>"
      ]
     },
     "execution_count": 54,
     "metadata": {},
     "output_type": "execute_result"
    }
   ],
   "source": [
    "import sklearn.metrics as metrics\n",
    "# calculate the fpr and tpr for all thresholds of the classification\n",
    "probs = grid2.predict_proba(X2_test)\n",
    "preds = probs[:,1]\n",
    "fpr, tpr, threshold = metrics.roc_curve(y2_test, preds)\n",
    "roc_auc = metrics.auc(fpr, tpr)\n",
    "\n",
    "# method I: plt\n",
    "import matplotlib.pyplot as plt\n",
    "plt.title('Receiver Operating Characteristic')\n",
    "plt.plot(fpr, tpr, 'b', label = 'AUC = %0.3f' % roc_auc)\n",
    "plt.legend(loc = 'lower right')\n",
    "plt.plot([0, 1], [0, 1],'r--')\n",
    "plt.xlim([0, 1])\n",
    "plt.ylim([0, 1])\n",
    "plt.ylabel('True Positive Rate')\n",
    "plt.xlabel('False Positive Rate')\n",
    "plt.show()\n",
    "\n",
    "# method II: ggplot\n",
    "from ggplot import *\n",
    "df = pd.DataFrame(dict(fpr = fpr, tpr = tpr))\n",
    "ggplot(df, aes(x = 'fpr', y = 'tpr')) + geom_line() + geom_abline(linetype = 'dashed')"
   ]
  },
  {
   "cell_type": "code",
   "execution_count": 55,
   "id": "6420da07",
   "metadata": {},
   "outputs": [
    {
     "name": "stdout",
     "output_type": "stream",
     "text": [
      "balanced_accuracy 0.7103174603174603\n"
     ]
    }
   ],
   "source": [
    "print(\"balanced_accuracy\", balanced_accuracy_score(y2_test, y2_pred))"
   ]
  },
  {
   "cell_type": "code",
   "execution_count": 56,
   "id": "a13eb7db",
   "metadata": {},
   "outputs": [
    {
     "name": "stdout",
     "output_type": "stream",
     "text": [
      "Model1: f1=0.756 auc=0.648\n"
     ]
    },
    {
     "data": {
      "image/png": "[encoded data removed]",
      "text/plain": [
       "<Figure size 432x288 with 1 Axes>"
      ]
     },
     "metadata": {
      "needs_background": "light"
     },
     "output_type": "display_data"
    }
   ],
   "source": [
    "# precision-recall curve and f1\n",
    "from sklearn.datasets import make_classification\n",
    "from sklearn.linear_model import LogisticRegression\n",
    "from sklearn.model_selection import train_test_split\n",
    "from sklearn.metrics import precision_recall_curve\n",
    "from sklearn.metrics import f1_score\n",
    "from sklearn.metrics import auc\n",
    "from matplotlib import pyplot\n",
    "lr_probs = grid2.predict_proba(X2_test)\n",
    "# keep probabilities for the positive outcome only\n",
    "lr_probs = lr_probs[:, 1]\n",
    "# predict class values\n",
    "yhat = grid2.predict(X2_test)\n",
    "lr_precision, lr_recall, _ = precision_recall_curve(y2_test, lr_probs)\n",
    "lr_f1, lr_auc = f1_score(y2_test, yhat), auc(lr_recall, lr_precision)\n",
    "# summarize scores\n",
    "print('Model1: f1=%.3f auc=%.3f' % (lr_f1, lr_auc))\n",
    "# plot the precision-recall curves\n",
    "no_skill = len(y2_test[y2_test==1]) / len(y2_test)\n",
    "pyplot.plot([0, 1], [no_skill, no_skill], linestyle='--', label='No Skill')\n",
    "pyplot.plot(lr_recall, lr_precision, marker='.', label='Random Forest')\n",
    "# axis labels\n",
    "pyplot.xlabel('Recall')\n",
    "pyplot.ylabel('Precision')\n",
    "# show the legend\n",
    "pyplot.legend()\n",
    "# show the plot\n",
    "pyplot.show()"
   ]
  },
  {
   "cell_type": "markdown",
   "id": "f06fcda2",
   "metadata": {},
   "source": [
    "# Decision Tree"
   ]
  },
  {
   "cell_type": "code",
   "execution_count": 57,
   "id": "907ac2a9",
   "metadata": {},
   "outputs": [
    {
     "name": "stdout",
     "output_type": "stream",
     "text": [
      "The best parameters are {'criterion': 'entropy', 'max_depth': 26, 'max_features': 2, 'min_samples_split': 0.1} with a score of 0.72\n"
     ]
    },
    {
     "name": "stderr",
     "output_type": "stream",
     "text": [
      "C:\\Users\\siagu\\AppData\\Roaming\\Python\\Python39\\site-packages\\sklearn\\model_selection\\_validation.py:372: FitFailedWarning: \n",
      "775 fits failed out of a total of 2325.\n",
      "The score on these train-test partitions for these parameters will be set to nan.\n",
      "If these failures are not expected, you can try to debug them by setting error_score='raise'.\n",
      "\n",
      "Below are more details about the failures:\n",
      "--------------------------------------------------------------------------------\n",
      "775 fits failed with the following error:\n",
      "Traceback (most recent call last):\n",
      "  File \"C:\\Users\\siagu\\AppData\\Roaming\\Python\\Python39\\site-packages\\sklearn\\model_selection\\_validation.py\", line 680, in _fit_and_score\n",
      "    estimator.fit(X_train, y_train, **fit_params)\n",
      "  File \"C:\\Users\\siagu\\AppData\\Roaming\\Python\\Python39\\site-packages\\sklearn\\tree\\_classes.py\", line 937, in fit\n",
      "    super().fit(\n",
      "  File \"C:\\Users\\siagu\\AppData\\Roaming\\Python\\Python39\\site-packages\\sklearn\\tree\\_classes.py\", line 352, in fit\n",
      "    criterion = CRITERIA_CLF[self.criterion](\n",
      "KeyError: 'log_loss'\n",
      "\n",
      "  warnings.warn(some_fits_failed_message, FitFailedWarning)\n",
      "C:\\Users\\siagu\\AppData\\Roaming\\Python\\Python39\\site-packages\\sklearn\\model_selection\\_search.py:969: UserWarning: One or more of the test scores are non-finite: [0.53043478 0.52173913 0.5557971  0.56376812 0.47028986 0.50434783\n",
      " 0.52173913 0.55615942 0.53043478 0.55507246 0.51376812 0.55615942\n",
      " 0.52137681 0.51268116 0.57282609 0.49601449 0.53876812 0.49601449\n",
      " 0.52934783 0.53949275 0.49528986 0.53007246 0.56376812 0.55543478\n",
      " 0.62427536 0.46050725 0.50434783 0.49528986 0.56449275 0.58985507\n",
      " 0.52137681 0.53876812 0.57391304 0.56449275 0.58949275 0.57318841\n",
      " 0.57210145 0.56376812 0.53876812 0.5884058  0.55507246 0.48695652\n",
      " 0.56376812 0.63297101 0.55471014 0.48731884 0.5557971  0.60797101\n",
      " 0.54601449 0.62463768 0.55652174 0.53768116 0.55471014 0.58985507\n",
      " 0.625      0.59891304 0.5634058  0.64094203 0.6076087  0.66521739\n",
      " 0.56304348 0.56449275 0.49456522 0.61521739 0.59818841 0.54673913\n",
      " 0.57282609 0.62391304 0.59963768 0.57246377 0.59782609 0.62355072\n",
      " 0.58949275 0.65797101 0.675      0.59963768 0.63442029 0.66666667\n",
      " 0.60797101 0.6057971  0.55434783 0.61630435 0.53913043 0.64094203\n",
      " 0.64166667 0.54710145 0.58985507 0.58043478 0.67644928 0.66557971\n",
      " 0.67463768 0.6326087  0.62463768 0.61630435 0.64818841 0.5134058\n",
      " 0.58876812 0.58876812 0.55434783 0.61630435 0.59818841 0.62355072\n",
      " 0.57137681 0.5365942  0.51992754 0.64166667 0.64202899 0.58043478\n",
      " 0.58949275 0.6423913  0.55615942 0.56376812 0.6076087  0.65724638\n",
      " 0.61594203 0.64818841 0.59891304 0.59057971 0.71014493 0.59855072\n",
      " 0.55543478 0.59782609 0.59746377 0.68623188 0.6673913  0.55543478\n",
      " 0.58913043 0.60615942 0.61521739 0.60652174 0.53913043 0.60833333\n",
      " 0.61630435 0.65942029 0.71811594 0.51268116 0.69275362 0.61630435\n",
      " 0.675      0.66775362 0.57971014 0.56376812 0.59855072 0.6423913\n",
      " 0.61557971 0.52971014 0.69311594 0.66521739 0.54565217 0.69311594\n",
      " 0.65036232 0.65724638 0.62246377 0.66594203 0.62536232 0.53913043\n",
      " 0.51304348 0.52173913 0.58913043 0.50398551 0.5384058  0.51304348\n",
      " 0.51231884 0.50434783 0.5384058  0.49673913 0.52137681 0.5826087\n",
      " 0.54673913 0.55615942 0.49565217 0.53876812 0.51231884 0.59746377\n",
      " 0.51268116 0.56413043 0.49673913 0.53007246 0.53949275 0.53876812\n",
      " 0.56449275 0.54746377 0.5115942  0.56413043 0.50398551 0.54782609\n",
      " 0.49565217 0.57282609 0.57463768 0.56449275 0.57282609 0.60652174\n",
      " 0.56376812 0.57355072 0.59891304 0.54673913 0.5557971  0.53876812\n",
      " 0.52101449 0.58188406 0.51268116 0.53913043 0.66630435 0.57282609\n",
      " 0.56413043 0.58115942 0.59021739 0.61594203 0.5057971  0.57246377\n",
      " 0.53876812 0.57391304 0.61521739 0.53007246 0.64202899 0.53949275\n",
      " 0.59927536 0.57246377 0.59818841 0.57210145 0.52246377 0.61376812\n",
      " 0.59782609 0.54855072 0.61413043 0.55543478 0.5807971  0.57246377\n",
      " 0.64927536 0.65905797 0.53695652 0.57355072 0.55507246 0.5384058\n",
      " 0.58297101 0.52065217 0.60652174 0.64094203 0.64094203 0.61557971\n",
      " 0.58152174 0.56557971 0.62427536 0.60652174 0.57210145 0.63188406\n",
      " 0.58115942 0.68297101 0.61594203 0.65869565 0.64130435 0.64963768\n",
      " 0.60688406 0.69347826 0.59746377 0.49492754 0.62572464 0.66521739\n",
      " 0.63188406 0.59710145 0.63297101 0.62427536 0.65688406 0.625\n",
      " 0.65978261 0.58913043 0.56413043 0.6576087  0.65       0.70108696\n",
      " 0.58188406 0.59021739 0.61521739 0.64057971 0.63297101 0.66594203\n",
      " 0.64021739 0.64166667 0.59855072 0.64927536 0.57101449 0.71847826\n",
      " 0.55507246 0.65072464 0.62427536 0.52971014 0.56594203 0.64891304\n",
      " 0.6076087  0.61557971 0.51992754 0.65869565 0.64094203 0.71811594\n",
      " 0.58949275 0.63188406 0.53804348 0.64130435 0.64094203 0.70181159\n",
      " 0.61594203 0.51268116 0.67536232 0.60688406 0.6076087  0.5384058\n",
      " 0.58043478 0.6057971  0.6076087  0.60652174        nan        nan\n",
      "        nan        nan        nan        nan        nan        nan\n",
      "        nan        nan        nan        nan        nan        nan\n",
      "        nan        nan        nan        nan        nan        nan\n",
      "        nan        nan        nan        nan        nan        nan\n",
      "        nan        nan        nan        nan        nan        nan\n",
      "        nan        nan        nan        nan        nan        nan\n",
      "        nan        nan        nan        nan        nan        nan\n",
      "        nan        nan        nan        nan        nan        nan\n",
      "        nan        nan        nan        nan        nan        nan\n",
      "        nan        nan        nan        nan        nan        nan\n",
      "        nan        nan        nan        nan        nan        nan\n",
      "        nan        nan        nan        nan        nan        nan\n",
      "        nan        nan        nan        nan        nan        nan\n",
      "        nan        nan        nan        nan        nan        nan\n",
      "        nan        nan        nan        nan        nan        nan\n",
      "        nan        nan        nan        nan        nan        nan\n",
      "        nan        nan        nan        nan        nan        nan\n",
      "        nan        nan        nan        nan        nan        nan\n",
      "        nan        nan        nan        nan        nan        nan\n",
      "        nan        nan        nan        nan        nan        nan\n",
      "        nan        nan        nan        nan        nan        nan\n",
      "        nan        nan        nan        nan        nan        nan\n",
      "        nan        nan        nan        nan        nan        nan\n",
      "        nan        nan        nan        nan        nan        nan\n",
      "        nan        nan        nan        nan        nan        nan\n",
      "        nan        nan        nan]\n",
      "  warnings.warn(\n"
     ]
    }
   ],
   "source": [
    "from sklearn.model_selection import GridSearchCV\n",
    "import numpy as np\n",
    "\n",
    "max_features_range = np.arange(1,6,1)\n",
    "max_depth_range = np.arange(1,32)\n",
    "criterion=['gini', 'entropy', 'log_loss']\n",
    "min_samples_split=np.arange(0.1,1.0)\n",
    "param_grid = dict(max_features=max_features_range, max_depth=max_depth_range,criterion=criterion,min_samples_split=min_samples_split)\n",
    "\n",
    "rf = DecisionTreeClassifier()\n",
    "\n",
    "grid3 = GridSearchCV(estimator=rf, param_grid=param_grid, cv=5)\n",
    "grid3.fit(X1_train, y1_train)\n",
    "print(\"The best parameters are %s with a score of %0.2f\"\n",
    "      % (grid3.best_params_, grid3.best_score_))"
   ]
  },
  {
   "cell_type": "code",
   "execution_count": 58,
   "id": "1ccbfc44",
   "metadata": {},
   "outputs": [],
   "source": [
    "#model3 = DecisionTreeClassifier(max_depth=4, max_features=3) "
   ]
  },
  {
   "cell_type": "code",
   "execution_count": 59,
   "id": "67cc77d1",
   "metadata": {},
   "outputs": [
    {
     "name": "stderr",
     "output_type": "stream",
     "text": [
      "C:\\Users\\siagu\\AppData\\Roaming\\Python\\Python39\\site-packages\\sklearn\\model_selection\\_validation.py:372: FitFailedWarning: \n",
      "775 fits failed out of a total of 2325.\n",
      "The score on these train-test partitions for these parameters will be set to nan.\n",
      "If these failures are not expected, you can try to debug them by setting error_score='raise'.\n",
      "\n",
      "Below are more details about the failures:\n",
      "--------------------------------------------------------------------------------\n",
      "775 fits failed with the following error:\n",
      "Traceback (most recent call last):\n",
      "  File \"C:\\Users\\siagu\\AppData\\Roaming\\Python\\Python39\\site-packages\\sklearn\\model_selection\\_validation.py\", line 680, in _fit_and_score\n",
      "    estimator.fit(X_train, y_train, **fit_params)\n",
      "  File \"C:\\Users\\siagu\\AppData\\Roaming\\Python\\Python39\\site-packages\\sklearn\\tree\\_classes.py\", line 937, in fit\n",
      "    super().fit(\n",
      "  File \"C:\\Users\\siagu\\AppData\\Roaming\\Python\\Python39\\site-packages\\sklearn\\tree\\_classes.py\", line 352, in fit\n",
      "    criterion = CRITERIA_CLF[self.criterion](\n",
      "KeyError: 'log_loss'\n",
      "\n",
      "  warnings.warn(some_fits_failed_message, FitFailedWarning)\n",
      "C:\\Users\\siagu\\AppData\\Roaming\\Python\\Python39\\site-packages\\sklearn\\model_selection\\_search.py:969: UserWarning: One or more of the test scores are non-finite: [0.47826087 0.52173913 0.51304348 0.52173913 0.57355072 0.53804348\n",
      " 0.51268116 0.49565217 0.56413043 0.53043478 0.52137681 0.53007246\n",
      " 0.51231884 0.51231884 0.50507246 0.58188406 0.53043478 0.52137681\n",
      " 0.53007246 0.50471014 0.56521739 0.52971014 0.53876812 0.58949275\n",
      " 0.54746377 0.59021739 0.50471014 0.58152174 0.58949275 0.61521739\n",
      " 0.58913043 0.5557971  0.53913043 0.53043478 0.61594203 0.53949275\n",
      " 0.52137681 0.55615942 0.5384058  0.57101449 0.58913043 0.55724638\n",
      " 0.59855072 0.57318841 0.65905797 0.49384058 0.62427536 0.59021739\n",
      " 0.6326087  0.59891304 0.52246377 0.61630435 0.54710145 0.54673913\n",
      " 0.55507246 0.48623188 0.57355072 0.58949275 0.61376812 0.58043478\n",
      " 0.57355072 0.6134058  0.56485507 0.68405797 0.63152174 0.52173913\n",
      " 0.66666667 0.55724638 0.55471014 0.68405797 0.62536232 0.58949275\n",
      " 0.64963768 0.61594203 0.6307971  0.53913043 0.56449275 0.55543478\n",
      " 0.58115942 0.58949275 0.5634058  0.58188406 0.70181159 0.56485507\n",
      " 0.58007246 0.62391304 0.55543478 0.64057971 0.64130435 0.57173913\n",
      " 0.55543478 0.67644928 0.71014493 0.58985507 0.65036232 0.55507246\n",
      " 0.58224638 0.52898551 0.53913043 0.6307971  0.48550725 0.60688406\n",
      " 0.59746377 0.66702899 0.66557971 0.55615942 0.53007246 0.61594203\n",
      " 0.63333333 0.64130435 0.56304348 0.63224638 0.60688406 0.59963768\n",
      " 0.68514493 0.60724638 0.58876812 0.64891304 0.62355072 0.69275362\n",
      " 0.56376812 0.625      0.65688406 0.6076087  0.60724638 0.58876812\n",
      " 0.61413043 0.6576087  0.58695652 0.60688406 0.64963768 0.50615942\n",
      " 0.62427536 0.64130435 0.63369565 0.59746377 0.58949275 0.63369565\n",
      " 0.65688406 0.6923913  0.61594203 0.5634058  0.59130435 0.64855072\n",
      " 0.63188406 0.61557971 0.61485507 0.64202899 0.6326087  0.67536232\n",
      " 0.64130435 0.73550725 0.62463768 0.64855072 0.55434783 0.51304348\n",
      " 0.50434783 0.55652174 0.50434783 0.49637681 0.49637681 0.49565217\n",
      " 0.53007246 0.52137681 0.57173913 0.51304348 0.52173913 0.51231884\n",
      " 0.49492754 0.52065217 0.59855072 0.54746377 0.53804348 0.57246377\n",
      " 0.55543478 0.49565217 0.59855072 0.47934783 0.58152174 0.52210145\n",
      " 0.56413043 0.48695652 0.58949275 0.51304348 0.58115942 0.58152174\n",
      " 0.55471014 0.52971014 0.59021739 0.58188406 0.57282609 0.62427536\n",
      " 0.49492754 0.59094203 0.63297101 0.52173913 0.5134058  0.59891304\n",
      " 0.54746377 0.52173913 0.53007246 0.5307971  0.58115942 0.58152174\n",
      " 0.60652174 0.59818841 0.5807971  0.58985507 0.59094203 0.62355072\n",
      " 0.57173913 0.55471014 0.58224638 0.59818841 0.51268116 0.6673913\n",
      " 0.55543478 0.56304348 0.59782609 0.56449275 0.55615942 0.57137681\n",
      " 0.58043478 0.64094203 0.57246377 0.61521739 0.65978261 0.65108696\n",
      " 0.69094203 0.69202899 0.55688406 0.58985507 0.58188406 0.58043478\n",
      " 0.5807971  0.6326087  0.69311594 0.65       0.62463768 0.55362319\n",
      " 0.57282609 0.58007246 0.68224638 0.59057971 0.65652174 0.55652174\n",
      " 0.59094203 0.60724638 0.68442029 0.62391304 0.64963768 0.57971014\n",
      " 0.64927536 0.59710145 0.62391304 0.57210145 0.58043478 0.68478261\n",
      " 0.64963768 0.68405797 0.59891304 0.53695652 0.60688406 0.66702899\n",
      " 0.63442029 0.59130435 0.61594203 0.57101449 0.66666667 0.59963768\n",
      " 0.5384058  0.66666667 0.56304348 0.61521739 0.67427536 0.60724638\n",
      " 0.70942029 0.53768116 0.57173913 0.65833333 0.63188406 0.71811594\n",
      " 0.62355072 0.625      0.52971014 0.51376812 0.59818841 0.61449275\n",
      " 0.58043478 0.66775362 0.52934783 0.59891304 0.62391304 0.6576087\n",
      " 0.61521739 0.63985507 0.58876812 0.66521739 0.58913043 0.70905797\n",
      " 0.58115942 0.58949275 0.61557971 0.74528986 0.65869565 0.56557971\n",
      " 0.69275362 0.63333333 0.61594203 0.6057971         nan        nan\n",
      "        nan        nan        nan        nan        nan        nan\n",
      "        nan        nan        nan        nan        nan        nan\n",
      "        nan        nan        nan        nan        nan        nan\n",
      "        nan        nan        nan        nan        nan        nan\n",
      "        nan        nan        nan        nan        nan        nan\n",
      "        nan        nan        nan        nan        nan        nan\n",
      "        nan        nan        nan        nan        nan        nan\n",
      "        nan        nan        nan        nan        nan        nan\n",
      "        nan        nan        nan        nan        nan        nan\n",
      "        nan        nan        nan        nan        nan        nan\n",
      "        nan        nan        nan        nan        nan        nan\n",
      "        nan        nan        nan        nan        nan        nan\n",
      "        nan        nan        nan        nan        nan        nan\n",
      "        nan        nan        nan        nan        nan        nan\n",
      "        nan        nan        nan        nan        nan        nan\n",
      "        nan        nan        nan        nan        nan        nan\n",
      "        nan        nan        nan        nan        nan        nan\n",
      "        nan        nan        nan        nan        nan        nan\n",
      "        nan        nan        nan        nan        nan        nan\n",
      "        nan        nan        nan        nan        nan        nan\n",
      "        nan        nan        nan        nan        nan        nan\n",
      "        nan        nan        nan        nan        nan        nan\n",
      "        nan        nan        nan        nan        nan        nan\n",
      "        nan        nan        nan        nan        nan        nan\n",
      "        nan        nan        nan        nan        nan        nan\n",
      "        nan        nan        nan]\n",
      "  warnings.warn(\n"
     ]
    },
    {
     "data": {
      "image/png": "[encoded data removed]",
      "text/plain": [
       "<Figure size 360x288 with 2 Axes>"
      ]
     },
     "metadata": {
      "needs_background": "light"
     },
     "output_type": "display_data"
    }
   ],
   "source": [
    "grid3.fit(X1_train, y1_train)  \n",
    "\n",
    "y1_pred = grid3.predict(X1_test)\n",
    "\n",
    "cm = confusion_matrix(y1_test, y1_pred)\n",
    "\n",
    "#print(cm)\n",
    "cm_df = pd.DataFrame(cm,\n",
    "                     index = [0,1], \n",
    "                     columns = [0,1])\n",
    "plt.figure(figsize=(5,4))\n",
    "sns.heatmap(cm_df, annot=True)\n",
    "plt.title('Confusion Matrix')\n",
    "plt.ylabel('Actal Values')\n",
    "plt.xlabel('Predicted Values')\n",
    "plt.show()"
   ]
  },
  {
   "cell_type": "code",
   "execution_count": 60,
   "id": "1c94b6b7",
   "metadata": {},
   "outputs": [
    {
     "name": "stdout",
     "output_type": "stream",
     "text": [
      "[1 0 0 1 0 0 1 0 0 1 0 1 1 0 0 0 0 0 0 0 0 1 1 0 0 0 0 1 1 0 0 1 0 1 1 1 0\n",
      " 1 0]\n"
     ]
    }
   ],
   "source": [
    "print(y1_pred)"
   ]
  },
  {
   "cell_type": "code",
   "execution_count": 61,
   "id": "d58a6258",
   "metadata": {},
   "outputs": [
    {
     "name": "stdout",
     "output_type": "stream",
     "text": [
      "              precision    recall  f1-score   support\n",
      "\n",
      "           0       0.62      0.83      0.71        18\n",
      "           1       0.80      0.57      0.67        21\n",
      "\n",
      "    accuracy                           0.69        39\n",
      "   macro avg       0.71      0.70      0.69        39\n",
      "weighted avg       0.72      0.69      0.69        39\n",
      "\n"
     ]
    }
   ],
   "source": [
    "print(classification_report(y1_test, y1_pred))"
   ]
  },
  {
   "cell_type": "code",
   "execution_count": 62,
   "id": "e19b902f",
   "metadata": {},
   "outputs": [
    {
     "data": {
      "image/png": "[encoded data removed]",
      "text/plain": [
       "<Figure size 432x288 with 1 Axes>"
      ]
     },
     "metadata": {
      "needs_background": "light"
     },
     "output_type": "display_data"
    },
    {
     "data": {
      "image/png": "[encoded data removed]",
      "text/plain": [
       "<Figure size 792x576 with 1 Axes>"
      ]
     },
     "metadata": {},
     "output_type": "display_data"
    },
    {
     "data": {
      "text/plain": [
       "<ggplot: (100788119372)>"
      ]
     },
     "execution_count": 62,
     "metadata": {},
     "output_type": "execute_result"
    }
   ],
   "source": [
    "import sklearn.metrics as metrics\n",
    "# calculate the fpr and tpr for all thresholds of the classification\n",
    "probs = grid3.predict_proba(X1_test)\n",
    "preds = probs[:,1]\n",
    "fpr, tpr, threshold = metrics.roc_curve(y1_test, preds)\n",
    "roc_auc = metrics.auc(fpr, tpr)\n",
    "\n",
    "# method I: plt\n",
    "import matplotlib.pyplot as plt\n",
    "plt.title('Receiver Operating Characteristic')\n",
    "plt.plot(fpr, tpr, 'b', label = 'AUC = %0.3f' % roc_auc)\n",
    "plt.legend(loc = 'lower right')\n",
    "plt.plot([0, 1], [0, 1],'r--')\n",
    "plt.xlim([0, 1])\n",
    "plt.ylim([0, 1])\n",
    "plt.ylabel('True Positive Rate')\n",
    "plt.xlabel('False Positive Rate')\n",
    "plt.show()\n",
    "\n",
    "# method II: ggplot\n",
    "from ggplot import *\n",
    "df = pd.DataFrame(dict(fpr = fpr, tpr = tpr))\n",
    "ggplot(df, aes(x = 'fpr', y = 'tpr')) + geom_line() + geom_abline(linetype = 'dashed')"
   ]
  },
  {
   "cell_type": "code",
   "execution_count": 63,
   "id": "d01417b0",
   "metadata": {},
   "outputs": [
    {
     "name": "stdout",
     "output_type": "stream",
     "text": [
      "balanced_accuracy 0.7023809523809523\n"
     ]
    }
   ],
   "source": [
    "print(\"balanced_accuracy\", balanced_accuracy_score(y1_test, y1_pred))"
   ]
  },
  {
   "cell_type": "code",
   "execution_count": 64,
   "id": "a6635670",
   "metadata": {},
   "outputs": [
    {
     "name": "stdout",
     "output_type": "stream",
     "text": [
      "Model1: f1=0.667 auc=0.746\n"
     ]
    },
    {
     "data": {
      "image/png": "[encoded data removed]",
      "text/plain": [
       "<Figure size 432x288 with 1 Axes>"
      ]
     },
     "metadata": {
      "needs_background": "light"
     },
     "output_type": "display_data"
    }
   ],
   "source": [
    "# precision-recall curve and f1\n",
    "from sklearn.datasets import make_classification\n",
    "from sklearn.linear_model import LogisticRegression\n",
    "from sklearn.model_selection import train_test_split\n",
    "from sklearn.metrics import precision_recall_curve\n",
    "from sklearn.metrics import f1_score\n",
    "from sklearn.metrics import auc\n",
    "from matplotlib import pyplot\n",
    "lr_probs = grid3.predict_proba(X1_test)\n",
    "# keep probabilities for the positive outcome only\n",
    "lr_probs = lr_probs[:, 1]\n",
    "# predict class values\n",
    "yhat = grid3.predict(X1_test)\n",
    "lr_precision, lr_recall, _ = precision_recall_curve(y1_test, lr_probs)\n",
    "lr_f1, lr_auc = f1_score(y1_test, yhat), auc(lr_recall, lr_precision)\n",
    "# summarize scores\n",
    "print('Model1: f1=%.3f auc=%.3f' % (lr_f1, lr_auc))\n",
    "# plot the precision-recall curves\n",
    "no_skill = len(y1_test[y1_test==1]) / len(y1_test)\n",
    "pyplot.plot([0, 1], [no_skill, no_skill], linestyle='--', label='No Skill')\n",
    "pyplot.plot(lr_recall, lr_precision, marker='.', label='Decision Tree')\n",
    "# axis labels\n",
    "pyplot.xlabel('Recall')\n",
    "pyplot.ylabel('Precision')\n",
    "# show the legend\n",
    "pyplot.legend()\n",
    "# show the plot\n",
    "pyplot.show()"
   ]
  },
  {
   "cell_type": "code",
   "execution_count": 65,
   "id": "ea8e646f",
   "metadata": {},
   "outputs": [
    {
     "name": "stderr",
     "output_type": "stream",
     "text": [
      "C:\\Users\\siagu\\AppData\\Roaming\\Python\\Python39\\site-packages\\sklearn\\model_selection\\_validation.py:372: FitFailedWarning: \n",
      "775 fits failed out of a total of 2325.\n",
      "The score on these train-test partitions for these parameters will be set to nan.\n",
      "If these failures are not expected, you can try to debug them by setting error_score='raise'.\n",
      "\n",
      "Below are more details about the failures:\n",
      "--------------------------------------------------------------------------------\n",
      "775 fits failed with the following error:\n",
      "Traceback (most recent call last):\n",
      "  File \"C:\\Users\\siagu\\AppData\\Roaming\\Python\\Python39\\site-packages\\sklearn\\model_selection\\_validation.py\", line 680, in _fit_and_score\n",
      "    estimator.fit(X_train, y_train, **fit_params)\n",
      "  File \"C:\\Users\\siagu\\AppData\\Roaming\\Python\\Python39\\site-packages\\sklearn\\tree\\_classes.py\", line 937, in fit\n",
      "    super().fit(\n",
      "  File \"C:\\Users\\siagu\\AppData\\Roaming\\Python\\Python39\\site-packages\\sklearn\\tree\\_classes.py\", line 352, in fit\n",
      "    criterion = CRITERIA_CLF[self.criterion](\n",
      "KeyError: 'log_loss'\n",
      "\n",
      "  warnings.warn(some_fits_failed_message, FitFailedWarning)\n",
      "C:\\Users\\siagu\\AppData\\Roaming\\Python\\Python39\\site-packages\\sklearn\\model_selection\\_search.py:969: UserWarning: One or more of the test scores are non-finite: [0.52173913 0.51268116 0.52173913 0.52971014 0.55615942 0.52173913\n",
      " 0.51268116 0.48695652 0.47753623 0.5134058  0.47826087 0.58007246\n",
      " 0.53768116 0.52028986 0.52934783 0.51195652 0.5557971  0.58115942\n",
      " 0.51304348 0.52101449 0.48731884 0.53768116 0.55398551 0.57173913\n",
      " 0.58152174 0.56413043 0.54746377 0.56413043 0.51268116 0.5807971\n",
      " 0.53043478 0.50326087 0.53949275 0.5384058  0.60724638 0.5384058\n",
      " 0.53913043 0.58224638 0.54782609 0.56485507 0.47826087 0.45217391\n",
      " 0.57246377 0.61521739 0.64166667 0.58115942 0.59021739 0.64166667\n",
      " 0.65       0.58007246 0.51231884 0.5826087  0.56413043 0.62391304\n",
      " 0.62282609 0.60652174 0.58985507 0.59021739 0.53876812 0.66702899\n",
      " 0.58188406 0.56413043 0.6673913  0.61413043 0.65       0.52934783\n",
      " 0.58188406 0.6576087  0.56413043 0.625      0.54782609 0.6326087\n",
      " 0.58913043 0.63224638 0.62355072 0.5807971  0.5826087  0.59021739\n",
      " 0.61557971 0.58115942 0.59818841 0.59818841 0.59166667 0.5307971\n",
      " 0.6057971  0.65724638 0.56413043 0.59818841 0.52065217 0.65942029\n",
      " 0.62318841 0.6673913  0.62318841 0.65724638 0.63297101 0.57282609\n",
      " 0.58985507 0.6076087  0.57065217 0.65797101 0.5826087  0.62282609\n",
      " 0.67536232 0.57210145 0.70144928 0.5634058  0.58949275 0.63043478\n",
      " 0.64927536 0.66594203 0.56304348 0.56413043 0.59818841 0.66775362\n",
      " 0.54710145 0.65108696 0.64746377 0.64818841 0.63985507 0.6326087\n",
      " 0.63333333 0.66666667 0.6673913  0.58913043 0.65       0.75978261\n",
      " 0.59891304 0.63913043 0.64963768 0.61521739 0.5884058  0.70869565\n",
      " 0.67427536 0.56557971 0.66594203 0.65688406 0.62391304 0.62391304\n",
      " 0.60543478 0.66557971 0.58913043 0.5807971  0.61594203 0.61449275\n",
      " 0.56413043 0.57065217 0.5884058  0.58188406 0.67572464 0.7173913\n",
      " 0.59094203 0.5307971  0.60688406 0.66847826 0.60724638 0.49565217\n",
      " 0.56413043 0.50398551 0.50398551 0.47065217 0.56376812 0.52210145\n",
      " 0.54746377 0.48623188 0.54746377 0.50326087 0.55615942 0.59855072\n",
      " 0.52173913 0.55507246 0.5557971  0.51268116 0.47862319 0.63297101\n",
      " 0.46956522 0.54710145 0.54673913 0.50289855 0.59782609 0.59094203\n",
      " 0.57282609 0.45072464 0.51123188 0.58913043 0.57318841 0.54746377\n",
      " 0.46195652 0.61521739 0.56557971 0.59166667 0.60688406 0.51304348\n",
      " 0.57391304 0.66521739 0.56485507 0.62463768 0.54782609 0.58115942\n",
      " 0.5807971  0.54818841 0.52282609 0.53007246 0.58224638 0.54710145\n",
      " 0.60652174 0.59021739 0.57355072 0.5826087  0.57355072 0.59746377\n",
      " 0.52971014 0.61630435 0.58949275 0.59782609 0.63043478 0.52173913\n",
      " 0.63297101 0.54601449 0.54492754 0.6326087  0.58188406 0.61630435\n",
      " 0.67608696 0.58876812 0.59130435 0.58188406 0.66666667 0.53768116\n",
      " 0.64891304 0.57391304 0.59057971 0.6326087  0.64818841 0.54637681\n",
      " 0.65688406 0.58985507 0.64094203 0.52137681 0.59818841 0.61485507\n",
      " 0.53876812 0.55434783 0.59891304 0.66521739 0.57934783 0.61702899\n",
      " 0.58007246 0.59782609 0.57173913 0.6326087  0.625      0.5365942\n",
      " 0.54637681 0.64094203 0.62282609 0.58949275 0.59021739 0.66702899\n",
      " 0.6826087  0.61485507 0.5826087  0.61521739 0.5384058  0.68442029\n",
      " 0.63224638 0.64130435 0.65036232 0.67427536 0.56268116 0.56449275\n",
      " 0.57318841 0.65833333 0.59891304 0.63369565 0.67572464 0.6057971\n",
      " 0.61557971 0.69166667 0.58985507 0.68152174 0.57246377 0.625\n",
      " 0.66702899 0.60471014 0.64963768 0.58043478 0.57898551 0.58913043\n",
      " 0.63297101 0.65688406 0.50398551 0.65217391 0.61557971 0.65652174\n",
      " 0.64021739 0.54021739 0.66702899 0.68442029 0.6423913  0.59057971\n",
      " 0.68369565 0.65797101 0.65688406 0.56376812 0.70869565 0.6826087\n",
      " 0.63442029 0.68333333 0.71811594 0.70036232        nan        nan\n",
      "        nan        nan        nan        nan        nan        nan\n",
      "        nan        nan        nan        nan        nan        nan\n",
      "        nan        nan        nan        nan        nan        nan\n",
      "        nan        nan        nan        nan        nan        nan\n",
      "        nan        nan        nan        nan        nan        nan\n",
      "        nan        nan        nan        nan        nan        nan\n",
      "        nan        nan        nan        nan        nan        nan\n",
      "        nan        nan        nan        nan        nan        nan\n",
      "        nan        nan        nan        nan        nan        nan\n",
      "        nan        nan        nan        nan        nan        nan\n",
      "        nan        nan        nan        nan        nan        nan\n",
      "        nan        nan        nan        nan        nan        nan\n",
      "        nan        nan        nan        nan        nan        nan\n",
      "        nan        nan        nan        nan        nan        nan\n",
      "        nan        nan        nan        nan        nan        nan\n",
      "        nan        nan        nan        nan        nan        nan\n",
      "        nan        nan        nan        nan        nan        nan\n",
      "        nan        nan        nan        nan        nan        nan\n",
      "        nan        nan        nan        nan        nan        nan\n",
      "        nan        nan        nan        nan        nan        nan\n",
      "        nan        nan        nan        nan        nan        nan\n",
      "        nan        nan        nan        nan        nan        nan\n",
      "        nan        nan        nan        nan        nan        nan\n",
      "        nan        nan        nan        nan        nan        nan\n",
      "        nan        nan        nan        nan        nan        nan\n",
      "        nan        nan        nan]\n",
      "  warnings.warn(\n"
     ]
    },
    {
     "data": {
      "image/png": "[encoded data removed]",
      "text/plain": [
       "<Figure size 360x288 with 2 Axes>"
      ]
     },
     "metadata": {
      "needs_background": "light"
     },
     "output_type": "display_data"
    }
   ],
   "source": [
    "grid3.fit(X2_train, y2_train)\n",
    "\n",
    "y2_pred = grid3.predict(X2_test)\n",
    "\n",
    "cm = confusion_matrix(y2_test, y2_pred)\n",
    "#print(cm)\n",
    "cm_df = pd.DataFrame(cm,\n",
    "                     index = [0,1], \n",
    "                     columns = [0,1])\n",
    "plt.figure(figsize=(5,4))\n",
    "sns.heatmap(cm_df, annot=True)\n",
    "plt.title('Confusion Matrix')\n",
    "plt.ylabel('Actal Values')\n",
    "plt.xlabel('Predicted Values')\n",
    "plt.show()"
   ]
  },
  {
   "cell_type": "code",
   "execution_count": 66,
   "id": "c9b80bb3",
   "metadata": {},
   "outputs": [
    {
     "name": "stdout",
     "output_type": "stream",
     "text": [
      "[0 0 1 0 0 0 0 0 0 1 0 1 0 0 1 0 0 0 0 0 0 1 0 0 0 0 1 0 1 0 1 0 0 0 0 0 0\n",
      " 0 1]\n"
     ]
    }
   ],
   "source": [
    "print(y2_pred)"
   ]
  },
  {
   "cell_type": "code",
   "execution_count": 67,
   "id": "4e8613fd",
   "metadata": {},
   "outputs": [
    {
     "name": "stdout",
     "output_type": "stream",
     "text": [
      "              precision    recall  f1-score   support\n",
      "\n",
      "           0       0.50      0.83      0.62        18\n",
      "           1       0.67      0.29      0.40        21\n",
      "\n",
      "    accuracy                           0.54        39\n",
      "   macro avg       0.58      0.56      0.51        39\n",
      "weighted avg       0.59      0.54      0.50        39\n",
      "\n"
     ]
    }
   ],
   "source": [
    "print(classification_report(y2_test, y2_pred))"
   ]
  },
  {
   "cell_type": "code",
   "execution_count": 68,
   "id": "af6e0194",
   "metadata": {},
   "outputs": [
    {
     "data": {
      "image/png": "[encoded data removed]",
      "text/plain": [
       "<Figure size 432x288 with 1 Axes>"
      ]
     },
     "metadata": {
      "needs_background": "light"
     },
     "output_type": "display_data"
    },
    {
     "data": {
      "image/png": "[encoded data removed]",
      "text/plain": [
       "<Figure size 792x576 with 1 Axes>"
      ]
     },
     "metadata": {},
     "output_type": "display_data"
    },
    {
     "data": {
      "text/plain": [
       "<ggplot: (100788608425)>"
      ]
     },
     "execution_count": 68,
     "metadata": {},
     "output_type": "execute_result"
    }
   ],
   "source": [
    "import sklearn.metrics as metrics\n",
    "# calculate the fpr and tpr for all thresholds of the classification\n",
    "probs = grid3.predict_proba(X2_test)\n",
    "preds = probs[:,1]\n",
    "fpr, tpr, threshold = metrics.roc_curve(y2_test, preds)\n",
    "roc_auc = metrics.auc(fpr, tpr)\n",
    "\n",
    "# method I: plt\n",
    "import matplotlib.pyplot as plt\n",
    "plt.title('Receiver Operating Characteristic')\n",
    "plt.plot(fpr, tpr, 'b', label = 'AUC = %0.3f' % roc_auc)\n",
    "plt.legend(loc = 'lower right')\n",
    "plt.plot([0, 1], [0, 1],'r--')\n",
    "plt.xlim([0, 1])\n",
    "plt.ylim([0, 1])\n",
    "plt.ylabel('True Positive Rate')\n",
    "plt.xlabel('False Positive Rate')\n",
    "plt.show()\n",
    "\n",
    "# method II: ggplot\n",
    "from ggplot import *\n",
    "df = pd.DataFrame(dict(fpr = fpr, tpr = tpr))\n",
    "ggplot(df, aes(x = 'fpr', y = 'tpr')) + geom_line() + geom_abline(linetype = 'dashed')"
   ]
  },
  {
   "cell_type": "code",
   "execution_count": 69,
   "id": "15cb0d59",
   "metadata": {},
   "outputs": [
    {
     "name": "stdout",
     "output_type": "stream",
     "text": [
      "balanced_accuracy 0.5595238095238095\n"
     ]
    }
   ],
   "source": [
    "print(\"balanced_accuracy\", balanced_accuracy_score(y2_test, y2_pred))"
   ]
  },
  {
   "cell_type": "code",
   "execution_count": 70,
   "id": "009005c6",
   "metadata": {},
   "outputs": [
    {
     "name": "stdout",
     "output_type": "stream",
     "text": [
      "Model1: f1=0.400 auc=0.669\n"
     ]
    },
    {
     "data": {
      "image/png": "[encoded data removed]",
      "text/plain": [
       "<Figure size 432x288 with 1 Axes>"
      ]
     },
     "metadata": {
      "needs_background": "light"
     },
     "output_type": "display_data"
    }
   ],
   "source": [
    "# precision-recall curve and f1\n",
    "from sklearn.datasets import make_classification\n",
    "from sklearn.linear_model import LogisticRegression\n",
    "from sklearn.model_selection import train_test_split\n",
    "from sklearn.metrics import precision_recall_curve\n",
    "from sklearn.metrics import f1_score\n",
    "from sklearn.metrics import auc\n",
    "from matplotlib import pyplot\n",
    "lr_probs = grid3.predict_proba(X2_test)\n",
    "# keep probabilities for the positive outcome only\n",
    "lr_probs = lr_probs[:, 1]\n",
    "# predict class values\n",
    "yhat = grid3.predict(X2_test)\n",
    "lr_precision, lr_recall, _ = precision_recall_curve(y2_test, lr_probs)\n",
    "lr_f1, lr_auc = f1_score(y2_test, yhat), auc(lr_recall, lr_precision)\n",
    "# summarize scores\n",
    "print('Model1: f1=%.3f auc=%.3f' % (lr_f1, lr_auc))\n",
    "# plot the precision-recall curves\n",
    "no_skill = len(y2_test[y2_test==1]) / len(y2_test)\n",
    "pyplot.plot([0, 1], [no_skill, no_skill], linestyle='--', label='No Skill')\n",
    "pyplot.plot(lr_recall, lr_precision, marker='.', label='Decision Tree')\n",
    "# axis labels\n",
    "pyplot.xlabel('Recall')\n",
    "pyplot.ylabel('Precision')\n",
    "# show the legend\n",
    "pyplot.legend()\n",
    "# show the plot\n",
    "pyplot.show()"
   ]
  },
  {
   "cell_type": "markdown",
   "id": "71c79845",
   "metadata": {},
   "source": [
    "# SVM"
   ]
  },
  {
   "cell_type": "code",
   "execution_count": 71,
   "id": "f4f447be",
   "metadata": {},
   "outputs": [
    {
     "name": "stdout",
     "output_type": "stream",
     "text": [
      "Fitting 5 folds for each of 24 candidates, totalling 120 fits\n",
      "[CV 1/5] END C=0.1, class_weight=balanced, gamma=1, kernel=linear;, score=0.750 total time=   0.0s\n",
      "[CV 2/5] END C=0.1, class_weight=balanced, gamma=1, kernel=linear;, score=0.625 total time=   0.0s\n",
      "[CV 3/5] END C=0.1, class_weight=balanced, gamma=1, kernel=linear;, score=0.739 total time=   0.0s\n",
      "[CV 4/5] END C=0.1, class_weight=balanced, gamma=1, kernel=linear;, score=0.739 total time=   0.0s\n",
      "[CV 5/5] END C=0.1, class_weight=balanced, gamma=1, kernel=linear;, score=0.652 total time=   0.0s\n",
      "[CV 1/5] END C=0.1, class_weight=balanced, gamma=1, kernel=rbf;, score=0.500 total time=   0.0s\n",
      "[CV 2/5] END C=0.1, class_weight=balanced, gamma=1, kernel=rbf;, score=0.500 total time=   0.0s\n",
      "[CV 3/5] END C=0.1, class_weight=balanced, gamma=1, kernel=rbf;, score=0.478 total time=   0.0s\n",
      "[CV 4/5] END C=0.1, class_weight=balanced, gamma=1, kernel=rbf;, score=0.478 total time=   0.0s\n",
      "[CV 5/5] END C=0.1, class_weight=balanced, gamma=1, kernel=rbf;, score=0.478 total time=   0.0s\n",
      "[CV 1/5] END C=0.1, class_weight=balanced, gamma=0.1, kernel=linear;, score=0.750 total time=   0.0s\n",
      "[CV 2/5] END C=0.1, class_weight=balanced, gamma=0.1, kernel=linear;, score=0.625 total time=   0.0s\n",
      "[CV 3/5] END C=0.1, class_weight=balanced, gamma=0.1, kernel=linear;, score=0.739 total time=   0.0s\n",
      "[CV 4/5] END C=0.1, class_weight=balanced, gamma=0.1, kernel=linear;, score=0.739 total time=   0.0s\n",
      "[CV 5/5] END C=0.1, class_weight=balanced, gamma=0.1, kernel=linear;, score=0.652 total time=   0.0s\n",
      "[CV 1/5] END C=0.1, class_weight=balanced, gamma=0.1, kernel=rbf;, score=0.500 total time=   0.0s\n",
      "[CV 2/5] END C=0.1, class_weight=balanced, gamma=0.1, kernel=rbf;, score=0.500 total time=   0.0s\n",
      "[CV 3/5] END C=0.1, class_weight=balanced, gamma=0.1, kernel=rbf;, score=0.478 total time=   0.0s\n",
      "[CV 4/5] END C=0.1, class_weight=balanced, gamma=0.1, kernel=rbf;, score=0.478 total time=   0.0s\n",
      "[CV 5/5] END C=0.1, class_weight=balanced, gamma=0.1, kernel=rbf;, score=0.478 total time=   0.0s\n",
      "[CV 1/5] END C=0.1, class_weight=balanced, gamma=0.0001, kernel=linear;, score=0.750 total time=   0.0s\n",
      "[CV 2/5] END C=0.1, class_weight=balanced, gamma=0.0001, kernel=linear;, score=0.625 total time=   0.0s\n",
      "[CV 3/5] END C=0.1, class_weight=balanced, gamma=0.0001, kernel=linear;, score=0.739 total time=   0.0s\n",
      "[CV 4/5] END C=0.1, class_weight=balanced, gamma=0.0001, kernel=linear;, score=0.739 total time=   0.0s\n",
      "[CV 5/5] END C=0.1, class_weight=balanced, gamma=0.0001, kernel=linear;, score=0.652 total time=   0.0s\n",
      "[CV 1/5] END C=0.1, class_weight=balanced, gamma=0.0001, kernel=rbf;, score=0.500 total time=   0.0s\n",
      "[CV 2/5] END C=0.1, class_weight=balanced, gamma=0.0001, kernel=rbf;, score=0.500 total time=   0.0s\n",
      "[CV 3/5] END C=0.1, class_weight=balanced, gamma=0.0001, kernel=rbf;, score=0.478 total time=   0.0s\n",
      "[CV 4/5] END C=0.1, class_weight=balanced, gamma=0.0001, kernel=rbf;, score=0.478 total time=   0.0s\n",
      "[CV 5/5] END C=0.1, class_weight=balanced, gamma=0.0001, kernel=rbf;, score=0.478 total time=   0.0s\n",
      "[CV 1/5] END C=0.1, class_weight=None, gamma=1, kernel=linear;, score=0.750 total time=   0.0s\n",
      "[CV 2/5] END C=0.1, class_weight=None, gamma=1, kernel=linear;, score=0.625 total time=   0.0s\n",
      "[CV 3/5] END C=0.1, class_weight=None, gamma=1, kernel=linear;, score=0.739 total time=   0.0s\n",
      "[CV 4/5] END C=0.1, class_weight=None, gamma=1, kernel=linear;, score=0.739 total time=   0.0s\n",
      "[CV 5/5] END C=0.1, class_weight=None, gamma=1, kernel=linear;, score=0.652 total time=   0.0s\n",
      "[CV 1/5] END C=0.1, class_weight=None, gamma=1, kernel=rbf;, score=0.500 total time=   0.0s\n",
      "[CV 2/5] END C=0.1, class_weight=None, gamma=1, kernel=rbf;, score=0.500 total time=   0.0s\n",
      "[CV 3/5] END C=0.1, class_weight=None, gamma=1, kernel=rbf;, score=0.522 total time=   0.0s\n",
      "[CV 4/5] END C=0.1, class_weight=None, gamma=1, kernel=rbf;, score=0.522 total time=   0.0s\n",
      "[CV 5/5] END C=0.1, class_weight=None, gamma=1, kernel=rbf;, score=0.522 total time=   0.0s\n",
      "[CV 1/5] END C=0.1, class_weight=None, gamma=0.1, kernel=linear;, score=0.750 total time=   0.0s\n",
      "[CV 2/5] END C=0.1, class_weight=None, gamma=0.1, kernel=linear;, score=0.625 total time=   0.0s\n",
      "[CV 3/5] END C=0.1, class_weight=None, gamma=0.1, kernel=linear;, score=0.739 total time=   0.0s\n",
      "[CV 4/5] END C=0.1, class_weight=None, gamma=0.1, kernel=linear;, score=0.739 total time=   0.0s\n",
      "[CV 5/5] END C=0.1, class_weight=None, gamma=0.1, kernel=linear;, score=0.652 total time=   0.0s\n",
      "[CV 1/5] END C=0.1, class_weight=None, gamma=0.1, kernel=rbf;, score=0.500 total time=   0.0s\n",
      "[CV 2/5] END C=0.1, class_weight=None, gamma=0.1, kernel=rbf;, score=0.500 total time=   0.0s\n",
      "[CV 3/5] END C=0.1, class_weight=None, gamma=0.1, kernel=rbf;, score=0.522 total time=   0.0s\n",
      "[CV 4/5] END C=0.1, class_weight=None, gamma=0.1, kernel=rbf;, score=0.522 total time=   0.0s\n",
      "[CV 5/5] END C=0.1, class_weight=None, gamma=0.1, kernel=rbf;, score=0.522 total time=   0.0s\n",
      "[CV 1/5] END C=0.1, class_weight=None, gamma=0.0001, kernel=linear;, score=0.750 total time=   0.0s\n",
      "[CV 2/5] END C=0.1, class_weight=None, gamma=0.0001, kernel=linear;, score=0.625 total time=   0.0s\n",
      "[CV 3/5] END C=0.1, class_weight=None, gamma=0.0001, kernel=linear;, score=0.739 total time=   0.0s\n",
      "[CV 4/5] END C=0.1, class_weight=None, gamma=0.0001, kernel=linear;, score=0.739 total time=   0.0s\n",
      "[CV 5/5] END C=0.1, class_weight=None, gamma=0.0001, kernel=linear;, score=0.652 total time=   0.0s\n",
      "[CV 1/5] END C=0.1, class_weight=None, gamma=0.0001, kernel=rbf;, score=0.500 total time=   0.0s\n",
      "[CV 2/5] END C=0.1, class_weight=None, gamma=0.0001, kernel=rbf;, score=0.500 total time=   0.0s\n",
      "[CV 3/5] END C=0.1, class_weight=None, gamma=0.0001, kernel=rbf;, score=0.522 total time=   0.0s\n",
      "[CV 4/5] END C=0.1, class_weight=None, gamma=0.0001, kernel=rbf;, score=0.522 total time=   0.0s\n",
      "[CV 5/5] END C=0.1, class_weight=None, gamma=0.0001, kernel=rbf;, score=0.522 total time=   0.0s\n",
      "[CV 1/5] END C=1000, class_weight=balanced, gamma=1, kernel=linear;, score=0.750 total time=   0.0s\n",
      "[CV 2/5] END C=1000, class_weight=balanced, gamma=1, kernel=linear;, score=0.750 total time=   0.0s\n",
      "[CV 3/5] END C=1000, class_weight=balanced, gamma=1, kernel=linear;, score=0.739 total time=   0.0s\n",
      "[CV 4/5] END C=1000, class_weight=balanced, gamma=1, kernel=linear;, score=0.696 total time=   0.0s\n",
      "[CV 5/5] END C=1000, class_weight=balanced, gamma=1, kernel=linear;, score=0.652 total time=   0.0s\n",
      "[CV 1/5] END C=1000, class_weight=balanced, gamma=1, kernel=rbf;, score=0.708 total time=   0.0s\n",
      "[CV 2/5] END C=1000, class_weight=balanced, gamma=1, kernel=rbf;, score=0.750 total time=   0.0s\n",
      "[CV 3/5] END C=1000, class_weight=balanced, gamma=1, kernel=rbf;, score=0.696 total time=   0.0s\n",
      "[CV 4/5] END C=1000, class_weight=balanced, gamma=1, kernel=rbf;, score=0.826 total time=   0.0s\n",
      "[CV 5/5] END C=1000, class_weight=balanced, gamma=1, kernel=rbf;, score=0.609 total time=   0.0s\n",
      "[CV 1/5] END C=1000, class_weight=balanced, gamma=0.1, kernel=linear;, score=0.750 total time=   0.0s\n",
      "[CV 2/5] END C=1000, class_weight=balanced, gamma=0.1, kernel=linear;, score=0.750 total time=   0.0s\n",
      "[CV 3/5] END C=1000, class_weight=balanced, gamma=0.1, kernel=linear;, score=0.739 total time=   0.0s\n",
      "[CV 4/5] END C=1000, class_weight=balanced, gamma=0.1, kernel=linear;, score=0.696 total time=   0.0s\n",
      "[CV 5/5] END C=1000, class_weight=balanced, gamma=0.1, kernel=linear;, score=0.652 total time=   0.0s\n",
      "[CV 1/5] END C=1000, class_weight=balanced, gamma=0.1, kernel=rbf;, score=0.792 total time=   0.0s\n",
      "[CV 2/5] END C=1000, class_weight=balanced, gamma=0.1, kernel=rbf;, score=0.833 total time=   0.0s\n",
      "[CV 3/5] END C=1000, class_weight=balanced, gamma=0.1, kernel=rbf;, score=0.609 total time=   0.0s\n",
      "[CV 4/5] END C=1000, class_weight=balanced, gamma=0.1, kernel=rbf;, score=0.870 total time=   0.0s\n",
      "[CV 5/5] END C=1000, class_weight=balanced, gamma=0.1, kernel=rbf;, score=0.652 total time=   0.0s\n",
      "[CV 1/5] END C=1000, class_weight=balanced, gamma=0.0001, kernel=linear;, score=0.750 total time=   0.0s\n",
      "[CV 2/5] END C=1000, class_weight=balanced, gamma=0.0001, kernel=linear;, score=0.750 total time=   0.0s\n",
      "[CV 3/5] END C=1000, class_weight=balanced, gamma=0.0001, kernel=linear;, score=0.739 total time=   0.0s\n",
      "[CV 4/5] END C=1000, class_weight=balanced, gamma=0.0001, kernel=linear;, score=0.696 total time=   0.0s\n",
      "[CV 5/5] END C=1000, class_weight=balanced, gamma=0.0001, kernel=linear;, score=0.652 total time=   0.0s\n",
      "[CV 1/5] END C=1000, class_weight=balanced, gamma=0.0001, kernel=rbf;, score=0.750 total time=   0.0s\n",
      "[CV 2/5] END C=1000, class_weight=balanced, gamma=0.0001, kernel=rbf;, score=0.708 total time=   0.0s\n",
      "[CV 3/5] END C=1000, class_weight=balanced, gamma=0.0001, kernel=rbf;, score=0.739 total time=   0.0s\n",
      "[CV 4/5] END C=1000, class_weight=balanced, gamma=0.0001, kernel=rbf;, score=0.739 total time=   0.0s\n",
      "[CV 5/5] END C=1000, class_weight=balanced, gamma=0.0001, kernel=rbf;, score=0.696 total time=   0.0s\n",
      "[CV 1/5] END C=1000, class_weight=None, gamma=1, kernel=linear;, score=0.750 total time=   0.0s\n"
     ]
    },
    {
     "name": "stdout",
     "output_type": "stream",
     "text": [
      "[CV 2/5] END C=1000, class_weight=None, gamma=1, kernel=linear;, score=0.750 total time=   0.0s\n",
      "[CV 3/5] END C=1000, class_weight=None, gamma=1, kernel=linear;, score=0.739 total time=   0.0s\n",
      "[CV 4/5] END C=1000, class_weight=None, gamma=1, kernel=linear;, score=0.696 total time=   0.0s\n",
      "[CV 5/5] END C=1000, class_weight=None, gamma=1, kernel=linear;, score=0.652 total time=   0.0s\n",
      "[CV 1/5] END C=1000, class_weight=None, gamma=1, kernel=rbf;, score=0.708 total time=   0.0s\n",
      "[CV 2/5] END C=1000, class_weight=None, gamma=1, kernel=rbf;, score=0.750 total time=   0.0s\n",
      "[CV 3/5] END C=1000, class_weight=None, gamma=1, kernel=rbf;, score=0.696 total time=   0.0s\n",
      "[CV 4/5] END C=1000, class_weight=None, gamma=1, kernel=rbf;, score=0.826 total time=   0.0s\n",
      "[CV 5/5] END C=1000, class_weight=None, gamma=1, kernel=rbf;, score=0.609 total time=   0.0s\n",
      "[CV 1/5] END C=1000, class_weight=None, gamma=0.1, kernel=linear;, score=0.750 total time=   0.0s\n",
      "[CV 2/5] END C=1000, class_weight=None, gamma=0.1, kernel=linear;, score=0.750 total time=   0.0s\n",
      "[CV 3/5] END C=1000, class_weight=None, gamma=0.1, kernel=linear;, score=0.739 total time=   0.0s\n",
      "[CV 4/5] END C=1000, class_weight=None, gamma=0.1, kernel=linear;, score=0.696 total time=   0.0s\n",
      "[CV 5/5] END C=1000, class_weight=None, gamma=0.1, kernel=linear;, score=0.652 total time=   0.0s\n",
      "[CV 1/5] END C=1000, class_weight=None, gamma=0.1, kernel=rbf;, score=0.792 total time=   0.0s\n",
      "[CV 2/5] END C=1000, class_weight=None, gamma=0.1, kernel=rbf;, score=0.833 total time=   0.0s\n",
      "[CV 3/5] END C=1000, class_weight=None, gamma=0.1, kernel=rbf;, score=0.609 total time=   0.0s\n",
      "[CV 4/5] END C=1000, class_weight=None, gamma=0.1, kernel=rbf;, score=0.870 total time=   0.0s\n",
      "[CV 5/5] END C=1000, class_weight=None, gamma=0.1, kernel=rbf;, score=0.652 total time=   0.0s\n",
      "[CV 1/5] END C=1000, class_weight=None, gamma=0.0001, kernel=linear;, score=0.750 total time=   0.0s\n",
      "[CV 2/5] END C=1000, class_weight=None, gamma=0.0001, kernel=linear;, score=0.750 total time=   0.0s\n",
      "[CV 3/5] END C=1000, class_weight=None, gamma=0.0001, kernel=linear;, score=0.739 total time=   0.0s\n",
      "[CV 4/5] END C=1000, class_weight=None, gamma=0.0001, kernel=linear;, score=0.696 total time=   0.0s\n",
      "[CV 5/5] END C=1000, class_weight=None, gamma=0.0001, kernel=linear;, score=0.652 total time=   0.0s\n",
      "[CV 1/5] END C=1000, class_weight=None, gamma=0.0001, kernel=rbf;, score=0.750 total time=   0.0s\n",
      "[CV 2/5] END C=1000, class_weight=None, gamma=0.0001, kernel=rbf;, score=0.708 total time=   0.0s\n",
      "[CV 3/5] END C=1000, class_weight=None, gamma=0.0001, kernel=rbf;, score=0.739 total time=   0.0s\n",
      "[CV 4/5] END C=1000, class_weight=None, gamma=0.0001, kernel=rbf;, score=0.739 total time=   0.0s\n",
      "[CV 5/5] END C=1000, class_weight=None, gamma=0.0001, kernel=rbf;, score=0.696 total time=   0.0s\n",
      "The best parameters are {'C': 1000, 'class_weight': 'balanced', 'gamma': 0.1, 'kernel': 'rbf'} with a score of 0.75\n"
     ]
    }
   ],
   "source": [
    "\n",
    "from sklearn.model_selection import GridSearchCV\n",
    "  \n",
    "# defining parameter range\n",
    "param_grid = {'C': [0.1, 1000], \n",
    "              'gamma': [1, 0.1, 0.0001],\n",
    "               'kernel': ['linear','rbf'],\n",
    "                'class_weight':['balanced', None]} \n",
    "rf=SVC(probability=True)\n",
    "grid4 = GridSearchCV(estimator=rf, param_grid=param_grid, refit = True, verbose = 3, cv=5)\n",
    "  \n",
    "# fitting the model for grid search\n",
    "grid4.fit(X1_train, y1_train)\n",
    "print(\"The best parameters are %s with a score of %0.2f\"\n",
    "      % (grid4.best_params_, grid4.best_score_))"
   ]
  },
  {
   "cell_type": "code",
   "execution_count": 72,
   "id": "cf2e75c0",
   "metadata": {},
   "outputs": [],
   "source": [
    "#model4 = SVC(C=10,gamma=0.1, max_iter=4000)"
   ]
  },
  {
   "cell_type": "code",
   "execution_count": 73,
   "id": "499a1947",
   "metadata": {},
   "outputs": [
    {
     "name": "stdout",
     "output_type": "stream",
     "text": [
      "Fitting 5 folds for each of 24 candidates, totalling 120 fits\n",
      "[CV 1/5] END C=0.1, class_weight=balanced, gamma=1, kernel=linear;, score=0.750 total time=   0.0s\n",
      "[CV 2/5] END C=0.1, class_weight=balanced, gamma=1, kernel=linear;, score=0.625 total time=   0.0s\n",
      "[CV 3/5] END C=0.1, class_weight=balanced, gamma=1, kernel=linear;, score=0.739 total time=   0.0s\n",
      "[CV 4/5] END C=0.1, class_weight=balanced, gamma=1, kernel=linear;, score=0.739 total time=   0.0s\n",
      "[CV 5/5] END C=0.1, class_weight=balanced, gamma=1, kernel=linear;, score=0.652 total time=   0.0s\n",
      "[CV 1/5] END C=0.1, class_weight=balanced, gamma=1, kernel=rbf;, score=0.500 total time=   0.0s\n",
      "[CV 2/5] END C=0.1, class_weight=balanced, gamma=1, kernel=rbf;, score=0.500 total time=   0.0s\n",
      "[CV 3/5] END C=0.1, class_weight=balanced, gamma=1, kernel=rbf;, score=0.478 total time=   0.0s\n",
      "[CV 4/5] END C=0.1, class_weight=balanced, gamma=1, kernel=rbf;, score=0.478 total time=   0.0s\n",
      "[CV 5/5] END C=0.1, class_weight=balanced, gamma=1, kernel=rbf;, score=0.478 total time=   0.0s\n",
      "[CV 1/5] END C=0.1, class_weight=balanced, gamma=0.1, kernel=linear;, score=0.750 total time=   0.0s\n",
      "[CV 2/5] END C=0.1, class_weight=balanced, gamma=0.1, kernel=linear;, score=0.625 total time=   0.0s\n",
      "[CV 3/5] END C=0.1, class_weight=balanced, gamma=0.1, kernel=linear;, score=0.739 total time=   0.0s\n",
      "[CV 4/5] END C=0.1, class_weight=balanced, gamma=0.1, kernel=linear;, score=0.739 total time=   0.0s\n",
      "[CV 5/5] END C=0.1, class_weight=balanced, gamma=0.1, kernel=linear;, score=0.652 total time=   0.0s\n",
      "[CV 1/5] END C=0.1, class_weight=balanced, gamma=0.1, kernel=rbf;, score=0.500 total time=   0.0s\n",
      "[CV 2/5] END C=0.1, class_weight=balanced, gamma=0.1, kernel=rbf;, score=0.500 total time=   0.0s\n",
      "[CV 3/5] END C=0.1, class_weight=balanced, gamma=0.1, kernel=rbf;, score=0.478 total time=   0.0s\n",
      "[CV 4/5] END C=0.1, class_weight=balanced, gamma=0.1, kernel=rbf;, score=0.478 total time=   0.0s\n",
      "[CV 5/5] END C=0.1, class_weight=balanced, gamma=0.1, kernel=rbf;, score=0.478 total time=   0.0s\n",
      "[CV 1/5] END C=0.1, class_weight=balanced, gamma=0.0001, kernel=linear;, score=0.750 total time=   0.0s\n",
      "[CV 2/5] END C=0.1, class_weight=balanced, gamma=0.0001, kernel=linear;, score=0.625 total time=   0.0s\n",
      "[CV 3/5] END C=0.1, class_weight=balanced, gamma=0.0001, kernel=linear;, score=0.739 total time=   0.0s\n",
      "[CV 4/5] END C=0.1, class_weight=balanced, gamma=0.0001, kernel=linear;, score=0.739 total time=   0.0s\n",
      "[CV 5/5] END C=0.1, class_weight=balanced, gamma=0.0001, kernel=linear;, score=0.652 total time=   0.0s\n",
      "[CV 1/5] END C=0.1, class_weight=balanced, gamma=0.0001, kernel=rbf;, score=0.500 total time=   0.0s\n",
      "[CV 2/5] END C=0.1, class_weight=balanced, gamma=0.0001, kernel=rbf;, score=0.500 total time=   0.0s\n",
      "[CV 3/5] END C=0.1, class_weight=balanced, gamma=0.0001, kernel=rbf;, score=0.478 total time=   0.0s\n",
      "[CV 4/5] END C=0.1, class_weight=balanced, gamma=0.0001, kernel=rbf;, score=0.478 total time=   0.0s\n",
      "[CV 5/5] END C=0.1, class_weight=balanced, gamma=0.0001, kernel=rbf;, score=0.478 total time=   0.0s\n",
      "[CV 1/5] END C=0.1, class_weight=None, gamma=1, kernel=linear;, score=0.750 total time=   0.0s\n",
      "[CV 2/5] END C=0.1, class_weight=None, gamma=1, kernel=linear;, score=0.625 total time=   0.0s\n",
      "[CV 3/5] END C=0.1, class_weight=None, gamma=1, kernel=linear;, score=0.739 total time=   0.0s\n",
      "[CV 4/5] END C=0.1, class_weight=None, gamma=1, kernel=linear;, score=0.739 total time=   0.0s\n",
      "[CV 5/5] END C=0.1, class_weight=None, gamma=1, kernel=linear;, score=0.652 total time=   0.0s\n",
      "[CV 1/5] END C=0.1, class_weight=None, gamma=1, kernel=rbf;, score=0.500 total time=   0.0s\n",
      "[CV 2/5] END C=0.1, class_weight=None, gamma=1, kernel=rbf;, score=0.500 total time=   0.0s\n",
      "[CV 3/5] END C=0.1, class_weight=None, gamma=1, kernel=rbf;, score=0.522 total time=   0.0s\n",
      "[CV 4/5] END C=0.1, class_weight=None, gamma=1, kernel=rbf;, score=0.522 total time=   0.0s\n",
      "[CV 5/5] END C=0.1, class_weight=None, gamma=1, kernel=rbf;, score=0.522 total time=   0.0s\n",
      "[CV 1/5] END C=0.1, class_weight=None, gamma=0.1, kernel=linear;, score=0.750 total time=   0.0s\n",
      "[CV 2/5] END C=0.1, class_weight=None, gamma=0.1, kernel=linear;, score=0.625 total time=   0.0s\n",
      "[CV 3/5] END C=0.1, class_weight=None, gamma=0.1, kernel=linear;, score=0.739 total time=   0.0s\n",
      "[CV 4/5] END C=0.1, class_weight=None, gamma=0.1, kernel=linear;, score=0.739 total time=   0.0s\n",
      "[CV 5/5] END C=0.1, class_weight=None, gamma=0.1, kernel=linear;, score=0.652 total time=   0.0s\n",
      "[CV 1/5] END C=0.1, class_weight=None, gamma=0.1, kernel=rbf;, score=0.500 total time=   0.0s\n",
      "[CV 2/5] END C=0.1, class_weight=None, gamma=0.1, kernel=rbf;, score=0.500 total time=   0.0s\n",
      "[CV 3/5] END C=0.1, class_weight=None, gamma=0.1, kernel=rbf;, score=0.522 total time=   0.0s\n",
      "[CV 4/5] END C=0.1, class_weight=None, gamma=0.1, kernel=rbf;, score=0.522 total time=   0.0s\n",
      "[CV 5/5] END C=0.1, class_weight=None, gamma=0.1, kernel=rbf;, score=0.522 total time=   0.0s\n",
      "[CV 1/5] END C=0.1, class_weight=None, gamma=0.0001, kernel=linear;, score=0.750 total time=   0.0s\n",
      "[CV 2/5] END C=0.1, class_weight=None, gamma=0.0001, kernel=linear;, score=0.625 total time=   0.0s\n",
      "[CV 3/5] END C=0.1, class_weight=None, gamma=0.0001, kernel=linear;, score=0.739 total time=   0.0s\n",
      "[CV 4/5] END C=0.1, class_weight=None, gamma=0.0001, kernel=linear;, score=0.739 total time=   0.0s\n",
      "[CV 5/5] END C=0.1, class_weight=None, gamma=0.0001, kernel=linear;, score=0.652 total time=   0.0s\n",
      "[CV 1/5] END C=0.1, class_weight=None, gamma=0.0001, kernel=rbf;, score=0.500 total time=   0.0s\n",
      "[CV 2/5] END C=0.1, class_weight=None, gamma=0.0001, kernel=rbf;, score=0.500 total time=   0.0s\n",
      "[CV 3/5] END C=0.1, class_weight=None, gamma=0.0001, kernel=rbf;, score=0.522 total time=   0.0s\n",
      "[CV 4/5] END C=0.1, class_weight=None, gamma=0.0001, kernel=rbf;, score=0.522 total time=   0.0s\n",
      "[CV 5/5] END C=0.1, class_weight=None, gamma=0.0001, kernel=rbf;, score=0.522 total time=   0.0s\n",
      "[CV 1/5] END C=1000, class_weight=balanced, gamma=1, kernel=linear;, score=0.750 total time=   0.0s\n",
      "[CV 2/5] END C=1000, class_weight=balanced, gamma=1, kernel=linear;, score=0.750 total time=   0.0s\n",
      "[CV 3/5] END C=1000, class_weight=balanced, gamma=1, kernel=linear;, score=0.739 total time=   0.0s\n",
      "[CV 4/5] END C=1000, class_weight=balanced, gamma=1, kernel=linear;, score=0.696 total time=   0.0s\n",
      "[CV 5/5] END C=1000, class_weight=balanced, gamma=1, kernel=linear;, score=0.652 total time=   0.0s\n",
      "[CV 1/5] END C=1000, class_weight=balanced, gamma=1, kernel=rbf;, score=0.708 total time=   0.0s\n",
      "[CV 2/5] END C=1000, class_weight=balanced, gamma=1, kernel=rbf;, score=0.750 total time=   0.0s\n",
      "[CV 3/5] END C=1000, class_weight=balanced, gamma=1, kernel=rbf;, score=0.696 total time=   0.0s\n",
      "[CV 4/5] END C=1000, class_weight=balanced, gamma=1, kernel=rbf;, score=0.826 total time=   0.0s\n",
      "[CV 5/5] END C=1000, class_weight=balanced, gamma=1, kernel=rbf;, score=0.609 total time=   0.0s\n",
      "[CV 1/5] END C=1000, class_weight=balanced, gamma=0.1, kernel=linear;, score=0.750 total time=   0.0s\n",
      "[CV 2/5] END C=1000, class_weight=balanced, gamma=0.1, kernel=linear;, score=0.750 total time=   0.0s\n",
      "[CV 3/5] END C=1000, class_weight=balanced, gamma=0.1, kernel=linear;, score=0.739 total time=   0.0s\n",
      "[CV 4/5] END C=1000, class_weight=balanced, gamma=0.1, kernel=linear;, score=0.696 total time=   0.0s\n",
      "[CV 5/5] END C=1000, class_weight=balanced, gamma=0.1, kernel=linear;, score=0.652 total time=   0.0s\n",
      "[CV 1/5] END C=1000, class_weight=balanced, gamma=0.1, kernel=rbf;, score=0.792 total time=   0.0s\n",
      "[CV 2/5] END C=1000, class_weight=balanced, gamma=0.1, kernel=rbf;, score=0.833 total time=   0.0s\n",
      "[CV 3/5] END C=1000, class_weight=balanced, gamma=0.1, kernel=rbf;, score=0.609 total time=   0.0s\n",
      "[CV 4/5] END C=1000, class_weight=balanced, gamma=0.1, kernel=rbf;, score=0.870 total time=   0.0s\n",
      "[CV 5/5] END C=1000, class_weight=balanced, gamma=0.1, kernel=rbf;, score=0.652 total time=   0.0s\n",
      "[CV 1/5] END C=1000, class_weight=balanced, gamma=0.0001, kernel=linear;, score=0.750 total time=   0.0s\n",
      "[CV 2/5] END C=1000, class_weight=balanced, gamma=0.0001, kernel=linear;, score=0.750 total time=   0.0s\n",
      "[CV 3/5] END C=1000, class_weight=balanced, gamma=0.0001, kernel=linear;, score=0.739 total time=   0.0s\n",
      "[CV 4/5] END C=1000, class_weight=balanced, gamma=0.0001, kernel=linear;, score=0.696 total time=   0.0s\n",
      "[CV 5/5] END C=1000, class_weight=balanced, gamma=0.0001, kernel=linear;, score=0.652 total time=   0.0s\n",
      "[CV 1/5] END C=1000, class_weight=balanced, gamma=0.0001, kernel=rbf;, score=0.750 total time=   0.0s\n",
      "[CV 2/5] END C=1000, class_weight=balanced, gamma=0.0001, kernel=rbf;, score=0.708 total time=   0.0s\n"
     ]
    },
    {
     "name": "stdout",
     "output_type": "stream",
     "text": [
      "[CV 3/5] END C=1000, class_weight=balanced, gamma=0.0001, kernel=rbf;, score=0.739 total time=   0.0s\n",
      "[CV 4/5] END C=1000, class_weight=balanced, gamma=0.0001, kernel=rbf;, score=0.739 total time=   0.0s\n",
      "[CV 5/5] END C=1000, class_weight=balanced, gamma=0.0001, kernel=rbf;, score=0.696 total time=   0.0s\n",
      "[CV 1/5] END C=1000, class_weight=None, gamma=1, kernel=linear;, score=0.750 total time=   0.0s\n",
      "[CV 2/5] END C=1000, class_weight=None, gamma=1, kernel=linear;, score=0.750 total time=   0.0s\n",
      "[CV 3/5] END C=1000, class_weight=None, gamma=1, kernel=linear;, score=0.739 total time=   0.0s\n",
      "[CV 4/5] END C=1000, class_weight=None, gamma=1, kernel=linear;, score=0.696 total time=   0.0s\n",
      "[CV 5/5] END C=1000, class_weight=None, gamma=1, kernel=linear;, score=0.652 total time=   0.0s\n",
      "[CV 1/5] END C=1000, class_weight=None, gamma=1, kernel=rbf;, score=0.708 total time=   0.0s\n",
      "[CV 2/5] END C=1000, class_weight=None, gamma=1, kernel=rbf;, score=0.750 total time=   0.0s\n",
      "[CV 3/5] END C=1000, class_weight=None, gamma=1, kernel=rbf;, score=0.696 total time=   0.0s\n",
      "[CV 4/5] END C=1000, class_weight=None, gamma=1, kernel=rbf;, score=0.826 total time=   0.0s\n",
      "[CV 5/5] END C=1000, class_weight=None, gamma=1, kernel=rbf;, score=0.609 total time=   0.0s\n",
      "[CV 1/5] END C=1000, class_weight=None, gamma=0.1, kernel=linear;, score=0.750 total time=   0.0s\n",
      "[CV 2/5] END C=1000, class_weight=None, gamma=0.1, kernel=linear;, score=0.750 total time=   0.0s\n",
      "[CV 3/5] END C=1000, class_weight=None, gamma=0.1, kernel=linear;, score=0.739 total time=   0.0s\n",
      "[CV 4/5] END C=1000, class_weight=None, gamma=0.1, kernel=linear;, score=0.696 total time=   0.0s\n",
      "[CV 5/5] END C=1000, class_weight=None, gamma=0.1, kernel=linear;, score=0.652 total time=   0.0s\n",
      "[CV 1/5] END C=1000, class_weight=None, gamma=0.1, kernel=rbf;, score=0.792 total time=   0.0s\n",
      "[CV 2/5] END C=1000, class_weight=None, gamma=0.1, kernel=rbf;, score=0.833 total time=   0.0s\n",
      "[CV 3/5] END C=1000, class_weight=None, gamma=0.1, kernel=rbf;, score=0.609 total time=   0.0s\n",
      "[CV 4/5] END C=1000, class_weight=None, gamma=0.1, kernel=rbf;, score=0.870 total time=   0.0s\n",
      "[CV 5/5] END C=1000, class_weight=None, gamma=0.1, kernel=rbf;, score=0.652 total time=   0.0s\n",
      "[CV 1/5] END C=1000, class_weight=None, gamma=0.0001, kernel=linear;, score=0.750 total time=   0.0s\n",
      "[CV 2/5] END C=1000, class_weight=None, gamma=0.0001, kernel=linear;, score=0.750 total time=   0.0s\n",
      "[CV 3/5] END C=1000, class_weight=None, gamma=0.0001, kernel=linear;, score=0.739 total time=   0.0s\n",
      "[CV 4/5] END C=1000, class_weight=None, gamma=0.0001, kernel=linear;, score=0.696 total time=   0.0s\n",
      "[CV 5/5] END C=1000, class_weight=None, gamma=0.0001, kernel=linear;, score=0.652 total time=   0.0s\n",
      "[CV 1/5] END C=1000, class_weight=None, gamma=0.0001, kernel=rbf;, score=0.750 total time=   0.0s\n",
      "[CV 2/5] END C=1000, class_weight=None, gamma=0.0001, kernel=rbf;, score=0.708 total time=   0.0s\n",
      "[CV 3/5] END C=1000, class_weight=None, gamma=0.0001, kernel=rbf;, score=0.739 total time=   0.0s\n",
      "[CV 4/5] END C=1000, class_weight=None, gamma=0.0001, kernel=rbf;, score=0.739 total time=   0.0s\n",
      "[CV 5/5] END C=1000, class_weight=None, gamma=0.0001, kernel=rbf;, score=0.696 total time=   0.0s\n"
     ]
    },
    {
     "data": {
      "image/png": "[encoded data removed]",
      "text/plain": [
       "<Figure size 360x288 with 2 Axes>"
      ]
     },
     "metadata": {
      "needs_background": "light"
     },
     "output_type": "display_data"
    }
   ],
   "source": [
    "grid4.fit(X1_train, y1_train)  \n",
    "\n",
    "y1_pred = grid4.predict(X1_test)\n",
    "\n",
    "cm = confusion_matrix(y1_test, y1_pred)\n",
    "cm_df = pd.DataFrame(cm,\n",
    "                     index = [0,1], \n",
    "                     columns = [0,1])\n",
    "plt.figure(figsize=(5,4))\n",
    "sns.heatmap(cm_df, annot=True)\n",
    "plt.title('Confusion Matrix')\n",
    "plt.ylabel('Actal Values')\n",
    "plt.xlabel('Predicted Values')\n",
    "plt.show()\n",
    "\n",
    "#print(cm)\n"
   ]
  },
  {
   "cell_type": "code",
   "execution_count": 74,
   "id": "af297c92",
   "metadata": {},
   "outputs": [
    {
     "name": "stdout",
     "output_type": "stream",
     "text": [
      "[1 1 1 1 1 1 1 0 0 1 0 1 1 1 1 1 0 0 0 0 0 1 1 1 1 1 1 1 1 0 1 1 0 1 1 1 1\n",
      " 1 1]\n"
     ]
    }
   ],
   "source": [
    "print(y1_pred)"
   ]
  },
  {
   "cell_type": "code",
   "execution_count": 75,
   "id": "2e8ba058",
   "metadata": {
    "scrolled": false
   },
   "outputs": [
    {
     "name": "stdout",
     "output_type": "stream",
     "text": [
      "              precision    recall  f1-score   support\n",
      "\n",
      "           0       0.80      0.44      0.57        18\n",
      "           1       0.66      0.90      0.76        21\n",
      "\n",
      "    accuracy                           0.69        39\n",
      "   macro avg       0.73      0.67      0.67        39\n",
      "weighted avg       0.72      0.69      0.67        39\n",
      "\n"
     ]
    }
   ],
   "source": [
    "print(classification_report(y1_test, y1_pred))"
   ]
  },
  {
   "cell_type": "code",
   "execution_count": 76,
   "id": "50a26ed5",
   "metadata": {},
   "outputs": [
    {
     "data": {
      "image/png": "[encoded data removed]",
      "text/plain": [
       "<Figure size 432x288 with 1 Axes>"
      ]
     },
     "metadata": {
      "needs_background": "light"
     },
     "output_type": "display_data"
    },
    {
     "data": {
      "image/png": "[encoded data removed]",
      "text/plain": [
       "<Figure size 792x576 with 1 Axes>"
      ]
     },
     "metadata": {},
     "output_type": "display_data"
    },
    {
     "data": {
      "text/plain": [
       "<ggplot: (100788624062)>"
      ]
     },
     "execution_count": 76,
     "metadata": {},
     "output_type": "execute_result"
    }
   ],
   "source": [
    "import sklearn.metrics as metrics\n",
    "# calculate the fpr and tpr for all thresholds of the classification\n",
    "probs = grid4.predict_proba(X1_test)\n",
    "preds = probs[:,1]\n",
    "fpr, tpr, threshold = metrics.roc_curve(y1_test, preds)\n",
    "roc_auc = metrics.auc(fpr, tpr)\n",
    "\n",
    "# method I: plt\n",
    "import matplotlib.pyplot as plt\n",
    "plt.title('Receiver Operating Characteristic')\n",
    "plt.plot(fpr, tpr, 'b', label = 'AUC = %0.3f' % roc_auc)\n",
    "plt.legend(loc = 'lower right')\n",
    "plt.plot([0, 1], [0, 1],'r--')\n",
    "plt.xlim([0, 1])\n",
    "plt.ylim([0, 1])\n",
    "plt.ylabel('True Positive Rate')\n",
    "plt.xlabel('False Positive Rate')\n",
    "plt.show()\n",
    "\n",
    "# method II: ggplot\n",
    "from ggplot import *\n",
    "df = pd.DataFrame(dict(fpr = fpr, tpr = tpr))\n",
    "ggplot(df, aes(x = 'fpr', y = 'tpr')) + geom_line() + geom_abline(linetype = 'dashed')"
   ]
  },
  {
   "cell_type": "code",
   "execution_count": 77,
   "id": "18d14410",
   "metadata": {},
   "outputs": [
    {
     "name": "stdout",
     "output_type": "stream",
     "text": [
      "balanced_accuracy 0.6746031746031746\n"
     ]
    }
   ],
   "source": [
    "print(\"balanced_accuracy\", balanced_accuracy_score(y1_test, y1_pred))"
   ]
  },
  {
   "cell_type": "code",
   "execution_count": 78,
   "id": "5bc8d56e",
   "metadata": {},
   "outputs": [
    {
     "name": "stdout",
     "output_type": "stream",
     "text": [
      "Model1: f1=0.760 auc=0.761\n"
     ]
    },
    {
     "data": {
      "image/png": "[encoded data removed]",
      "text/plain": [
       "<Figure size 432x288 with 1 Axes>"
      ]
     },
     "metadata": {
      "needs_background": "light"
     },
     "output_type": "display_data"
    }
   ],
   "source": [
    "# precision-recall curve and f1\n",
    "from sklearn.datasets import make_classification\n",
    "from sklearn.linear_model import LogisticRegression\n",
    "from sklearn.model_selection import train_test_split\n",
    "from sklearn.metrics import precision_recall_curve\n",
    "from sklearn.metrics import f1_score\n",
    "from sklearn.metrics import auc\n",
    "from matplotlib import pyplot\n",
    "lr_probs = grid4.predict_proba(X1_test)\n",
    "# keep probabilities for the positive outcome only\n",
    "lr_probs = lr_probs[:, 1]\n",
    "# predict class values\n",
    "yhat = grid4.predict(X1_test)\n",
    "lr_precision, lr_recall, _ = precision_recall_curve(y1_test, lr_probs)\n",
    "lr_f1, lr_auc = f1_score(y1_test, yhat), auc(lr_recall, lr_precision)\n",
    "# summarize scores\n",
    "print('Model1: f1=%.3f auc=%.3f' % (lr_f1, lr_auc))\n",
    "# plot the precision-recall curves\n",
    "no_skill = len(y1_test[y1_test==1]) / len(y1_test)\n",
    "pyplot.plot([0, 1], [no_skill, no_skill], linestyle='--', label='No Skill')\n",
    "pyplot.plot(lr_recall, lr_precision, marker='.', label='SVM')\n",
    "# axis labels\n",
    "pyplot.xlabel('Recall')\n",
    "pyplot.ylabel('Precision')\n",
    "# show the legend\n",
    "pyplot.legend()\n",
    "# show the plot\n",
    "pyplot.show()"
   ]
  },
  {
   "cell_type": "code",
   "execution_count": 79,
   "id": "f5e132b1",
   "metadata": {},
   "outputs": [
    {
     "name": "stdout",
     "output_type": "stream",
     "text": [
      "Fitting 5 folds for each of 24 candidates, totalling 120 fits\n",
      "[CV 1/5] END C=0.1, class_weight=balanced, gamma=1, kernel=linear;, score=0.500 total time=   0.0s\n",
      "[CV 2/5] END C=0.1, class_weight=balanced, gamma=1, kernel=linear;, score=0.500 total time=   0.0s\n",
      "[CV 3/5] END C=0.1, class_weight=balanced, gamma=1, kernel=linear;, score=0.478 total time=   0.0s\n",
      "[CV 4/5] END C=0.1, class_weight=balanced, gamma=1, kernel=linear;, score=0.478 total time=   0.0s\n",
      "[CV 5/5] END C=0.1, class_weight=balanced, gamma=1, kernel=linear;, score=0.478 total time=   0.0s\n",
      "[CV 1/5] END C=0.1, class_weight=balanced, gamma=1, kernel=rbf;, score=0.500 total time=   0.0s\n",
      "[CV 2/5] END C=0.1, class_weight=balanced, gamma=1, kernel=rbf;, score=0.500 total time=   0.0s\n",
      "[CV 3/5] END C=0.1, class_weight=balanced, gamma=1, kernel=rbf;, score=0.478 total time=   0.0s\n",
      "[CV 4/5] END C=0.1, class_weight=balanced, gamma=1, kernel=rbf;, score=0.478 total time=   0.0s\n",
      "[CV 5/5] END C=0.1, class_weight=balanced, gamma=1, kernel=rbf;, score=0.478 total time=   0.0s\n",
      "[CV 1/5] END C=0.1, class_weight=balanced, gamma=0.1, kernel=linear;, score=0.500 total time=   0.0s\n",
      "[CV 2/5] END C=0.1, class_weight=balanced, gamma=0.1, kernel=linear;, score=0.500 total time=   0.0s\n",
      "[CV 3/5] END C=0.1, class_weight=balanced, gamma=0.1, kernel=linear;, score=0.478 total time=   0.0s\n",
      "[CV 4/5] END C=0.1, class_weight=balanced, gamma=0.1, kernel=linear;, score=0.478 total time=   0.0s\n",
      "[CV 5/5] END C=0.1, class_weight=balanced, gamma=0.1, kernel=linear;, score=0.478 total time=   0.0s\n",
      "[CV 1/5] END C=0.1, class_weight=balanced, gamma=0.1, kernel=rbf;, score=0.500 total time=   0.0s\n",
      "[CV 2/5] END C=0.1, class_weight=balanced, gamma=0.1, kernel=rbf;, score=0.500 total time=   0.0s\n",
      "[CV 3/5] END C=0.1, class_weight=balanced, gamma=0.1, kernel=rbf;, score=0.478 total time=   0.0s\n",
      "[CV 4/5] END C=0.1, class_weight=balanced, gamma=0.1, kernel=rbf;, score=0.478 total time=   0.0s\n",
      "[CV 5/5] END C=0.1, class_weight=balanced, gamma=0.1, kernel=rbf;, score=0.478 total time=   0.0s\n",
      "[CV 1/5] END C=0.1, class_weight=balanced, gamma=0.0001, kernel=linear;, score=0.500 total time=   0.0s\n",
      "[CV 2/5] END C=0.1, class_weight=balanced, gamma=0.0001, kernel=linear;, score=0.500 total time=   0.0s\n",
      "[CV 3/5] END C=0.1, class_weight=balanced, gamma=0.0001, kernel=linear;, score=0.478 total time=   0.0s\n",
      "[CV 4/5] END C=0.1, class_weight=balanced, gamma=0.0001, kernel=linear;, score=0.478 total time=   0.0s\n",
      "[CV 5/5] END C=0.1, class_weight=balanced, gamma=0.0001, kernel=linear;, score=0.478 total time=   0.0s\n",
      "[CV 1/5] END C=0.1, class_weight=balanced, gamma=0.0001, kernel=rbf;, score=0.500 total time=   0.0s\n",
      "[CV 2/5] END C=0.1, class_weight=balanced, gamma=0.0001, kernel=rbf;, score=0.500 total time=   0.0s\n",
      "[CV 3/5] END C=0.1, class_weight=balanced, gamma=0.0001, kernel=rbf;, score=0.478 total time=   0.0s\n",
      "[CV 4/5] END C=0.1, class_weight=balanced, gamma=0.0001, kernel=rbf;, score=0.478 total time=   0.0s\n",
      "[CV 5/5] END C=0.1, class_weight=balanced, gamma=0.0001, kernel=rbf;, score=0.478 total time=   0.0s\n",
      "[CV 1/5] END C=0.1, class_weight=None, gamma=1, kernel=linear;, score=0.500 total time=   0.0s\n",
      "[CV 2/5] END C=0.1, class_weight=None, gamma=1, kernel=linear;, score=0.500 total time=   0.0s\n",
      "[CV 3/5] END C=0.1, class_weight=None, gamma=1, kernel=linear;, score=0.522 total time=   0.0s\n",
      "[CV 4/5] END C=0.1, class_weight=None, gamma=1, kernel=linear;, score=0.522 total time=   0.0s\n",
      "[CV 5/5] END C=0.1, class_weight=None, gamma=1, kernel=linear;, score=0.522 total time=   0.0s\n",
      "[CV 1/5] END C=0.1, class_weight=None, gamma=1, kernel=rbf;, score=0.500 total time=   0.0s\n",
      "[CV 2/5] END C=0.1, class_weight=None, gamma=1, kernel=rbf;, score=0.500 total time=   0.0s\n",
      "[CV 3/5] END C=0.1, class_weight=None, gamma=1, kernel=rbf;, score=0.522 total time=   0.0s\n",
      "[CV 4/5] END C=0.1, class_weight=None, gamma=1, kernel=rbf;, score=0.522 total time=   0.0s\n",
      "[CV 5/5] END C=0.1, class_weight=None, gamma=1, kernel=rbf;, score=0.522 total time=   0.0s\n",
      "[CV 1/5] END C=0.1, class_weight=None, gamma=0.1, kernel=linear;, score=0.500 total time=   0.0s\n",
      "[CV 2/5] END C=0.1, class_weight=None, gamma=0.1, kernel=linear;, score=0.500 total time=   0.0s\n",
      "[CV 3/5] END C=0.1, class_weight=None, gamma=0.1, kernel=linear;, score=0.522 total time=   0.0s\n",
      "[CV 4/5] END C=0.1, class_weight=None, gamma=0.1, kernel=linear;, score=0.522 total time=   0.0s\n",
      "[CV 5/5] END C=0.1, class_weight=None, gamma=0.1, kernel=linear;, score=0.522 total time=   0.0s\n",
      "[CV 1/5] END C=0.1, class_weight=None, gamma=0.1, kernel=rbf;, score=0.500 total time=   0.0s\n",
      "[CV 2/5] END C=0.1, class_weight=None, gamma=0.1, kernel=rbf;, score=0.500 total time=   0.0s\n",
      "[CV 3/5] END C=0.1, class_weight=None, gamma=0.1, kernel=rbf;, score=0.522 total time=   0.0s\n",
      "[CV 4/5] END C=0.1, class_weight=None, gamma=0.1, kernel=rbf;, score=0.522 total time=   0.0s\n",
      "[CV 5/5] END C=0.1, class_weight=None, gamma=0.1, kernel=rbf;, score=0.522 total time=   0.0s\n",
      "[CV 1/5] END C=0.1, class_weight=None, gamma=0.0001, kernel=linear;, score=0.500 total time=   0.0s\n",
      "[CV 2/5] END C=0.1, class_weight=None, gamma=0.0001, kernel=linear;, score=0.500 total time=   0.0s\n",
      "[CV 3/5] END C=0.1, class_weight=None, gamma=0.0001, kernel=linear;, score=0.522 total time=   0.0s\n",
      "[CV 4/5] END C=0.1, class_weight=None, gamma=0.0001, kernel=linear;, score=0.522 total time=   0.0s\n",
      "[CV 5/5] END C=0.1, class_weight=None, gamma=0.0001, kernel=linear;, score=0.522 total time=   0.0s\n",
      "[CV 1/5] END C=0.1, class_weight=None, gamma=0.0001, kernel=rbf;, score=0.500 total time=   0.0s\n",
      "[CV 2/5] END C=0.1, class_weight=None, gamma=0.0001, kernel=rbf;, score=0.500 total time=   0.0s\n",
      "[CV 3/5] END C=0.1, class_weight=None, gamma=0.0001, kernel=rbf;, score=0.522 total time=   0.0s\n",
      "[CV 4/5] END C=0.1, class_weight=None, gamma=0.0001, kernel=rbf;, score=0.522 total time=   0.0s\n",
      "[CV 5/5] END C=0.1, class_weight=None, gamma=0.0001, kernel=rbf;, score=0.522 total time=   0.0s\n",
      "[CV 1/5] END C=1000, class_weight=balanced, gamma=1, kernel=linear;, score=0.750 total time=   0.0s\n",
      "[CV 2/5] END C=1000, class_weight=balanced, gamma=1, kernel=linear;, score=0.792 total time=   0.0s\n",
      "[CV 3/5] END C=1000, class_weight=balanced, gamma=1, kernel=linear;, score=0.739 total time=   0.0s\n",
      "[CV 4/5] END C=1000, class_weight=balanced, gamma=1, kernel=linear;, score=0.739 total time=   0.0s\n",
      "[CV 5/5] END C=1000, class_weight=balanced, gamma=1, kernel=linear;, score=0.696 total time=   0.0s\n",
      "[CV 1/5] END C=1000, class_weight=balanced, gamma=1, kernel=rbf;, score=0.625 total time=   0.0s\n",
      "[CV 2/5] END C=1000, class_weight=balanced, gamma=1, kernel=rbf;, score=0.875 total time=   0.0s\n",
      "[CV 3/5] END C=1000, class_weight=balanced, gamma=1, kernel=rbf;, score=0.739 total time=   0.0s\n",
      "[CV 4/5] END C=1000, class_weight=balanced, gamma=1, kernel=rbf;, score=0.739 total time=   0.0s\n",
      "[CV 5/5] END C=1000, class_weight=balanced, gamma=1, kernel=rbf;, score=0.783 total time=   0.0s\n",
      "[CV 1/5] END C=1000, class_weight=balanced, gamma=0.1, kernel=linear;, score=0.750 total time=   0.0s\n",
      "[CV 2/5] END C=1000, class_weight=balanced, gamma=0.1, kernel=linear;, score=0.792 total time=   0.0s\n",
      "[CV 3/5] END C=1000, class_weight=balanced, gamma=0.1, kernel=linear;, score=0.739 total time=   0.0s\n",
      "[CV 4/5] END C=1000, class_weight=balanced, gamma=0.1, kernel=linear;, score=0.739 total time=   0.0s\n",
      "[CV 5/5] END C=1000, class_weight=balanced, gamma=0.1, kernel=linear;, score=0.696 total time=   0.0s\n",
      "[CV 1/5] END C=1000, class_weight=balanced, gamma=0.1, kernel=rbf;, score=0.750 total time=   0.0s\n",
      "[CV 2/5] END C=1000, class_weight=balanced, gamma=0.1, kernel=rbf;, score=0.833 total time=   0.0s\n",
      "[CV 3/5] END C=1000, class_weight=balanced, gamma=0.1, kernel=rbf;, score=0.739 total time=   0.0s\n",
      "[CV 4/5] END C=1000, class_weight=balanced, gamma=0.1, kernel=rbf;, score=0.739 total time=   0.0s\n",
      "[CV 5/5] END C=1000, class_weight=balanced, gamma=0.1, kernel=rbf;, score=0.696 total time=   0.0s\n",
      "[CV 1/5] END C=1000, class_weight=balanced, gamma=0.0001, kernel=linear;, score=0.750 total time=   0.0s\n",
      "[CV 2/5] END C=1000, class_weight=balanced, gamma=0.0001, kernel=linear;, score=0.792 total time=   0.0s\n",
      "[CV 3/5] END C=1000, class_weight=balanced, gamma=0.0001, kernel=linear;, score=0.739 total time=   0.0s\n",
      "[CV 4/5] END C=1000, class_weight=balanced, gamma=0.0001, kernel=linear;, score=0.739 total time=   0.0s\n",
      "[CV 5/5] END C=1000, class_weight=balanced, gamma=0.0001, kernel=linear;, score=0.696 total time=   0.0s\n",
      "[CV 1/5] END C=1000, class_weight=balanced, gamma=0.0001, kernel=rbf;, score=0.583 total time=   0.0s\n",
      "[CV 2/5] END C=1000, class_weight=balanced, gamma=0.0001, kernel=rbf;, score=0.500 total time=   0.0s\n",
      "[CV 3/5] END C=1000, class_weight=balanced, gamma=0.0001, kernel=rbf;, score=0.478 total time=   0.0s\n",
      "[CV 4/5] END C=1000, class_weight=balanced, gamma=0.0001, kernel=rbf;, score=0.522 total time=   0.0s\n",
      "[CV 5/5] END C=1000, class_weight=balanced, gamma=0.0001, kernel=rbf;, score=0.478 total time=   0.0s\n",
      "[CV 1/5] END C=1000, class_weight=None, gamma=1, kernel=linear;, score=0.750 total time=   0.0s\n"
     ]
    },
    {
     "name": "stdout",
     "output_type": "stream",
     "text": [
      "[CV 2/5] END C=1000, class_weight=None, gamma=1, kernel=linear;, score=0.792 total time=   0.0s\n",
      "[CV 3/5] END C=1000, class_weight=None, gamma=1, kernel=linear;, score=0.739 total time=   0.0s\n",
      "[CV 4/5] END C=1000, class_weight=None, gamma=1, kernel=linear;, score=0.739 total time=   0.0s\n",
      "[CV 5/5] END C=1000, class_weight=None, gamma=1, kernel=linear;, score=0.696 total time=   0.0s\n",
      "[CV 1/5] END C=1000, class_weight=None, gamma=1, kernel=rbf;, score=0.625 total time=   0.0s\n",
      "[CV 2/5] END C=1000, class_weight=None, gamma=1, kernel=rbf;, score=0.875 total time=   0.0s\n",
      "[CV 3/5] END C=1000, class_weight=None, gamma=1, kernel=rbf;, score=0.739 total time=   0.0s\n",
      "[CV 4/5] END C=1000, class_weight=None, gamma=1, kernel=rbf;, score=0.739 total time=   0.0s\n",
      "[CV 5/5] END C=1000, class_weight=None, gamma=1, kernel=rbf;, score=0.783 total time=   0.0s\n",
      "[CV 1/5] END C=1000, class_weight=None, gamma=0.1, kernel=linear;, score=0.750 total time=   0.0s\n",
      "[CV 2/5] END C=1000, class_weight=None, gamma=0.1, kernel=linear;, score=0.792 total time=   0.0s\n",
      "[CV 3/5] END C=1000, class_weight=None, gamma=0.1, kernel=linear;, score=0.739 total time=   0.0s\n",
      "[CV 4/5] END C=1000, class_weight=None, gamma=0.1, kernel=linear;, score=0.739 total time=   0.0s\n",
      "[CV 5/5] END C=1000, class_weight=None, gamma=0.1, kernel=linear;, score=0.696 total time=   0.0s\n",
      "[CV 1/5] END C=1000, class_weight=None, gamma=0.1, kernel=rbf;, score=0.750 total time=   0.0s\n",
      "[CV 2/5] END C=1000, class_weight=None, gamma=0.1, kernel=rbf;, score=0.833 total time=   0.0s\n",
      "[CV 3/5] END C=1000, class_weight=None, gamma=0.1, kernel=rbf;, score=0.739 total time=   0.0s\n",
      "[CV 4/5] END C=1000, class_weight=None, gamma=0.1, kernel=rbf;, score=0.739 total time=   0.0s\n",
      "[CV 5/5] END C=1000, class_weight=None, gamma=0.1, kernel=rbf;, score=0.696 total time=   0.0s\n",
      "[CV 1/5] END C=1000, class_weight=None, gamma=0.0001, kernel=linear;, score=0.750 total time=   0.0s\n",
      "[CV 2/5] END C=1000, class_weight=None, gamma=0.0001, kernel=linear;, score=0.792 total time=   0.0s\n",
      "[CV 3/5] END C=1000, class_weight=None, gamma=0.0001, kernel=linear;, score=0.739 total time=   0.0s\n",
      "[CV 4/5] END C=1000, class_weight=None, gamma=0.0001, kernel=linear;, score=0.739 total time=   0.0s\n",
      "[CV 5/5] END C=1000, class_weight=None, gamma=0.0001, kernel=linear;, score=0.696 total time=   0.0s\n",
      "[CV 1/5] END C=1000, class_weight=None, gamma=0.0001, kernel=rbf;, score=0.500 total time=   0.0s\n",
      "[CV 2/5] END C=1000, class_weight=None, gamma=0.0001, kernel=rbf;, score=0.500 total time=   0.0s\n",
      "[CV 3/5] END C=1000, class_weight=None, gamma=0.0001, kernel=rbf;, score=0.522 total time=   0.0s\n",
      "[CV 4/5] END C=1000, class_weight=None, gamma=0.0001, kernel=rbf;, score=0.522 total time=   0.0s\n",
      "[CV 5/5] END C=1000, class_weight=None, gamma=0.0001, kernel=rbf;, score=0.522 total time=   0.0s\n"
     ]
    },
    {
     "data": {
      "image/png": "[encoded data removed]",
      "text/plain": [
       "<Figure size 360x288 with 2 Axes>"
      ]
     },
     "metadata": {
      "needs_background": "light"
     },
     "output_type": "display_data"
    }
   ],
   "source": [
    "grid4.fit(X2_train, y2_train)\n",
    "\n",
    "y2_pred = grid4.predict(X2_test)\n",
    "\n",
    "cm = confusion_matrix(y2_test, y2_pred)\n",
    "#print(cm)\n",
    "cm_df = pd.DataFrame(cm,\n",
    "                     index = [0,1], \n",
    "                     columns = [0,1])\n",
    "plt.figure(figsize=(5,4))\n",
    "sns.heatmap(cm_df, annot=True)\n",
    "plt.title('Confusion Matrix')\n",
    "plt.ylabel('Actal Values')\n",
    "plt.xlabel('Predicted Values')\n",
    "plt.show()"
   ]
  },
  {
   "cell_type": "code",
   "execution_count": 80,
   "id": "bb6d15ce",
   "metadata": {},
   "outputs": [
    {
     "name": "stdout",
     "output_type": "stream",
     "text": [
      "[1 0 0 1 1 1 0 0 0 1 0 1 1 1 0 1 1 0 0 0 1 1 1 1 1 1 1 1 1 0 1 1 0 1 1 1 0\n",
      " 1 0]\n"
     ]
    }
   ],
   "source": [
    "print(y2_pred)"
   ]
  },
  {
   "cell_type": "code",
   "execution_count": 81,
   "id": "ca90dcdf",
   "metadata": {
    "scrolled": true
   },
   "outputs": [
    {
     "name": "stdout",
     "output_type": "stream",
     "text": [
      "              precision    recall  f1-score   support\n",
      "\n",
      "           0       0.71      0.56      0.63        18\n",
      "           1       0.68      0.81      0.74        21\n",
      "\n",
      "    accuracy                           0.69        39\n",
      "   macro avg       0.70      0.68      0.68        39\n",
      "weighted avg       0.70      0.69      0.69        39\n",
      "\n"
     ]
    }
   ],
   "source": [
    "print(classification_report(y2_test, y2_pred))"
   ]
  },
  {
   "cell_type": "code",
   "execution_count": 82,
   "id": "f4b7ab44",
   "metadata": {},
   "outputs": [
    {
     "data": {
      "image/png": "[encoded data removed]",
      "text/plain": [
       "<Figure size 432x288 with 1 Axes>"
      ]
     },
     "metadata": {
      "needs_background": "light"
     },
     "output_type": "display_data"
    },
    {
     "data": {
      "image/png": "[encoded data removed]",
      "text/plain": [
       "<Figure size 792x576 with 1 Axes>"
      ]
     },
     "metadata": {},
     "output_type": "display_data"
    },
    {
     "data": {
      "text/plain": [
       "<ggplot: (100788251603)>"
      ]
     },
     "execution_count": 82,
     "metadata": {},
     "output_type": "execute_result"
    }
   ],
   "source": [
    "import sklearn.metrics as metrics\n",
    "# calculate the fpr and tpr for all thresholds of the classification\n",
    "probs = grid4.predict_proba(X2_test)\n",
    "preds = probs[:,1]\n",
    "fpr, tpr, threshold = metrics.roc_curve(y2_test, preds)\n",
    "roc_auc = metrics.auc(fpr, tpr)\n",
    "\n",
    "# method I: plt\n",
    "import matplotlib.pyplot as plt\n",
    "plt.title('Receiver Operating Characteristic')\n",
    "plt.plot(fpr, tpr, 'b', label = 'AUC = %0.3f' % roc_auc)\n",
    "plt.legend(loc = 'lower right')\n",
    "plt.plot([0, 1], [0, 1],'r--')\n",
    "plt.xlim([0, 1])\n",
    "plt.ylim([0, 1])\n",
    "plt.ylabel('True Positive Rate')\n",
    "plt.xlabel('False Positive Rate')\n",
    "plt.show()\n",
    "\n",
    "# method II: ggplot\n",
    "from ggplot import *\n",
    "df = pd.DataFrame(dict(fpr = fpr, tpr = tpr))\n",
    "ggplot(df, aes(x = 'fpr', y = 'tpr')) + geom_line() + geom_abline(linetype = 'dashed')"
   ]
  },
  {
   "cell_type": "code",
   "execution_count": 83,
   "id": "6bac3d27",
   "metadata": {},
   "outputs": [
    {
     "name": "stdout",
     "output_type": "stream",
     "text": [
      "balanced_accuracy 0.6825396825396826\n"
     ]
    }
   ],
   "source": [
    "print(\"balanced_accuracy\", balanced_accuracy_score(y2_test, y2_pred))"
   ]
  },
  {
   "cell_type": "code",
   "execution_count": 84,
   "id": "a2f57d7a",
   "metadata": {},
   "outputs": [
    {
     "name": "stdout",
     "output_type": "stream",
     "text": [
      "Model1: f1=0.400 auc=0.782\n"
     ]
    },
    {
     "data": {
      "image/png": "[encoded data removed]",
      "text/plain": [
       "<Figure size 432x288 with 1 Axes>"
      ]
     },
     "metadata": {
      "needs_background": "light"
     },
     "output_type": "display_data"
    }
   ],
   "source": [
    "# precision-recall curve and f1\n",
    "from sklearn.datasets import make_classification\n",
    "from sklearn.linear_model import LogisticRegression\n",
    "from sklearn.model_selection import train_test_split\n",
    "from sklearn.metrics import precision_recall_curve\n",
    "from sklearn.metrics import f1_score\n",
    "from sklearn.metrics import auc\n",
    "from matplotlib import pyplot\n",
    "lr_probs = grid4.predict_proba(X2_test)\n",
    "# keep probabilities for the positive outcome only\n",
    "lr_probs = lr_probs[:, 1]\n",
    "# predict class values\n",
    "yhat = grid3.predict(X2_test)\n",
    "lr_precision, lr_recall, _ = precision_recall_curve(y2_test, lr_probs)\n",
    "lr_f1, lr_auc = f1_score(y2_test, yhat), auc(lr_recall, lr_precision)\n",
    "# summarize scores\n",
    "print('Model1: f1=%.3f auc=%.3f' % (lr_f1, lr_auc))\n",
    "# plot the precision-recall curves\n",
    "no_skill = len(y2_test[y2_test==1]) / len(y2_test)\n",
    "pyplot.plot([0, 1], [no_skill, no_skill], linestyle='--', label='No Skill')\n",
    "pyplot.plot(lr_recall, lr_precision, marker='.', label='SVM')\n",
    "# axis labels\n",
    "pyplot.xlabel('Recall')\n",
    "pyplot.ylabel('Precision')\n",
    "# show the legend\n",
    "pyplot.legend()\n",
    "# show the plot\n",
    "pyplot.show()"
   ]
  },
  {
   "cell_type": "code",
   "execution_count": 85,
   "id": "0e46de99",
   "metadata": {},
   "outputs": [
    {
     "data": {
      "text/plain": [
       "(12074, 3)"
      ]
     },
     "execution_count": 85,
     "metadata": {},
     "output_type": "execute_result"
    }
   ],
   "source": [
    "data = pd.read_csv(r\"dataset_timeline1.csv\")\n",
    "data.shape"
   ]
  },
  {
   "cell_type": "code",
   "execution_count": 86,
   "id": "2e1aea7b",
   "metadata": {
    "scrolled": true
   },
   "outputs": [
    {
     "data": {
      "text/plain": [
       "subreddit                                                 lgbt\n",
       "body         I've posted in the past for advice about comin...\n",
       "target                                                     NaN\n",
       "Name: 12073, dtype: object"
      ]
     },
     "execution_count": 86,
     "metadata": {},
     "output_type": "execute_result"
    }
   ],
   "source": [
    "data.iloc[12073, :]"
   ]
  },
  {
   "cell_type": "code",
   "execution_count": 88,
   "id": "59847e30",
   "metadata": {},
   "outputs": [],
   "source": [
    "for i in range(12074):\n",
    "    text = preprocess(data['body'][i])\n",
    "    \n",
    "    text = tfidf_vectorizer.transform([text])\n",
    "    \n",
    "    value = grid1.predict(text)\n",
    "    \n",
    "    data.iloc[i, -1] = value"
   ]
  },
  {
   "cell_type": "code",
   "execution_count": 89,
   "id": "d94f5318",
   "metadata": {},
   "outputs": [
    {
     "data": {
      "text/html": [
       "<div>\n",
       "<style scoped>\n",
       "    .dataframe tbody tr th:only-of-type {\n",
       "        vertical-align: middle;\n",
       "    }\n",
       "\n",
       "    .dataframe tbody tr th {\n",
       "        vertical-align: top;\n",
       "    }\n",
       "\n",
       "    .dataframe thead th {\n",
       "        text-align: right;\n",
       "    }\n",
       "</style>\n",
       "<table border=\"1\" class=\"dataframe\">\n",
       "  <thead>\n",
       "    <tr style=\"text-align: right;\">\n",
       "      <th></th>\n",
       "      <th>subreddit</th>\n",
       "      <th>body</th>\n",
       "      <th>target</th>\n",
       "    </tr>\n",
       "  </thead>\n",
       "  <tbody>\n",
       "    <tr>\n",
       "      <th>0</th>\n",
       "      <td>lgbt</td>\n",
       "      <td>Finally my first binder came in today and I'm ...</td>\n",
       "      <td>1.0</td>\n",
       "    </tr>\n",
       "    <tr>\n",
       "      <th>1</th>\n",
       "      <td>lgbt</td>\n",
       "      <td>Ok so growing up I've always loved girls no ma...</td>\n",
       "      <td>0.0</td>\n",
       "    </tr>\n",
       "    <tr>\n",
       "      <th>2</th>\n",
       "      <td>lgbt</td>\n",
       "      <td>Hey, all! I wanted to make a help video on how...</td>\n",
       "      <td>0.0</td>\n",
       "    </tr>\n",
       "    <tr>\n",
       "      <th>3</th>\n",
       "      <td>lgbt</td>\n",
       "      <td>I personally never have done it before,And I w...</td>\n",
       "      <td>1.0</td>\n",
       "    </tr>\n",
       "    <tr>\n",
       "      <th>4</th>\n",
       "      <td>lgbt</td>\n",
       "      <td>Hello, I'm a Public Safety Officer at a relati...</td>\n",
       "      <td>1.0</td>\n",
       "    </tr>\n",
       "  </tbody>\n",
       "</table>\n",
       "</div>"
      ],
      "text/plain": [
       "  subreddit                                               body  target\n",
       "0      lgbt  Finally my first binder came in today and I'm ...     1.0\n",
       "1      lgbt  Ok so growing up I've always loved girls no ma...     0.0\n",
       "2      lgbt  Hey, all! I wanted to make a help video on how...     0.0\n",
       "3      lgbt  I personally never have done it before,And I w...     1.0\n",
       "4      lgbt  Hello, I'm a Public Safety Officer at a relati...     1.0"
      ]
     },
     "execution_count": 89,
     "metadata": {},
     "output_type": "execute_result"
    }
   ],
   "source": [
    "data.head()"
   ]
  },
  {
   "cell_type": "code",
   "execution_count": 90,
   "id": "c537b210",
   "metadata": {},
   "outputs": [
    {
     "data": {
      "text/html": [
       "<div>\n",
       "<style scoped>\n",
       "    .dataframe tbody tr th:only-of-type {\n",
       "        vertical-align: middle;\n",
       "    }\n",
       "\n",
       "    .dataframe tbody tr th {\n",
       "        vertical-align: top;\n",
       "    }\n",
       "\n",
       "    .dataframe thead th {\n",
       "        text-align: right;\n",
       "    }\n",
       "</style>\n",
       "<table border=\"1\" class=\"dataframe\">\n",
       "  <thead>\n",
       "    <tr style=\"text-align: right;\">\n",
       "      <th></th>\n",
       "      <th>subreddit</th>\n",
       "      <th>body</th>\n",
       "      <th>target</th>\n",
       "    </tr>\n",
       "  </thead>\n",
       "  <tbody>\n",
       "    <tr>\n",
       "      <th>12069</th>\n",
       "      <td>lgbt</td>\n",
       "      <td>I know this mightn't be the right subreddit to...</td>\n",
       "      <td>1.0</td>\n",
       "    </tr>\n",
       "    <tr>\n",
       "      <th>12070</th>\n",
       "      <td>lgbt</td>\n",
       "      <td>So last night i was riding an elevator and a t...</td>\n",
       "      <td>1.0</td>\n",
       "    </tr>\n",
       "    <tr>\n",
       "      <th>12071</th>\n",
       "      <td>lgbt</td>\n",
       "      <td>They keep referencing how depressed they are t...</td>\n",
       "      <td>1.0</td>\n",
       "    </tr>\n",
       "    <tr>\n",
       "      <th>12072</th>\n",
       "      <td>lgbt</td>\n",
       "      <td>New, secret account for obvious reasons. Sorry...</td>\n",
       "      <td>1.0</td>\n",
       "    </tr>\n",
       "    <tr>\n",
       "      <th>12073</th>\n",
       "      <td>lgbt</td>\n",
       "      <td>I've posted in the past for advice about comin...</td>\n",
       "      <td>1.0</td>\n",
       "    </tr>\n",
       "  </tbody>\n",
       "</table>\n",
       "</div>"
      ],
      "text/plain": [
       "      subreddit                                               body  target\n",
       "12069      lgbt  I know this mightn't be the right subreddit to...     1.0\n",
       "12070      lgbt  So last night i was riding an elevator and a t...     1.0\n",
       "12071      lgbt  They keep referencing how depressed they are t...     1.0\n",
       "12072      lgbt  New, secret account for obvious reasons. Sorry...     1.0\n",
       "12073      lgbt  I've posted in the past for advice about comin...     1.0"
      ]
     },
     "execution_count": 90,
     "metadata": {},
     "output_type": "execute_result"
    }
   ],
   "source": [
    "data.tail()"
   ]
  },
  {
   "cell_type": "code",
   "execution_count": 91,
   "id": "fd3dbde9",
   "metadata": {},
   "outputs": [
    {
     "data": {
      "text/plain": [
       "<AxesSubplot:>"
      ]
     },
     "execution_count": 91,
     "metadata": {},
     "output_type": "execute_result"
    },
    {
     "data": {
      "image/png": "[encoded data removed]",
      "text/plain": [
       "<Figure size 432x288 with 1 Axes>"
      ]
     },
     "metadata": {
      "needs_background": "light"
     },
     "output_type": "display_data"
    }
   ],
   "source": [
    "count=data['target'].value_counts()\n",
    "count.plot(kind='bar')"
   ]
  },
  {
   "cell_type": "code",
   "execution_count": 92,
   "id": "22050cea",
   "metadata": {},
   "outputs": [
    {
     "data": {
      "text/plain": [
       "1.0    6960\n",
       "0.0    5114\n",
       "Name: target, dtype: int64"
      ]
     },
     "execution_count": 92,
     "metadata": {},
     "output_type": "execute_result"
    }
   ],
   "source": [
    "count"
   ]
  },
  {
   "cell_type": "code",
   "execution_count": 93,
   "id": "6c2f1a95",
   "metadata": {},
   "outputs": [],
   "source": [
    "data.to_csv('dataset_mlp.csv')"
   ]
  },
  {
   "cell_type": "code",
   "execution_count": 94,
   "id": "a4698879",
   "metadata": {},
   "outputs": [
    {
     "data": {
      "text/plain": [
       "(12074, 3)"
      ]
     },
     "execution_count": 94,
     "metadata": {},
     "output_type": "execute_result"
    }
   ],
   "source": [
    "data1 = pd.read_csv(r\"dataset_timeline1.csv\")\n",
    "data1.shape"
   ]
  },
  {
   "cell_type": "code",
   "execution_count": 95,
   "id": "9f25f2a2",
   "metadata": {},
   "outputs": [
    {
     "data": {
      "text/plain": [
       "subreddit                                                 lgbt\n",
       "body         I've posted in the past for advice about comin...\n",
       "target                                                     NaN\n",
       "Name: 12073, dtype: object"
      ]
     },
     "execution_count": 95,
     "metadata": {},
     "output_type": "execute_result"
    }
   ],
   "source": [
    "data1.iloc[12073, :]"
   ]
  },
  {
   "cell_type": "code",
   "execution_count": null,
   "id": "732ddea9",
   "metadata": {},
   "outputs": [],
   "source": []
  }
 ],
 "metadata": {
  "colab": {
   "collapsed_sections": [
    "add39348",
    "a645e505",
    "0732beeb"
   ],
   "provenance": [],
   "toc_visible": true
  },
  "kernelspec": {
   "display_name": "Python 3 (ipykernel)",
   "language": "python",
   "name": "python3"
  },
  "language_info": {
   "codemirror_mode": {
    "name": "ipython",
    "version": 3
   },
   "file_extension": ".py",
   "mimetype": "text/x-python",
   "name": "python",
   "nbconvert_exporter": "python",
   "pygments_lexer": "ipython3",
   "version": "3.9.7"
  }
 },
 "nbformat": 4,
 "nbformat_minor": 5
}
